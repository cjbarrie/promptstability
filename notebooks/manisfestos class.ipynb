{
  "cells": [
    {
      "cell_type": "markdown",
      "metadata": {
        "colab_type": "text",
        "id": "view-in-github"
      },
      "source": [
        "<a href=\"https://colab.research.google.com/github/cjbarrie/promptstability/blob/main/notebooks/manisfestos.ipynb\" target=\"_parent\"><img src=\"https://colab.research.google.com/assets/colab-badge.svg\" alt=\"Open In Colab\"/></a>"
      ]
    },
    {
      "cell_type": "markdown",
      "id": "805375f1-8ebe-4df1-83cc-1595f3bb18bc",
      "metadata": {
        "id": "805375f1-8ebe-4df1-83cc-1595f3bb18bc"
      },
      "source": [
        "## Libraries and Data"
      ]
    },
    {
      "cell_type": "code",
      "execution_count": 8,
      "id": "A7H5Uwo47V_E",
      "metadata": {
        "colab": {
          "base_uri": "https://localhost:8080/"
        },
        "id": "A7H5Uwo47V_E",
        "outputId": "347818cd-db0d-417b-e567-8c51e1b38991"
      },
      "outputs": [
        {
          "name": "stdout",
          "output_type": "stream",
          "text": [
            "Requirement already satisfied: openai in /Users/ellipalaiologou/.pyenv/versions/3.10.6/lib/python3.10/site-packages (1.3.7)\n",
            "Requirement already satisfied: anyio<4,>=3.5.0 in /Users/ellipalaiologou/.pyenv/versions/3.10.6/lib/python3.10/site-packages (from openai) (3.7.1)\n",
            "Requirement already satisfied: distro<2,>=1.7.0 in /Users/ellipalaiologou/.pyenv/versions/3.10.6/lib/python3.10/site-packages (from openai) (1.8.0)\n",
            "Requirement already satisfied: httpx<1,>=0.23.0 in /Users/ellipalaiologou/.pyenv/versions/3.10.6/lib/python3.10/site-packages (from openai) (0.25.2)\n",
            "Requirement already satisfied: pydantic<3,>=1.9.0 in /Users/ellipalaiologou/.pyenv/versions/3.10.6/lib/python3.10/site-packages (from openai) (1.10.9)\n",
            "Requirement already satisfied: sniffio in /Users/ellipalaiologou/.pyenv/versions/3.10.6/lib/python3.10/site-packages (from openai) (1.3.0)\n",
            "Requirement already satisfied: tqdm>4 in /Users/ellipalaiologou/.pyenv/versions/3.10.6/lib/python3.10/site-packages (from openai) (4.66.1)\n",
            "Requirement already satisfied: typing-extensions<5,>=4.5 in /Users/ellipalaiologou/.pyenv/versions/3.10.6/lib/python3.10/site-packages (from openai) (4.8.0)\n",
            "Requirement already satisfied: idna>=2.8 in /Users/ellipalaiologou/.pyenv/versions/3.10.6/lib/python3.10/site-packages (from anyio<4,>=3.5.0->openai) (3.4)\n",
            "Requirement already satisfied: exceptiongroup in /Users/ellipalaiologou/.pyenv/versions/3.10.6/lib/python3.10/site-packages (from anyio<4,>=3.5.0->openai) (1.1.3)\n",
            "Requirement already satisfied: certifi in /Users/ellipalaiologou/.pyenv/versions/3.10.6/lib/python3.10/site-packages (from httpx<1,>=0.23.0->openai) (2023.7.22)\n",
            "Requirement already satisfied: httpcore==1.* in /Users/ellipalaiologou/.pyenv/versions/3.10.6/lib/python3.10/site-packages (from httpx<1,>=0.23.0->openai) (1.0.2)\n",
            "Requirement already satisfied: h11<0.15,>=0.13 in /Users/ellipalaiologou/.pyenv/versions/3.10.6/lib/python3.10/site-packages (from httpcore==1.*->httpx<1,>=0.23.0->openai) (0.14.0)\n",
            "Requirement already satisfied: simpledorff in /Users/ellipalaiologou/.pyenv/versions/3.10.6/lib/python3.10/site-packages (0.0.2)\n",
            "Requirement already satisfied: torch in /Users/ellipalaiologou/.pyenv/versions/3.10.6/lib/python3.10/site-packages (2.1.0)\n",
            "Requirement already satisfied: filelock in /Users/ellipalaiologou/.pyenv/versions/3.10.6/lib/python3.10/site-packages (from torch) (3.12.4)\n",
            "Requirement already satisfied: typing-extensions in /Users/ellipalaiologou/.pyenv/versions/3.10.6/lib/python3.10/site-packages (from torch) (4.8.0)\n",
            "Requirement already satisfied: sympy in /Users/ellipalaiologou/.pyenv/versions/3.10.6/lib/python3.10/site-packages (from torch) (1.12)\n",
            "Requirement already satisfied: networkx in /Users/ellipalaiologou/.pyenv/versions/3.10.6/lib/python3.10/site-packages (from torch) (3.1)\n",
            "Requirement already satisfied: jinja2 in /Users/ellipalaiologou/.pyenv/versions/3.10.6/lib/python3.10/site-packages (from torch) (3.1.2)\n",
            "Requirement already satisfied: fsspec in /Users/ellipalaiologou/.pyenv/versions/3.10.6/lib/python3.10/site-packages (from torch) (2023.9.2)\n",
            "Requirement already satisfied: MarkupSafe>=2.0 in /Users/ellipalaiologou/.pyenv/versions/3.10.6/lib/python3.10/site-packages (from jinja2->torch) (2.1.3)\n",
            "Requirement already satisfied: mpmath>=0.19 in /Users/ellipalaiologou/.pyenv/versions/3.10.6/lib/python3.10/site-packages (from sympy->torch) (1.3.0)\n",
            "Requirement already satisfied: transformers in /Users/ellipalaiologou/.pyenv/versions/3.10.6/lib/python3.10/site-packages (4.35.2)\n",
            "Requirement already satisfied: filelock in /Users/ellipalaiologou/.pyenv/versions/3.10.6/lib/python3.10/site-packages (from transformers) (3.12.4)\n",
            "Requirement already satisfied: huggingface-hub<1.0,>=0.16.4 in /Users/ellipalaiologou/.pyenv/versions/3.10.6/lib/python3.10/site-packages (from transformers) (0.17.3)\n",
            "Requirement already satisfied: numpy>=1.17 in /Users/ellipalaiologou/.pyenv/versions/3.10.6/lib/python3.10/site-packages (from transformers) (1.26.0)\n",
            "Requirement already satisfied: packaging>=20.0 in /Users/ellipalaiologou/.pyenv/versions/3.10.6/lib/python3.10/site-packages (from transformers) (23.2)\n",
            "Requirement already satisfied: pyyaml>=5.1 in /Users/ellipalaiologou/.pyenv/versions/3.10.6/lib/python3.10/site-packages (from transformers) (6.0.1)\n",
            "Requirement already satisfied: regex!=2019.12.17 in /Users/ellipalaiologou/.pyenv/versions/3.10.6/lib/python3.10/site-packages (from transformers) (2023.10.3)\n",
            "Requirement already satisfied: requests in /Users/ellipalaiologou/.pyenv/versions/3.10.6/lib/python3.10/site-packages (from transformers) (2.31.0)\n",
            "Requirement already satisfied: tokenizers<0.19,>=0.14 in /Users/ellipalaiologou/.pyenv/versions/3.10.6/lib/python3.10/site-packages (from transformers) (0.14.1)\n",
            "Requirement already satisfied: safetensors>=0.3.1 in /Users/ellipalaiologou/.pyenv/versions/3.10.6/lib/python3.10/site-packages (from transformers) (0.4.1)\n",
            "Requirement already satisfied: tqdm>=4.27 in /Users/ellipalaiologou/.pyenv/versions/3.10.6/lib/python3.10/site-packages (from transformers) (4.66.1)\n",
            "Requirement already satisfied: fsspec in /Users/ellipalaiologou/.pyenv/versions/3.10.6/lib/python3.10/site-packages (from huggingface-hub<1.0,>=0.16.4->transformers) (2023.9.2)\n",
            "Requirement already satisfied: typing-extensions>=3.7.4.3 in /Users/ellipalaiologou/.pyenv/versions/3.10.6/lib/python3.10/site-packages (from huggingface-hub<1.0,>=0.16.4->transformers) (4.8.0)\n",
            "Requirement already satisfied: charset-normalizer<4,>=2 in /Users/ellipalaiologou/.pyenv/versions/3.10.6/lib/python3.10/site-packages (from requests->transformers) (3.3.0)\n",
            "Requirement already satisfied: idna<4,>=2.5 in /Users/ellipalaiologou/.pyenv/versions/3.10.6/lib/python3.10/site-packages (from requests->transformers) (3.4)\n",
            "Requirement already satisfied: urllib3<3,>=1.21.1 in /Users/ellipalaiologou/.pyenv/versions/3.10.6/lib/python3.10/site-packages (from requests->transformers) (1.26.18)\n",
            "Requirement already satisfied: certifi>=2017.4.17 in /Users/ellipalaiologou/.pyenv/versions/3.10.6/lib/python3.10/site-packages (from requests->transformers) (2023.7.22)\n",
            "Requirement already satisfied: sentence_transformers in /Users/ellipalaiologou/.pyenv/versions/3.10.6/lib/python3.10/site-packages (2.5.1)\n",
            "Requirement already satisfied: transformers<5.0.0,>=4.32.0 in /Users/ellipalaiologou/.pyenv/versions/3.10.6/lib/python3.10/site-packages (from sentence_transformers) (4.35.2)\n",
            "Requirement already satisfied: tqdm in /Users/ellipalaiologou/.pyenv/versions/3.10.6/lib/python3.10/site-packages (from sentence_transformers) (4.66.1)\n",
            "Requirement already satisfied: torch>=1.11.0 in /Users/ellipalaiologou/.pyenv/versions/3.10.6/lib/python3.10/site-packages (from sentence_transformers) (2.1.0)\n",
            "Requirement already satisfied: numpy in /Users/ellipalaiologou/.pyenv/versions/3.10.6/lib/python3.10/site-packages (from sentence_transformers) (1.26.0)\n",
            "Requirement already satisfied: scikit-learn in /Users/ellipalaiologou/.pyenv/versions/3.10.6/lib/python3.10/site-packages (from sentence_transformers) (1.3.1)\n",
            "Requirement already satisfied: scipy in /Users/ellipalaiologou/.pyenv/versions/3.10.6/lib/python3.10/site-packages (from sentence_transformers) (1.11.3)\n",
            "Requirement already satisfied: huggingface-hub>=0.15.1 in /Users/ellipalaiologou/.pyenv/versions/3.10.6/lib/python3.10/site-packages (from sentence_transformers) (0.17.3)\n",
            "Requirement already satisfied: Pillow in /Users/ellipalaiologou/.pyenv/versions/3.10.6/lib/python3.10/site-packages (from sentence_transformers) (10.0.1)\n",
            "Requirement already satisfied: filelock in /Users/ellipalaiologou/.pyenv/versions/3.10.6/lib/python3.10/site-packages (from huggingface-hub>=0.15.1->sentence_transformers) (3.12.4)\n",
            "Requirement already satisfied: fsspec in /Users/ellipalaiologou/.pyenv/versions/3.10.6/lib/python3.10/site-packages (from huggingface-hub>=0.15.1->sentence_transformers) (2023.9.2)\n",
            "Requirement already satisfied: requests in /Users/ellipalaiologou/.pyenv/versions/3.10.6/lib/python3.10/site-packages (from huggingface-hub>=0.15.1->sentence_transformers) (2.31.0)\n",
            "Requirement already satisfied: pyyaml>=5.1 in /Users/ellipalaiologou/.pyenv/versions/3.10.6/lib/python3.10/site-packages (from huggingface-hub>=0.15.1->sentence_transformers) (6.0.1)\n",
            "Requirement already satisfied: typing-extensions>=3.7.4.3 in /Users/ellipalaiologou/.pyenv/versions/3.10.6/lib/python3.10/site-packages (from huggingface-hub>=0.15.1->sentence_transformers) (4.8.0)\n",
            "Requirement already satisfied: packaging>=20.9 in /Users/ellipalaiologou/.pyenv/versions/3.10.6/lib/python3.10/site-packages (from huggingface-hub>=0.15.1->sentence_transformers) (23.2)\n",
            "Requirement already satisfied: sympy in /Users/ellipalaiologou/.pyenv/versions/3.10.6/lib/python3.10/site-packages (from torch>=1.11.0->sentence_transformers) (1.12)\n",
            "Requirement already satisfied: networkx in /Users/ellipalaiologou/.pyenv/versions/3.10.6/lib/python3.10/site-packages (from torch>=1.11.0->sentence_transformers) (3.1)\n",
            "Requirement already satisfied: jinja2 in /Users/ellipalaiologou/.pyenv/versions/3.10.6/lib/python3.10/site-packages (from torch>=1.11.0->sentence_transformers) (3.1.2)\n",
            "Requirement already satisfied: regex!=2019.12.17 in /Users/ellipalaiologou/.pyenv/versions/3.10.6/lib/python3.10/site-packages (from transformers<5.0.0,>=4.32.0->sentence_transformers) (2023.10.3)\n",
            "Requirement already satisfied: tokenizers<0.19,>=0.14 in /Users/ellipalaiologou/.pyenv/versions/3.10.6/lib/python3.10/site-packages (from transformers<5.0.0,>=4.32.0->sentence_transformers) (0.14.1)\n",
            "Requirement already satisfied: safetensors>=0.3.1 in /Users/ellipalaiologou/.pyenv/versions/3.10.6/lib/python3.10/site-packages (from transformers<5.0.0,>=4.32.0->sentence_transformers) (0.4.1)\n",
            "Requirement already satisfied: joblib>=1.1.1 in /Users/ellipalaiologou/.pyenv/versions/3.10.6/lib/python3.10/site-packages (from scikit-learn->sentence_transformers) (1.3.2)\n",
            "Requirement already satisfied: threadpoolctl>=2.0.0 in /Users/ellipalaiologou/.pyenv/versions/3.10.6/lib/python3.10/site-packages (from scikit-learn->sentence_transformers) (3.2.0)\n",
            "Requirement already satisfied: MarkupSafe>=2.0 in /Users/ellipalaiologou/.pyenv/versions/3.10.6/lib/python3.10/site-packages (from jinja2->torch>=1.11.0->sentence_transformers) (2.1.3)\n",
            "Requirement already satisfied: charset-normalizer<4,>=2 in /Users/ellipalaiologou/.pyenv/versions/3.10.6/lib/python3.10/site-packages (from requests->huggingface-hub>=0.15.1->sentence_transformers) (3.3.0)\n",
            "Requirement already satisfied: idna<4,>=2.5 in /Users/ellipalaiologou/.pyenv/versions/3.10.6/lib/python3.10/site-packages (from requests->huggingface-hub>=0.15.1->sentence_transformers) (3.4)\n",
            "Requirement already satisfied: urllib3<3,>=1.21.1 in /Users/ellipalaiologou/.pyenv/versions/3.10.6/lib/python3.10/site-packages (from requests->huggingface-hub>=0.15.1->sentence_transformers) (1.26.18)\n",
            "Requirement already satisfied: certifi>=2017.4.17 in /Users/ellipalaiologou/.pyenv/versions/3.10.6/lib/python3.10/site-packages (from requests->huggingface-hub>=0.15.1->sentence_transformers) (2023.7.22)\n",
            "Requirement already satisfied: mpmath>=0.19 in /Users/ellipalaiologou/.pyenv/versions/3.10.6/lib/python3.10/site-packages (from sympy->torch>=1.11.0->sentence_transformers) (1.3.0)\n",
            "Requirement already satisfied: SentencePiece in /Users/ellipalaiologou/.pyenv/versions/3.10.6/lib/python3.10/site-packages (0.2.0)\n"
          ]
        }
      ],
      "source": [
        "! pip install openai\n",
        "! pip install simpledorff\n",
        "! pip install torch\n",
        "! pip install transformers\n",
        "! pip install sentence_transformers\n",
        "! pip install SentencePiece\n"
      ]
    },
    {
      "cell_type": "code",
      "execution_count": 9,
      "id": "5064760f-ec00-4cae-b4cd-566d48df5ec6",
      "metadata": {
        "id": "5064760f-ec00-4cae-b4cd-566d48df5ec6"
      },
      "outputs": [],
      "source": [
        "import torch\n",
        "from transformers import PegasusForConditionalGeneration, PegasusTokenizer\n",
        "import pandas as pd\n",
        "import openai\n",
        "import numpy as np\n",
        "import time\n",
        "import simpledorff\n",
        "from openai import OpenAI\n",
        "import matplotlib.pyplot as plt\n",
        "\n",
        "\n",
        "import torch\n",
        "from sentence_transformers import SentenceTransformer, util\n",
        "import numpy as np\n",
        "import pandas as pd\n",
        "import os\n",
        "\n",
        "import simpledorff\n",
        "\n",
        "from transformers import AutoModelForCausalLM, AutoTokenizer\n",
        "\n",
        "import seaborn as sns\n",
        "import plotly.express as px\n",
        "import plotly.graph_objects as go\n"
      ]
    },
    {
      "cell_type": "code",
      "execution_count": 10,
      "id": "1194849a",
      "metadata": {},
      "outputs": [],
      "source": [
        "# count tokens\n",
        "model_count_tokens = \"bert-base-uncased\"\n",
        "tokenizer = AutoTokenizer.from_pretrained(model_count_tokens)\n",
        "\n",
        "def count_tokens(text):\n",
        "    # Tokenize the text\n",
        "    tokens = tokenizer.tokenize(text)\n",
        "    # Return the count of tokens\n",
        "    return len(tokens)\n"
      ]
    },
    {
      "cell_type": "code",
      "execution_count": 127,
      "id": "25463d36",
      "metadata": {},
      "outputs": [],
      "source": [
        "class LLMWrapper:\n",
        "    '''This is a wrapper class for LLMs, which provides a method called 'annotate' that annotates a given message using an LLM.\n",
        "    '''\n",
        "\n",
        "    def __init__(self,apikey, model, wait_time=0.8) -> None:\n",
        "        self.apikey = apikey\n",
        "        self.model = model\n",
        "\n",
        "        self.client = OpenAI(\n",
        "            # This is the default and can be omitted\n",
        "            api_key=apikey\n",
        "        )\n",
        "\n",
        "\n",
        "    def annotate(self, text, prompt, parse_function = None, temperature = 0.1):\n",
        "        '''\n",
        "        Annotate the given text in the way the prompt instructs you to.\n",
        "\n",
        "        Parameters:\n",
        "        - text (str): text you want classified\n",
        "        - prompt (str): the classification prompt/instruction\n",
        "        - temperature (float): how deterministic (low number) vs. random (higher number) your results should be\n",
        "        - parse_function (method): a method that parses the resulting data.\n",
        "\n",
        "        Returns:\n",
        "        - model's response to prompt (classification outcome)\n",
        "        '''\n",
        "        failed = True\n",
        "        tries = 0\n",
        "        while(failed):\n",
        "            try:\n",
        "                response = self.client.chat.completions.create(\n",
        "                    model = self.model,\n",
        "                    temperature = temperature,\n",
        "                    messages = [\n",
        "                        {\"role\": \"system\", \"content\": f\"'{prompt}'\"}, #The system instruction tells the bot how it is supposed to behave\n",
        "                        {\"role\": \"user\", \"content\": f\"'{text}'\"} #This provides the text to be analyzed.\n",
        "                    ]\n",
        "                )\n",
        "                failed = False\n",
        "\n",
        "            #Handle errors.\n",
        "            #If the API gets an error, perhaps because it is overwhelmed, we wait 10 seconds and then we try again.\n",
        "            # We do this 10 times, and then we give up.\n",
        "            except openai.APIError as e:\n",
        "                print(f\"OpenAI API returned an API Error: {e}\")\n",
        "\n",
        "                if tries < 10:\n",
        "                    print(f\"Caught an APIError: {e}. Waiting 10 seconds and then trying again...\")\n",
        "                    failed = True\n",
        "                    tries += 1\n",
        "                    time.sleep(10)\n",
        "                else:\n",
        "                    print(f\"Caught an APIError: {e}. Too many exceptions. Giving up.\")\n",
        "                    raise e\n",
        "\n",
        "            except openai.APIConnectionError as e:\n",
        "                print(f\"Failed to connect to OpenAI API: {e}\")\n",
        "                pass\n",
        "            except openai.RateLimitError as e:\n",
        "                print(f\"OpenAI API request exceeded rate limit: {e}\")\n",
        "                pass\n",
        "\n",
        "            #If the text is too long, we truncate it and try again. Note that if you get this error, you probably want to chunk your texts.\n",
        "            except openai.BadRequestError as e:\n",
        "                #Shorten request text\n",
        "                print(f\"Received a InvalidRequestError. Request likely too long. {e}\")\n",
        "                raise e\n",
        "\n",
        "            except Exception as e:\n",
        "                print(f\"Caught unhandled error. {e}\")\n",
        "                raise e\n",
        "\n",
        "        result = ''\n",
        "        for choice in response.choices:\n",
        "            result += choice.message.content\n",
        "\n",
        "        # Parse the result using provided function\n",
        "        if parse_function is not None:\n",
        "            result = parse_function(result)\n",
        "\n",
        "        return result\n",
        "\n",
        "\n",
        "class PromptStabilityAnalysis:\n",
        "\n",
        "    def __init__(self,llm, data, metric_fn=simpledorff.metrics.nominal_metric, parse_function=None) -> None:\n",
        "\n",
        "        self.llm = llm\n",
        "\n",
        "        # Get a number for the similarity between two sentences\n",
        "        self.embedding_model = SentenceTransformer('paraphrase-MiniLM-L6-v2')\n",
        "\n",
        "        #Initiate paraphraser\n",
        "        model_name = 'tuner007/pegasus_paraphrase'\n",
        "        self.torch_device = 'cuda' if torch.cuda.is_available() else 'cpu'\n",
        "        self.tokenizer = PegasusTokenizer.from_pretrained(model_name)\n",
        "        self.model = PegasusForConditionalGeneration.from_pretrained(model_name).to(self.torch_device)\n",
        "        self.parse_function = parse_function  #The function through which to parse the result from the LLM\n",
        "        self.data = data # The data to be analyzed. Should be a list of texts.\n",
        "        self.metric_fn = metric_fn #Metric function for KA. e.g., simpledorff.metrics.interval_metric or nominal_metric metric_fn=simpledorff.metrics.nominal_metric\n",
        "\n",
        "    # Compares similarity between two sentences in sentence embedding space\n",
        "    def __compare_similarity(self,sent1,sent2):\n",
        "        emb1 = self.embedding_model.encode(sent1, convert_to_tensor=True)\n",
        "        emb2 = self.embedding_model.encode(sent2, convert_to_tensor=True)\n",
        "\n",
        "        return util.pytorch_cos_sim(emb1, emb2)\n",
        "\n",
        "    # Uses Pegasus to paraphrase a sentence\n",
        "    def __paraphrase_sentence(self, input_text, num_return_sequences=10, num_beams=10, temperature=1.5):\n",
        "        batch = self.tokenizer([input_text],truncation=True,padding='longest',max_length=60, return_tensors=\"pt\").to(self.torch_device)\n",
        "        translated = self.model.generate(**batch,max_length=60,num_beams=num_beams, num_return_sequences=num_return_sequences, temperature=temperature)\n",
        "        tgt_text = self.tokenizer.batch_decode(translated, skip_special_tokens=True)\n",
        "        return tgt_text\n",
        "\n",
        "    #This generates paraphrases based on an original text and uses sentence embedding to measure how different they are from the original sentence.\n",
        "    #prompt_postfix is a fixed addition that is not paraphrased\n",
        "    def __generate_paraphrases(self,original_text,prompt_postfix,nr_variations,temperature=1.5):\n",
        "        # Create paraphrases of sentence\n",
        "        phrases = self.__paraphrase_sentence(original_text,num_return_sequences=nr_variations,temperature=temperature)\n",
        "\n",
        "        # Measure distances between new and original\n",
        "        l = [{'similarity':1.0,'phrase':f'{original_text} {prompt_postfix}','original':True}]\n",
        "        for phrase in phrases:\n",
        "            sim = self.__compare_similarity(original_text,phrase)\n",
        "            l.append({'similarity':float(sim),'phrase':f'{phrase} {prompt_postfix}','original':False})\n",
        "\n",
        "        # Store for future use\n",
        "        self.paraphrases = pd.DataFrame(l).sort_values(['similarity'])\n",
        "        display(self.paraphrases)\n",
        "        return self.paraphrases\n",
        "\n",
        "    def baseline_stochasticity(self,original_text,prompt_postfix,iterations=10, plot_type='plotly'):\n",
        "        '''\n",
        "        This measures the amount of stochasticity there is within the same prompt, running the original prompt <iterations> and\n",
        "        measuring the KA reliability over runs.\n",
        "        '''\n",
        "        prompt = f'{original_text} {prompt_postfix}'\n",
        "        annotated = []\n",
        "        ka_scores = []\n",
        "        iterrations_no = []\n",
        "\n",
        "        # Run the LLM on the data\n",
        "        for i in range(iterations):\n",
        "            print(f\"Iteration {i}...\")\n",
        "            for j,d in enumerate(self.data):\n",
        "                annotation = self.llm.annotate(d, prompt,parse_function=self.parse_function)\n",
        "                annotated.append({'id':j,'text':d,'annotation':annotation,'iteration':i})\n",
        "\n",
        "            # Measure the intercoder reliability (after second iteration)\n",
        "            if i > 0:\n",
        "                df = pd.DataFrame(annotated)\n",
        "                KA = simpledorff.calculate_krippendorffs_alpha_for_df(\n",
        "                    df,\n",
        "                    metric_fn=self.metric_fn,\n",
        "                    experiment_col='id',\n",
        "                    annotator_col='iteration',\n",
        "                    class_col='annotation')\n",
        "\n",
        "                ka_scores.append(KA)\n",
        "                iterrations_no.append(i + 1)\n",
        "\n",
        "        print('Finished annotation. Analyzing reliability')\n",
        "\n",
        "        # plot\n",
        "        if plot_type == 'sns':\n",
        "            sns.set()\n",
        "            # turn iteration_no into integers\n",
        "            #iterration_no = [int(x) for x in iterration_no]\n",
        "            sns.scatterplot(x=iterrations_no, y= ka_scores)\n",
        "            plt.xlabel('Number of Prompt Repetitions')\n",
        "            plt.ylabel('KA Score')\n",
        "            plt.title('Reliability (KA) vs. Repetitions')\n",
        "            plt.ylim(0.0, 1.05)\n",
        "            plt.xticks(range(0, max(iterrations_no) + 1, 5))\n",
        "            plt.axhline(y=0.80, color='black', linestyle='--', linewidth=.5)\n",
        "            plt.show()\n",
        "        elif plot_type == 'plotly':\n",
        "            data = {'Repetitions': iterrations_no, 'KA Score': ka_scores}\n",
        "            df = pd.DataFrame(data)\n",
        "            # interactive plot\n",
        "            fig = px.scatter(df, x='Repetitions', y='KA Score', hover_data={'Repetitions': True, 'KA Score': True}, labels={'Repetitions': 'Repetitions', 'KA Score': 'KA Score'})\n",
        "            # horizontal line: min KA acceptable\n",
        "            fig.add_trace(go.Scatter(x=[0, max(iterrations_no)], y=[0.80, 0.80], mode='lines', name='KA Threshold', line=dict(color='black', width=.5, dash='dash')))\n",
        "\n",
        "            fig.update_layout(\n",
        "                title='Reliability (KA) vs. Repetitions',\n",
        "                xaxis_title='Number of Prompt Repetitions',\n",
        "                yaxis_title='KA Score',\n",
        "                yaxis=dict(range=[0.0, 1.05]),\n",
        "                hovermode='closest'\n",
        "            )\n",
        "            fig.show()\n",
        "\n",
        "            print(f'Within-prompt KA reliability score for {i + 1} repetitions is {KA}')\n",
        "\n",
        "        return KA, df #, ka_scores, iterrations_no\n",
        "\n",
        "\n",
        "    def interprompt_stochasticity(self,original_text,prompt_postfix, nr_variations=5, temperature=1.0, iterations=1):\n",
        "        '''\n",
        "        This measures the amount of stochasticity while varying the prompt.\n",
        "        prompt_postfix: A fixed addition to the prompt. This is not paraphrased. Used to specify output format.\n",
        "        '''\n",
        "\n",
        "        # Generate paraphrases\n",
        "        paraphrases = self.__generate_paraphrases(original_text,prompt_postfix,nr_variations=nr_variations,temperature=temperature)\n",
        "\n",
        "        annotated = []\n",
        "        # Run the LLM on the data\n",
        "        for i, (paraphrase,similarity,original) in enumerate(zip(paraphrases['phrase'],paraphrases['similarity'],paraphrases['original'])):\n",
        "            print(f\"Iteration {i}...\")\n",
        "            for j,d in enumerate(self.data):\n",
        "                annotation = self.llm.annotate(d, paraphrase,parse_function=self.parse_function)\n",
        "                annotated.append({'id':j,'text':d,'annotation':annotation,'prompt_id':i,'prompt':paraphrase,'similarity':similarity,'original':original})\n",
        "\n",
        "        print('Finished annotation. Analyzing reliability')\n",
        "        annotated_data = pd.DataFrame(annotated)\n",
        "\n",
        "        self.interprompt_df = annotated_data\n",
        "\n",
        "        # Measure the interprompt reliability\n",
        "        KA = simpledorff.calculate_krippendorffs_alpha_for_df(annotated_data,metric_fn=self.metric_fn,experiment_col='id', annotator_col='prompt_id', class_col='annotation')\n",
        "        print(f'The resulting interprompt KA reliability value is {KA}')\n",
        "\n",
        "        rel_vs_sim = self.__calculate_reliability_as_function_of_similarity(annotated_data)\n",
        "\n",
        "        plt.scatter(rel_vs_sim['similarity'], rel_vs_sim['KA'])\n",
        "        plt.xlabel('Similarity')\n",
        "        plt.ylabel('Reliability')\n",
        "        plt.title('Reliability vs similarity')\n",
        "        plt.show()\n",
        "\n",
        "        return KA,annotated_data,rel_vs_sim\n",
        "\n",
        "\n",
        "    #This calculates the KA-R as a function of the similarity between the prompts\n",
        "    # Takes the output of the interprompt_stochasticity calculation\n",
        "    def __calculate_reliability_as_function_of_similarity(self,df=None):\n",
        "        if df is None:\n",
        "            df = self.interprompt_df\n",
        "\n",
        "        l = []\n",
        "        # This calculates the KA separately one-on-one between the prompts, and then uses the similarity between the prompts to say something.\n",
        "        for prompt_id in df['prompt_id'].loc[df['original']==False].unique():\n",
        "            # Go through them one at the time\n",
        "            dff = df.loc[(df['prompt_id']==prompt_id) | (df['original']==True)]\n",
        "            ka = simpledorff.calculate_krippendorffs_alpha_for_df(dff,metric_fn=self.metric_fn,experiment_col='id', annotator_col='prompt_id', class_col='annotation')\n",
        "\n",
        "            # Get the similarity of the prompt. Ugly code.\n",
        "            similarity = df.loc[df['prompt_id']==prompt_id]['similarity'].values[0]\n",
        "            l.append({'prompt_id':prompt_id,'KA':ka,'similarity':similarity})\n",
        "\n",
        "        return pd.DataFrame(l)\n"
      ]
    },
    {
      "cell_type": "code",
      "execution_count": 15,
      "id": "6466ccac",
      "metadata": {},
      "outputs": [
        {
          "data": {
            "text/plain": [
              "'0'"
            ]
          },
          "execution_count": 15,
          "metadata": {},
          "output_type": "execute_result"
        }
      ],
      "source": [
        "# Test of wrapper class\n",
        "llm.annotate(text='A small pet that says miaow and has a great self-esteem.', prompt='Does the message describe a cat or a dog? Repond 0 for cat, and 1 for dog.')#\n"
      ]
    },
    {
      "cell_type": "code",
      "execution_count": 128,
      "id": "b8571833",
      "metadata": {},
      "outputs": [
        {
          "name": "stderr",
          "output_type": "stream",
          "text": [
            "Some weights of PegasusForConditionalGeneration were not initialized from the model checkpoint at tuner007/pegasus_paraphrase and are newly initialized: ['model.encoder.embed_positions.weight', 'model.decoder.embed_positions.weight']\n",
            "You should probably TRAIN this model on a down-stream task to be able to use it for predictions and inference.\n"
          ]
        },
        {
          "name": "stdout",
          "output_type": "stream",
          "text": [
            "Iteration 0...\n"
          ]
        },
        {
          "name": "stderr",
          "output_type": "stream",
          "text": [
            "huggingface/tokenizers: The current process just got forked, after parallelism has already been used. Disabling parallelism to avoid deadlocks...\n",
            "To disable this warning, you can either:\n",
            "\t- Avoid using `tokenizers` before the fork if possible\n",
            "\t- Explicitly set the environment variable TOKENIZERS_PARALLELISM=(true | false)\n"
          ]
        },
        {
          "name": "stdout",
          "output_type": "stream",
          "text": [
            "Iteration 1...\n",
            "Iteration 2...\n",
            "Finished annotation. Analyzing reliability\n"
          ]
        },
        {
          "data": {
            "application/vnd.plotly.v1+json": {
              "config": {
                "plotlyServerURL": "https://plot.ly"
              },
              "data": [
                {
                  "hovertemplate": "Repetitions=%{x}<br>KA Score=%{y}<extra></extra>",
                  "legendgroup": "",
                  "marker": {
                    "color": "#636efa",
                    "symbol": "circle"
                  },
                  "mode": "markers",
                  "name": "",
                  "orientation": "v",
                  "showlegend": false,
                  "type": "scatter",
                  "x": [
                    2,
                    3
                  ],
                  "xaxis": "x",
                  "y": [
                    1,
                    1
                  ],
                  "yaxis": "y"
                },
                {
                  "line": {
                    "color": "black",
                    "dash": "dash",
                    "width": 0.5
                  },
                  "mode": "lines",
                  "name": "KA Threshold",
                  "type": "scatter",
                  "x": [
                    0,
                    3
                  ],
                  "y": [
                    0.8,
                    0.8
                  ]
                }
              ],
              "layout": {
                "hovermode": "closest",
                "legend": {
                  "tracegroupgap": 0
                },
                "margin": {
                  "t": 60
                },
                "template": {
                  "data": {
                    "bar": [
                      {
                        "error_x": {
                          "color": "#2a3f5f"
                        },
                        "error_y": {
                          "color": "#2a3f5f"
                        },
                        "marker": {
                          "line": {
                            "color": "#E5ECF6",
                            "width": 0.5
                          },
                          "pattern": {
                            "fillmode": "overlay",
                            "size": 10,
                            "solidity": 0.2
                          }
                        },
                        "type": "bar"
                      }
                    ],
                    "barpolar": [
                      {
                        "marker": {
                          "line": {
                            "color": "#E5ECF6",
                            "width": 0.5
                          },
                          "pattern": {
                            "fillmode": "overlay",
                            "size": 10,
                            "solidity": 0.2
                          }
                        },
                        "type": "barpolar"
                      }
                    ],
                    "carpet": [
                      {
                        "aaxis": {
                          "endlinecolor": "#2a3f5f",
                          "gridcolor": "white",
                          "linecolor": "white",
                          "minorgridcolor": "white",
                          "startlinecolor": "#2a3f5f"
                        },
                        "baxis": {
                          "endlinecolor": "#2a3f5f",
                          "gridcolor": "white",
                          "linecolor": "white",
                          "minorgridcolor": "white",
                          "startlinecolor": "#2a3f5f"
                        },
                        "type": "carpet"
                      }
                    ],
                    "choropleth": [
                      {
                        "colorbar": {
                          "outlinewidth": 0,
                          "ticks": ""
                        },
                        "type": "choropleth"
                      }
                    ],
                    "contour": [
                      {
                        "colorbar": {
                          "outlinewidth": 0,
                          "ticks": ""
                        },
                        "colorscale": [
                          [
                            0,
                            "#0d0887"
                          ],
                          [
                            0.1111111111111111,
                            "#46039f"
                          ],
                          [
                            0.2222222222222222,
                            "#7201a8"
                          ],
                          [
                            0.3333333333333333,
                            "#9c179e"
                          ],
                          [
                            0.4444444444444444,
                            "#bd3786"
                          ],
                          [
                            0.5555555555555556,
                            "#d8576b"
                          ],
                          [
                            0.6666666666666666,
                            "#ed7953"
                          ],
                          [
                            0.7777777777777778,
                            "#fb9f3a"
                          ],
                          [
                            0.8888888888888888,
                            "#fdca26"
                          ],
                          [
                            1,
                            "#f0f921"
                          ]
                        ],
                        "type": "contour"
                      }
                    ],
                    "contourcarpet": [
                      {
                        "colorbar": {
                          "outlinewidth": 0,
                          "ticks": ""
                        },
                        "type": "contourcarpet"
                      }
                    ],
                    "heatmap": [
                      {
                        "colorbar": {
                          "outlinewidth": 0,
                          "ticks": ""
                        },
                        "colorscale": [
                          [
                            0,
                            "#0d0887"
                          ],
                          [
                            0.1111111111111111,
                            "#46039f"
                          ],
                          [
                            0.2222222222222222,
                            "#7201a8"
                          ],
                          [
                            0.3333333333333333,
                            "#9c179e"
                          ],
                          [
                            0.4444444444444444,
                            "#bd3786"
                          ],
                          [
                            0.5555555555555556,
                            "#d8576b"
                          ],
                          [
                            0.6666666666666666,
                            "#ed7953"
                          ],
                          [
                            0.7777777777777778,
                            "#fb9f3a"
                          ],
                          [
                            0.8888888888888888,
                            "#fdca26"
                          ],
                          [
                            1,
                            "#f0f921"
                          ]
                        ],
                        "type": "heatmap"
                      }
                    ],
                    "heatmapgl": [
                      {
                        "colorbar": {
                          "outlinewidth": 0,
                          "ticks": ""
                        },
                        "colorscale": [
                          [
                            0,
                            "#0d0887"
                          ],
                          [
                            0.1111111111111111,
                            "#46039f"
                          ],
                          [
                            0.2222222222222222,
                            "#7201a8"
                          ],
                          [
                            0.3333333333333333,
                            "#9c179e"
                          ],
                          [
                            0.4444444444444444,
                            "#bd3786"
                          ],
                          [
                            0.5555555555555556,
                            "#d8576b"
                          ],
                          [
                            0.6666666666666666,
                            "#ed7953"
                          ],
                          [
                            0.7777777777777778,
                            "#fb9f3a"
                          ],
                          [
                            0.8888888888888888,
                            "#fdca26"
                          ],
                          [
                            1,
                            "#f0f921"
                          ]
                        ],
                        "type": "heatmapgl"
                      }
                    ],
                    "histogram": [
                      {
                        "marker": {
                          "pattern": {
                            "fillmode": "overlay",
                            "size": 10,
                            "solidity": 0.2
                          }
                        },
                        "type": "histogram"
                      }
                    ],
                    "histogram2d": [
                      {
                        "colorbar": {
                          "outlinewidth": 0,
                          "ticks": ""
                        },
                        "colorscale": [
                          [
                            0,
                            "#0d0887"
                          ],
                          [
                            0.1111111111111111,
                            "#46039f"
                          ],
                          [
                            0.2222222222222222,
                            "#7201a8"
                          ],
                          [
                            0.3333333333333333,
                            "#9c179e"
                          ],
                          [
                            0.4444444444444444,
                            "#bd3786"
                          ],
                          [
                            0.5555555555555556,
                            "#d8576b"
                          ],
                          [
                            0.6666666666666666,
                            "#ed7953"
                          ],
                          [
                            0.7777777777777778,
                            "#fb9f3a"
                          ],
                          [
                            0.8888888888888888,
                            "#fdca26"
                          ],
                          [
                            1,
                            "#f0f921"
                          ]
                        ],
                        "type": "histogram2d"
                      }
                    ],
                    "histogram2dcontour": [
                      {
                        "colorbar": {
                          "outlinewidth": 0,
                          "ticks": ""
                        },
                        "colorscale": [
                          [
                            0,
                            "#0d0887"
                          ],
                          [
                            0.1111111111111111,
                            "#46039f"
                          ],
                          [
                            0.2222222222222222,
                            "#7201a8"
                          ],
                          [
                            0.3333333333333333,
                            "#9c179e"
                          ],
                          [
                            0.4444444444444444,
                            "#bd3786"
                          ],
                          [
                            0.5555555555555556,
                            "#d8576b"
                          ],
                          [
                            0.6666666666666666,
                            "#ed7953"
                          ],
                          [
                            0.7777777777777778,
                            "#fb9f3a"
                          ],
                          [
                            0.8888888888888888,
                            "#fdca26"
                          ],
                          [
                            1,
                            "#f0f921"
                          ]
                        ],
                        "type": "histogram2dcontour"
                      }
                    ],
                    "mesh3d": [
                      {
                        "colorbar": {
                          "outlinewidth": 0,
                          "ticks": ""
                        },
                        "type": "mesh3d"
                      }
                    ],
                    "parcoords": [
                      {
                        "line": {
                          "colorbar": {
                            "outlinewidth": 0,
                            "ticks": ""
                          }
                        },
                        "type": "parcoords"
                      }
                    ],
                    "pie": [
                      {
                        "automargin": true,
                        "type": "pie"
                      }
                    ],
                    "scatter": [
                      {
                        "fillpattern": {
                          "fillmode": "overlay",
                          "size": 10,
                          "solidity": 0.2
                        },
                        "type": "scatter"
                      }
                    ],
                    "scatter3d": [
                      {
                        "line": {
                          "colorbar": {
                            "outlinewidth": 0,
                            "ticks": ""
                          }
                        },
                        "marker": {
                          "colorbar": {
                            "outlinewidth": 0,
                            "ticks": ""
                          }
                        },
                        "type": "scatter3d"
                      }
                    ],
                    "scattercarpet": [
                      {
                        "marker": {
                          "colorbar": {
                            "outlinewidth": 0,
                            "ticks": ""
                          }
                        },
                        "type": "scattercarpet"
                      }
                    ],
                    "scattergeo": [
                      {
                        "marker": {
                          "colorbar": {
                            "outlinewidth": 0,
                            "ticks": ""
                          }
                        },
                        "type": "scattergeo"
                      }
                    ],
                    "scattergl": [
                      {
                        "marker": {
                          "colorbar": {
                            "outlinewidth": 0,
                            "ticks": ""
                          }
                        },
                        "type": "scattergl"
                      }
                    ],
                    "scattermapbox": [
                      {
                        "marker": {
                          "colorbar": {
                            "outlinewidth": 0,
                            "ticks": ""
                          }
                        },
                        "type": "scattermapbox"
                      }
                    ],
                    "scatterpolar": [
                      {
                        "marker": {
                          "colorbar": {
                            "outlinewidth": 0,
                            "ticks": ""
                          }
                        },
                        "type": "scatterpolar"
                      }
                    ],
                    "scatterpolargl": [
                      {
                        "marker": {
                          "colorbar": {
                            "outlinewidth": 0,
                            "ticks": ""
                          }
                        },
                        "type": "scatterpolargl"
                      }
                    ],
                    "scatterternary": [
                      {
                        "marker": {
                          "colorbar": {
                            "outlinewidth": 0,
                            "ticks": ""
                          }
                        },
                        "type": "scatterternary"
                      }
                    ],
                    "surface": [
                      {
                        "colorbar": {
                          "outlinewidth": 0,
                          "ticks": ""
                        },
                        "colorscale": [
                          [
                            0,
                            "#0d0887"
                          ],
                          [
                            0.1111111111111111,
                            "#46039f"
                          ],
                          [
                            0.2222222222222222,
                            "#7201a8"
                          ],
                          [
                            0.3333333333333333,
                            "#9c179e"
                          ],
                          [
                            0.4444444444444444,
                            "#bd3786"
                          ],
                          [
                            0.5555555555555556,
                            "#d8576b"
                          ],
                          [
                            0.6666666666666666,
                            "#ed7953"
                          ],
                          [
                            0.7777777777777778,
                            "#fb9f3a"
                          ],
                          [
                            0.8888888888888888,
                            "#fdca26"
                          ],
                          [
                            1,
                            "#f0f921"
                          ]
                        ],
                        "type": "surface"
                      }
                    ],
                    "table": [
                      {
                        "cells": {
                          "fill": {
                            "color": "#EBF0F8"
                          },
                          "line": {
                            "color": "white"
                          }
                        },
                        "header": {
                          "fill": {
                            "color": "#C8D4E3"
                          },
                          "line": {
                            "color": "white"
                          }
                        },
                        "type": "table"
                      }
                    ]
                  },
                  "layout": {
                    "annotationdefaults": {
                      "arrowcolor": "#2a3f5f",
                      "arrowhead": 0,
                      "arrowwidth": 1
                    },
                    "autotypenumbers": "strict",
                    "coloraxis": {
                      "colorbar": {
                        "outlinewidth": 0,
                        "ticks": ""
                      }
                    },
                    "colorscale": {
                      "diverging": [
                        [
                          0,
                          "#8e0152"
                        ],
                        [
                          0.1,
                          "#c51b7d"
                        ],
                        [
                          0.2,
                          "#de77ae"
                        ],
                        [
                          0.3,
                          "#f1b6da"
                        ],
                        [
                          0.4,
                          "#fde0ef"
                        ],
                        [
                          0.5,
                          "#f7f7f7"
                        ],
                        [
                          0.6,
                          "#e6f5d0"
                        ],
                        [
                          0.7,
                          "#b8e186"
                        ],
                        [
                          0.8,
                          "#7fbc41"
                        ],
                        [
                          0.9,
                          "#4d9221"
                        ],
                        [
                          1,
                          "#276419"
                        ]
                      ],
                      "sequential": [
                        [
                          0,
                          "#0d0887"
                        ],
                        [
                          0.1111111111111111,
                          "#46039f"
                        ],
                        [
                          0.2222222222222222,
                          "#7201a8"
                        ],
                        [
                          0.3333333333333333,
                          "#9c179e"
                        ],
                        [
                          0.4444444444444444,
                          "#bd3786"
                        ],
                        [
                          0.5555555555555556,
                          "#d8576b"
                        ],
                        [
                          0.6666666666666666,
                          "#ed7953"
                        ],
                        [
                          0.7777777777777778,
                          "#fb9f3a"
                        ],
                        [
                          0.8888888888888888,
                          "#fdca26"
                        ],
                        [
                          1,
                          "#f0f921"
                        ]
                      ],
                      "sequentialminus": [
                        [
                          0,
                          "#0d0887"
                        ],
                        [
                          0.1111111111111111,
                          "#46039f"
                        ],
                        [
                          0.2222222222222222,
                          "#7201a8"
                        ],
                        [
                          0.3333333333333333,
                          "#9c179e"
                        ],
                        [
                          0.4444444444444444,
                          "#bd3786"
                        ],
                        [
                          0.5555555555555556,
                          "#d8576b"
                        ],
                        [
                          0.6666666666666666,
                          "#ed7953"
                        ],
                        [
                          0.7777777777777778,
                          "#fb9f3a"
                        ],
                        [
                          0.8888888888888888,
                          "#fdca26"
                        ],
                        [
                          1,
                          "#f0f921"
                        ]
                      ]
                    },
                    "colorway": [
                      "#636efa",
                      "#EF553B",
                      "#00cc96",
                      "#ab63fa",
                      "#FFA15A",
                      "#19d3f3",
                      "#FF6692",
                      "#B6E880",
                      "#FF97FF",
                      "#FECB52"
                    ],
                    "font": {
                      "color": "#2a3f5f"
                    },
                    "geo": {
                      "bgcolor": "white",
                      "lakecolor": "white",
                      "landcolor": "#E5ECF6",
                      "showlakes": true,
                      "showland": true,
                      "subunitcolor": "white"
                    },
                    "hoverlabel": {
                      "align": "left"
                    },
                    "hovermode": "closest",
                    "mapbox": {
                      "style": "light"
                    },
                    "paper_bgcolor": "white",
                    "plot_bgcolor": "#E5ECF6",
                    "polar": {
                      "angularaxis": {
                        "gridcolor": "white",
                        "linecolor": "white",
                        "ticks": ""
                      },
                      "bgcolor": "#E5ECF6",
                      "radialaxis": {
                        "gridcolor": "white",
                        "linecolor": "white",
                        "ticks": ""
                      }
                    },
                    "scene": {
                      "xaxis": {
                        "backgroundcolor": "#E5ECF6",
                        "gridcolor": "white",
                        "gridwidth": 2,
                        "linecolor": "white",
                        "showbackground": true,
                        "ticks": "",
                        "zerolinecolor": "white"
                      },
                      "yaxis": {
                        "backgroundcolor": "#E5ECF6",
                        "gridcolor": "white",
                        "gridwidth": 2,
                        "linecolor": "white",
                        "showbackground": true,
                        "ticks": "",
                        "zerolinecolor": "white"
                      },
                      "zaxis": {
                        "backgroundcolor": "#E5ECF6",
                        "gridcolor": "white",
                        "gridwidth": 2,
                        "linecolor": "white",
                        "showbackground": true,
                        "ticks": "",
                        "zerolinecolor": "white"
                      }
                    },
                    "shapedefaults": {
                      "line": {
                        "color": "#2a3f5f"
                      }
                    },
                    "ternary": {
                      "aaxis": {
                        "gridcolor": "white",
                        "linecolor": "white",
                        "ticks": ""
                      },
                      "baxis": {
                        "gridcolor": "white",
                        "linecolor": "white",
                        "ticks": ""
                      },
                      "bgcolor": "#E5ECF6",
                      "caxis": {
                        "gridcolor": "white",
                        "linecolor": "white",
                        "ticks": ""
                      }
                    },
                    "title": {
                      "x": 0.05
                    },
                    "xaxis": {
                      "automargin": true,
                      "gridcolor": "white",
                      "linecolor": "white",
                      "ticks": "",
                      "title": {
                        "standoff": 15
                      },
                      "zerolinecolor": "white",
                      "zerolinewidth": 2
                    },
                    "yaxis": {
                      "automargin": true,
                      "gridcolor": "white",
                      "linecolor": "white",
                      "ticks": "",
                      "title": {
                        "standoff": 15
                      },
                      "zerolinecolor": "white",
                      "zerolinewidth": 2
                    }
                  }
                },
                "title": {
                  "text": "Reliability (KA) vs. Repetitions"
                },
                "xaxis": {
                  "anchor": "y",
                  "domain": [
                    0,
                    1
                  ],
                  "title": {
                    "text": "Number of Prompt Repetitions"
                  }
                },
                "yaxis": {
                  "anchor": "x",
                  "domain": [
                    0,
                    1
                  ],
                  "range": [
                    0,
                    1.05
                  ],
                  "title": {
                    "text": "KA Score"
                  }
                }
              }
            }
          },
          "metadata": {},
          "output_type": "display_data"
        },
        {
          "name": "stdout",
          "output_type": "stream",
          "text": [
            "Within-prompt KA reliability score for 3 repetitions is 1.0\n"
          ]
        }
      ],
      "source": [
        "# Example use\n",
        "APIKEY = os.getenv(\"OPENAI_API_KEY\")\n",
        "MODEL = 'gpt-3.5-turbo'\n",
        "llm = LLMWrapper(model = MODEL, apikey=APIKEY)\n",
        "\n",
        "data = [\"This creature, often seen as a symbol of independence, gracefully navigates its environment, its eyes shining like beacons in the twilight, always landing on its feet after a calculated leap.\",\n",
        "\"With a loyalty as steadfast as the north star, this companion greets each day with boundless enthusiasm, its wagging tail a metronome of joy as it awaits the next adventure beside its human.\",\n",
        "\"Cloaked in fur as soft as whispers, this enigmatic being prowls the silent corridors of its domain by night, its silhouette a fleeting ghost against the moonlit windows.\",\n",
        "\"An epitome of devotion, this guardian's bark is both a welcoming fanfare and a stern warning, its ears perpetually tuned to the sounds of its family's voices, standing watch over its home with unwavering vigilance.\",\n",
        "\"This solitary hunter, with whiskers tuned to the slightest rustle, moves like a shadow through the underbrush, its green gaze piercing the darkness, ever in pursuit of the elusive dance of light and shadow.\",\n",
        "\"Bearing a heart as wide as the open field it romps through, this creature's howls weave tales of ancestral wolves, yet its gentle eyes betray a soul purely devoted to the companionship of those it calls its pack.\",\n",
        "\"As if adorned with the softest down, this silent watcher claims the highest vantage points as its throne, surveying its kingdom with a regal indifference, yet secretly reveling in the warmth of a gentle stroke.\",\n",
        "\"In its eyes, one can see the flicker of ancient fireside companions, its presence a comforting weight at the foot of the bed, a protector of dreams and a keeper of secrets, sharing silent conversations in the stillness of night.\",\n",
        "\"With agility that belies its delicate form, this creature commands the air itself, its movements a ballet of precision and grace, leaving only the faintest whispers in its wake as it explores realms both high and low.\",\n",
        "\"This jovial spirit, with fur muddied from joyful romps in the rain, returns home with a trophy branch larger than itself, a testament to its undying zest for life and the simple pleasures found in a stick well-chased.\"]\n",
        "\n",
        "prompt = 'Does the message describe a cat or a dog?'\n",
        "prompt_postfix = '[Respond 0 for cat, and 1 for dog.]'\n",
        "psa = PromptStabilityAnalysis(llm, data)\n",
        "\n",
        "# Test variability for the same prompt.\n",
        "res,df = psa.baseline_stochasticity(prompt,prompt_postfix,iterations=3)\n"
      ]
    },
    {
      "cell_type": "code",
      "execution_count": 129,
      "id": "5e58c173",
      "metadata": {},
      "outputs": [
        {
          "data": {
            "text/html": [
              "<div>\n",
              "<style scoped>\n",
              "    .dataframe tbody tr th:only-of-type {\n",
              "        vertical-align: middle;\n",
              "    }\n",
              "\n",
              "    .dataframe tbody tr th {\n",
              "        vertical-align: top;\n",
              "    }\n",
              "\n",
              "    .dataframe thead th {\n",
              "        text-align: right;\n",
              "    }\n",
              "</style>\n",
              "<table border=\"1\" class=\"dataframe\">\n",
              "  <thead>\n",
              "    <tr style=\"text-align: right;\">\n",
              "      <th></th>\n",
              "      <th>similarity</th>\n",
              "      <th>phrase</th>\n",
              "      <th>original</th>\n",
              "    </tr>\n",
              "  </thead>\n",
              "  <tbody>\n",
              "    <tr>\n",
              "      <th>5</th>\n",
              "      <td>0.899961</td>\n",
              "      <td>Is the message about a dog or cat? [Respond 0 ...</td>\n",
              "      <td>False</td>\n",
              "    </tr>\n",
              "    <tr>\n",
              "      <th>3</th>\n",
              "      <td>0.917287</td>\n",
              "      <td>Is the message about a cat or a dog? [Respond ...</td>\n",
              "      <td>False</td>\n",
              "    </tr>\n",
              "    <tr>\n",
              "      <th>1</th>\n",
              "      <td>0.920899</td>\n",
              "      <td>Is the message about a cat or dog? [Respond 0 ...</td>\n",
              "      <td>False</td>\n",
              "    </tr>\n",
              "    <tr>\n",
              "      <th>2</th>\n",
              "      <td>0.937727</td>\n",
              "      <td>Does the message mention a cat or dog? [Respon...</td>\n",
              "      <td>False</td>\n",
              "    </tr>\n",
              "    <tr>\n",
              "      <th>4</th>\n",
              "      <td>0.948534</td>\n",
              "      <td>Does the message refer to a cat or dog? [Respo...</td>\n",
              "      <td>False</td>\n",
              "    </tr>\n",
              "    <tr>\n",
              "      <th>0</th>\n",
              "      <td>1.000000</td>\n",
              "      <td>Does the message describe a cat or a dog? [Res...</td>\n",
              "      <td>True</td>\n",
              "    </tr>\n",
              "  </tbody>\n",
              "</table>\n",
              "</div>"
            ],
            "text/plain": [
              "   similarity                                             phrase  original\n",
              "5    0.899961  Is the message about a dog or cat? [Respond 0 ...     False\n",
              "3    0.917287  Is the message about a cat or a dog? [Respond ...     False\n",
              "1    0.920899  Is the message about a cat or dog? [Respond 0 ...     False\n",
              "2    0.937727  Does the message mention a cat or dog? [Respon...     False\n",
              "4    0.948534  Does the message refer to a cat or dog? [Respo...     False\n",
              "0    1.000000  Does the message describe a cat or a dog? [Res...      True"
            ]
          },
          "metadata": {},
          "output_type": "display_data"
        },
        {
          "name": "stdout",
          "output_type": "stream",
          "text": [
            "Iteration 0...\n",
            "Iteration 1...\n",
            "Iteration 2...\n",
            "Iteration 3...\n",
            "Iteration 4...\n",
            "Iteration 5...\n",
            "Finished annotation. Analyzing reliability\n",
            "The resulting interprompt KA reliability value is 0.48350168350168365\n"
          ]
        },
        {
          "data": {
            "image/png": "[encoded data removed]",
            "text/plain": [
              "<Figure size 640x480 with 1 Axes>"
            ]
          },
          "metadata": {},
          "output_type": "display_data"
        }
      ],
      "source": [
        "# Test of variability across prompts\n",
        "res,df,rel_by_sim = psa.interprompt_stochasticity(prompt,prompt_postfix, nr_variations=5, temperature=1.0, iterations=1)\n"
      ]
    },
    {
      "cell_type": "code",
      "execution_count": 12,
      "id": "ee886b77",
      "metadata": {},
      "outputs": [
        {
          "name": "stderr",
          "output_type": "stream",
          "text": [
            "Some weights of PegasusForConditionalGeneration were not initialized from the model checkpoint at tuner007/pegasus_paraphrase and are newly initialized: ['model.decoder.embed_positions.weight', 'model.encoder.embed_positions.weight']\n",
            "You should probably TRAIN this model on a down-stream task to be able to use it for predictions and inference.\n"
          ]
        },
        {
          "name": "stdout",
          "output_type": "stream",
          "text": [
            "Iteration 0...\n",
            "Iteration 1...\n",
            "Iteration 2...\n",
            "Finished annotation. Analyzing reliability\n",
            "1.0\n",
            "   id                                               text  annotation  \\\n",
            "0   0  Foreward  Here you can read Labour's plan to d...         2.0   \n",
            "1   1  new Labour because Britain deserves better Bri...         5.0   \n",
            "2   0  Foreward  Here you can read Labour's plan to d...         2.0   \n",
            "3   1  new Labour because Britain deserves better Bri...         5.0   \n",
            "4   0  Foreward  Here you can read Labour's plan to d...         2.0   \n",
            "5   1  new Labour because Britain deserves better Bri...         5.0   \n",
            "\n",
            "   iteration  \n",
            "0          0  \n",
            "1          0  \n",
            "2          1  \n",
            "3          1  \n",
            "4          2  \n",
            "5          2  \n",
            "The KA reliability for repeating the prompt is 1.0\n"
          ]
        }
      ],
      "source": [
        "# Party manifesto example\n",
        "#APIKEY = \"[KEY]\"\n",
        "MODEL = 'gpt-3.5-turbo'\n",
        "llm = LLMWrapper(model = MODEL, apikey=APIKEY)\n",
        "\n",
        "# Initialize the model and tokenizer (hugging face model identifier)\n",
        "try:\n",
        "    # Try initializing the model and tokenizer\n",
        "    model = AutoModelForCausalLM.from_pretrained(MODEL)\n",
        "    tokenizer = AutoTokenizer.from_pretrained(MODEL)\n",
        "    MAX_TOKENS = tokenizer.model_max_length\n",
        "except OSError:\n",
        "    # If the model identifier is not valid, set MAX_TOKENS to 16385\n",
        "    MAX_TOKENS = 16385\n",
        "\n",
        "# Data (upload promptstability/data/UK_Manifestos.csv)\n",
        "df = pd.read_csv('UK_Manifestos.csv')\n",
        "df_small = df.iloc[[41, 44]]\n",
        "\n",
        "# Truncate\n",
        "texts = [text[:MAX_TOKENS] for text in df_small['content'].values]\n",
        "\n",
        "prompt = 'The text provided is a party manifesto for a political party in the United Kingdom. Your task is to evaluate evaluate where it is on the scale from left-wing to right-wing on economic issues. Thank you!'\n",
        "prompt_postfix = '[Respond with a number from 1 to 10. 1 corresponds to most left-wing. 10 corresponds to most right-wing. Your answer should only consist of this number and nothing else.]'\n",
        "\n",
        "psa = PromptStabilityAnalysis(llm, texts,parse_function=lambda x: float(x), metric_fn = simpledorff.metrics.interval_metric)\n",
        "\n",
        "# Test variability for the same prompt.\n",
        "res,df = psa.baseline_stochasticity(prompt,prompt_postfix,iterations=3)\n",
        "print(df)\n",
        "print(f\"The KA reliability for repeating the prompt is {res}\")\n",
        "\n",
        "# Test of variability across prompts\n",
        "#res,df,rel_by_sim = psa.interprompt_stochasticity(prompt,prompt_postfix, nr_variations=5, temperature=1.0, iterations=1)\n",
        "\n",
        "#print(f\"The KA inter reliability for varying the prompt is {res}\")\n"
      ]
    },
    {
      "cell_type": "markdown",
      "id": "36cf4102",
      "metadata": {},
      "source": [
        "\n",
        "# test "
      ]
    },
    {
      "cell_type": "code",
      "execution_count": 109,
      "id": "e2283e4c",
      "metadata": {},
      "outputs": [],
      "source": [
        "class TestTest:\n",
        "\n",
        "    def __init__(self,llm, data, metric_fn=simpledorff.metrics.nominal_metric, parse_function=None) -> None:\n",
        "\n",
        "        self.llm = llm\n",
        "\n",
        "        # Get a number for the similarity between two sentences\n",
        "        self.embedding_model = SentenceTransformer('paraphrase-MiniLM-L6-v2')\n",
        "\n",
        "        #Initiate paraphraser\n",
        "        model_name = 'tuner007/pegasus_paraphrase'\n",
        "        self.torch_device = 'cuda' if torch.cuda.is_available() else 'cpu'\n",
        "        self.tokenizer = PegasusTokenizer.from_pretrained(model_name)\n",
        "        self.model = PegasusForConditionalGeneration.from_pretrained(model_name).to(self.torch_device)\n",
        "        self.parse_function = parse_function  #The function through which to parse the result from the LLM\n",
        "        self.data = data # The data to be analyzed. Should be a list of texts.\n",
        "        self.metric_fn = metric_fn #Metric function for KA. e.g., simpledorff.metrics.interval_metric or nominal_metric metric_fn=simpledorff.metrics.nominal_metric\n",
        "\n",
        "    # Compares similarity between two sentences in sentence embedding space\n",
        "    def __compare_similarity(self,sent1,sent2):\n",
        "        emb1 = self.embedding_model.encode(sent1, convert_to_tensor=True)\n",
        "        emb2 = self.embedding_model.encode(sent2, convert_to_tensor=True)\n",
        "\n",
        "        return util.pytorch_cos_sim(emb1, emb2)\n",
        "\n",
        "    # Uses Pegasus to paraphrase a sentence\n",
        "    def __paraphrase_sentence(self, input_text, num_return_sequences=10, num_beams=10, temperature=1.5):\n",
        "        batch = self.tokenizer([input_text],truncation=True,padding='longest',max_length=60, return_tensors=\"pt\").to(self.torch_device)\n",
        "        translated = self.model.generate(**batch,max_length=60,num_beams=num_beams, num_return_sequences=num_return_sequences, temperature=temperature)\n",
        "        tgt_text = self.tokenizer.batch_decode(translated, skip_special_tokens=True)\n",
        "        return tgt_text\n",
        "\n",
        "    #This generates paraphrases based on an original text and uses sentence embedding to measure how different they are from the original sentence.\n",
        "    #prompt_postfix is a fixed addition that is not paraphrased\n",
        "    def __generate_paraphrases(self,original_text,prompt_postfix,nr_variations,temperature=1.5):\n",
        "        # Create paraphrases of sentence\n",
        "        phrases = self.__paraphrase_sentence(original_text,num_return_sequences=nr_variations,temperature=temperature)\n",
        "\n",
        "        # Measure distances between new and original\n",
        "        l = [{'similarity':1.0,'phrase':f'{original_text} {prompt_postfix}','original':True}]\n",
        "        for phrase in phrases:\n",
        "            sim = self.__compare_similarity(original_text,phrase)\n",
        "            l.append({'similarity':float(sim),'phrase':f'{phrase} {prompt_postfix}','original':False})\n",
        "\n",
        "        # Store for future use\n",
        "        self.paraphrases = pd.DataFrame(l).sort_values(['similarity'])\n",
        "        display(self.paraphrases)\n",
        "        return self.paraphrases\n",
        "\n",
        "    def baseline_stochasticity(self,original_text,prompt_postfix,iterations=10, plot_type='plotly'):\n",
        "        '''\n",
        "        This measures the amount of stochasticity there is within the same prompt, running the original prompt <iterations> and\n",
        "        measuring the KA reliability over runs.\n",
        "        '''\n",
        "        prompt = f'{original_text} {prompt_postfix}'\n",
        "        annotated = []\n",
        "        ka_scores = []\n",
        "        iterrations_no = []\n",
        "\n",
        "        # Run the LLM on the data\n",
        "        for i in range(iterations):\n",
        "            print(f\"Iteration {i}...\")\n",
        "            for j,d in enumerate(self.data):\n",
        "                annotation = self.llm.annotate(d, prompt,parse_function=self.parse_function)\n",
        "                annotated.append({'id':j,'text':d,'annotation':annotation,'iteration':i})\n",
        "\n",
        "            # Measure the intercoder reliability (after second iteration)\n",
        "            if i > 0:\n",
        "                df = pd.DataFrame(annotated)\n",
        "                KA = simpledorff.calculate_krippendorffs_alpha_for_df(\n",
        "                    df,\n",
        "                    metric_fn=self.metric_fn,\n",
        "                    experiment_col='id',\n",
        "                    annotator_col='iteration',\n",
        "                    class_col='annotation')\n",
        "\n",
        "                ka_scores.append(KA)\n",
        "                iterrations_no.append(i + 1)\n",
        "\n",
        "        print('Finished annotation. Analyzing reliability')\n",
        "\n",
        "        # plot\n",
        "        if plot_type == 'sns':\n",
        "            sns.set()\n",
        "            # turn iteration_no into integers\n",
        "            #iterration_no = [int(x) for x in iterration_no]\n",
        "            sns.scatterplot(x=iterrations_no, y= ka_scores)\n",
        "            plt.xlabel('Number of Prompt Repetitions')\n",
        "            plt.ylabel('KA Score')\n",
        "            plt.title('Reliability (KA) vs. Repetitions')\n",
        "            plt.ylim(0.0, 1.05)\n",
        "            plt.xticks(range(0, max(iterrations_no) + 1, 5))\n",
        "            plt.axhline(y=0.80, color='black', linestyle='--', linewidth=.5)\n",
        "            plt.show()\n",
        "        elif plot_type == 'plotly':\n",
        "            data = {'Repetitions': iterrations_no, 'KA Score': ka_scores}\n",
        "            df = pd.DataFrame(data)\n",
        "            # interactive plot\n",
        "            fig = px.scatter(df, x='Repetitions', y='KA Score', hover_data={'Repetitions': True, 'KA Score': True}, labels={'Repetitions': 'Repetitions', 'KA Score': 'KA Score'})\n",
        "            # horizontal line: min KA acceptable\n",
        "            fig.add_trace(go.Scatter(x=[0, max(iterrations_no)], y=[0.80, 0.80], mode='lines', name='KA Threshold', line=dict(color='black', width=.5, dash='dash')))\n",
        "\n",
        "            fig.update_layout(\n",
        "                title='Reliability (KA) vs. Repetitions',\n",
        "                xaxis_title='Number of Prompt Repetitions',\n",
        "                yaxis_title='KA Score',\n",
        "                yaxis=dict(range=[0.0, 1.05]),\n",
        "                hovermode='closest'\n",
        "            )\n",
        "            fig.show()\n",
        "\n",
        "            print(f'Within-prompt KA reliability score for {i + 1} repetitions is {KA}')\n",
        "\n",
        "        return KA, df, ka_scores, iterrations_no\n",
        "\n",
        "\n",
        "    def interprompt_stochasticity(self,original_text,prompt_postfix, nr_variations=5, temperature=1.0, iterations=1, plot_type='plotly'):\n",
        "        '''\n",
        "        This measures the amount of stochasticity while varying the prompt.\n",
        "        prompt_postfix: A fixed addition to the prompt. This is not paraphrased. Used to specify output format.\n",
        "        '''\n",
        "\n",
        "        # Generate paraphrases\n",
        "        paraphrases = self.__generate_paraphrases(original_text,prompt_postfix,nr_variations=nr_variations,temperature=temperature)\n",
        "\n",
        "        annotated = []\n",
        "        # Run the LLM on the data\n",
        "        for i, (paraphrase,similarity,original) in enumerate(zip(paraphrases['phrase'],paraphrases['similarity'],paraphrases['original'])):\n",
        "            print(f\"Iteration {i}...\")\n",
        "            for j,d in enumerate(self.data):\n",
        "                annotation = self.llm.annotate(d, paraphrase,parse_function=self.parse_function)\n",
        "                annotated.append({'id':j,'text':d,'annotation':annotation,'prompt_id':i,'prompt':paraphrase,'similarity':similarity,'original':original})\n",
        "\n",
        "        print('Finished annotation. Analyzing reliability')\n",
        "        annotated_data = pd.DataFrame(annotated)\n",
        "\n",
        "        self.interprompt_df = annotated_data\n",
        "\n",
        "        # Measure the interprompt reliability\n",
        "        KA = simpledorff.calculate_krippendorffs_alpha_for_df(annotated_data,metric_fn=self.metric_fn,experiment_col='id', annotator_col='prompt_id', class_col='annotation')\n",
        "\n",
        "        rel_vs_sim = self.__calculate_reliability_as_function_of_similarity(annotated_data)\n",
        "        poor_prompts = rel_vs_sim.loc[rel_vs_sim['KA'] < 0.8]\n",
        "        original_prompt = original_text + ' ' + prompt_postfix\n",
        "\n",
        "        if plot_type == 'sns':\n",
        "            sns.set()\n",
        "            sns.scatterplot(x=rel_vs_sim['similarity'], y= rel_vs_sim['KA'])\n",
        "            plt.xlabel('Prompt Similarity')\n",
        "            plt.ylabel('KA Score')\n",
        "            plt.title('Reliability vs similarity')\n",
        "            plt.ylim(0.0, 1.05)\n",
        "            plt.xlim(0,1)\n",
        "            plt.axhline(y=0.80, color='black', linestyle='--', linewidth=.5)\n",
        "            plt.show()\n",
        "        elif plot_type == 'plotly':\n",
        "            data = {'Similarity': rel_vs_sim['similarity'], 'KA Score': rel_vs_sim['KA'], 'Prompt_id': rel_vs_sim['prompt_id']}\n",
        "            df = pd.DataFrame(data)\n",
        "            # interactive plot\n",
        "            fig = px.scatter(df, x='Similarity', y='KA Score', hover_data={'Similarity': True, 'KA Score': True, 'Prompt_id': True}, labels={'Similarity': 'Prompt Similarity', 'KA Score': 'KA Score', 'Prompt': 'Prompt_id'})\n",
        "            # horizontal line: min KA acceptable\n",
        "            fig.add_trace(go.Scatter(x=[0, 1], y=[0.80, 0.80], mode='lines', name='KA Threshold', line=dict(color='black', width=.5, dash='dash')))\n",
        "            fig.update_traces(hoverlabel=dict(font=dict(size=12), align='left', namelength=30))\n",
        "\n",
        "            fig.update_layout(\n",
        "                title='Reliability (KA) vs. Similarity',\n",
        "                xaxis_title='Prompt Similarity',\n",
        "                yaxis_title='KA Score',\n",
        "                yaxis=dict(range=[0.0, 1.05]),\n",
        "                xaxis=dict(range=[0, 1]),  # Set x-axis limits,\n",
        "                hovermode='closest'\n",
        "            )\n",
        "            fig.show()\n",
        "\n",
        "        print(f'Inter-prompt KA reliability score is {KA}.')\n",
        "        print('\\n#################################')\n",
        "        print(f'Original prompt:\\n{original_prompt}')\n",
        "        print('#################################')\n",
        "        print('Prompts with poor performance:')\n",
        "        display(poor_prompts)\n",
        "        return KA, annotated_data, rel_vs_sim, poor_prompts\n",
        "\n",
        "\n",
        "    #This calculates the KA-R as a function of the similarity between the prompts\n",
        "    # Takes the output of the interprompt_stochasticity calculation\n",
        "    def __calculate_reliability_as_function_of_similarity(self,df=None):\n",
        "        if df is None:\n",
        "            df = self.interprompt_df\n",
        "\n",
        "        l = []\n",
        "        # This calculates the KA separately one-on-one between the prompts, and then uses the similarity between the prompts to say something.\n",
        "        for prompt_id in df['prompt_id'].loc[df['original']==False].unique():\n",
        "            # Go through them one at the time\n",
        "            dff = df.loc[(df['prompt_id']==prompt_id) | (df['original']==True)]\n",
        "            ka = simpledorff.calculate_krippendorffs_alpha_for_df(dff,metric_fn=self.metric_fn,experiment_col='id', annotator_col='prompt_id', class_col='annotation')\n",
        "\n",
        "            # Get the similarity of the prompt. Ugly code.\n",
        "            similarity = df.loc[df['prompt_id']==prompt_id]['similarity'].values[0]\n",
        "            prompt_text = df.loc[df['prompt_id']==prompt_id]['prompt'].values[0]\n",
        "            l.append({'prompt_id':prompt_id, 'prompt_text': prompt_text,'similarity':similarity, 'KA':ka})\n",
        "\n",
        "        return pd.DataFrame(l)\n"
      ]
    },
    {
      "cell_type": "code",
      "execution_count": 110,
      "id": "49da5761",
      "metadata": {},
      "outputs": [
        {
          "name": "stderr",
          "output_type": "stream",
          "text": [
            "Some weights of PegasusForConditionalGeneration were not initialized from the model checkpoint at tuner007/pegasus_paraphrase and are newly initialized: ['model.encoder.embed_positions.weight', 'model.decoder.embed_positions.weight']\n",
            "You should probably TRAIN this model on a down-stream task to be able to use it for predictions and inference.\n"
          ]
        }
      ],
      "source": [
        "APIKEY = os.getenv(\"OPENAI_API_KEY\")\n",
        "MODEL = 'gpt-3.5-turbo'\n",
        "llm = LLMWrapper(model = MODEL, apikey=APIKEY)\n",
        "\n",
        "# Initialize the model and tokenizer (hugging face model identifier)\n",
        "try:\n",
        "    # Try initializing the model and tokenizer\n",
        "    model = AutoModelForCausalLM.from_pretrained(MODEL)\n",
        "    tokenizer = AutoTokenizer.from_pretrained(MODEL)\n",
        "    MAX_TOKENS = tokenizer.model_max_length\n",
        "except OSError:\n",
        "    # If the model identifier is not valid, set MAX_TOKENS to 16385\n",
        "    MAX_TOKENS = 16385\n",
        "\n",
        "# Data (upload promptstability/data/UK_Manifestos.csv)\n",
        "df = pd.read_csv('UK_Manifestos.csv')\n",
        "df_small = df.iloc[[41, 44]]\n",
        "\n",
        "# Truncate\n",
        "texts = [text[:MAX_TOKENS] for text in df_small['content'].values]\n",
        "\n",
        "prompt = 'The text provided is a party manifesto for a political party in the United Kingdom. Your task is to evaluate evaluate where it is on the scale from left-wing to right-wing on economic issues. Thank you!'\n",
        "prompt_postfix = '[Respond with a number from 1 to 10. 1 corresponds to most left-wing. 10 corresponds to most right-wing. Your answer should only consist of this number and nothing else.]'\n",
        "\n",
        "tt = TestTest(llm, texts, parse_function=lambda x: float(x), metric_fn = simpledorff.metrics.interval_metric)\n"
      ]
    },
    {
      "cell_type": "code",
      "execution_count": 108,
      "id": "c66b9995",
      "metadata": {},
      "outputs": [
        {
          "name": "stdout",
          "output_type": "stream",
          "text": [
            "Iteration 0...\n"
          ]
        },
        {
          "name": "stderr",
          "output_type": "stream",
          "text": [
            "huggingface/tokenizers: The current process just got forked, after parallelism has already been used. Disabling parallelism to avoid deadlocks...\n",
            "To disable this warning, you can either:\n",
            "\t- Avoid using `tokenizers` before the fork if possible\n",
            "\t- Explicitly set the environment variable TOKENIZERS_PARALLELISM=(true | false)\n"
          ]
        },
        {
          "name": "stdout",
          "output_type": "stream",
          "text": [
            "Iteration 1...\n",
            "Iteration 2...\n",
            "Iteration 3...\n",
            "Iteration 4...\n",
            "Iteration 5...\n",
            "Iteration 6...\n",
            "Iteration 7...\n",
            "Iteration 8...\n",
            "Iteration 9...\n",
            "Iteration 10...\n",
            "Iteration 11...\n",
            "Iteration 12...\n",
            "Iteration 13...\n",
            "Iteration 14...\n",
            "Iteration 15...\n",
            "Iteration 16...\n",
            "Iteration 17...\n",
            "Iteration 18...\n",
            "Iteration 19...\n",
            "Finished annotation. Analyzing reliability\n"
          ]
        },
        {
          "data": {
            "application/vnd.plotly.v1+json": {
              "config": {
                "plotlyServerURL": "https://plot.ly"
              },
              "data": [
                {
                  "hovertemplate": "Repetitions=%{x}<br>KA Score=%{y}<extra></extra>",
                  "legendgroup": "",
                  "marker": {
                    "color": "#636efa",
                    "symbol": "circle"
                  },
                  "mode": "markers",
                  "name": "",
                  "orientation": "v",
                  "showlegend": false,
                  "type": "scatter",
                  "x": [
                    2,
                    3,
                    4,
                    5,
                    6,
                    7,
                    8,
                    9,
                    10,
                    11,
                    12,
                    13,
                    14,
                    15,
                    16,
                    17,
                    18,
                    19,
                    20
                  ],
                  "xaxis": "x",
                  "y": [
                    1,
                    1,
                    0.96,
                    0.9551495016611296,
                    0.9568627450980393,
                    0.9566666666666667,
                    0.957983193277311,
                    0.9575424575424576,
                    0.9579180509413068,
                    0.9587368421052631,
                    0.9582057006385961,
                    0.9586640211640212,
                    0.9593468732224713,
                    0.9587090650213574,
                    0.9586797841954935,
                    0.958797089041096,
                    0.9588646647470177,
                    0.9592151675485009,
                    0.959021874104499
                  ],
                  "yaxis": "y"
                },
                {
                  "line": {
                    "color": "black",
                    "dash": "dash",
                    "width": 0.5
                  },
                  "mode": "lines",
                  "name": "KA Threshold",
                  "type": "scatter",
                  "x": [
                    0,
                    20
                  ],
                  "y": [
                    0.8,
                    0.8
                  ]
                }
              ],
              "layout": {
                "hovermode": "closest",
                "legend": {
                  "tracegroupgap": 0
                },
                "margin": {
                  "t": 60
                },
                "template": {
                  "data": {
                    "bar": [
                      {
                        "error_x": {
                          "color": "#2a3f5f"
                        },
                        "error_y": {
                          "color": "#2a3f5f"
                        },
                        "marker": {
                          "line": {
                            "color": "#E5ECF6",
                            "width": 0.5
                          },
                          "pattern": {
                            "fillmode": "overlay",
                            "size": 10,
                            "solidity": 0.2
                          }
                        },
                        "type": "bar"
                      }
                    ],
                    "barpolar": [
                      {
                        "marker": {
                          "line": {
                            "color": "#E5ECF6",
                            "width": 0.5
                          },
                          "pattern": {
                            "fillmode": "overlay",
                            "size": 10,
                            "solidity": 0.2
                          }
                        },
                        "type": "barpolar"
                      }
                    ],
                    "carpet": [
                      {
                        "aaxis": {
                          "endlinecolor": "#2a3f5f",
                          "gridcolor": "white",
                          "linecolor": "white",
                          "minorgridcolor": "white",
                          "startlinecolor": "#2a3f5f"
                        },
                        "baxis": {
                          "endlinecolor": "#2a3f5f",
                          "gridcolor": "white",
                          "linecolor": "white",
                          "minorgridcolor": "white",
                          "startlinecolor": "#2a3f5f"
                        },
                        "type": "carpet"
                      }
                    ],
                    "choropleth": [
                      {
                        "colorbar": {
                          "outlinewidth": 0,
                          "ticks": ""
                        },
                        "type": "choropleth"
                      }
                    ],
                    "contour": [
                      {
                        "colorbar": {
                          "outlinewidth": 0,
                          "ticks": ""
                        },
                        "colorscale": [
                          [
                            0,
                            "#0d0887"
                          ],
                          [
                            0.1111111111111111,
                            "#46039f"
                          ],
                          [
                            0.2222222222222222,
                            "#7201a8"
                          ],
                          [
                            0.3333333333333333,
                            "#9c179e"
                          ],
                          [
                            0.4444444444444444,
                            "#bd3786"
                          ],
                          [
                            0.5555555555555556,
                            "#d8576b"
                          ],
                          [
                            0.6666666666666666,
                            "#ed7953"
                          ],
                          [
                            0.7777777777777778,
                            "#fb9f3a"
                          ],
                          [
                            0.8888888888888888,
                            "#fdca26"
                          ],
                          [
                            1,
                            "#f0f921"
                          ]
                        ],
                        "type": "contour"
                      }
                    ],
                    "contourcarpet": [
                      {
                        "colorbar": {
                          "outlinewidth": 0,
                          "ticks": ""
                        },
                        "type": "contourcarpet"
                      }
                    ],
                    "heatmap": [
                      {
                        "colorbar": {
                          "outlinewidth": 0,
                          "ticks": ""
                        },
                        "colorscale": [
                          [
                            0,
                            "#0d0887"
                          ],
                          [
                            0.1111111111111111,
                            "#46039f"
                          ],
                          [
                            0.2222222222222222,
                            "#7201a8"
                          ],
                          [
                            0.3333333333333333,
                            "#9c179e"
                          ],
                          [
                            0.4444444444444444,
                            "#bd3786"
                          ],
                          [
                            0.5555555555555556,
                            "#d8576b"
                          ],
                          [
                            0.6666666666666666,
                            "#ed7953"
                          ],
                          [
                            0.7777777777777778,
                            "#fb9f3a"
                          ],
                          [
                            0.8888888888888888,
                            "#fdca26"
                          ],
                          [
                            1,
                            "#f0f921"
                          ]
                        ],
                        "type": "heatmap"
                      }
                    ],
                    "heatmapgl": [
                      {
                        "colorbar": {
                          "outlinewidth": 0,
                          "ticks": ""
                        },
                        "colorscale": [
                          [
                            0,
                            "#0d0887"
                          ],
                          [
                            0.1111111111111111,
                            "#46039f"
                          ],
                          [
                            0.2222222222222222,
                            "#7201a8"
                          ],
                          [
                            0.3333333333333333,
                            "#9c179e"
                          ],
                          [
                            0.4444444444444444,
                            "#bd3786"
                          ],
                          [
                            0.5555555555555556,
                            "#d8576b"
                          ],
                          [
                            0.6666666666666666,
                            "#ed7953"
                          ],
                          [
                            0.7777777777777778,
                            "#fb9f3a"
                          ],
                          [
                            0.8888888888888888,
                            "#fdca26"
                          ],
                          [
                            1,
                            "#f0f921"
                          ]
                        ],
                        "type": "heatmapgl"
                      }
                    ],
                    "histogram": [
                      {
                        "marker": {
                          "pattern": {
                            "fillmode": "overlay",
                            "size": 10,
                            "solidity": 0.2
                          }
                        },
                        "type": "histogram"
                      }
                    ],
                    "histogram2d": [
                      {
                        "colorbar": {
                          "outlinewidth": 0,
                          "ticks": ""
                        },
                        "colorscale": [
                          [
                            0,
                            "#0d0887"
                          ],
                          [
                            0.1111111111111111,
                            "#46039f"
                          ],
                          [
                            0.2222222222222222,
                            "#7201a8"
                          ],
                          [
                            0.3333333333333333,
                            "#9c179e"
                          ],
                          [
                            0.4444444444444444,
                            "#bd3786"
                          ],
                          [
                            0.5555555555555556,
                            "#d8576b"
                          ],
                          [
                            0.6666666666666666,
                            "#ed7953"
                          ],
                          [
                            0.7777777777777778,
                            "#fb9f3a"
                          ],
                          [
                            0.8888888888888888,
                            "#fdca26"
                          ],
                          [
                            1,
                            "#f0f921"
                          ]
                        ],
                        "type": "histogram2d"
                      }
                    ],
                    "histogram2dcontour": [
                      {
                        "colorbar": {
                          "outlinewidth": 0,
                          "ticks": ""
                        },
                        "colorscale": [
                          [
                            0,
                            "#0d0887"
                          ],
                          [
                            0.1111111111111111,
                            "#46039f"
                          ],
                          [
                            0.2222222222222222,
                            "#7201a8"
                          ],
                          [
                            0.3333333333333333,
                            "#9c179e"
                          ],
                          [
                            0.4444444444444444,
                            "#bd3786"
                          ],
                          [
                            0.5555555555555556,
                            "#d8576b"
                          ],
                          [
                            0.6666666666666666,
                            "#ed7953"
                          ],
                          [
                            0.7777777777777778,
                            "#fb9f3a"
                          ],
                          [
                            0.8888888888888888,
                            "#fdca26"
                          ],
                          [
                            1,
                            "#f0f921"
                          ]
                        ],
                        "type": "histogram2dcontour"
                      }
                    ],
                    "mesh3d": [
                      {
                        "colorbar": {
                          "outlinewidth": 0,
                          "ticks": ""
                        },
                        "type": "mesh3d"
                      }
                    ],
                    "parcoords": [
                      {
                        "line": {
                          "colorbar": {
                            "outlinewidth": 0,
                            "ticks": ""
                          }
                        },
                        "type": "parcoords"
                      }
                    ],
                    "pie": [
                      {
                        "automargin": true,
                        "type": "pie"
                      }
                    ],
                    "scatter": [
                      {
                        "fillpattern": {
                          "fillmode": "overlay",
                          "size": 10,
                          "solidity": 0.2
                        },
                        "type": "scatter"
                      }
                    ],
                    "scatter3d": [
                      {
                        "line": {
                          "colorbar": {
                            "outlinewidth": 0,
                            "ticks": ""
                          }
                        },
                        "marker": {
                          "colorbar": {
                            "outlinewidth": 0,
                            "ticks": ""
                          }
                        },
                        "type": "scatter3d"
                      }
                    ],
                    "scattercarpet": [
                      {
                        "marker": {
                          "colorbar": {
                            "outlinewidth": 0,
                            "ticks": ""
                          }
                        },
                        "type": "scattercarpet"
                      }
                    ],
                    "scattergeo": [
                      {
                        "marker": {
                          "colorbar": {
                            "outlinewidth": 0,
                            "ticks": ""
                          }
                        },
                        "type": "scattergeo"
                      }
                    ],
                    "scattergl": [
                      {
                        "marker": {
                          "colorbar": {
                            "outlinewidth": 0,
                            "ticks": ""
                          }
                        },
                        "type": "scattergl"
                      }
                    ],
                    "scattermapbox": [
                      {
                        "marker": {
                          "colorbar": {
                            "outlinewidth": 0,
                            "ticks": ""
                          }
                        },
                        "type": "scattermapbox"
                      }
                    ],
                    "scatterpolar": [
                      {
                        "marker": {
                          "colorbar": {
                            "outlinewidth": 0,
                            "ticks": ""
                          }
                        },
                        "type": "scatterpolar"
                      }
                    ],
                    "scatterpolargl": [
                      {
                        "marker": {
                          "colorbar": {
                            "outlinewidth": 0,
                            "ticks": ""
                          }
                        },
                        "type": "scatterpolargl"
                      }
                    ],
                    "scatterternary": [
                      {
                        "marker": {
                          "colorbar": {
                            "outlinewidth": 0,
                            "ticks": ""
                          }
                        },
                        "type": "scatterternary"
                      }
                    ],
                    "surface": [
                      {
                        "colorbar": {
                          "outlinewidth": 0,
                          "ticks": ""
                        },
                        "colorscale": [
                          [
                            0,
                            "#0d0887"
                          ],
                          [
                            0.1111111111111111,
                            "#46039f"
                          ],
                          [
                            0.2222222222222222,
                            "#7201a8"
                          ],
                          [
                            0.3333333333333333,
                            "#9c179e"
                          ],
                          [
                            0.4444444444444444,
                            "#bd3786"
                          ],
                          [
                            0.5555555555555556,
                            "#d8576b"
                          ],
                          [
                            0.6666666666666666,
                            "#ed7953"
                          ],
                          [
                            0.7777777777777778,
                            "#fb9f3a"
                          ],
                          [
                            0.8888888888888888,
                            "#fdca26"
                          ],
                          [
                            1,
                            "#f0f921"
                          ]
                        ],
                        "type": "surface"
                      }
                    ],
                    "table": [
                      {
                        "cells": {
                          "fill": {
                            "color": "#EBF0F8"
                          },
                          "line": {
                            "color": "white"
                          }
                        },
                        "header": {
                          "fill": {
                            "color": "#C8D4E3"
                          },
                          "line": {
                            "color": "white"
                          }
                        },
                        "type": "table"
                      }
                    ]
                  },
                  "layout": {
                    "annotationdefaults": {
                      "arrowcolor": "#2a3f5f",
                      "arrowhead": 0,
                      "arrowwidth": 1
                    },
                    "autotypenumbers": "strict",
                    "coloraxis": {
                      "colorbar": {
                        "outlinewidth": 0,
                        "ticks": ""
                      }
                    },
                    "colorscale": {
                      "diverging": [
                        [
                          0,
                          "#8e0152"
                        ],
                        [
                          0.1,
                          "#c51b7d"
                        ],
                        [
                          0.2,
                          "#de77ae"
                        ],
                        [
                          0.3,
                          "#f1b6da"
                        ],
                        [
                          0.4,
                          "#fde0ef"
                        ],
                        [
                          0.5,
                          "#f7f7f7"
                        ],
                        [
                          0.6,
                          "#e6f5d0"
                        ],
                        [
                          0.7,
                          "#b8e186"
                        ],
                        [
                          0.8,
                          "#7fbc41"
                        ],
                        [
                          0.9,
                          "#4d9221"
                        ],
                        [
                          1,
                          "#276419"
                        ]
                      ],
                      "sequential": [
                        [
                          0,
                          "#0d0887"
                        ],
                        [
                          0.1111111111111111,
                          "#46039f"
                        ],
                        [
                          0.2222222222222222,
                          "#7201a8"
                        ],
                        [
                          0.3333333333333333,
                          "#9c179e"
                        ],
                        [
                          0.4444444444444444,
                          "#bd3786"
                        ],
                        [
                          0.5555555555555556,
                          "#d8576b"
                        ],
                        [
                          0.6666666666666666,
                          "#ed7953"
                        ],
                        [
                          0.7777777777777778,
                          "#fb9f3a"
                        ],
                        [
                          0.8888888888888888,
                          "#fdca26"
                        ],
                        [
                          1,
                          "#f0f921"
                        ]
                      ],
                      "sequentialminus": [
                        [
                          0,
                          "#0d0887"
                        ],
                        [
                          0.1111111111111111,
                          "#46039f"
                        ],
                        [
                          0.2222222222222222,
                          "#7201a8"
                        ],
                        [
                          0.3333333333333333,
                          "#9c179e"
                        ],
                        [
                          0.4444444444444444,
                          "#bd3786"
                        ],
                        [
                          0.5555555555555556,
                          "#d8576b"
                        ],
                        [
                          0.6666666666666666,
                          "#ed7953"
                        ],
                        [
                          0.7777777777777778,
                          "#fb9f3a"
                        ],
                        [
                          0.8888888888888888,
                          "#fdca26"
                        ],
                        [
                          1,
                          "#f0f921"
                        ]
                      ]
                    },
                    "colorway": [
                      "#636efa",
                      "#EF553B",
                      "#00cc96",
                      "#ab63fa",
                      "#FFA15A",
                      "#19d3f3",
                      "#FF6692",
                      "#B6E880",
                      "#FF97FF",
                      "#FECB52"
                    ],
                    "font": {
                      "color": "#2a3f5f"
                    },
                    "geo": {
                      "bgcolor": "white",
                      "lakecolor": "white",
                      "landcolor": "#E5ECF6",
                      "showlakes": true,
                      "showland": true,
                      "subunitcolor": "white"
                    },
                    "hoverlabel": {
                      "align": "left"
                    },
                    "hovermode": "closest",
                    "mapbox": {
                      "style": "light"
                    },
                    "paper_bgcolor": "white",
                    "plot_bgcolor": "#E5ECF6",
                    "polar": {
                      "angularaxis": {
                        "gridcolor": "white",
                        "linecolor": "white",
                        "ticks": ""
                      },
                      "bgcolor": "#E5ECF6",
                      "radialaxis": {
                        "gridcolor": "white",
                        "linecolor": "white",
                        "ticks": ""
                      }
                    },
                    "scene": {
                      "xaxis": {
                        "backgroundcolor": "#E5ECF6",
                        "gridcolor": "white",
                        "gridwidth": 2,
                        "linecolor": "white",
                        "showbackground": true,
                        "ticks": "",
                        "zerolinecolor": "white"
                      },
                      "yaxis": {
                        "backgroundcolor": "#E5ECF6",
                        "gridcolor": "white",
                        "gridwidth": 2,
                        "linecolor": "white",
                        "showbackground": true,
                        "ticks": "",
                        "zerolinecolor": "white"
                      },
                      "zaxis": {
                        "backgroundcolor": "#E5ECF6",
                        "gridcolor": "white",
                        "gridwidth": 2,
                        "linecolor": "white",
                        "showbackground": true,
                        "ticks": "",
                        "zerolinecolor": "white"
                      }
                    },
                    "shapedefaults": {
                      "line": {
                        "color": "#2a3f5f"
                      }
                    },
                    "ternary": {
                      "aaxis": {
                        "gridcolor": "white",
                        "linecolor": "white",
                        "ticks": ""
                      },
                      "baxis": {
                        "gridcolor": "white",
                        "linecolor": "white",
                        "ticks": ""
                      },
                      "bgcolor": "#E5ECF6",
                      "caxis": {
                        "gridcolor": "white",
                        "linecolor": "white",
                        "ticks": ""
                      }
                    },
                    "title": {
                      "x": 0.05
                    },
                    "xaxis": {
                      "automargin": true,
                      "gridcolor": "white",
                      "linecolor": "white",
                      "ticks": "",
                      "title": {
                        "standoff": 15
                      },
                      "zerolinecolor": "white",
                      "zerolinewidth": 2
                    },
                    "yaxis": {
                      "automargin": true,
                      "gridcolor": "white",
                      "linecolor": "white",
                      "ticks": "",
                      "title": {
                        "standoff": 15
                      },
                      "zerolinecolor": "white",
                      "zerolinewidth": 2
                    }
                  }
                },
                "title": {
                  "text": "Reliability (KA) vs. Repetitions"
                },
                "xaxis": {
                  "anchor": "y",
                  "domain": [
                    0,
                    1
                  ],
                  "title": {
                    "text": "Number of Prompt Repetitions"
                  }
                },
                "yaxis": {
                  "anchor": "x",
                  "domain": [
                    0,
                    1
                  ],
                  "range": [
                    0,
                    1.05
                  ],
                  "title": {
                    "text": "KA Score"
                  }
                }
              }
            }
          },
          "metadata": {},
          "output_type": "display_data"
        },
        {
          "name": "stdout",
          "output_type": "stream",
          "text": [
            "Within-prompt KA reliability score for 20 repetitions is 0.959021874104499\n"
          ]
        }
      ],
      "source": [
        "KA,df, ka_scores, iterrations_no = tt.baseline_stochasticity(prompt,prompt_postfix,iterations=20)\n"
      ]
    },
    {
      "cell_type": "code",
      "execution_count": 111,
      "id": "6a51bf86",
      "metadata": {},
      "outputs": [
        {
          "data": {
            "text/html": [
              "<div>\n",
              "<style scoped>\n",
              "    .dataframe tbody tr th:only-of-type {\n",
              "        vertical-align: middle;\n",
              "    }\n",
              "\n",
              "    .dataframe tbody tr th {\n",
              "        vertical-align: top;\n",
              "    }\n",
              "\n",
              "    .dataframe thead th {\n",
              "        text-align: right;\n",
              "    }\n",
              "</style>\n",
              "<table border=\"1\" class=\"dataframe\">\n",
              "  <thead>\n",
              "    <tr style=\"text-align: right;\">\n",
              "      <th></th>\n",
              "      <th>similarity</th>\n",
              "      <th>phrase</th>\n",
              "      <th>original</th>\n",
              "    </tr>\n",
              "  </thead>\n",
              "  <tbody>\n",
              "    <tr>\n",
              "      <th>6</th>\n",
              "      <td>0.441821</td>\n",
              "      <td>Your task is to evaluate where it is on the sc...</td>\n",
              "      <td>False</td>\n",
              "    </tr>\n",
              "    <tr>\n",
              "      <th>9</th>\n",
              "      <td>0.512433</td>\n",
              "      <td>Your task is to evaluate where it is on the sc...</td>\n",
              "      <td>False</td>\n",
              "    </tr>\n",
              "    <tr>\n",
              "      <th>8</th>\n",
              "      <td>0.517225</td>\n",
              "      <td>Your task is to evaluate where it is on the sc...</td>\n",
              "      <td>False</td>\n",
              "    </tr>\n",
              "    <tr>\n",
              "      <th>10</th>\n",
              "      <td>0.540145</td>\n",
              "      <td>Your task is to evaluate where it is on the sc...</td>\n",
              "      <td>False</td>\n",
              "    </tr>\n",
              "    <tr>\n",
              "      <th>7</th>\n",
              "      <td>0.542510</td>\n",
              "      <td>Your task is to evaluate where it is on the sc...</td>\n",
              "      <td>False</td>\n",
              "    </tr>\n",
              "    <tr>\n",
              "      <th>5</th>\n",
              "      <td>0.542552</td>\n",
              "      <td>Your task is to evaluate where it is on the sc...</td>\n",
              "      <td>False</td>\n",
              "    </tr>\n",
              "    <tr>\n",
              "      <th>1</th>\n",
              "      <td>0.543328</td>\n",
              "      <td>Your task is to evaluate where it is on the sc...</td>\n",
              "      <td>False</td>\n",
              "    </tr>\n",
              "    <tr>\n",
              "      <th>4</th>\n",
              "      <td>0.660808</td>\n",
              "      <td>Your task is to evaluate where the text is on ...</td>\n",
              "      <td>False</td>\n",
              "    </tr>\n",
              "    <tr>\n",
              "      <th>3</th>\n",
              "      <td>0.740001</td>\n",
              "      <td>There is a party manifesto for a political par...</td>\n",
              "      <td>False</td>\n",
              "    </tr>\n",
              "    <tr>\n",
              "      <th>2</th>\n",
              "      <td>0.767945</td>\n",
              "      <td>The text is for a political party in the Unite...</td>\n",
              "      <td>False</td>\n",
              "    </tr>\n",
              "    <tr>\n",
              "      <th>0</th>\n",
              "      <td>1.000000</td>\n",
              "      <td>The text provided is a party manifesto for a p...</td>\n",
              "      <td>True</td>\n",
              "    </tr>\n",
              "  </tbody>\n",
              "</table>\n",
              "</div>"
            ],
            "text/plain": [
              "    similarity                                             phrase  original\n",
              "6     0.441821  Your task is to evaluate where it is on the sc...     False\n",
              "9     0.512433  Your task is to evaluate where it is on the sc...     False\n",
              "8     0.517225  Your task is to evaluate where it is on the sc...     False\n",
              "10    0.540145  Your task is to evaluate where it is on the sc...     False\n",
              "7     0.542510  Your task is to evaluate where it is on the sc...     False\n",
              "5     0.542552  Your task is to evaluate where it is on the sc...     False\n",
              "1     0.543328  Your task is to evaluate where it is on the sc...     False\n",
              "4     0.660808  Your task is to evaluate where the text is on ...     False\n",
              "3     0.740001  There is a party manifesto for a political par...     False\n",
              "2     0.767945  The text is for a political party in the Unite...     False\n",
              "0     1.000000  The text provided is a party manifesto for a p...      True"
            ]
          },
          "metadata": {},
          "output_type": "display_data"
        },
        {
          "name": "stdout",
          "output_type": "stream",
          "text": [
            "Iteration 0...\n"
          ]
        },
        {
          "name": "stderr",
          "output_type": "stream",
          "text": [
            "huggingface/tokenizers: The current process just got forked, after parallelism has already been used. Disabling parallelism to avoid deadlocks...\n",
            "To disable this warning, you can either:\n",
            "\t- Avoid using `tokenizers` before the fork if possible\n",
            "\t- Explicitly set the environment variable TOKENIZERS_PARALLELISM=(true | false)\n"
          ]
        },
        {
          "name": "stdout",
          "output_type": "stream",
          "text": [
            "Iteration 1...\n",
            "Iteration 2...\n",
            "Iteration 3...\n",
            "Iteration 4...\n",
            "Iteration 5...\n",
            "Iteration 6...\n",
            "Iteration 7...\n",
            "Iteration 8...\n",
            "Iteration 9...\n",
            "Iteration 10...\n",
            "Finished annotation. Analyzing reliability\n"
          ]
        },
        {
          "data": {
            "application/vnd.plotly.v1+json": {
              "config": {
                "plotlyServerURL": "https://plot.ly"
              },
              "data": [
                {
                  "customdata": [
                    [
                      0
                    ],
                    [
                      1
                    ],
                    [
                      2
                    ],
                    [
                      3
                    ],
                    [
                      4
                    ],
                    [
                      5
                    ],
                    [
                      6
                    ],
                    [
                      7
                    ],
                    [
                      8
                    ],
                    [
                      9
                    ]
                  ],
                  "hoverlabel": {
                    "align": "left",
                    "font": {
                      "size": 12
                    },
                    "namelength": 30
                  },
                  "hovertemplate": "Prompt Similarity=%{x}<br>KA Score=%{y}<br>Prompt_id=%{customdata[0]}<extra></extra>",
                  "legendgroup": "",
                  "marker": {
                    "color": "#636efa",
                    "symbol": "circle"
                  },
                  "mode": "markers",
                  "name": "",
                  "orientation": "v",
                  "showlegend": false,
                  "type": "scatter",
                  "x": [
                    0.44182074069976807,
                    0.5124330520629883,
                    0.5172247290611267,
                    0.5401450395584106,
                    0.5425102114677429,
                    0.5425518751144409,
                    0.5433276891708374,
                    0.6608079671859741,
                    0.7400014400482178,
                    0.7679450511932373
                  ],
                  "xaxis": "x",
                  "y": [
                    0.7,
                    0.8888888888888888,
                    0.85,
                    0,
                    0.85,
                    1,
                    0.8888888888888888,
                    0.8888888888888888,
                    0.5714285714285714,
                    0.9411764705882353
                  ],
                  "yaxis": "y"
                },
                {
                  "hoverlabel": {
                    "align": "left",
                    "font": {
                      "size": 12
                    },
                    "namelength": 30
                  },
                  "line": {
                    "color": "black",
                    "dash": "dash",
                    "width": 0.5
                  },
                  "mode": "lines",
                  "name": "KA Threshold",
                  "type": "scatter",
                  "x": [
                    0,
                    1
                  ],
                  "y": [
                    0.8,
                    0.8
                  ]
                }
              ],
              "layout": {
                "hovermode": "closest",
                "legend": {
                  "tracegroupgap": 0
                },
                "margin": {
                  "t": 60
                },
                "template": {
                  "data": {
                    "bar": [
                      {
                        "error_x": {
                          "color": "#2a3f5f"
                        },
                        "error_y": {
                          "color": "#2a3f5f"
                        },
                        "marker": {
                          "line": {
                            "color": "#E5ECF6",
                            "width": 0.5
                          },
                          "pattern": {
                            "fillmode": "overlay",
                            "size": 10,
                            "solidity": 0.2
                          }
                        },
                        "type": "bar"
                      }
                    ],
                    "barpolar": [
                      {
                        "marker": {
                          "line": {
                            "color": "#E5ECF6",
                            "width": 0.5
                          },
                          "pattern": {
                            "fillmode": "overlay",
                            "size": 10,
                            "solidity": 0.2
                          }
                        },
                        "type": "barpolar"
                      }
                    ],
                    "carpet": [
                      {
                        "aaxis": {
                          "endlinecolor": "#2a3f5f",
                          "gridcolor": "white",
                          "linecolor": "white",
                          "minorgridcolor": "white",
                          "startlinecolor": "#2a3f5f"
                        },
                        "baxis": {
                          "endlinecolor": "#2a3f5f",
                          "gridcolor": "white",
                          "linecolor": "white",
                          "minorgridcolor": "white",
                          "startlinecolor": "#2a3f5f"
                        },
                        "type": "carpet"
                      }
                    ],
                    "choropleth": [
                      {
                        "colorbar": {
                          "outlinewidth": 0,
                          "ticks": ""
                        },
                        "type": "choropleth"
                      }
                    ],
                    "contour": [
                      {
                        "colorbar": {
                          "outlinewidth": 0,
                          "ticks": ""
                        },
                        "colorscale": [
                          [
                            0,
                            "#0d0887"
                          ],
                          [
                            0.1111111111111111,
                            "#46039f"
                          ],
                          [
                            0.2222222222222222,
                            "#7201a8"
                          ],
                          [
                            0.3333333333333333,
                            "#9c179e"
                          ],
                          [
                            0.4444444444444444,
                            "#bd3786"
                          ],
                          [
                            0.5555555555555556,
                            "#d8576b"
                          ],
                          [
                            0.6666666666666666,
                            "#ed7953"
                          ],
                          [
                            0.7777777777777778,
                            "#fb9f3a"
                          ],
                          [
                            0.8888888888888888,
                            "#fdca26"
                          ],
                          [
                            1,
                            "#f0f921"
                          ]
                        ],
                        "type": "contour"
                      }
                    ],
                    "contourcarpet": [
                      {
                        "colorbar": {
                          "outlinewidth": 0,
                          "ticks": ""
                        },
                        "type": "contourcarpet"
                      }
                    ],
                    "heatmap": [
                      {
                        "colorbar": {
                          "outlinewidth": 0,
                          "ticks": ""
                        },
                        "colorscale": [
                          [
                            0,
                            "#0d0887"
                          ],
                          [
                            0.1111111111111111,
                            "#46039f"
                          ],
                          [
                            0.2222222222222222,
                            "#7201a8"
                          ],
                          [
                            0.3333333333333333,
                            "#9c179e"
                          ],
                          [
                            0.4444444444444444,
                            "#bd3786"
                          ],
                          [
                            0.5555555555555556,
                            "#d8576b"
                          ],
                          [
                            0.6666666666666666,
                            "#ed7953"
                          ],
                          [
                            0.7777777777777778,
                            "#fb9f3a"
                          ],
                          [
                            0.8888888888888888,
                            "#fdca26"
                          ],
                          [
                            1,
                            "#f0f921"
                          ]
                        ],
                        "type": "heatmap"
                      }
                    ],
                    "heatmapgl": [
                      {
                        "colorbar": {
                          "outlinewidth": 0,
                          "ticks": ""
                        },
                        "colorscale": [
                          [
                            0,
                            "#0d0887"
                          ],
                          [
                            0.1111111111111111,
                            "#46039f"
                          ],
                          [
                            0.2222222222222222,
                            "#7201a8"
                          ],
                          [
                            0.3333333333333333,
                            "#9c179e"
                          ],
                          [
                            0.4444444444444444,
                            "#bd3786"
                          ],
                          [
                            0.5555555555555556,
                            "#d8576b"
                          ],
                          [
                            0.6666666666666666,
                            "#ed7953"
                          ],
                          [
                            0.7777777777777778,
                            "#fb9f3a"
                          ],
                          [
                            0.8888888888888888,
                            "#fdca26"
                          ],
                          [
                            1,
                            "#f0f921"
                          ]
                        ],
                        "type": "heatmapgl"
                      }
                    ],
                    "histogram": [
                      {
                        "marker": {
                          "pattern": {
                            "fillmode": "overlay",
                            "size": 10,
                            "solidity": 0.2
                          }
                        },
                        "type": "histogram"
                      }
                    ],
                    "histogram2d": [
                      {
                        "colorbar": {
                          "outlinewidth": 0,
                          "ticks": ""
                        },
                        "colorscale": [
                          [
                            0,
                            "#0d0887"
                          ],
                          [
                            0.1111111111111111,
                            "#46039f"
                          ],
                          [
                            0.2222222222222222,
                            "#7201a8"
                          ],
                          [
                            0.3333333333333333,
                            "#9c179e"
                          ],
                          [
                            0.4444444444444444,
                            "#bd3786"
                          ],
                          [
                            0.5555555555555556,
                            "#d8576b"
                          ],
                          [
                            0.6666666666666666,
                            "#ed7953"
                          ],
                          [
                            0.7777777777777778,
                            "#fb9f3a"
                          ],
                          [
                            0.8888888888888888,
                            "#fdca26"
                          ],
                          [
                            1,
                            "#f0f921"
                          ]
                        ],
                        "type": "histogram2d"
                      }
                    ],
                    "histogram2dcontour": [
                      {
                        "colorbar": {
                          "outlinewidth": 0,
                          "ticks": ""
                        },
                        "colorscale": [
                          [
                            0,
                            "#0d0887"
                          ],
                          [
                            0.1111111111111111,
                            "#46039f"
                          ],
                          [
                            0.2222222222222222,
                            "#7201a8"
                          ],
                          [
                            0.3333333333333333,
                            "#9c179e"
                          ],
                          [
                            0.4444444444444444,
                            "#bd3786"
                          ],
                          [
                            0.5555555555555556,
                            "#d8576b"
                          ],
                          [
                            0.6666666666666666,
                            "#ed7953"
                          ],
                          [
                            0.7777777777777778,
                            "#fb9f3a"
                          ],
                          [
                            0.8888888888888888,
                            "#fdca26"
                          ],
                          [
                            1,
                            "#f0f921"
                          ]
                        ],
                        "type": "histogram2dcontour"
                      }
                    ],
                    "mesh3d": [
                      {
                        "colorbar": {
                          "outlinewidth": 0,
                          "ticks": ""
                        },
                        "type": "mesh3d"
                      }
                    ],
                    "parcoords": [
                      {
                        "line": {
                          "colorbar": {
                            "outlinewidth": 0,
                            "ticks": ""
                          }
                        },
                        "type": "parcoords"
                      }
                    ],
                    "pie": [
                      {
                        "automargin": true,
                        "type": "pie"
                      }
                    ],
                    "scatter": [
                      {
                        "fillpattern": {
                          "fillmode": "overlay",
                          "size": 10,
                          "solidity": 0.2
                        },
                        "type": "scatter"
                      }
                    ],
                    "scatter3d": [
                      {
                        "line": {
                          "colorbar": {
                            "outlinewidth": 0,
                            "ticks": ""
                          }
                        },
                        "marker": {
                          "colorbar": {
                            "outlinewidth": 0,
                            "ticks": ""
                          }
                        },
                        "type": "scatter3d"
                      }
                    ],
                    "scattercarpet": [
                      {
                        "marker": {
                          "colorbar": {
                            "outlinewidth": 0,
                            "ticks": ""
                          }
                        },
                        "type": "scattercarpet"
                      }
                    ],
                    "scattergeo": [
                      {
                        "marker": {
                          "colorbar": {
                            "outlinewidth": 0,
                            "ticks": ""
                          }
                        },
                        "type": "scattergeo"
                      }
                    ],
                    "scattergl": [
                      {
                        "marker": {
                          "colorbar": {
                            "outlinewidth": 0,
                            "ticks": ""
                          }
                        },
                        "type": "scattergl"
                      }
                    ],
                    "scattermapbox": [
                      {
                        "marker": {
                          "colorbar": {
                            "outlinewidth": 0,
                            "ticks": ""
                          }
                        },
                        "type": "scattermapbox"
                      }
                    ],
                    "scatterpolar": [
                      {
                        "marker": {
                          "colorbar": {
                            "outlinewidth": 0,
                            "ticks": ""
                          }
                        },
                        "type": "scatterpolar"
                      }
                    ],
                    "scatterpolargl": [
                      {
                        "marker": {
                          "colorbar": {
                            "outlinewidth": 0,
                            "ticks": ""
                          }
                        },
                        "type": "scatterpolargl"
                      }
                    ],
                    "scatterternary": [
                      {
                        "marker": {
                          "colorbar": {
                            "outlinewidth": 0,
                            "ticks": ""
                          }
                        },
                        "type": "scatterternary"
                      }
                    ],
                    "surface": [
                      {
                        "colorbar": {
                          "outlinewidth": 0,
                          "ticks": ""
                        },
                        "colorscale": [
                          [
                            0,
                            "#0d0887"
                          ],
                          [
                            0.1111111111111111,
                            "#46039f"
                          ],
                          [
                            0.2222222222222222,
                            "#7201a8"
                          ],
                          [
                            0.3333333333333333,
                            "#9c179e"
                          ],
                          [
                            0.4444444444444444,
                            "#bd3786"
                          ],
                          [
                            0.5555555555555556,
                            "#d8576b"
                          ],
                          [
                            0.6666666666666666,
                            "#ed7953"
                          ],
                          [
                            0.7777777777777778,
                            "#fb9f3a"
                          ],
                          [
                            0.8888888888888888,
                            "#fdca26"
                          ],
                          [
                            1,
                            "#f0f921"
                          ]
                        ],
                        "type": "surface"
                      }
                    ],
                    "table": [
                      {
                        "cells": {
                          "fill": {
                            "color": "#EBF0F8"
                          },
                          "line": {
                            "color": "white"
                          }
                        },
                        "header": {
                          "fill": {
                            "color": "#C8D4E3"
                          },
                          "line": {
                            "color": "white"
                          }
                        },
                        "type": "table"
                      }
                    ]
                  },
                  "layout": {
                    "annotationdefaults": {
                      "arrowcolor": "#2a3f5f",
                      "arrowhead": 0,
                      "arrowwidth": 1
                    },
                    "autotypenumbers": "strict",
                    "coloraxis": {
                      "colorbar": {
                        "outlinewidth": 0,
                        "ticks": ""
                      }
                    },
                    "colorscale": {
                      "diverging": [
                        [
                          0,
                          "#8e0152"
                        ],
                        [
                          0.1,
                          "#c51b7d"
                        ],
                        [
                          0.2,
                          "#de77ae"
                        ],
                        [
                          0.3,
                          "#f1b6da"
                        ],
                        [
                          0.4,
                          "#fde0ef"
                        ],
                        [
                          0.5,
                          "#f7f7f7"
                        ],
                        [
                          0.6,
                          "#e6f5d0"
                        ],
                        [
                          0.7,
                          "#b8e186"
                        ],
                        [
                          0.8,
                          "#7fbc41"
                        ],
                        [
                          0.9,
                          "#4d9221"
                        ],
                        [
                          1,
                          "#276419"
                        ]
                      ],
                      "sequential": [
                        [
                          0,
                          "#0d0887"
                        ],
                        [
                          0.1111111111111111,
                          "#46039f"
                        ],
                        [
                          0.2222222222222222,
                          "#7201a8"
                        ],
                        [
                          0.3333333333333333,
                          "#9c179e"
                        ],
                        [
                          0.4444444444444444,
                          "#bd3786"
                        ],
                        [
                          0.5555555555555556,
                          "#d8576b"
                        ],
                        [
                          0.6666666666666666,
                          "#ed7953"
                        ],
                        [
                          0.7777777777777778,
                          "#fb9f3a"
                        ],
                        [
                          0.8888888888888888,
                          "#fdca26"
                        ],
                        [
                          1,
                          "#f0f921"
                        ]
                      ],
                      "sequentialminus": [
                        [
                          0,
                          "#0d0887"
                        ],
                        [
                          0.1111111111111111,
                          "#46039f"
                        ],
                        [
                          0.2222222222222222,
                          "#7201a8"
                        ],
                        [
                          0.3333333333333333,
                          "#9c179e"
                        ],
                        [
                          0.4444444444444444,
                          "#bd3786"
                        ],
                        [
                          0.5555555555555556,
                          "#d8576b"
                        ],
                        [
                          0.6666666666666666,
                          "#ed7953"
                        ],
                        [
                          0.7777777777777778,
                          "#fb9f3a"
                        ],
                        [
                          0.8888888888888888,
                          "#fdca26"
                        ],
                        [
                          1,
                          "#f0f921"
                        ]
                      ]
                    },
                    "colorway": [
                      "#636efa",
                      "#EF553B",
                      "#00cc96",
                      "#ab63fa",
                      "#FFA15A",
                      "#19d3f3",
                      "#FF6692",
                      "#B6E880",
                      "#FF97FF",
                      "#FECB52"
                    ],
                    "font": {
                      "color": "#2a3f5f"
                    },
                    "geo": {
                      "bgcolor": "white",
                      "lakecolor": "white",
                      "landcolor": "#E5ECF6",
                      "showlakes": true,
                      "showland": true,
                      "subunitcolor": "white"
                    },
                    "hoverlabel": {
                      "align": "left"
                    },
                    "hovermode": "closest",
                    "mapbox": {
                      "style": "light"
                    },
                    "paper_bgcolor": "white",
                    "plot_bgcolor": "#E5ECF6",
                    "polar": {
                      "angularaxis": {
                        "gridcolor": "white",
                        "linecolor": "white",
                        "ticks": ""
                      },
                      "bgcolor": "#E5ECF6",
                      "radialaxis": {
                        "gridcolor": "white",
                        "linecolor": "white",
                        "ticks": ""
                      }
                    },
                    "scene": {
                      "xaxis": {
                        "backgroundcolor": "#E5ECF6",
                        "gridcolor": "white",
                        "gridwidth": 2,
                        "linecolor": "white",
                        "showbackground": true,
                        "ticks": "",
                        "zerolinecolor": "white"
                      },
                      "yaxis": {
                        "backgroundcolor": "#E5ECF6",
                        "gridcolor": "white",
                        "gridwidth": 2,
                        "linecolor": "white",
                        "showbackground": true,
                        "ticks": "",
                        "zerolinecolor": "white"
                      },
                      "zaxis": {
                        "backgroundcolor": "#E5ECF6",
                        "gridcolor": "white",
                        "gridwidth": 2,
                        "linecolor": "white",
                        "showbackground": true,
                        "ticks": "",
                        "zerolinecolor": "white"
                      }
                    },
                    "shapedefaults": {
                      "line": {
                        "color": "#2a3f5f"
                      }
                    },
                    "ternary": {
                      "aaxis": {
                        "gridcolor": "white",
                        "linecolor": "white",
                        "ticks": ""
                      },
                      "baxis": {
                        "gridcolor": "white",
                        "linecolor": "white",
                        "ticks": ""
                      },
                      "bgcolor": "#E5ECF6",
                      "caxis": {
                        "gridcolor": "white",
                        "linecolor": "white",
                        "ticks": ""
                      }
                    },
                    "title": {
                      "x": 0.05
                    },
                    "xaxis": {
                      "automargin": true,
                      "gridcolor": "white",
                      "linecolor": "white",
                      "ticks": "",
                      "title": {
                        "standoff": 15
                      },
                      "zerolinecolor": "white",
                      "zerolinewidth": 2
                    },
                    "yaxis": {
                      "automargin": true,
                      "gridcolor": "white",
                      "linecolor": "white",
                      "ticks": "",
                      "title": {
                        "standoff": 15
                      },
                      "zerolinecolor": "white",
                      "zerolinewidth": 2
                    }
                  }
                },
                "title": {
                  "text": "Reliability (KA) vs. Similarity"
                },
                "xaxis": {
                  "anchor": "y",
                  "domain": [
                    0,
                    1
                  ],
                  "range": [
                    0,
                    1
                  ],
                  "title": {
                    "text": "Prompt Similarity"
                  }
                },
                "yaxis": {
                  "anchor": "x",
                  "domain": [
                    0,
                    1
                  ],
                  "range": [
                    0,
                    1.05
                  ],
                  "title": {
                    "text": "KA Score"
                  }
                }
              }
            }
          },
          "metadata": {},
          "output_type": "display_data"
        },
        {
          "name": "stdout",
          "output_type": "stream",
          "text": [
            "Inter-prompt KA reliability score is 0.5616029822926374.\n",
            "\n",
            "#################################\n",
            "Original prompt:\n",
            "The text provided is a party manifesto for a political party in the United Kingdom. Your task is to evaluate evaluate where it is on the scale from left-wing to right-wing on economic issues. Thank you! [Respond with a number from 1 to 10. 1 corresponds to most left-wing. 10 corresponds to most right-wing. Your answer should only consist of this number and nothing else.]\n",
            "#################################\n",
            "Prompts with poor performance:\n"
          ]
        },
        {
          "data": {
            "text/html": [
              "<div>\n",
              "<style scoped>\n",
              "    .dataframe tbody tr th:only-of-type {\n",
              "        vertical-align: middle;\n",
              "    }\n",
              "\n",
              "    .dataframe tbody tr th {\n",
              "        vertical-align: top;\n",
              "    }\n",
              "\n",
              "    .dataframe thead th {\n",
              "        text-align: right;\n",
              "    }\n",
              "</style>\n",
              "<table border=\"1\" class=\"dataframe\">\n",
              "  <thead>\n",
              "    <tr style=\"text-align: right;\">\n",
              "      <th></th>\n",
              "      <th>prompt_id</th>\n",
              "      <th>prompt_text</th>\n",
              "      <th>similarity</th>\n",
              "      <th>KA</th>\n",
              "    </tr>\n",
              "  </thead>\n",
              "  <tbody>\n",
              "    <tr>\n",
              "      <th>0</th>\n",
              "      <td>0</td>\n",
              "      <td>Your task is to evaluate where it is on the sc...</td>\n",
              "      <td>0.441821</td>\n",
              "      <td>0.700000</td>\n",
              "    </tr>\n",
              "    <tr>\n",
              "      <th>3</th>\n",
              "      <td>3</td>\n",
              "      <td>Your task is to evaluate where it is on the sc...</td>\n",
              "      <td>0.540145</td>\n",
              "      <td>0.000000</td>\n",
              "    </tr>\n",
              "    <tr>\n",
              "      <th>8</th>\n",
              "      <td>8</td>\n",
              "      <td>There is a party manifesto for a political par...</td>\n",
              "      <td>0.740001</td>\n",
              "      <td>0.571429</td>\n",
              "    </tr>\n",
              "  </tbody>\n",
              "</table>\n",
              "</div>"
            ],
            "text/plain": [
              "   prompt_id                                        prompt_text  similarity  \\\n",
              "0          0  Your task is to evaluate where it is on the sc...    0.441821   \n",
              "3          3  Your task is to evaluate where it is on the sc...    0.540145   \n",
              "8          8  There is a party manifesto for a political par...    0.740001   \n",
              "\n",
              "         KA  \n",
              "0  0.700000  \n",
              "3  0.000000  \n",
              "8  0.571429  "
            ]
          },
          "metadata": {},
          "output_type": "display_data"
        }
      ],
      "source": [
        "KA2,annotated_data,rel_vs_sim = tt.interprompt_stochasticity(prompt, prompt_postfix, nr_variations=10)\n"
      ]
    },
    {
      "cell_type": "code",
      "execution_count": 120,
      "id": "efc0575b",
      "metadata": {},
      "outputs": [],
      "source": [
        "# Change between None and 50 to control text truncation when pd df is displayed: pd.set_option('display.max_colwidth', 50)\n",
        "pd.set_option('display.max_colwidth', 50)\n"
      ]
    },
    {
      "cell_type": "code",
      "execution_count": null,
      "id": "e5be04df",
      "metadata": {},
      "outputs": [],
      "source": []
    },
    {
      "cell_type": "code",
      "execution_count": null,
      "id": "bd3667c0",
      "metadata": {},
      "outputs": [],
      "source": []
    },
    {
      "cell_type": "code",
      "execution_count": null,
      "id": "907eb2fd",
      "metadata": {},
      "outputs": [],
      "source": []
    },
    {
      "cell_type": "code",
      "execution_count": null,
      "id": "2ae300c1",
      "metadata": {},
      "outputs": [],
      "source": []
    },
    {
      "cell_type": "code",
      "execution_count": null,
      "id": "ad704587",
      "metadata": {},
      "outputs": [],
      "source": []
    },
    {
      "cell_type": "code",
      "execution_count": null,
      "id": "4b8d29a5-15a4-4b7d-a767-73a79b8d053f",
      "metadata": {
        "id": "4b8d29a5-15a4-4b7d-a767-73a79b8d053f"
      },
      "outputs": [
        {
          "name": "stderr",
          "output_type": "stream",
          "text": [
            "Some weights of PegasusForConditionalGeneration were not initialized from the model checkpoint at tuner007/pegasus_paraphrase and are newly initialized: ['model.decoder.embed_positions.weight', 'model.encoder.embed_positions.weight']\n",
            "You should probably TRAIN this model on a down-stream task to be able to use it for predictions and inference.\n"
          ]
        },
        {
          "name": "stdout",
          "output_type": "stream",
          "text": [
            "Iteration 0...\n"
          ]
        },
        {
          "name": "stderr",
          "output_type": "stream",
          "text": [
            "huggingface/tokenizers: The current process just got forked, after parallelism has already been used. Disabling parallelism to avoid deadlocks...\n",
            "To disable this warning, you can either:\n",
            "\t- Avoid using `tokenizers` before the fork if possible\n",
            "\t- Explicitly set the environment variable TOKENIZERS_PARALLELISM=(true | false)\n"
          ]
        },
        {
          "name": "stdout",
          "output_type": "stream",
          "text": [
            "Iteration 1...\n",
            "Iteration 2...\n",
            "Finished annotation. Analyzing reliability\n",
            "1.0\n",
            "    id                                               text  annotation  \\\n",
            "0    0  My bipartisan bill w/ @SenBrianSchatz, the 202...         0.0   \n",
            "1    1  The Senate Republican COVID package is insulti...         0.0   \n",
            "2    2  Pres. Trump’s inexplicable deference to Putin ...         0.0   \n",
            "3    3  It's an exciting day in Tulsa! Be sure to tune...         1.0   \n",
            "4    4  In our nation’s capital, mass protests are all...         1.0   \n",
            "5    5  Today we honor the selflessness of the first r...         0.0   \n",
            "6    6  Between the anguished cries of parents who hav...         0.0   \n",
            "7    7  Great news: #NorthDakota IPP will transition t...         1.0   \n",
            "8    8  This is a lifetime appointment for a job that ...         0.0   \n",
            "9    9  Thank you to @rootinsuranceco for stepping up ...         1.0   \n",
            "10   0  My bipartisan bill w/ @SenBrianSchatz, the 202...         0.0   \n",
            "11   1  The Senate Republican COVID package is insulti...         0.0   \n",
            "12   2  Pres. Trump’s inexplicable deference to Putin ...         0.0   \n",
            "13   3  It's an exciting day in Tulsa! Be sure to tune...         1.0   \n",
            "14   4  In our nation’s capital, mass protests are all...         1.0   \n",
            "15   5  Today we honor the selflessness of the first r...         0.0   \n",
            "16   6  Between the anguished cries of parents who hav...         0.0   \n",
            "17   7  Great news: #NorthDakota IPP will transition t...         1.0   \n",
            "18   8  This is a lifetime appointment for a job that ...         0.0   \n",
            "19   9  Thank you to @rootinsuranceco for stepping up ...         1.0   \n",
            "20   0  My bipartisan bill w/ @SenBrianSchatz, the 202...         0.0   \n",
            "21   1  The Senate Republican COVID package is insulti...         0.0   \n",
            "22   2  Pres. Trump’s inexplicable deference to Putin ...         0.0   \n",
            "23   3  It's an exciting day in Tulsa! Be sure to tune...         1.0   \n",
            "24   4  In our nation’s capital, mass protests are all...         1.0   \n",
            "25   5  Today we honor the selflessness of the first r...         0.0   \n",
            "26   6  Between the anguished cries of parents who hav...         0.0   \n",
            "27   7  Great news: #NorthDakota IPP will transition t...         1.0   \n",
            "28   8  This is a lifetime appointment for a job that ...         0.0   \n",
            "29   9  Thank you to @rootinsuranceco for stepping up ...         1.0   \n",
            "\n",
            "    iteration  \n",
            "0           0  \n",
            "1           0  \n",
            "2           0  \n",
            "3           0  \n",
            "4           0  \n",
            "5           0  \n",
            "6           0  \n",
            "7           0  \n",
            "8           0  \n",
            "9           0  \n",
            "10          1  \n",
            "11          1  \n",
            "12          1  \n",
            "13          1  \n",
            "14          1  \n",
            "15          1  \n",
            "16          1  \n",
            "17          1  \n",
            "18          1  \n",
            "19          1  \n",
            "20          2  \n",
            "21          2  \n",
            "22          2  \n",
            "23          2  \n",
            "24          2  \n",
            "25          2  \n",
            "26          2  \n",
            "27          2  \n",
            "28          2  \n",
            "29          2  \n",
            "The KA reliability for the main message is 1.0\n"
          ]
        },
        {
          "data": {
            "text/html": [
              "<div>\n",
              "<style scoped>\n",
              "    .dataframe tbody tr th:only-of-type {\n",
              "        vertical-align: middle;\n",
              "    }\n",
              "\n",
              "    .dataframe tbody tr th {\n",
              "        vertical-align: top;\n",
              "    }\n",
              "\n",
              "    .dataframe thead th {\n",
              "        text-align: right;\n",
              "    }\n",
              "</style>\n",
              "<table border=\"1\" class=\"dataframe\">\n",
              "  <thead>\n",
              "    <tr style=\"text-align: right;\">\n",
              "      <th></th>\n",
              "      <th>similarity</th>\n",
              "      <th>phrase</th>\n",
              "      <th>original</th>\n",
              "    </tr>\n",
              "  </thead>\n",
              "  <tbody>\n",
              "    <tr>\n",
              "      <th>3</th>\n",
              "      <td>0.677734</td>\n",
              "      <td>You have to guess if the author is a Republica...</td>\n",
              "      <td>False</td>\n",
              "    </tr>\n",
              "    <tr>\n",
              "      <th>4</th>\n",
              "      <td>0.678530</td>\n",
              "      <td>You have to guess if the author is a Republica...</td>\n",
              "      <td>False</td>\n",
              "    </tr>\n",
              "    <tr>\n",
              "      <th>1</th>\n",
              "      <td>0.684385</td>\n",
              "      <td>You have to guess whether the author is a Repu...</td>\n",
              "      <td>False</td>\n",
              "    </tr>\n",
              "    <tr>\n",
              "      <th>2</th>\n",
              "      <td>0.686123</td>\n",
              "      <td>You have to guess whether the author is a Repu...</td>\n",
              "      <td>False</td>\n",
              "    </tr>\n",
              "    <tr>\n",
              "      <th>5</th>\n",
              "      <td>0.743931</td>\n",
              "      <td>The following is a message written by either a...</td>\n",
              "      <td>False</td>\n",
              "    </tr>\n",
              "    <tr>\n",
              "      <th>0</th>\n",
              "      <td>1.000000</td>\n",
              "      <td>The following is a Twitter message written eit...</td>\n",
              "      <td>True</td>\n",
              "    </tr>\n",
              "  </tbody>\n",
              "</table>\n",
              "</div>"
            ],
            "text/plain": [
              "   similarity                                             phrase  original\n",
              "3    0.677734  You have to guess if the author is a Republica...     False\n",
              "4    0.678530  You have to guess if the author is a Republica...     False\n",
              "1    0.684385  You have to guess whether the author is a Repu...     False\n",
              "2    0.686123  You have to guess whether the author is a Repu...     False\n",
              "5    0.743931  The following is a message written by either a...     False\n",
              "0    1.000000  The following is a Twitter message written eit...      True"
            ]
          },
          "metadata": {},
          "output_type": "display_data"
        },
        {
          "name": "stdout",
          "output_type": "stream",
          "text": [
            "Iteration 0...\n",
            "Iteration 1...\n",
            "Iteration 2...\n",
            "Iteration 3...\n",
            "Iteration 4...\n",
            "Iteration 5...\n",
            "Finished annotation. Analyzing reliability\n",
            "The resulting interprompt KA reliability value is 0.9343715239154616\n"
          ]
        },
        {
          "data": {
            "image/png": "[encoded data removed]",
            "text/plain": [
              "<Figure size 640x480 with 1 Axes>"
            ]
          },
          "metadata": {},
          "output_type": "display_data"
        },
        {
          "name": "stdout",
          "output_type": "stream",
          "text": [
            "The KA inter reliability for varying the prompt is 0.9343715239154616\n"
          ]
        }
      ],
      "source": [
        "# Twitter annotation example\n",
        "#APIKEY = \"[KEY]\"\n",
        "MODEL = 'gpt-3.5-turbo'\n",
        "llm = LLMWrapper(model = MODEL, apikey=APIKEY)\n",
        "\n",
        "MAX_TOKENS = 4096\n",
        "\n",
        "df = pd.read_csv('tweets.csv')\n",
        "df = df.sample(10)\n",
        "\n",
        "# Truncate etc\n",
        "texts = list(df['text'].values)\n",
        "\n",
        "prompt = 'The following is a Twitter message written either by a Republican or a Democrat before the 2020 election. Your task is to guess whether the author is Republican or Democrat.'\n",
        "prompt_postfix = '[Respond 0 for Democrat, or 1 for Republican. Guess is you do not know. Respond nothing else.]'\n",
        "\n",
        "psa = PromptStabilityAnalysis(llm, texts,parse_function=lambda x: float(x), metric_fn = simpledorff.metrics.nominal_metric)\n",
        "\n",
        "# Test variability for the same prompt.\n",
        "res,df = psa.baseline_stochasticity(prompt,prompt_postfix,iterations=3)\n",
        "print(df)\n",
        "print(f\"The KA reliability for the main message is {res}\")\n",
        "\n",
        "# Test of variability across prompts\n",
        "res,df,rel_by_sim = psa.interprompt_stochasticity(prompt,prompt_postfix, nr_variations=5, temperature=1.0, iterations=1)\n",
        "\n",
        "print(f\"The KA inter reliability for varying the prompt is {res}\")\n"
      ]
    },
    {
      "cell_type": "code",
      "execution_count": null,
      "metadata": {},
      "outputs": [],
      "source": []
    }
  ],
  "metadata": {
    "colab": {
      "collapsed_sections": [
        "aa7a9ff1-0b17-40e7-b995-7b8ff899a14c"
      ],
      "include_colab_link": true,
      "provenance": []
    },
    "kernelspec": {
      "display_name": "Python 3 (ipykernel)",
      "language": "python",
      "name": "python3"
    },
    "language_info": {
      "codemirror_mode": {
        "name": "ipython",
        "version": 3
      },
      "file_extension": ".py",
      "mimetype": "text/x-python",
      "name": "python",
      "nbconvert_exporter": "python",
      "pygments_lexer": "ipython3",
      "version": "3.10.6"
    }
  },
  "nbformat": 4,
  "nbformat_minor": 5
}
