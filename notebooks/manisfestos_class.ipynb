{
  "cells": [
    {
      "cell_type": "markdown",
      "id": "view-in-github",
      "metadata": {
        "id": "view-in-github"
      },
      "source": [
        "<a href=\"https://colab.research.google.com/github/cjbarrie/promptstability/blob/elli/notebooks/manisfestos%20class.ipynb\" target=\"_parent\"><img src=\"https://colab.research.google.com/assets/colab-badge.svg\" alt=\"Open In Colab\"/></a>"
      ]
    },
    {
      "cell_type": "markdown",
      "id": "GUbmU1fUkMTH",
      "metadata": {
        "id": "GUbmU1fUkMTH"
      },
      "source": []
    },
    {
      "cell_type": "markdown",
      "id": "805375f1-8ebe-4df1-83cc-1595f3bb18bc",
      "metadata": {
        "id": "805375f1-8ebe-4df1-83cc-1595f3bb18bc"
      },
      "source": [
        "## Libraries and Data"
      ]
    },
    {
      "cell_type": "code",
      "execution_count": 1,
      "id": "A7H5Uwo47V_E",
      "metadata": {
        "id": "A7H5Uwo47V_E"
      },
      "outputs": [
        {
          "name": "stdout",
          "output_type": "stream",
          "text": [
            "Requirement already satisfied: openai in /Users/ellipalaiologou/.pyenv/versions/3.10.6/lib/python3.10/site-packages (1.3.7)\n",
            "Requirement already satisfied: anyio<4,>=3.5.0 in /Users/ellipalaiologou/.pyenv/versions/3.10.6/lib/python3.10/site-packages (from openai) (3.7.1)\n",
            "Requirement already satisfied: distro<2,>=1.7.0 in /Users/ellipalaiologou/.pyenv/versions/3.10.6/lib/python3.10/site-packages (from openai) (1.8.0)\n",
            "Requirement already satisfied: httpx<1,>=0.23.0 in /Users/ellipalaiologou/.pyenv/versions/3.10.6/lib/python3.10/site-packages (from openai) (0.25.2)\n",
            "Requirement already satisfied: pydantic<3,>=1.9.0 in /Users/ellipalaiologou/.pyenv/versions/3.10.6/lib/python3.10/site-packages (from openai) (1.10.9)\n",
            "Requirement already satisfied: sniffio in /Users/ellipalaiologou/.pyenv/versions/3.10.6/lib/python3.10/site-packages (from openai) (1.3.0)\n",
            "Requirement already satisfied: tqdm>4 in /Users/ellipalaiologou/.pyenv/versions/3.10.6/lib/python3.10/site-packages (from openai) (4.66.1)\n",
            "Requirement already satisfied: typing-extensions<5,>=4.5 in /Users/ellipalaiologou/.pyenv/versions/3.10.6/lib/python3.10/site-packages (from openai) (4.8.0)\n",
            "Requirement already satisfied: idna>=2.8 in /Users/ellipalaiologou/.pyenv/versions/3.10.6/lib/python3.10/site-packages (from anyio<4,>=3.5.0->openai) (3.4)\n",
            "Requirement already satisfied: exceptiongroup in /Users/ellipalaiologou/.pyenv/versions/3.10.6/lib/python3.10/site-packages (from anyio<4,>=3.5.0->openai) (1.1.3)\n",
            "Requirement already satisfied: certifi in /Users/ellipalaiologou/.pyenv/versions/3.10.6/lib/python3.10/site-packages (from httpx<1,>=0.23.0->openai) (2023.7.22)\n",
            "Requirement already satisfied: httpcore==1.* in /Users/ellipalaiologou/.pyenv/versions/3.10.6/lib/python3.10/site-packages (from httpx<1,>=0.23.0->openai) (1.0.2)\n",
            "Requirement already satisfied: h11<0.15,>=0.13 in /Users/ellipalaiologou/.pyenv/versions/3.10.6/lib/python3.10/site-packages (from httpcore==1.*->httpx<1,>=0.23.0->openai) (0.14.0)\n",
            "Requirement already satisfied: simpledorff in /Users/ellipalaiologou/.pyenv/versions/3.10.6/lib/python3.10/site-packages (0.0.2)\n",
            "Requirement already satisfied: torch in /Users/ellipalaiologou/.pyenv/versions/3.10.6/lib/python3.10/site-packages (2.1.0)\n",
            "Requirement already satisfied: filelock in /Users/ellipalaiologou/.pyenv/versions/3.10.6/lib/python3.10/site-packages (from torch) (3.12.4)\n",
            "Requirement already satisfied: typing-extensions in /Users/ellipalaiologou/.pyenv/versions/3.10.6/lib/python3.10/site-packages (from torch) (4.8.0)\n",
            "Requirement already satisfied: sympy in /Users/ellipalaiologou/.pyenv/versions/3.10.6/lib/python3.10/site-packages (from torch) (1.12)\n",
            "Requirement already satisfied: networkx in /Users/ellipalaiologou/.pyenv/versions/3.10.6/lib/python3.10/site-packages (from torch) (3.1)\n",
            "Requirement already satisfied: jinja2 in /Users/ellipalaiologou/.pyenv/versions/3.10.6/lib/python3.10/site-packages (from torch) (3.1.2)\n",
            "Requirement already satisfied: fsspec in /Users/ellipalaiologou/.pyenv/versions/3.10.6/lib/python3.10/site-packages (from torch) (2023.9.2)\n",
            "Requirement already satisfied: MarkupSafe>=2.0 in /Users/ellipalaiologou/.pyenv/versions/3.10.6/lib/python3.10/site-packages (from jinja2->torch) (2.1.3)\n",
            "Requirement already satisfied: mpmath>=0.19 in /Users/ellipalaiologou/.pyenv/versions/3.10.6/lib/python3.10/site-packages (from sympy->torch) (1.3.0)\n",
            "Requirement already satisfied: transformers in /Users/ellipalaiologou/.pyenv/versions/3.10.6/lib/python3.10/site-packages (4.35.2)\n",
            "Requirement already satisfied: filelock in /Users/ellipalaiologou/.pyenv/versions/3.10.6/lib/python3.10/site-packages (from transformers) (3.12.4)\n",
            "Requirement already satisfied: huggingface-hub<1.0,>=0.16.4 in /Users/ellipalaiologou/.pyenv/versions/3.10.6/lib/python3.10/site-packages (from transformers) (0.17.3)\n",
            "Requirement already satisfied: numpy>=1.17 in /Users/ellipalaiologou/.pyenv/versions/3.10.6/lib/python3.10/site-packages (from transformers) (1.26.0)\n",
            "Requirement already satisfied: packaging>=20.0 in /Users/ellipalaiologou/.pyenv/versions/3.10.6/lib/python3.10/site-packages (from transformers) (23.2)\n",
            "Requirement already satisfied: pyyaml>=5.1 in /Users/ellipalaiologou/.pyenv/versions/3.10.6/lib/python3.10/site-packages (from transformers) (6.0.1)\n",
            "Requirement already satisfied: regex!=2019.12.17 in /Users/ellipalaiologou/.pyenv/versions/3.10.6/lib/python3.10/site-packages (from transformers) (2023.10.3)\n",
            "Requirement already satisfied: requests in /Users/ellipalaiologou/.pyenv/versions/3.10.6/lib/python3.10/site-packages (from transformers) (2.31.0)\n",
            "Requirement already satisfied: tokenizers<0.19,>=0.14 in /Users/ellipalaiologou/.pyenv/versions/3.10.6/lib/python3.10/site-packages (from transformers) (0.14.1)\n",
            "Requirement already satisfied: safetensors>=0.3.1 in /Users/ellipalaiologou/.pyenv/versions/3.10.6/lib/python3.10/site-packages (from transformers) (0.4.1)\n",
            "Requirement already satisfied: tqdm>=4.27 in /Users/ellipalaiologou/.pyenv/versions/3.10.6/lib/python3.10/site-packages (from transformers) (4.66.1)\n",
            "Requirement already satisfied: fsspec in /Users/ellipalaiologou/.pyenv/versions/3.10.6/lib/python3.10/site-packages (from huggingface-hub<1.0,>=0.16.4->transformers) (2023.9.2)\n",
            "Requirement already satisfied: typing-extensions>=3.7.4.3 in /Users/ellipalaiologou/.pyenv/versions/3.10.6/lib/python3.10/site-packages (from huggingface-hub<1.0,>=0.16.4->transformers) (4.8.0)\n",
            "Requirement already satisfied: charset-normalizer<4,>=2 in /Users/ellipalaiologou/.pyenv/versions/3.10.6/lib/python3.10/site-packages (from requests->transformers) (3.3.0)\n",
            "Requirement already satisfied: idna<4,>=2.5 in /Users/ellipalaiologou/.pyenv/versions/3.10.6/lib/python3.10/site-packages (from requests->transformers) (3.4)\n",
            "Requirement already satisfied: urllib3<3,>=1.21.1 in /Users/ellipalaiologou/.pyenv/versions/3.10.6/lib/python3.10/site-packages (from requests->transformers) (1.26.18)\n",
            "Requirement already satisfied: certifi>=2017.4.17 in /Users/ellipalaiologou/.pyenv/versions/3.10.6/lib/python3.10/site-packages (from requests->transformers) (2023.7.22)\n",
            "Requirement already satisfied: sentence_transformers in /Users/ellipalaiologou/.pyenv/versions/3.10.6/lib/python3.10/site-packages (2.5.1)\n",
            "Requirement already satisfied: transformers<5.0.0,>=4.32.0 in /Users/ellipalaiologou/.pyenv/versions/3.10.6/lib/python3.10/site-packages (from sentence_transformers) (4.35.2)\n",
            "Requirement already satisfied: tqdm in /Users/ellipalaiologou/.pyenv/versions/3.10.6/lib/python3.10/site-packages (from sentence_transformers) (4.66.1)\n",
            "Requirement already satisfied: torch>=1.11.0 in /Users/ellipalaiologou/.pyenv/versions/3.10.6/lib/python3.10/site-packages (from sentence_transformers) (2.1.0)\n",
            "Requirement already satisfied: numpy in /Users/ellipalaiologou/.pyenv/versions/3.10.6/lib/python3.10/site-packages (from sentence_transformers) (1.26.0)\n",
            "Requirement already satisfied: scikit-learn in /Users/ellipalaiologou/.pyenv/versions/3.10.6/lib/python3.10/site-packages (from sentence_transformers) (1.3.1)\n",
            "Requirement already satisfied: scipy in /Users/ellipalaiologou/.pyenv/versions/3.10.6/lib/python3.10/site-packages (from sentence_transformers) (1.11.3)\n",
            "Requirement already satisfied: huggingface-hub>=0.15.1 in /Users/ellipalaiologou/.pyenv/versions/3.10.6/lib/python3.10/site-packages (from sentence_transformers) (0.17.3)\n",
            "Requirement already satisfied: Pillow in /Users/ellipalaiologou/.pyenv/versions/3.10.6/lib/python3.10/site-packages (from sentence_transformers) (10.0.1)\n",
            "Requirement already satisfied: filelock in /Users/ellipalaiologou/.pyenv/versions/3.10.6/lib/python3.10/site-packages (from huggingface-hub>=0.15.1->sentence_transformers) (3.12.4)\n",
            "Requirement already satisfied: fsspec in /Users/ellipalaiologou/.pyenv/versions/3.10.6/lib/python3.10/site-packages (from huggingface-hub>=0.15.1->sentence_transformers) (2023.9.2)\n",
            "Requirement already satisfied: requests in /Users/ellipalaiologou/.pyenv/versions/3.10.6/lib/python3.10/site-packages (from huggingface-hub>=0.15.1->sentence_transformers) (2.31.0)\n",
            "Requirement already satisfied: pyyaml>=5.1 in /Users/ellipalaiologou/.pyenv/versions/3.10.6/lib/python3.10/site-packages (from huggingface-hub>=0.15.1->sentence_transformers) (6.0.1)\n",
            "Requirement already satisfied: typing-extensions>=3.7.4.3 in /Users/ellipalaiologou/.pyenv/versions/3.10.6/lib/python3.10/site-packages (from huggingface-hub>=0.15.1->sentence_transformers) (4.8.0)\n",
            "Requirement already satisfied: packaging>=20.9 in /Users/ellipalaiologou/.pyenv/versions/3.10.6/lib/python3.10/site-packages (from huggingface-hub>=0.15.1->sentence_transformers) (23.2)\n",
            "Requirement already satisfied: sympy in /Users/ellipalaiologou/.pyenv/versions/3.10.6/lib/python3.10/site-packages (from torch>=1.11.0->sentence_transformers) (1.12)\n",
            "Requirement already satisfied: networkx in /Users/ellipalaiologou/.pyenv/versions/3.10.6/lib/python3.10/site-packages (from torch>=1.11.0->sentence_transformers) (3.1)\n",
            "Requirement already satisfied: jinja2 in /Users/ellipalaiologou/.pyenv/versions/3.10.6/lib/python3.10/site-packages (from torch>=1.11.0->sentence_transformers) (3.1.2)\n",
            "Requirement already satisfied: regex!=2019.12.17 in /Users/ellipalaiologou/.pyenv/versions/3.10.6/lib/python3.10/site-packages (from transformers<5.0.0,>=4.32.0->sentence_transformers) (2023.10.3)\n",
            "Requirement already satisfied: tokenizers<0.19,>=0.14 in /Users/ellipalaiologou/.pyenv/versions/3.10.6/lib/python3.10/site-packages (from transformers<5.0.0,>=4.32.0->sentence_transformers) (0.14.1)\n",
            "Requirement already satisfied: safetensors>=0.3.1 in /Users/ellipalaiologou/.pyenv/versions/3.10.6/lib/python3.10/site-packages (from transformers<5.0.0,>=4.32.0->sentence_transformers) (0.4.1)\n",
            "Requirement already satisfied: joblib>=1.1.1 in /Users/ellipalaiologou/.pyenv/versions/3.10.6/lib/python3.10/site-packages (from scikit-learn->sentence_transformers) (1.3.2)\n",
            "Requirement already satisfied: threadpoolctl>=2.0.0 in /Users/ellipalaiologou/.pyenv/versions/3.10.6/lib/python3.10/site-packages (from scikit-learn->sentence_transformers) (3.2.0)\n",
            "Requirement already satisfied: MarkupSafe>=2.0 in /Users/ellipalaiologou/.pyenv/versions/3.10.6/lib/python3.10/site-packages (from jinja2->torch>=1.11.0->sentence_transformers) (2.1.3)\n",
            "Requirement already satisfied: charset-normalizer<4,>=2 in /Users/ellipalaiologou/.pyenv/versions/3.10.6/lib/python3.10/site-packages (from requests->huggingface-hub>=0.15.1->sentence_transformers) (3.3.0)\n",
            "Requirement already satisfied: idna<4,>=2.5 in /Users/ellipalaiologou/.pyenv/versions/3.10.6/lib/python3.10/site-packages (from requests->huggingface-hub>=0.15.1->sentence_transformers) (3.4)\n",
            "Requirement already satisfied: urllib3<3,>=1.21.1 in /Users/ellipalaiologou/.pyenv/versions/3.10.6/lib/python3.10/site-packages (from requests->huggingface-hub>=0.15.1->sentence_transformers) (1.26.18)\n",
            "Requirement already satisfied: certifi>=2017.4.17 in /Users/ellipalaiologou/.pyenv/versions/3.10.6/lib/python3.10/site-packages (from requests->huggingface-hub>=0.15.1->sentence_transformers) (2023.7.22)\n",
            "Requirement already satisfied: mpmath>=0.19 in /Users/ellipalaiologou/.pyenv/versions/3.10.6/lib/python3.10/site-packages (from sympy->torch>=1.11.0->sentence_transformers) (1.3.0)\n",
            "Requirement already satisfied: SentencePiece in /Users/ellipalaiologou/.pyenv/versions/3.10.6/lib/python3.10/site-packages (0.2.0)\n"
          ]
        }
      ],
      "source": [
        "! pip install openai\n",
        "! pip install simpledorff\n",
        "! pip install torch\n",
        "! pip install transformers\n",
        "! pip install sentence_transformers\n",
        "! pip install SentencePiece\n"
      ]
    },
    {
      "cell_type": "code",
      "execution_count": 2,
      "id": "5064760f-ec00-4cae-b4cd-566d48df5ec6",
      "metadata": {
        "id": "5064760f-ec00-4cae-b4cd-566d48df5ec6"
      },
      "outputs": [],
      "source": [
        "import torch\n",
        "from transformers import PegasusForConditionalGeneration, PegasusTokenizer\n",
        "import pandas as pd\n",
        "import openai\n",
        "import numpy as np\n",
        "import time\n",
        "import simpledorff\n",
        "from openai import OpenAI\n",
        "import matplotlib.pyplot as plt\n",
        "\n",
        "\n",
        "import torch\n",
        "from sentence_transformers import SentenceTransformer, util\n",
        "import numpy as np\n",
        "import pandas as pd\n",
        "import os\n",
        "\n",
        "import simpledorff\n",
        "\n",
        "from transformers import AutoModelForCausalLM, AutoTokenizer\n",
        "\n",
        "import seaborn as sns\n",
        "import plotly.express as px\n",
        "import plotly.graph_objects as go\n"
      ]
    },
    {
      "cell_type": "code",
      "execution_count": 3,
      "id": "1194849a",
      "metadata": {
        "id": "1194849a"
      },
      "outputs": [],
      "source": [
        "# count tokens\n",
        "model_count_tokens = \"bert-base-uncased\"\n",
        "tokenizer = AutoTokenizer.from_pretrained(model_count_tokens)\n",
        "\n",
        "def count_tokens(text):\n",
        "    # Tokenize the text\n",
        "    tokens = tokenizer.tokenize(text)\n",
        "    # Return the count of tokens\n",
        "    return len(tokens)\n",
        "\n",
        "# Change between None and 50 to control text truncation when pd df is displayed:\n",
        "pd.set_option('display.max_colwidth', None)\n"
      ]
    },
    {
      "cell_type": "code",
      "execution_count": 14,
      "id": "25463d36",
      "metadata": {
        "id": "25463d36"
      },
      "outputs": [],
      "source": [
        "class LLMWrapper:\n",
        "    '''This is a wrapper class for LLMs, which provides a method called 'annotate' that annotates a given message using an LLM.\n",
        "    '''\n",
        "\n",
        "    def __init__(self,apikey, model, wait_time=0.8) -> None:\n",
        "        self.apikey = apikey\n",
        "        self.model = model\n",
        "\n",
        "        self.client = OpenAI(\n",
        "            # This is the default and can be omitted\n",
        "            api_key=apikey\n",
        "        )\n",
        "\n",
        "\n",
        "    def annotate(self, text, prompt, parse_function = None, temperature = 0.1):\n",
        "        '''\n",
        "        Annotate the given text in the way the prompt instructs you to.\n",
        "\n",
        "        Parameters:\n",
        "        - text (str): text you want classified\n",
        "        - prompt (str): the classification prompt/instruction\n",
        "        - temperature (float): how deterministic (low number) vs. random (higher number) your results should be\n",
        "        - parse_function (method): a method that parses the resulting data.\n",
        "\n",
        "        Returns:\n",
        "        - model's response to prompt (classification outcome)\n",
        "        '''\n",
        "        failed = True\n",
        "        tries = 0\n",
        "        while(failed):\n",
        "            try:\n",
        "                response = self.client.chat.completions.create(\n",
        "                    model = self.model,\n",
        "                    temperature = temperature,\n",
        "                    messages = [\n",
        "                        {\"role\": \"system\", \"content\": f\"'{prompt}'\"}, #The system instruction tells the bot how it is supposed to behave\n",
        "                        {\"role\": \"user\", \"content\": f\"'{text}'\"} #This provides the text to be analyzed.\n",
        "                    ]\n",
        "                )\n",
        "                failed = False\n",
        "\n",
        "            #Handle errors.\n",
        "            #If the API gets an error, perhaps because it is overwhelmed, we wait 10 seconds and then we try again.\n",
        "            # We do this 10 times, and then we give up.\n",
        "            except openai.APIError as e:\n",
        "                print(f\"OpenAI API returned an API Error: {e}\")\n",
        "\n",
        "                if tries < 10:\n",
        "                    print(f\"Caught an APIError: {e}. Waiting 10 seconds and then trying again...\")\n",
        "                    failed = True\n",
        "                    tries += 1\n",
        "                    time.sleep(10)\n",
        "                else:\n",
        "                    print(f\"Caught an APIError: {e}. Too many exceptions. Giving up.\")\n",
        "                    raise e\n",
        "\n",
        "            except openai.APIConnectionError as e:\n",
        "                print(f\"Failed to connect to OpenAI API: {e}\")\n",
        "                pass\n",
        "            except openai.RateLimitError as e:\n",
        "                print(f\"OpenAI API request exceeded rate limit: {e}\")\n",
        "                pass\n",
        "\n",
        "            #If the text is too long, we truncate it and try again. Note that if you get this error, you probably want to chunk your texts.\n",
        "            except openai.BadRequestError as e:\n",
        "                #Shorten request text\n",
        "                print(f\"Received a InvalidRequestError. Request likely too long. {e}\")\n",
        "                raise e\n",
        "\n",
        "            except Exception as e:\n",
        "                print(f\"Caught unhandled error. {e}\")\n",
        "                raise e\n",
        "\n",
        "        result = ''\n",
        "        for choice in response.choices:\n",
        "            result += choice.message.content\n",
        "\n",
        "        # Parse the result using provided function\n",
        "        if parse_function is not None:\n",
        "            result = parse_function(result)\n",
        "\n",
        "        return result\n",
        "\n",
        "\n",
        "class PromptStabilityAnalysis:\n",
        "\n",
        "    def __init__(self,llm, data, metric_fn=simpledorff.metrics.nominal_metric, parse_function=None) -> None:\n",
        "\n",
        "        self.llm = llm\n",
        "\n",
        "        # Get a number for the similarity between two sentences\n",
        "        self.embedding_model = SentenceTransformer('paraphrase-MiniLM-L6-v2')\n",
        "\n",
        "        #Initiate paraphraser\n",
        "        model_name = 'tuner007/pegasus_paraphrase'\n",
        "        self.torch_device = 'cuda' if torch.cuda.is_available() else 'cpu'\n",
        "        self.tokenizer = PegasusTokenizer.from_pretrained(model_name)\n",
        "        self.model = PegasusForConditionalGeneration.from_pretrained(model_name).to(self.torch_device)\n",
        "        self.parse_function = parse_function  #The function through which to parse the result from the LLM\n",
        "        self.data = data # The data to be analyzed. Should be a list of texts.\n",
        "        self.metric_fn = metric_fn #Metric function for KA. e.g., simpledorff.metrics.interval_metric or nominal_metric metric_fn=simpledorff.metrics.nominal_metric\n",
        "\n",
        "    # Compares similarity between two sentences in sentence embedding space\n",
        "    def __compare_similarity(self,sent1,sent2):\n",
        "        emb1 = self.embedding_model.encode(sent1, convert_to_tensor=True)\n",
        "        emb2 = self.embedding_model.encode(sent2, convert_to_tensor=True)\n",
        "\n",
        "        return util.pytorch_cos_sim(emb1, emb2)\n",
        "\n",
        "    # Uses Pegasus to paraphrase a sentence\n",
        "    def __paraphrase_sentence(self, input_text, num_return_sequences=10, num_beams=50, temperature=1.5):\n",
        "        batch = self.tokenizer([input_text],truncation=True,padding='longest',max_length=60, return_tensors=\"pt\").to(self.torch_device)\n",
        "        translated = self.model.generate(**batch,max_length=60,num_beams=num_beams, num_return_sequences=num_return_sequences, temperature=temperature)\n",
        "        tgt_text = self.tokenizer.batch_decode(translated, skip_special_tokens=True)\n",
        "        return tgt_text\n",
        "\n",
        "    #This generates paraphrases based on an original text and uses sentence embedding to measure how different they are from the original sentence.\n",
        "    #prompt_postfix is a fixed addition that is not paraphrased\n",
        "    def __generate_paraphrases(self,original_text,prompt_postfix,nr_variations,temperature=1.5):\n",
        "        # Create paraphrases of sentence\n",
        "        phrases = self.__paraphrase_sentence(original_text,num_return_sequences=nr_variations,temperature=temperature)\n",
        "\n",
        "        # Measure distances between new and original\n",
        "        l = [{'similarity':1.0,'phrase':f'{original_text} {prompt_postfix}','original':True}]\n",
        "        for phrase in phrases:\n",
        "            sim = self.__compare_similarity(original_text,phrase)\n",
        "            l.append({'similarity':float(sim),'phrase':f'{phrase} {prompt_postfix}','original':False})\n",
        "\n",
        "        # Store for future use\n",
        "        self.paraphrases = pd.DataFrame(l).sort_values(['similarity'])\n",
        "        display(self.paraphrases)\n",
        "        return self.paraphrases\n",
        "\n",
        "    def baseline_stochasticity(self,original_text,prompt_postfix,iterations=10, plot_type='plotly'):\n",
        "        '''\n",
        "        This measures the amount of stochasticity there is within the same prompt, running the original prompt <iterations> and\n",
        "        measuring the KA reliability over runs.\n",
        "        '''\n",
        "        prompt = f'{original_text} {prompt_postfix}'\n",
        "        annotated = []\n",
        "        ka_scores = []\n",
        "        iterrations_no = []\n",
        "\n",
        "        # Run the LLM on the data\n",
        "        for i in range(iterations):\n",
        "            print(f\"Iteration {i}...\")\n",
        "            for j,d in enumerate(self.data):\n",
        "                annotation = self.llm.annotate(d, prompt,parse_function=self.parse_function)\n",
        "                annotated.append({'id':j,'text':d,'annotation':annotation,'iteration':i})\n",
        "\n",
        "            # Measure the intercoder reliability for each additional repetition (after second iteration)\n",
        "            if i > 0:\n",
        "                df = pd.DataFrame(annotated)\n",
        "                KA = simpledorff.calculate_krippendorffs_alpha_for_df(\n",
        "                    df,\n",
        "                    metric_fn=self.metric_fn,\n",
        "                    experiment_col='id',\n",
        "                    annotator_col='iteration',\n",
        "                    class_col='annotation')\n",
        "\n",
        "                ka_scores.append(KA)\n",
        "                iterrations_no.append(i + 1)\n",
        "\n",
        "        print('Finished annotation. Analyzing reliability')\n",
        "\n",
        "        # plot\n",
        "        if plot_type == 'sns':\n",
        "            sns.set()\n",
        "            # turn iteration_no into integers\n",
        "            #iterration_no = [int(x) for x in iterration_no]\n",
        "            sns.scatterplot(x=iterrations_no, y= ka_scores)\n",
        "            plt.xlabel('Number of Prompt Repetitions')\n",
        "            plt.ylabel('KA Score')\n",
        "            plt.title('Reliability (KA) vs. Repetitions')\n",
        "            plt.ylim(0.0, 1.05)\n",
        "            plt.xticks(range(0, max(iterrations_no) + 1, 5))\n",
        "            plt.axhline(y=0.80, color='black', linestyle='--', linewidth=.5)\n",
        "            plt.show()\n",
        "        elif plot_type == 'plotly':\n",
        "            data = {'Repetitions': iterrations_no, 'KA Score': ka_scores}\n",
        "            df = pd.DataFrame(data)\n",
        "            # interactive plot\n",
        "            fig = px.scatter(df, x='Repetitions', y='KA Score', hover_data={'Repetitions': True, 'KA Score': True}, labels={'Repetitions': 'Repetitions', 'KA Score': 'KA Score'})\n",
        "            # horizontal line: min KA acceptable\n",
        "            fig.add_trace(go.Scatter(x=[0, max(iterrations_no)], y=[0.80, 0.80], mode='lines', name='KA Threshold', line=dict(color='black', width=.5, dash='dash')))\n",
        "\n",
        "            fig.update_layout(\n",
        "                title='Reliability (KA) vs. Repetitions',\n",
        "                xaxis_title='Number of Prompt Repetitions',\n",
        "                yaxis_title='KA Score',\n",
        "                yaxis=dict(range=[0.0, 1.05]),\n",
        "                hovermode='closest'\n",
        "            )\n",
        "            fig.show()\n",
        "\n",
        "            print(f'Within-prompt KA reliability score for {i + 1} repetitions is {KA}')\n",
        "\n",
        "        return KA, df, ka_scores, iterrations_no\n",
        "\n",
        "\n",
        "    def interprompt_stochasticity(self,original_text,prompt_postfix, nr_variations=5, temperature=1.0, iterations=1, plot_type='plotly'):\n",
        "        '''\n",
        "        This measures the amount of stochasticity while varying the prompt.\n",
        "        prompt_postfix: A fixed addition to the prompt. This is not paraphrased. Used to specify output format.\n",
        "        '''\n",
        "\n",
        "        # Generate paraphrases\n",
        "        paraphrases = self.__generate_paraphrases(original_text,prompt_postfix,nr_variations=nr_variations,temperature=temperature)\n",
        "\n",
        "        annotated = []\n",
        "        # Run the LLM on the data\n",
        "        for i, (paraphrase,similarity,original) in enumerate(zip(paraphrases['phrase'],paraphrases['similarity'],paraphrases['original'])):\n",
        "            print(f\"Iteration {i}...\")\n",
        "            for j,d in enumerate(self.data):\n",
        "                annotation = self.llm.annotate(d, paraphrase,parse_function=self.parse_function)\n",
        "                annotated.append({'id':j,'text':d,'annotation':annotation,'prompt_id':i,'prompt':paraphrase,'similarity':similarity,'original':original})\n",
        "\n",
        "        print('Finished annotation. Analyzing reliability')\n",
        "        annotated_data = pd.DataFrame(annotated)\n",
        "\n",
        "        self.interprompt_df = annotated_data\n",
        "\n",
        "        # Measure the interprompt reliability\n",
        "        KA = simpledorff.calculate_krippendorffs_alpha_for_df(annotated_data,metric_fn=self.metric_fn,experiment_col='id', annotator_col='prompt_id', class_col='annotation')\n",
        "\n",
        "        rel_vs_sim = self.__calculate_reliability_as_function_of_similarity(annotated_data)\n",
        "        poor_prompts = rel_vs_sim.loc[rel_vs_sim['KA'] < 0.8]\n",
        "        original_prompt = original_text + ' ' + prompt_postfix\n",
        "\n",
        "        if plot_type == 'sns':\n",
        "            sns.set()\n",
        "            sns.scatterplot(x=rel_vs_sim['similarity'], y= rel_vs_sim['KA'])\n",
        "            plt.xlabel('Prompt Similarity')\n",
        "            plt.ylabel('KA Score')\n",
        "            plt.title('Reliability vs similarity')\n",
        "            plt.ylim(0.0, 1.05)\n",
        "            plt.xlim(0,1)\n",
        "            plt.axhline(y=0.80, color='black', linestyle='--', linewidth=.5)\n",
        "            plt.show()\n",
        "        elif plot_type == 'plotly':\n",
        "            data = {'Similarity': rel_vs_sim['similarity'], 'KA Score': rel_vs_sim['KA'], 'Prompt_id': rel_vs_sim['prompt_id']}\n",
        "            df = pd.DataFrame(data)\n",
        "            # interactive plot\n",
        "            fig = px.scatter(df, x='Similarity', y='KA Score', hover_data={'Similarity': True, 'KA Score': True, 'Prompt_id': True}, labels={'Similarity': 'Prompt Similarity', 'KA Score': 'KA Score', 'Prompt': 'Prompt_id'})\n",
        "            # horizontal line: min KA acceptable\n",
        "            fig.add_trace(go.Scatter(x=[0, 1], y=[0.80, 0.80], mode='lines', name='KA Threshold', line=dict(color='black', width=.5, dash='dash')))\n",
        "            fig.update_traces(hoverlabel=dict(font=dict(size=12), align='left', namelength=30))\n",
        "\n",
        "            fig.update_layout(\n",
        "                title='Reliability (KA) vs. Similarity',\n",
        "                xaxis_title='Prompt Similarity',\n",
        "                yaxis_title='KA Score',\n",
        "                yaxis=dict(range=[0.0, 1.05]),\n",
        "                xaxis=dict(range=[0, 1]),  # Set x-axis limits,\n",
        "                hovermode='closest'\n",
        "            )\n",
        "            fig.show()\n",
        "\n",
        "        print(f'Inter-prompt KA reliability score is {KA}.')\n",
        "        print('\\n#################################')\n",
        "        print(f'Original prompt:\\n{original_prompt}')\n",
        "        print('#################################')\n",
        "        print('Prompts with poor performance:')\n",
        "        display(poor_prompts)\n",
        "        return KA, annotated_data, rel_vs_sim, poor_prompts\n",
        "\n",
        "\n",
        "    #This calculates the KA-R as a function of the similarity between the prompts\n",
        "    # Takes the output of the interprompt_stochasticity calculation\n",
        "    def __calculate_reliability_as_function_of_similarity(self,df=None):\n",
        "        if df is None:\n",
        "            df = self.interprompt_df\n",
        "\n",
        "        l = []\n",
        "        # This calculates the KA separately one-on-one between the prompts, and then uses the similarity between the prompts to say something.\n",
        "        for prompt_id in df['prompt_id'].loc[df['original']==False].unique():\n",
        "            # Go through them one at the time\n",
        "            dff = df.loc[(df['prompt_id']==prompt_id) | (df['original']==True)]\n",
        "            ka = simpledorff.calculate_krippendorffs_alpha_for_df(dff,metric_fn=self.metric_fn,experiment_col='id', annotator_col='prompt_id', class_col='annotation')\n",
        "\n",
        "            # Get the similarity of the prompt. Ugly code.\n",
        "            similarity = df.loc[df['prompt_id']==prompt_id]['similarity'].values[0]\n",
        "            prompt_text = df.loc[df['prompt_id']==prompt_id]['prompt'].values[0]\n",
        "            l.append({'prompt_id':prompt_id, 'prompt_text': prompt_text,'similarity':similarity, 'KA':ka})\n",
        "\n",
        "        return pd.DataFrame(l)\n"
      ]
    },
    {
      "cell_type": "code",
      "execution_count": 15,
      "id": "b8571833",
      "metadata": {
        "id": "b8571833",
        "outputId": "2cdb0bd9-9f06-4557-dfa5-11638f7f8c18"
      },
      "outputs": [
        {
          "name": "stderr",
          "output_type": "stream",
          "text": [
            "Some weights of PegasusForConditionalGeneration were not initialized from the model checkpoint at tuner007/pegasus_paraphrase and are newly initialized: ['model.decoder.embed_positions.weight', 'model.encoder.embed_positions.weight']\n",
            "You should probably TRAIN this model on a down-stream task to be able to use it for predictions and inference.\n"
          ]
        }
      ],
      "source": [
        "# Example use\n",
        "APIKEY = os.getenv(\"OPENAI_API_KEY\")\n",
        "MODEL = 'gpt-3.5-turbo'\n",
        "llm = LLMWrapper(model = MODEL, apikey=APIKEY)\n",
        "\n",
        "data = [\"This creature, often seen as a symbol of independence, gracefully navigates its environment, its eyes shining like beacons in the twilight, always landing on its feet after a calculated leap.\",\n",
        "\"With a loyalty as steadfast as the north star, this companion greets each day with boundless enthusiasm, its wagging tail a metronome of joy as it awaits the next adventure beside its human.\",\n",
        "\"Cloaked in fur as soft as whispers, this enigmatic being prowls the silent corridors of its domain by night, its silhouette a fleeting ghost against the moonlit windows.\",\n",
        "\"An epitome of devotion, this guardian's bark is both a welcoming fanfare and a stern warning, its ears perpetually tuned to the sounds of its family's voices, standing watch over its home with unwavering vigilance.\",\n",
        "\"This solitary hunter, with whiskers tuned to the slightest rustle, moves like a shadow through the underbrush, its green gaze piercing the darkness, ever in pursuit of the elusive dance of light and shadow.\",\n",
        "\"Bearing a heart as wide as the open field it romps through, this creature's howls weave tales of ancestral wolves, yet its gentle eyes betray a soul purely devoted to the companionship of those it calls its pack.\",\n",
        "\"As if adorned with the softest down, this silent watcher claims the highest vantage points as its throne, surveying its kingdom with a regal indifference, yet secretly reveling in the warmth of a gentle stroke.\",\n",
        "\"In its eyes, one can see the flicker of ancient fireside companions, its presence a comforting weight at the foot of the bed, a protector of dreams and a keeper of secrets, sharing silent conversations in the stillness of night.\",\n",
        "\"With agility that belies its delicate form, this creature commands the air itself, its movements a ballet of precision and grace, leaving only the faintest whispers in its wake as it explores realms both high and low.\",\n",
        "\"This jovial spirit, with fur muddied from joyful romps in the rain, returns home with a trophy branch larger than itself, a testament to its undying zest for life and the simple pleasures found in a stick well-chased.\"]\n",
        "\n",
        "prompt = 'Does the message describe a cat or a dog?'\n",
        "prompt_postfix = '[Respond 0 for cat, and 1 for dog.]'\n",
        "psa = PromptStabilityAnalysis(llm, data)\n"
      ]
    },
    {
      "cell_type": "code",
      "execution_count": 16,
      "id": "6466ccac",
      "metadata": {
        "id": "6466ccac",
        "outputId": "59f08896-c1c4-4487-c0d6-3b54e85cd053"
      },
      "outputs": [
        {
          "name": "stderr",
          "output_type": "stream",
          "text": [
            "huggingface/tokenizers: The current process just got forked, after parallelism has already been used. Disabling parallelism to avoid deadlocks...\n",
            "To disable this warning, you can either:\n",
            "\t- Avoid using `tokenizers` before the fork if possible\n",
            "\t- Explicitly set the environment variable TOKENIZERS_PARALLELISM=(true | false)\n"
          ]
        },
        {
          "data": {
            "text/plain": [
              "'0'"
            ]
          },
          "execution_count": 16,
          "metadata": {},
          "output_type": "execute_result"
        }
      ],
      "source": [
        "# Test of wrapper class\n",
        "llm.annotate(text='A small pet that says miaow and has a great self-esteem.', prompt='Does the message describe a cat or a dog? Repond 0 for cat, and 1 for dog.')#\n"
      ]
    },
    {
      "cell_type": "code",
      "execution_count": 17,
      "id": "5e58c173",
      "metadata": {
        "id": "5e58c173",
        "outputId": "bf0cf03c-ee0d-4cd8-962a-b911acc09dc5"
      },
      "outputs": [
        {
          "name": "stdout",
          "output_type": "stream",
          "text": [
            "Iteration 0...\n",
            "Iteration 1...\n",
            "Iteration 2...\n",
            "Iteration 3...\n",
            "Iteration 4...\n",
            "Iteration 5...\n",
            "Iteration 6...\n",
            "Iteration 7...\n",
            "Iteration 8...\n",
            "Iteration 9...\n",
            "Finished annotation. Analyzing reliability\n"
          ]
        },
        {
          "data": {
            "application/vnd.plotly.v1+json": {
              "config": {
                "plotlyServerURL": "https://plot.ly"
              },
              "data": [
                {
                  "hovertemplate": "Repetitions=%{x}<br>KA Score=%{y}<extra></extra>",
                  "legendgroup": "",
                  "marker": {
                    "color": "#636efa",
                    "symbol": "circle"
                  },
                  "mode": "markers",
                  "name": "",
                  "orientation": "v",
                  "showlegend": false,
                  "type": "scatter",
                  "x": [
                    2,
                    3,
                    4,
                    5,
                    6,
                    7,
                    8,
                    9,
                    10
                  ],
                  "xaxis": "x",
                  "y": [
                    1,
                    1,
                    1,
                    1,
                    1,
                    1,
                    1,
                    1,
                    1
                  ],
                  "yaxis": "y"
                },
                {
                  "line": {
                    "color": "black",
                    "dash": "dash",
                    "width": 0.5
                  },
                  "mode": "lines",
                  "name": "KA Threshold",
                  "type": "scatter",
                  "x": [
                    0,
                    10
                  ],
                  "y": [
                    0.8,
                    0.8
                  ]
                }
              ],
              "layout": {
                "hovermode": "closest",
                "legend": {
                  "tracegroupgap": 0
                },
                "margin": {
                  "t": 60
                },
                "template": {
                  "data": {
                    "bar": [
                      {
                        "error_x": {
                          "color": "#2a3f5f"
                        },
                        "error_y": {
                          "color": "#2a3f5f"
                        },
                        "marker": {
                          "line": {
                            "color": "#E5ECF6",
                            "width": 0.5
                          },
                          "pattern": {
                            "fillmode": "overlay",
                            "size": 10,
                            "solidity": 0.2
                          }
                        },
                        "type": "bar"
                      }
                    ],
                    "barpolar": [
                      {
                        "marker": {
                          "line": {
                            "color": "#E5ECF6",
                            "width": 0.5
                          },
                          "pattern": {
                            "fillmode": "overlay",
                            "size": 10,
                            "solidity": 0.2
                          }
                        },
                        "type": "barpolar"
                      }
                    ],
                    "carpet": [
                      {
                        "aaxis": {
                          "endlinecolor": "#2a3f5f",
                          "gridcolor": "white",
                          "linecolor": "white",
                          "minorgridcolor": "white",
                          "startlinecolor": "#2a3f5f"
                        },
                        "baxis": {
                          "endlinecolor": "#2a3f5f",
                          "gridcolor": "white",
                          "linecolor": "white",
                          "minorgridcolor": "white",
                          "startlinecolor": "#2a3f5f"
                        },
                        "type": "carpet"
                      }
                    ],
                    "choropleth": [
                      {
                        "colorbar": {
                          "outlinewidth": 0,
                          "ticks": ""
                        },
                        "type": "choropleth"
                      }
                    ],
                    "contour": [
                      {
                        "colorbar": {
                          "outlinewidth": 0,
                          "ticks": ""
                        },
                        "colorscale": [
                          [
                            0,
                            "#0d0887"
                          ],
                          [
                            0.1111111111111111,
                            "#46039f"
                          ],
                          [
                            0.2222222222222222,
                            "#7201a8"
                          ],
                          [
                            0.3333333333333333,
                            "#9c179e"
                          ],
                          [
                            0.4444444444444444,
                            "#bd3786"
                          ],
                          [
                            0.5555555555555556,
                            "#d8576b"
                          ],
                          [
                            0.6666666666666666,
                            "#ed7953"
                          ],
                          [
                            0.7777777777777778,
                            "#fb9f3a"
                          ],
                          [
                            0.8888888888888888,
                            "#fdca26"
                          ],
                          [
                            1,
                            "#f0f921"
                          ]
                        ],
                        "type": "contour"
                      }
                    ],
                    "contourcarpet": [
                      {
                        "colorbar": {
                          "outlinewidth": 0,
                          "ticks": ""
                        },
                        "type": "contourcarpet"
                      }
                    ],
                    "heatmap": [
                      {
                        "colorbar": {
                          "outlinewidth": 0,
                          "ticks": ""
                        },
                        "colorscale": [
                          [
                            0,
                            "#0d0887"
                          ],
                          [
                            0.1111111111111111,
                            "#46039f"
                          ],
                          [
                            0.2222222222222222,
                            "#7201a8"
                          ],
                          [
                            0.3333333333333333,
                            "#9c179e"
                          ],
                          [
                            0.4444444444444444,
                            "#bd3786"
                          ],
                          [
                            0.5555555555555556,
                            "#d8576b"
                          ],
                          [
                            0.6666666666666666,
                            "#ed7953"
                          ],
                          [
                            0.7777777777777778,
                            "#fb9f3a"
                          ],
                          [
                            0.8888888888888888,
                            "#fdca26"
                          ],
                          [
                            1,
                            "#f0f921"
                          ]
                        ],
                        "type": "heatmap"
                      }
                    ],
                    "heatmapgl": [
                      {
                        "colorbar": {
                          "outlinewidth": 0,
                          "ticks": ""
                        },
                        "colorscale": [
                          [
                            0,
                            "#0d0887"
                          ],
                          [
                            0.1111111111111111,
                            "#46039f"
                          ],
                          [
                            0.2222222222222222,
                            "#7201a8"
                          ],
                          [
                            0.3333333333333333,
                            "#9c179e"
                          ],
                          [
                            0.4444444444444444,
                            "#bd3786"
                          ],
                          [
                            0.5555555555555556,
                            "#d8576b"
                          ],
                          [
                            0.6666666666666666,
                            "#ed7953"
                          ],
                          [
                            0.7777777777777778,
                            "#fb9f3a"
                          ],
                          [
                            0.8888888888888888,
                            "#fdca26"
                          ],
                          [
                            1,
                            "#f0f921"
                          ]
                        ],
                        "type": "heatmapgl"
                      }
                    ],
                    "histogram": [
                      {
                        "marker": {
                          "pattern": {
                            "fillmode": "overlay",
                            "size": 10,
                            "solidity": 0.2
                          }
                        },
                        "type": "histogram"
                      }
                    ],
                    "histogram2d": [
                      {
                        "colorbar": {
                          "outlinewidth": 0,
                          "ticks": ""
                        },
                        "colorscale": [
                          [
                            0,
                            "#0d0887"
                          ],
                          [
                            0.1111111111111111,
                            "#46039f"
                          ],
                          [
                            0.2222222222222222,
                            "#7201a8"
                          ],
                          [
                            0.3333333333333333,
                            "#9c179e"
                          ],
                          [
                            0.4444444444444444,
                            "#bd3786"
                          ],
                          [
                            0.5555555555555556,
                            "#d8576b"
                          ],
                          [
                            0.6666666666666666,
                            "#ed7953"
                          ],
                          [
                            0.7777777777777778,
                            "#fb9f3a"
                          ],
                          [
                            0.8888888888888888,
                            "#fdca26"
                          ],
                          [
                            1,
                            "#f0f921"
                          ]
                        ],
                        "type": "histogram2d"
                      }
                    ],
                    "histogram2dcontour": [
                      {
                        "colorbar": {
                          "outlinewidth": 0,
                          "ticks": ""
                        },
                        "colorscale": [
                          [
                            0,
                            "#0d0887"
                          ],
                          [
                            0.1111111111111111,
                            "#46039f"
                          ],
                          [
                            0.2222222222222222,
                            "#7201a8"
                          ],
                          [
                            0.3333333333333333,
                            "#9c179e"
                          ],
                          [
                            0.4444444444444444,
                            "#bd3786"
                          ],
                          [
                            0.5555555555555556,
                            "#d8576b"
                          ],
                          [
                            0.6666666666666666,
                            "#ed7953"
                          ],
                          [
                            0.7777777777777778,
                            "#fb9f3a"
                          ],
                          [
                            0.8888888888888888,
                            "#fdca26"
                          ],
                          [
                            1,
                            "#f0f921"
                          ]
                        ],
                        "type": "histogram2dcontour"
                      }
                    ],
                    "mesh3d": [
                      {
                        "colorbar": {
                          "outlinewidth": 0,
                          "ticks": ""
                        },
                        "type": "mesh3d"
                      }
                    ],
                    "parcoords": [
                      {
                        "line": {
                          "colorbar": {
                            "outlinewidth": 0,
                            "ticks": ""
                          }
                        },
                        "type": "parcoords"
                      }
                    ],
                    "pie": [
                      {
                        "automargin": true,
                        "type": "pie"
                      }
                    ],
                    "scatter": [
                      {
                        "fillpattern": {
                          "fillmode": "overlay",
                          "size": 10,
                          "solidity": 0.2
                        },
                        "type": "scatter"
                      }
                    ],
                    "scatter3d": [
                      {
                        "line": {
                          "colorbar": {
                            "outlinewidth": 0,
                            "ticks": ""
                          }
                        },
                        "marker": {
                          "colorbar": {
                            "outlinewidth": 0,
                            "ticks": ""
                          }
                        },
                        "type": "scatter3d"
                      }
                    ],
                    "scattercarpet": [
                      {
                        "marker": {
                          "colorbar": {
                            "outlinewidth": 0,
                            "ticks": ""
                          }
                        },
                        "type": "scattercarpet"
                      }
                    ],
                    "scattergeo": [
                      {
                        "marker": {
                          "colorbar": {
                            "outlinewidth": 0,
                            "ticks": ""
                          }
                        },
                        "type": "scattergeo"
                      }
                    ],
                    "scattergl": [
                      {
                        "marker": {
                          "colorbar": {
                            "outlinewidth": 0,
                            "ticks": ""
                          }
                        },
                        "type": "scattergl"
                      }
                    ],
                    "scattermapbox": [
                      {
                        "marker": {
                          "colorbar": {
                            "outlinewidth": 0,
                            "ticks": ""
                          }
                        },
                        "type": "scattermapbox"
                      }
                    ],
                    "scatterpolar": [
                      {
                        "marker": {
                          "colorbar": {
                            "outlinewidth": 0,
                            "ticks": ""
                          }
                        },
                        "type": "scatterpolar"
                      }
                    ],
                    "scatterpolargl": [
                      {
                        "marker": {
                          "colorbar": {
                            "outlinewidth": 0,
                            "ticks": ""
                          }
                        },
                        "type": "scatterpolargl"
                      }
                    ],
                    "scatterternary": [
                      {
                        "marker": {
                          "colorbar": {
                            "outlinewidth": 0,
                            "ticks": ""
                          }
                        },
                        "type": "scatterternary"
                      }
                    ],
                    "surface": [
                      {
                        "colorbar": {
                          "outlinewidth": 0,
                          "ticks": ""
                        },
                        "colorscale": [
                          [
                            0,
                            "#0d0887"
                          ],
                          [
                            0.1111111111111111,
                            "#46039f"
                          ],
                          [
                            0.2222222222222222,
                            "#7201a8"
                          ],
                          [
                            0.3333333333333333,
                            "#9c179e"
                          ],
                          [
                            0.4444444444444444,
                            "#bd3786"
                          ],
                          [
                            0.5555555555555556,
                            "#d8576b"
                          ],
                          [
                            0.6666666666666666,
                            "#ed7953"
                          ],
                          [
                            0.7777777777777778,
                            "#fb9f3a"
                          ],
                          [
                            0.8888888888888888,
                            "#fdca26"
                          ],
                          [
                            1,
                            "#f0f921"
                          ]
                        ],
                        "type": "surface"
                      }
                    ],
                    "table": [
                      {
                        "cells": {
                          "fill": {
                            "color": "#EBF0F8"
                          },
                          "line": {
                            "color": "white"
                          }
                        },
                        "header": {
                          "fill": {
                            "color": "#C8D4E3"
                          },
                          "line": {
                            "color": "white"
                          }
                        },
                        "type": "table"
                      }
                    ]
                  },
                  "layout": {
                    "annotationdefaults": {
                      "arrowcolor": "#2a3f5f",
                      "arrowhead": 0,
                      "arrowwidth": 1
                    },
                    "autotypenumbers": "strict",
                    "coloraxis": {
                      "colorbar": {
                        "outlinewidth": 0,
                        "ticks": ""
                      }
                    },
                    "colorscale": {
                      "diverging": [
                        [
                          0,
                          "#8e0152"
                        ],
                        [
                          0.1,
                          "#c51b7d"
                        ],
                        [
                          0.2,
                          "#de77ae"
                        ],
                        [
                          0.3,
                          "#f1b6da"
                        ],
                        [
                          0.4,
                          "#fde0ef"
                        ],
                        [
                          0.5,
                          "#f7f7f7"
                        ],
                        [
                          0.6,
                          "#e6f5d0"
                        ],
                        [
                          0.7,
                          "#b8e186"
                        ],
                        [
                          0.8,
                          "#7fbc41"
                        ],
                        [
                          0.9,
                          "#4d9221"
                        ],
                        [
                          1,
                          "#276419"
                        ]
                      ],
                      "sequential": [
                        [
                          0,
                          "#0d0887"
                        ],
                        [
                          0.1111111111111111,
                          "#46039f"
                        ],
                        [
                          0.2222222222222222,
                          "#7201a8"
                        ],
                        [
                          0.3333333333333333,
                          "#9c179e"
                        ],
                        [
                          0.4444444444444444,
                          "#bd3786"
                        ],
                        [
                          0.5555555555555556,
                          "#d8576b"
                        ],
                        [
                          0.6666666666666666,
                          "#ed7953"
                        ],
                        [
                          0.7777777777777778,
                          "#fb9f3a"
                        ],
                        [
                          0.8888888888888888,
                          "#fdca26"
                        ],
                        [
                          1,
                          "#f0f921"
                        ]
                      ],
                      "sequentialminus": [
                        [
                          0,
                          "#0d0887"
                        ],
                        [
                          0.1111111111111111,
                          "#46039f"
                        ],
                        [
                          0.2222222222222222,
                          "#7201a8"
                        ],
                        [
                          0.3333333333333333,
                          "#9c179e"
                        ],
                        [
                          0.4444444444444444,
                          "#bd3786"
                        ],
                        [
                          0.5555555555555556,
                          "#d8576b"
                        ],
                        [
                          0.6666666666666666,
                          "#ed7953"
                        ],
                        [
                          0.7777777777777778,
                          "#fb9f3a"
                        ],
                        [
                          0.8888888888888888,
                          "#fdca26"
                        ],
                        [
                          1,
                          "#f0f921"
                        ]
                      ]
                    },
                    "colorway": [
                      "#636efa",
                      "#EF553B",
                      "#00cc96",
                      "#ab63fa",
                      "#FFA15A",
                      "#19d3f3",
                      "#FF6692",
                      "#B6E880",
                      "#FF97FF",
                      "#FECB52"
                    ],
                    "font": {
                      "color": "#2a3f5f"
                    },
                    "geo": {
                      "bgcolor": "white",
                      "lakecolor": "white",
                      "landcolor": "#E5ECF6",
                      "showlakes": true,
                      "showland": true,
                      "subunitcolor": "white"
                    },
                    "hoverlabel": {
                      "align": "left"
                    },
                    "hovermode": "closest",
                    "mapbox": {
                      "style": "light"
                    },
                    "paper_bgcolor": "white",
                    "plot_bgcolor": "#E5ECF6",
                    "polar": {
                      "angularaxis": {
                        "gridcolor": "white",
                        "linecolor": "white",
                        "ticks": ""
                      },
                      "bgcolor": "#E5ECF6",
                      "radialaxis": {
                        "gridcolor": "white",
                        "linecolor": "white",
                        "ticks": ""
                      }
                    },
                    "scene": {
                      "xaxis": {
                        "backgroundcolor": "#E5ECF6",
                        "gridcolor": "white",
                        "gridwidth": 2,
                        "linecolor": "white",
                        "showbackground": true,
                        "ticks": "",
                        "zerolinecolor": "white"
                      },
                      "yaxis": {
                        "backgroundcolor": "#E5ECF6",
                        "gridcolor": "white",
                        "gridwidth": 2,
                        "linecolor": "white",
                        "showbackground": true,
                        "ticks": "",
                        "zerolinecolor": "white"
                      },
                      "zaxis": {
                        "backgroundcolor": "#E5ECF6",
                        "gridcolor": "white",
                        "gridwidth": 2,
                        "linecolor": "white",
                        "showbackground": true,
                        "ticks": "",
                        "zerolinecolor": "white"
                      }
                    },
                    "shapedefaults": {
                      "line": {
                        "color": "#2a3f5f"
                      }
                    },
                    "ternary": {
                      "aaxis": {
                        "gridcolor": "white",
                        "linecolor": "white",
                        "ticks": ""
                      },
                      "baxis": {
                        "gridcolor": "white",
                        "linecolor": "white",
                        "ticks": ""
                      },
                      "bgcolor": "#E5ECF6",
                      "caxis": {
                        "gridcolor": "white",
                        "linecolor": "white",
                        "ticks": ""
                      }
                    },
                    "title": {
                      "x": 0.05
                    },
                    "xaxis": {
                      "automargin": true,
                      "gridcolor": "white",
                      "linecolor": "white",
                      "ticks": "",
                      "title": {
                        "standoff": 15
                      },
                      "zerolinecolor": "white",
                      "zerolinewidth": 2
                    },
                    "yaxis": {
                      "automargin": true,
                      "gridcolor": "white",
                      "linecolor": "white",
                      "ticks": "",
                      "title": {
                        "standoff": 15
                      },
                      "zerolinecolor": "white",
                      "zerolinewidth": 2
                    }
                  }
                },
                "title": {
                  "text": "Reliability (KA) vs. Repetitions"
                },
                "xaxis": {
                  "anchor": "y",
                  "domain": [
                    0,
                    1
                  ],
                  "title": {
                    "text": "Number of Prompt Repetitions"
                  }
                },
                "yaxis": {
                  "anchor": "x",
                  "domain": [
                    0,
                    1
                  ],
                  "range": [
                    0,
                    1.05
                  ],
                  "title": {
                    "text": "KA Score"
                  }
                }
              }
            }
          },
          "metadata": {},
          "output_type": "display_data"
        },
        {
          "name": "stdout",
          "output_type": "stream",
          "text": [
            "Within-prompt KA reliability score for 10 repetitions is 1.0\n"
          ]
        },
        {
          "data": {
            "text/html": [
              "<div>\n",
              "<style scoped>\n",
              "    .dataframe tbody tr th:only-of-type {\n",
              "        vertical-align: middle;\n",
              "    }\n",
              "\n",
              "    .dataframe tbody tr th {\n",
              "        vertical-align: top;\n",
              "    }\n",
              "\n",
              "    .dataframe thead th {\n",
              "        text-align: right;\n",
              "    }\n",
              "</style>\n",
              "<table border=\"1\" class=\"dataframe\">\n",
              "  <thead>\n",
              "    <tr style=\"text-align: right;\">\n",
              "      <th></th>\n",
              "      <th>similarity</th>\n",
              "      <th>phrase</th>\n",
              "      <th>original</th>\n",
              "    </tr>\n",
              "  </thead>\n",
              "  <tbody>\n",
              "    <tr>\n",
              "      <th>50</th>\n",
              "      <td>0.788384</td>\n",
              "      <td>Does it say a cat or a dog? [Respond 0 for cat, and 1 for dog.]</td>\n",
              "      <td>False</td>\n",
              "    </tr>\n",
              "    <tr>\n",
              "      <th>34</th>\n",
              "      <td>0.831113</td>\n",
              "      <td>Does the message include any information about a cat or dog? [Respond 0 for cat, and 1 for dog.]</td>\n",
              "      <td>False</td>\n",
              "    </tr>\n",
              "    <tr>\n",
              "      <th>48</th>\n",
              "      <td>0.845084</td>\n",
              "      <td>Do the words describe a cat or dog? [Respond 0 for cat, and 1 for dog.]</td>\n",
              "      <td>False</td>\n",
              "    </tr>\n",
              "    <tr>\n",
              "      <th>46</th>\n",
              "      <td>0.846404</td>\n",
              "      <td>Is the message about cats or dogs? [Respond 0 for cat, and 1 for dog.]</td>\n",
              "      <td>False</td>\n",
              "    </tr>\n",
              "    <tr>\n",
              "      <th>20</th>\n",
              "      <td>0.850658</td>\n",
              "      <td>Is the message about a cat or dog accurate? [Respond 0 for cat, and 1 for dog.]</td>\n",
              "      <td>False</td>\n",
              "    </tr>\n",
              "    <tr>\n",
              "      <th>16</th>\n",
              "      <td>0.863973</td>\n",
              "      <td>The message may or may not describe a cat or dog. [Respond 0 for cat, and 1 for dog.]</td>\n",
              "      <td>False</td>\n",
              "    </tr>\n",
              "    <tr>\n",
              "      <th>24</th>\n",
              "      <td>0.869239</td>\n",
              "      <td>Is the message about a cat or a dog accurate? [Respond 0 for cat, and 1 for dog.]</td>\n",
              "      <td>False</td>\n",
              "    </tr>\n",
              "    <tr>\n",
              "      <th>39</th>\n",
              "      <td>0.869776</td>\n",
              "      <td>There is a message about a cat or dog. [Respond 0 for cat, and 1 for dog.]</td>\n",
              "      <td>False</td>\n",
              "    </tr>\n",
              "    <tr>\n",
              "      <th>25</th>\n",
              "      <td>0.870629</td>\n",
              "      <td>Does the message include information about a cat or dog? [Respond 0 for cat, and 1 for dog.]</td>\n",
              "      <td>False</td>\n",
              "    </tr>\n",
              "    <tr>\n",
              "      <th>45</th>\n",
              "      <td>0.878244</td>\n",
              "      <td>Does the message include information about a cat or a dog? [Respond 0 for cat, and 1 for dog.]</td>\n",
              "      <td>False</td>\n",
              "    </tr>\n",
              "    <tr>\n",
              "      <th>42</th>\n",
              "      <td>0.880200</td>\n",
              "      <td>The message may or may not describe a cat or a dog. [Respond 0 for cat, and 1 for dog.]</td>\n",
              "      <td>False</td>\n",
              "    </tr>\n",
              "    <tr>\n",
              "      <th>9</th>\n",
              "      <td>0.884283</td>\n",
              "      <td>Does the message say anything about a cat or dog? [Respond 0 for cat, and 1 for dog.]</td>\n",
              "      <td>False</td>\n",
              "    </tr>\n",
              "    <tr>\n",
              "      <th>29</th>\n",
              "      <td>0.891563</td>\n",
              "      <td>Does the message say anything about a cat or a dog? [Respond 0 for cat, and 1 for dog.]</td>\n",
              "      <td>False</td>\n",
              "    </tr>\n",
              "    <tr>\n",
              "      <th>21</th>\n",
              "      <td>0.896741</td>\n",
              "      <td>Is the message about a dog or a cat? [Respond 0 for cat, and 1 for dog.]</td>\n",
              "      <td>False</td>\n",
              "    </tr>\n",
              "    <tr>\n",
              "      <th>5</th>\n",
              "      <td>0.899961</td>\n",
              "      <td>Is the message about a dog or cat? [Respond 0 for cat, and 1 for dog.]</td>\n",
              "      <td>False</td>\n",
              "    </tr>\n",
              "    <tr>\n",
              "      <th>49</th>\n",
              "      <td>0.901600</td>\n",
              "      <td>The message talks about a cat or dog. [Respond 0 for cat, and 1 for dog.]</td>\n",
              "      <td>False</td>\n",
              "    </tr>\n",
              "    <tr>\n",
              "      <th>27</th>\n",
              "      <td>0.903019</td>\n",
              "      <td>Does the message include a description of a cat or dog? [Respond 0 for cat, and 1 for dog.]</td>\n",
              "      <td>False</td>\n",
              "    </tr>\n",
              "    <tr>\n",
              "      <th>32</th>\n",
              "      <td>0.907686</td>\n",
              "      <td>Does the message say something about a dog or cat? [Respond 0 for cat, and 1 for dog.]</td>\n",
              "      <td>False</td>\n",
              "    </tr>\n",
              "    <tr>\n",
              "      <th>22</th>\n",
              "      <td>0.912018</td>\n",
              "      <td>Does the message talk about a cat or dog? [Respond 0 for cat, and 1 for dog.]</td>\n",
              "      <td>False</td>\n",
              "    </tr>\n",
              "    <tr>\n",
              "      <th>19</th>\n",
              "      <td>0.914133</td>\n",
              "      <td>Is it a message about a cat or a dog? [Respond 0 for cat, and 1 for dog.]</td>\n",
              "      <td>False</td>\n",
              "    </tr>\n",
              "    <tr>\n",
              "      <th>28</th>\n",
              "      <td>0.916441</td>\n",
              "      <td>Is it a message about a cat or dog? [Respond 0 for cat, and 1 for dog.]</td>\n",
              "      <td>False</td>\n",
              "    </tr>\n",
              "    <tr>\n",
              "      <th>3</th>\n",
              "      <td>0.917287</td>\n",
              "      <td>Is the message about a cat or a dog? [Respond 0 for cat, and 1 for dog.]</td>\n",
              "      <td>False</td>\n",
              "    </tr>\n",
              "    <tr>\n",
              "      <th>37</th>\n",
              "      <td>0.917851</td>\n",
              "      <td>Does the message talk about a cat or a dog? [Respond 0 for cat, and 1 for dog.]</td>\n",
              "      <td>False</td>\n",
              "    </tr>\n",
              "    <tr>\n",
              "      <th>10</th>\n",
              "      <td>0.918963</td>\n",
              "      <td>Does the message mention a dog or cat? [Respond 0 for cat, and 1 for dog.]</td>\n",
              "      <td>False</td>\n",
              "    </tr>\n",
              "    <tr>\n",
              "      <th>1</th>\n",
              "      <td>0.920899</td>\n",
              "      <td>Is the message about a cat or dog? [Respond 0 for cat, and 1 for dog.]</td>\n",
              "      <td>False</td>\n",
              "    </tr>\n",
              "    <tr>\n",
              "      <th>14</th>\n",
              "      <td>0.924365</td>\n",
              "      <td>Is the message for a cat or dog? [Respond 0 for cat, and 1 for dog.]</td>\n",
              "      <td>False</td>\n",
              "    </tr>\n",
              "    <tr>\n",
              "      <th>26</th>\n",
              "      <td>0.924416</td>\n",
              "      <td>Is the message for a cat or a dog? [Respond 0 for cat, and 1 for dog.]</td>\n",
              "      <td>False</td>\n",
              "    </tr>\n",
              "    <tr>\n",
              "      <th>7</th>\n",
              "      <td>0.927017</td>\n",
              "      <td>Does the message say something about a cat or dog? [Respond 0 for cat, and 1 for dog.]</td>\n",
              "      <td>False</td>\n",
              "    </tr>\n",
              "    <tr>\n",
              "      <th>47</th>\n",
              "      <td>0.929197</td>\n",
              "      <td>Does the message reference a cat or dog? [Respond 0 for cat, and 1 for dog.]</td>\n",
              "      <td>False</td>\n",
              "    </tr>\n",
              "    <tr>\n",
              "      <th>13</th>\n",
              "      <td>0.931325</td>\n",
              "      <td>Does the message say something about a cat or a dog? [Respond 0 for cat, and 1 for dog.]</td>\n",
              "      <td>False</td>\n",
              "    </tr>\n",
              "    <tr>\n",
              "      <th>38</th>\n",
              "      <td>0.932125</td>\n",
              "      <td>Does the message say a dog or cat? [Respond 0 for cat, and 1 for dog.]</td>\n",
              "      <td>False</td>\n",
              "    </tr>\n",
              "    <tr>\n",
              "      <th>43</th>\n",
              "      <td>0.937359</td>\n",
              "      <td>Does the message mean something about a cat or dog? [Respond 0 for cat, and 1 for dog.]</td>\n",
              "      <td>False</td>\n",
              "    </tr>\n",
              "    <tr>\n",
              "      <th>2</th>\n",
              "      <td>0.937727</td>\n",
              "      <td>Does the message mention a cat or dog? [Respond 0 for cat, and 1 for dog.]</td>\n",
              "      <td>False</td>\n",
              "    </tr>\n",
              "    <tr>\n",
              "      <th>12</th>\n",
              "      <td>0.938172</td>\n",
              "      <td>The message might describe a cat or dog. [Respond 0 for cat, and 1 for dog.]</td>\n",
              "      <td>False</td>\n",
              "    </tr>\n",
              "    <tr>\n",
              "      <th>18</th>\n",
              "      <td>0.939031</td>\n",
              "      <td>Does the message refer to a dog or cat? [Respond 0 for cat, and 1 for dog.]</td>\n",
              "      <td>False</td>\n",
              "    </tr>\n",
              "    <tr>\n",
              "      <th>31</th>\n",
              "      <td>0.939250</td>\n",
              "      <td>Is the message related to a cat or dog? [Respond 0 for cat, and 1 for dog.]</td>\n",
              "      <td>False</td>\n",
              "    </tr>\n",
              "    <tr>\n",
              "      <th>44</th>\n",
              "      <td>0.940378</td>\n",
              "      <td>Does the message mean something about a cat or a dog? [Respond 0 for cat, and 1 for dog.]</td>\n",
              "      <td>False</td>\n",
              "    </tr>\n",
              "    <tr>\n",
              "      <th>41</th>\n",
              "      <td>0.940867</td>\n",
              "      <td>Do you think the message describes a cat or dog? [Respond 0 for cat, and 1 for dog.]</td>\n",
              "      <td>False</td>\n",
              "    </tr>\n",
              "    <tr>\n",
              "      <th>8</th>\n",
              "      <td>0.941624</td>\n",
              "      <td>Does the message mention a cat or a dog? [Respond 0 for cat, and 1 for dog.]</td>\n",
              "      <td>False</td>\n",
              "    </tr>\n",
              "    <tr>\n",
              "      <th>23</th>\n",
              "      <td>0.943063</td>\n",
              "      <td>Is the message related to a cat or a dog? [Respond 0 for cat, and 1 for dog.]</td>\n",
              "      <td>False</td>\n",
              "    </tr>\n",
              "    <tr>\n",
              "      <th>11</th>\n",
              "      <td>0.946624</td>\n",
              "      <td>The message may describe a cat or dog. [Respond 0 for cat, and 1 for dog.]</td>\n",
              "      <td>False</td>\n",
              "    </tr>\n",
              "    <tr>\n",
              "      <th>15</th>\n",
              "      <td>0.946724</td>\n",
              "      <td>Does the message say a cat or dog? [Respond 0 for cat, and 1 for dog.]</td>\n",
              "      <td>False</td>\n",
              "    </tr>\n",
              "    <tr>\n",
              "      <th>40</th>\n",
              "      <td>0.947630</td>\n",
              "      <td>The message describes a cat or dog. [Respond 0 for cat, and 1 for dog.]</td>\n",
              "      <td>False</td>\n",
              "    </tr>\n",
              "    <tr>\n",
              "      <th>35</th>\n",
              "      <td>0.948403</td>\n",
              "      <td>The message might describe a cat or a dog. [Respond 0 for cat, and 1 for dog.]</td>\n",
              "      <td>False</td>\n",
              "    </tr>\n",
              "    <tr>\n",
              "      <th>4</th>\n",
              "      <td>0.948534</td>\n",
              "      <td>Does the message refer to a cat or dog? [Respond 0 for cat, and 1 for dog.]</td>\n",
              "      <td>False</td>\n",
              "    </tr>\n",
              "    <tr>\n",
              "      <th>17</th>\n",
              "      <td>0.949568</td>\n",
              "      <td>Does the message say a cat or a dog? [Respond 0 for cat, and 1 for dog.]</td>\n",
              "      <td>False</td>\n",
              "    </tr>\n",
              "    <tr>\n",
              "      <th>6</th>\n",
              "      <td>0.956804</td>\n",
              "      <td>Does the message refer to a cat or a dog? [Respond 0 for cat, and 1 for dog.]</td>\n",
              "      <td>False</td>\n",
              "    </tr>\n",
              "    <tr>\n",
              "      <th>30</th>\n",
              "      <td>0.957221</td>\n",
              "      <td>The message may describe a cat or a dog. [Respond 0 for cat, and 1 for dog.]</td>\n",
              "      <td>False</td>\n",
              "    </tr>\n",
              "    <tr>\n",
              "      <th>33</th>\n",
              "      <td>0.982232</td>\n",
              "      <td>Does the message describe a dog or cat? [Respond 0 for cat, and 1 for dog.]</td>\n",
              "      <td>False</td>\n",
              "    </tr>\n",
              "    <tr>\n",
              "      <th>36</th>\n",
              "      <td>0.993089</td>\n",
              "      <td>Does the message describe a cat or dog? [Respond 0 for cat, and 1 for dog.]</td>\n",
              "      <td>False</td>\n",
              "    </tr>\n",
              "    <tr>\n",
              "      <th>0</th>\n",
              "      <td>1.000000</td>\n",
              "      <td>Does the message describe a cat or a dog? [Respond 0 for cat, and 1 for dog.]</td>\n",
              "      <td>True</td>\n",
              "    </tr>\n",
              "  </tbody>\n",
              "</table>\n",
              "</div>"
            ],
            "text/plain": [
              "    similarity  \\\n",
              "50    0.788384   \n",
              "34    0.831113   \n",
              "48    0.845084   \n",
              "46    0.846404   \n",
              "20    0.850658   \n",
              "16    0.863973   \n",
              "24    0.869239   \n",
              "39    0.869776   \n",
              "25    0.870629   \n",
              "45    0.878244   \n",
              "42    0.880200   \n",
              "9     0.884283   \n",
              "29    0.891563   \n",
              "21    0.896741   \n",
              "5     0.899961   \n",
              "49    0.901600   \n",
              "27    0.903019   \n",
              "32    0.907686   \n",
              "22    0.912018   \n",
              "19    0.914133   \n",
              "28    0.916441   \n",
              "3     0.917287   \n",
              "37    0.917851   \n",
              "10    0.918963   \n",
              "1     0.920899   \n",
              "14    0.924365   \n",
              "26    0.924416   \n",
              "7     0.927017   \n",
              "47    0.929197   \n",
              "13    0.931325   \n",
              "38    0.932125   \n",
              "43    0.937359   \n",
              "2     0.937727   \n",
              "12    0.938172   \n",
              "18    0.939031   \n",
              "31    0.939250   \n",
              "44    0.940378   \n",
              "41    0.940867   \n",
              "8     0.941624   \n",
              "23    0.943063   \n",
              "11    0.946624   \n",
              "15    0.946724   \n",
              "40    0.947630   \n",
              "35    0.948403   \n",
              "4     0.948534   \n",
              "17    0.949568   \n",
              "6     0.956804   \n",
              "30    0.957221   \n",
              "33    0.982232   \n",
              "36    0.993089   \n",
              "0     1.000000   \n",
              "\n",
              "                                                                                              phrase  \\\n",
              "50                                   Does it say a cat or a dog? [Respond 0 for cat, and 1 for dog.]   \n",
              "34  Does the message include any information about a cat or dog? [Respond 0 for cat, and 1 for dog.]   \n",
              "48                           Do the words describe a cat or dog? [Respond 0 for cat, and 1 for dog.]   \n",
              "46                            Is the message about cats or dogs? [Respond 0 for cat, and 1 for dog.]   \n",
              "20                   Is the message about a cat or dog accurate? [Respond 0 for cat, and 1 for dog.]   \n",
              "16             The message may or may not describe a cat or dog. [Respond 0 for cat, and 1 for dog.]   \n",
              "24                 Is the message about a cat or a dog accurate? [Respond 0 for cat, and 1 for dog.]   \n",
              "39                        There is a message about a cat or dog. [Respond 0 for cat, and 1 for dog.]   \n",
              "25      Does the message include information about a cat or dog? [Respond 0 for cat, and 1 for dog.]   \n",
              "45    Does the message include information about a cat or a dog? [Respond 0 for cat, and 1 for dog.]   \n",
              "42           The message may or may not describe a cat or a dog. [Respond 0 for cat, and 1 for dog.]   \n",
              "9              Does the message say anything about a cat or dog? [Respond 0 for cat, and 1 for dog.]   \n",
              "29           Does the message say anything about a cat or a dog? [Respond 0 for cat, and 1 for dog.]   \n",
              "21                          Is the message about a dog or a cat? [Respond 0 for cat, and 1 for dog.]   \n",
              "5                             Is the message about a dog or cat? [Respond 0 for cat, and 1 for dog.]   \n",
              "49                         The message talks about a cat or dog. [Respond 0 for cat, and 1 for dog.]   \n",
              "27       Does the message include a description of a cat or dog? [Respond 0 for cat, and 1 for dog.]   \n",
              "32            Does the message say something about a dog or cat? [Respond 0 for cat, and 1 for dog.]   \n",
              "22                     Does the message talk about a cat or dog? [Respond 0 for cat, and 1 for dog.]   \n",
              "19                         Is it a message about a cat or a dog? [Respond 0 for cat, and 1 for dog.]   \n",
              "28                           Is it a message about a cat or dog? [Respond 0 for cat, and 1 for dog.]   \n",
              "3                           Is the message about a cat or a dog? [Respond 0 for cat, and 1 for dog.]   \n",
              "37                   Does the message talk about a cat or a dog? [Respond 0 for cat, and 1 for dog.]   \n",
              "10                        Does the message mention a dog or cat? [Respond 0 for cat, and 1 for dog.]   \n",
              "1                             Is the message about a cat or dog? [Respond 0 for cat, and 1 for dog.]   \n",
              "14                              Is the message for a cat or dog? [Respond 0 for cat, and 1 for dog.]   \n",
              "26                            Is the message for a cat or a dog? [Respond 0 for cat, and 1 for dog.]   \n",
              "7             Does the message say something about a cat or dog? [Respond 0 for cat, and 1 for dog.]   \n",
              "47                      Does the message reference a cat or dog? [Respond 0 for cat, and 1 for dog.]   \n",
              "13          Does the message say something about a cat or a dog? [Respond 0 for cat, and 1 for dog.]   \n",
              "38                            Does the message say a dog or cat? [Respond 0 for cat, and 1 for dog.]   \n",
              "43           Does the message mean something about a cat or dog? [Respond 0 for cat, and 1 for dog.]   \n",
              "2                         Does the message mention a cat or dog? [Respond 0 for cat, and 1 for dog.]   \n",
              "12                      The message might describe a cat or dog. [Respond 0 for cat, and 1 for dog.]   \n",
              "18                       Does the message refer to a dog or cat? [Respond 0 for cat, and 1 for dog.]   \n",
              "31                       Is the message related to a cat or dog? [Respond 0 for cat, and 1 for dog.]   \n",
              "44         Does the message mean something about a cat or a dog? [Respond 0 for cat, and 1 for dog.]   \n",
              "41              Do you think the message describes a cat or dog? [Respond 0 for cat, and 1 for dog.]   \n",
              "8                       Does the message mention a cat or a dog? [Respond 0 for cat, and 1 for dog.]   \n",
              "23                     Is the message related to a cat or a dog? [Respond 0 for cat, and 1 for dog.]   \n",
              "11                        The message may describe a cat or dog. [Respond 0 for cat, and 1 for dog.]   \n",
              "15                            Does the message say a cat or dog? [Respond 0 for cat, and 1 for dog.]   \n",
              "40                           The message describes a cat or dog. [Respond 0 for cat, and 1 for dog.]   \n",
              "35                    The message might describe a cat or a dog. [Respond 0 for cat, and 1 for dog.]   \n",
              "4                        Does the message refer to a cat or dog? [Respond 0 for cat, and 1 for dog.]   \n",
              "17                          Does the message say a cat or a dog? [Respond 0 for cat, and 1 for dog.]   \n",
              "6                      Does the message refer to a cat or a dog? [Respond 0 for cat, and 1 for dog.]   \n",
              "30                      The message may describe a cat or a dog. [Respond 0 for cat, and 1 for dog.]   \n",
              "33                       Does the message describe a dog or cat? [Respond 0 for cat, and 1 for dog.]   \n",
              "36                       Does the message describe a cat or dog? [Respond 0 for cat, and 1 for dog.]   \n",
              "0                      Does the message describe a cat or a dog? [Respond 0 for cat, and 1 for dog.]   \n",
              "\n",
              "    original  \n",
              "50     False  \n",
              "34     False  \n",
              "48     False  \n",
              "46     False  \n",
              "20     False  \n",
              "16     False  \n",
              "24     False  \n",
              "39     False  \n",
              "25     False  \n",
              "45     False  \n",
              "42     False  \n",
              "9      False  \n",
              "29     False  \n",
              "21     False  \n",
              "5      False  \n",
              "49     False  \n",
              "27     False  \n",
              "32     False  \n",
              "22     False  \n",
              "19     False  \n",
              "28     False  \n",
              "3      False  \n",
              "37     False  \n",
              "10     False  \n",
              "1      False  \n",
              "14     False  \n",
              "26     False  \n",
              "7      False  \n",
              "47     False  \n",
              "13     False  \n",
              "38     False  \n",
              "43     False  \n",
              "2      False  \n",
              "12     False  \n",
              "18     False  \n",
              "31     False  \n",
              "44     False  \n",
              "41     False  \n",
              "8      False  \n",
              "23     False  \n",
              "11     False  \n",
              "15     False  \n",
              "40     False  \n",
              "35     False  \n",
              "4      False  \n",
              "17     False  \n",
              "6      False  \n",
              "30     False  \n",
              "33     False  \n",
              "36     False  \n",
              "0       True  "
            ]
          },
          "metadata": {},
          "output_type": "display_data"
        },
        {
          "name": "stdout",
          "output_type": "stream",
          "text": [
            "Iteration 0...\n",
            "Iteration 1...\n",
            "Iteration 2...\n",
            "Iteration 3...\n",
            "Iteration 4...\n",
            "Iteration 5...\n",
            "Iteration 6...\n",
            "Iteration 7...\n",
            "Iteration 8...\n",
            "Iteration 9...\n",
            "Iteration 10...\n",
            "Iteration 11...\n",
            "Iteration 12...\n",
            "Iteration 13...\n",
            "Iteration 14...\n",
            "Iteration 15...\n",
            "Iteration 16...\n",
            "Iteration 17...\n",
            "Iteration 18...\n",
            "Iteration 19...\n",
            "Iteration 20...\n",
            "Iteration 21...\n",
            "Iteration 22...\n",
            "Iteration 23...\n",
            "Iteration 24...\n",
            "Iteration 25...\n",
            "Iteration 26...\n",
            "Iteration 27...\n",
            "Iteration 28...\n",
            "Iteration 29...\n",
            "Iteration 30...\n",
            "Iteration 31...\n",
            "Iteration 32...\n",
            "Iteration 33...\n",
            "Iteration 34...\n",
            "Iteration 35...\n",
            "Iteration 36...\n",
            "Iteration 37...\n",
            "Iteration 38...\n",
            "Iteration 39...\n",
            "Iteration 40...\n",
            "Iteration 41...\n",
            "Iteration 42...\n",
            "Iteration 43...\n",
            "Iteration 44...\n",
            "Iteration 45...\n",
            "Iteration 46...\n",
            "Iteration 47...\n",
            "Iteration 48...\n",
            "Iteration 49...\n",
            "Iteration 50...\n",
            "Finished annotation. Analyzing reliability\n"
          ]
        },
        {
          "data": {
            "application/vnd.plotly.v1+json": {
              "config": {
                "plotlyServerURL": "https://plot.ly"
              },
              "data": [
                {
                  "customdata": [
                    [
                      0
                    ],
                    [
                      1
                    ],
                    [
                      2
                    ],
                    [
                      3
                    ],
                    [
                      4
                    ],
                    [
                      5
                    ],
                    [
                      6
                    ],
                    [
                      7
                    ],
                    [
                      8
                    ],
                    [
                      9
                    ],
                    [
                      10
                    ],
                    [
                      11
                    ],
                    [
                      12
                    ],
                    [
                      13
                    ],
                    [
                      14
                    ],
                    [
                      15
                    ],
                    [
                      16
                    ],
                    [
                      17
                    ],
                    [
                      18
                    ],
                    [
                      19
                    ],
                    [
                      20
                    ],
                    [
                      21
                    ],
                    [
                      22
                    ],
                    [
                      23
                    ],
                    [
                      24
                    ],
                    [
                      25
                    ],
                    [
                      26
                    ],
                    [
                      27
                    ],
                    [
                      28
                    ],
                    [
                      29
                    ],
                    [
                      30
                    ],
                    [
                      31
                    ],
                    [
                      32
                    ],
                    [
                      33
                    ],
                    [
                      34
                    ],
                    [
                      35
                    ],
                    [
                      36
                    ],
                    [
                      37
                    ],
                    [
                      38
                    ],
                    [
                      39
                    ],
                    [
                      40
                    ],
                    [
                      41
                    ],
                    [
                      42
                    ],
                    [
                      43
                    ],
                    [
                      44
                    ],
                    [
                      45
                    ],
                    [
                      46
                    ],
                    [
                      47
                    ],
                    [
                      48
                    ],
                    [
                      49
                    ]
                  ],
                  "hoverlabel": {
                    "align": "left",
                    "font": {
                      "size": 12
                    },
                    "namelength": 30
                  },
                  "hovertemplate": "Prompt Similarity=%{x}<br>KA Score=%{y}<br>Prompt_id=%{customdata[0]}<extra></extra>",
                  "legendgroup": "",
                  "marker": {
                    "color": "#636efa",
                    "symbol": "circle"
                  },
                  "mode": "markers",
                  "name": "",
                  "orientation": "v",
                  "showlegend": false,
                  "type": "scatter",
                  "x": [
                    0.7883844971656799,
                    0.8311129808425903,
                    0.8450837135314941,
                    0.8464035987854004,
                    0.8506579399108887,
                    0.8639727830886841,
                    0.8692387342453003,
                    0.8697761297225952,
                    0.8706289529800415,
                    0.8782443404197693,
                    0.8802000284194946,
                    0.8842827677726746,
                    0.8915630578994751,
                    0.8967406749725342,
                    0.8999607563018799,
                    0.9016000032424927,
                    0.903018593788147,
                    0.9076861143112183,
                    0.9120181202888489,
                    0.9141330718994141,
                    0.9164412021636963,
                    0.9172871112823486,
                    0.9178509712219238,
                    0.9189629554748535,
                    0.9208992719650269,
                    0.9243652820587158,
                    0.9244157671928406,
                    0.9270172119140625,
                    0.9291971921920776,
                    0.9313254356384277,
                    0.9321251511573792,
                    0.9373587965965271,
                    0.9377272725105286,
                    0.938172459602356,
                    0.9390305876731873,
                    0.9392497539520264,
                    0.9403783082962036,
                    0.9408674240112305,
                    0.9416238069534302,
                    0.9430634379386902,
                    0.9466240406036377,
                    0.946723997592926,
                    0.9476300477981567,
                    0.9484025239944458,
                    0.9485340118408203,
                    0.9495682120323181,
                    0.9568038582801819,
                    0.9572213888168335,
                    0.9822323322296143,
                    0.9930891990661621
                  ],
                  "xaxis": "x",
                  "y": [
                    0.6041666666666667,
                    1,
                    1,
                    1,
                    1,
                    0.8080808080808081,
                    1,
                    -0.04395604395604402,
                    1,
                    0.7912087912087912,
                    1,
                    1,
                    0.7912087912087912,
                    -0.04395604395604402,
                    -0.357142857142857,
                    0.4242424242424242,
                    1,
                    -0.04395604395604402,
                    0.62,
                    1,
                    0.20833333333333337,
                    1,
                    1,
                    0.20833333333333337,
                    1,
                    0.62,
                    1,
                    1,
                    0.8080808080808081,
                    1,
                    -0.04395604395604402,
                    -0.04395604395604402,
                    0.8080808080808081,
                    0.4242424242424242,
                    -0.04395604395604402,
                    0.8080808080808081,
                    0.8080808080808081,
                    0.62,
                    0.8080808080808081,
                    1,
                    0.8080808080808081,
                    1,
                    0.8080808080808081,
                    1,
                    1,
                    1,
                    1,
                    1,
                    0.4242424242424242,
                    0.8080808080808081
                  ],
                  "yaxis": "y"
                },
                {
                  "hoverlabel": {
                    "align": "left",
                    "font": {
                      "size": 12
                    },
                    "namelength": 30
                  },
                  "line": {
                    "color": "black",
                    "dash": "dash",
                    "width": 0.5
                  },
                  "mode": "lines",
                  "name": "KA Threshold",
                  "type": "scatter",
                  "x": [
                    0,
                    1
                  ],
                  "y": [
                    0.8,
                    0.8
                  ]
                }
              ],
              "layout": {
                "hovermode": "closest",
                "legend": {
                  "tracegroupgap": 0
                },
                "margin": {
                  "t": 60
                },
                "template": {
                  "data": {
                    "bar": [
                      {
                        "error_x": {
                          "color": "#2a3f5f"
                        },
                        "error_y": {
                          "color": "#2a3f5f"
                        },
                        "marker": {
                          "line": {
                            "color": "#E5ECF6",
                            "width": 0.5
                          },
                          "pattern": {
                            "fillmode": "overlay",
                            "size": 10,
                            "solidity": 0.2
                          }
                        },
                        "type": "bar"
                      }
                    ],
                    "barpolar": [
                      {
                        "marker": {
                          "line": {
                            "color": "#E5ECF6",
                            "width": 0.5
                          },
                          "pattern": {
                            "fillmode": "overlay",
                            "size": 10,
                            "solidity": 0.2
                          }
                        },
                        "type": "barpolar"
                      }
                    ],
                    "carpet": [
                      {
                        "aaxis": {
                          "endlinecolor": "#2a3f5f",
                          "gridcolor": "white",
                          "linecolor": "white",
                          "minorgridcolor": "white",
                          "startlinecolor": "#2a3f5f"
                        },
                        "baxis": {
                          "endlinecolor": "#2a3f5f",
                          "gridcolor": "white",
                          "linecolor": "white",
                          "minorgridcolor": "white",
                          "startlinecolor": "#2a3f5f"
                        },
                        "type": "carpet"
                      }
                    ],
                    "choropleth": [
                      {
                        "colorbar": {
                          "outlinewidth": 0,
                          "ticks": ""
                        },
                        "type": "choropleth"
                      }
                    ],
                    "contour": [
                      {
                        "colorbar": {
                          "outlinewidth": 0,
                          "ticks": ""
                        },
                        "colorscale": [
                          [
                            0,
                            "#0d0887"
                          ],
                          [
                            0.1111111111111111,
                            "#46039f"
                          ],
                          [
                            0.2222222222222222,
                            "#7201a8"
                          ],
                          [
                            0.3333333333333333,
                            "#9c179e"
                          ],
                          [
                            0.4444444444444444,
                            "#bd3786"
                          ],
                          [
                            0.5555555555555556,
                            "#d8576b"
                          ],
                          [
                            0.6666666666666666,
                            "#ed7953"
                          ],
                          [
                            0.7777777777777778,
                            "#fb9f3a"
                          ],
                          [
                            0.8888888888888888,
                            "#fdca26"
                          ],
                          [
                            1,
                            "#f0f921"
                          ]
                        ],
                        "type": "contour"
                      }
                    ],
                    "contourcarpet": [
                      {
                        "colorbar": {
                          "outlinewidth": 0,
                          "ticks": ""
                        },
                        "type": "contourcarpet"
                      }
                    ],
                    "heatmap": [
                      {
                        "colorbar": {
                          "outlinewidth": 0,
                          "ticks": ""
                        },
                        "colorscale": [
                          [
                            0,
                            "#0d0887"
                          ],
                          [
                            0.1111111111111111,
                            "#46039f"
                          ],
                          [
                            0.2222222222222222,
                            "#7201a8"
                          ],
                          [
                            0.3333333333333333,
                            "#9c179e"
                          ],
                          [
                            0.4444444444444444,
                            "#bd3786"
                          ],
                          [
                            0.5555555555555556,
                            "#d8576b"
                          ],
                          [
                            0.6666666666666666,
                            "#ed7953"
                          ],
                          [
                            0.7777777777777778,
                            "#fb9f3a"
                          ],
                          [
                            0.8888888888888888,
                            "#fdca26"
                          ],
                          [
                            1,
                            "#f0f921"
                          ]
                        ],
                        "type": "heatmap"
                      }
                    ],
                    "heatmapgl": [
                      {
                        "colorbar": {
                          "outlinewidth": 0,
                          "ticks": ""
                        },
                        "colorscale": [
                          [
                            0,
                            "#0d0887"
                          ],
                          [
                            0.1111111111111111,
                            "#46039f"
                          ],
                          [
                            0.2222222222222222,
                            "#7201a8"
                          ],
                          [
                            0.3333333333333333,
                            "#9c179e"
                          ],
                          [
                            0.4444444444444444,
                            "#bd3786"
                          ],
                          [
                            0.5555555555555556,
                            "#d8576b"
                          ],
                          [
                            0.6666666666666666,
                            "#ed7953"
                          ],
                          [
                            0.7777777777777778,
                            "#fb9f3a"
                          ],
                          [
                            0.8888888888888888,
                            "#fdca26"
                          ],
                          [
                            1,
                            "#f0f921"
                          ]
                        ],
                        "type": "heatmapgl"
                      }
                    ],
                    "histogram": [
                      {
                        "marker": {
                          "pattern": {
                            "fillmode": "overlay",
                            "size": 10,
                            "solidity": 0.2
                          }
                        },
                        "type": "histogram"
                      }
                    ],
                    "histogram2d": [
                      {
                        "colorbar": {
                          "outlinewidth": 0,
                          "ticks": ""
                        },
                        "colorscale": [
                          [
                            0,
                            "#0d0887"
                          ],
                          [
                            0.1111111111111111,
                            "#46039f"
                          ],
                          [
                            0.2222222222222222,
                            "#7201a8"
                          ],
                          [
                            0.3333333333333333,
                            "#9c179e"
                          ],
                          [
                            0.4444444444444444,
                            "#bd3786"
                          ],
                          [
                            0.5555555555555556,
                            "#d8576b"
                          ],
                          [
                            0.6666666666666666,
                            "#ed7953"
                          ],
                          [
                            0.7777777777777778,
                            "#fb9f3a"
                          ],
                          [
                            0.8888888888888888,
                            "#fdca26"
                          ],
                          [
                            1,
                            "#f0f921"
                          ]
                        ],
                        "type": "histogram2d"
                      }
                    ],
                    "histogram2dcontour": [
                      {
                        "colorbar": {
                          "outlinewidth": 0,
                          "ticks": ""
                        },
                        "colorscale": [
                          [
                            0,
                            "#0d0887"
                          ],
                          [
                            0.1111111111111111,
                            "#46039f"
                          ],
                          [
                            0.2222222222222222,
                            "#7201a8"
                          ],
                          [
                            0.3333333333333333,
                            "#9c179e"
                          ],
                          [
                            0.4444444444444444,
                            "#bd3786"
                          ],
                          [
                            0.5555555555555556,
                            "#d8576b"
                          ],
                          [
                            0.6666666666666666,
                            "#ed7953"
                          ],
                          [
                            0.7777777777777778,
                            "#fb9f3a"
                          ],
                          [
                            0.8888888888888888,
                            "#fdca26"
                          ],
                          [
                            1,
                            "#f0f921"
                          ]
                        ],
                        "type": "histogram2dcontour"
                      }
                    ],
                    "mesh3d": [
                      {
                        "colorbar": {
                          "outlinewidth": 0,
                          "ticks": ""
                        },
                        "type": "mesh3d"
                      }
                    ],
                    "parcoords": [
                      {
                        "line": {
                          "colorbar": {
                            "outlinewidth": 0,
                            "ticks": ""
                          }
                        },
                        "type": "parcoords"
                      }
                    ],
                    "pie": [
                      {
                        "automargin": true,
                        "type": "pie"
                      }
                    ],
                    "scatter": [
                      {
                        "fillpattern": {
                          "fillmode": "overlay",
                          "size": 10,
                          "solidity": 0.2
                        },
                        "type": "scatter"
                      }
                    ],
                    "scatter3d": [
                      {
                        "line": {
                          "colorbar": {
                            "outlinewidth": 0,
                            "ticks": ""
                          }
                        },
                        "marker": {
                          "colorbar": {
                            "outlinewidth": 0,
                            "ticks": ""
                          }
                        },
                        "type": "scatter3d"
                      }
                    ],
                    "scattercarpet": [
                      {
                        "marker": {
                          "colorbar": {
                            "outlinewidth": 0,
                            "ticks": ""
                          }
                        },
                        "type": "scattercarpet"
                      }
                    ],
                    "scattergeo": [
                      {
                        "marker": {
                          "colorbar": {
                            "outlinewidth": 0,
                            "ticks": ""
                          }
                        },
                        "type": "scattergeo"
                      }
                    ],
                    "scattergl": [
                      {
                        "marker": {
                          "colorbar": {
                            "outlinewidth": 0,
                            "ticks": ""
                          }
                        },
                        "type": "scattergl"
                      }
                    ],
                    "scattermapbox": [
                      {
                        "marker": {
                          "colorbar": {
                            "outlinewidth": 0,
                            "ticks": ""
                          }
                        },
                        "type": "scattermapbox"
                      }
                    ],
                    "scatterpolar": [
                      {
                        "marker": {
                          "colorbar": {
                            "outlinewidth": 0,
                            "ticks": ""
                          }
                        },
                        "type": "scatterpolar"
                      }
                    ],
                    "scatterpolargl": [
                      {
                        "marker": {
                          "colorbar": {
                            "outlinewidth": 0,
                            "ticks": ""
                          }
                        },
                        "type": "scatterpolargl"
                      }
                    ],
                    "scatterternary": [
                      {
                        "marker": {
                          "colorbar": {
                            "outlinewidth": 0,
                            "ticks": ""
                          }
                        },
                        "type": "scatterternary"
                      }
                    ],
                    "surface": [
                      {
                        "colorbar": {
                          "outlinewidth": 0,
                          "ticks": ""
                        },
                        "colorscale": [
                          [
                            0,
                            "#0d0887"
                          ],
                          [
                            0.1111111111111111,
                            "#46039f"
                          ],
                          [
                            0.2222222222222222,
                            "#7201a8"
                          ],
                          [
                            0.3333333333333333,
                            "#9c179e"
                          ],
                          [
                            0.4444444444444444,
                            "#bd3786"
                          ],
                          [
                            0.5555555555555556,
                            "#d8576b"
                          ],
                          [
                            0.6666666666666666,
                            "#ed7953"
                          ],
                          [
                            0.7777777777777778,
                            "#fb9f3a"
                          ],
                          [
                            0.8888888888888888,
                            "#fdca26"
                          ],
                          [
                            1,
                            "#f0f921"
                          ]
                        ],
                        "type": "surface"
                      }
                    ],
                    "table": [
                      {
                        "cells": {
                          "fill": {
                            "color": "#EBF0F8"
                          },
                          "line": {
                            "color": "white"
                          }
                        },
                        "header": {
                          "fill": {
                            "color": "#C8D4E3"
                          },
                          "line": {
                            "color": "white"
                          }
                        },
                        "type": "table"
                      }
                    ]
                  },
                  "layout": {
                    "annotationdefaults": {
                      "arrowcolor": "#2a3f5f",
                      "arrowhead": 0,
                      "arrowwidth": 1
                    },
                    "autotypenumbers": "strict",
                    "coloraxis": {
                      "colorbar": {
                        "outlinewidth": 0,
                        "ticks": ""
                      }
                    },
                    "colorscale": {
                      "diverging": [
                        [
                          0,
                          "#8e0152"
                        ],
                        [
                          0.1,
                          "#c51b7d"
                        ],
                        [
                          0.2,
                          "#de77ae"
                        ],
                        [
                          0.3,
                          "#f1b6da"
                        ],
                        [
                          0.4,
                          "#fde0ef"
                        ],
                        [
                          0.5,
                          "#f7f7f7"
                        ],
                        [
                          0.6,
                          "#e6f5d0"
                        ],
                        [
                          0.7,
                          "#b8e186"
                        ],
                        [
                          0.8,
                          "#7fbc41"
                        ],
                        [
                          0.9,
                          "#4d9221"
                        ],
                        [
                          1,
                          "#276419"
                        ]
                      ],
                      "sequential": [
                        [
                          0,
                          "#0d0887"
                        ],
                        [
                          0.1111111111111111,
                          "#46039f"
                        ],
                        [
                          0.2222222222222222,
                          "#7201a8"
                        ],
                        [
                          0.3333333333333333,
                          "#9c179e"
                        ],
                        [
                          0.4444444444444444,
                          "#bd3786"
                        ],
                        [
                          0.5555555555555556,
                          "#d8576b"
                        ],
                        [
                          0.6666666666666666,
                          "#ed7953"
                        ],
                        [
                          0.7777777777777778,
                          "#fb9f3a"
                        ],
                        [
                          0.8888888888888888,
                          "#fdca26"
                        ],
                        [
                          1,
                          "#f0f921"
                        ]
                      ],
                      "sequentialminus": [
                        [
                          0,
                          "#0d0887"
                        ],
                        [
                          0.1111111111111111,
                          "#46039f"
                        ],
                        [
                          0.2222222222222222,
                          "#7201a8"
                        ],
                        [
                          0.3333333333333333,
                          "#9c179e"
                        ],
                        [
                          0.4444444444444444,
                          "#bd3786"
                        ],
                        [
                          0.5555555555555556,
                          "#d8576b"
                        ],
                        [
                          0.6666666666666666,
                          "#ed7953"
                        ],
                        [
                          0.7777777777777778,
                          "#fb9f3a"
                        ],
                        [
                          0.8888888888888888,
                          "#fdca26"
                        ],
                        [
                          1,
                          "#f0f921"
                        ]
                      ]
                    },
                    "colorway": [
                      "#636efa",
                      "#EF553B",
                      "#00cc96",
                      "#ab63fa",
                      "#FFA15A",
                      "#19d3f3",
                      "#FF6692",
                      "#B6E880",
                      "#FF97FF",
                      "#FECB52"
                    ],
                    "font": {
                      "color": "#2a3f5f"
                    },
                    "geo": {
                      "bgcolor": "white",
                      "lakecolor": "white",
                      "landcolor": "#E5ECF6",
                      "showlakes": true,
                      "showland": true,
                      "subunitcolor": "white"
                    },
                    "hoverlabel": {
                      "align": "left"
                    },
                    "hovermode": "closest",
                    "mapbox": {
                      "style": "light"
                    },
                    "paper_bgcolor": "white",
                    "plot_bgcolor": "#E5ECF6",
                    "polar": {
                      "angularaxis": {
                        "gridcolor": "white",
                        "linecolor": "white",
                        "ticks": ""
                      },
                      "bgcolor": "#E5ECF6",
                      "radialaxis": {
                        "gridcolor": "white",
                        "linecolor": "white",
                        "ticks": ""
                      }
                    },
                    "scene": {
                      "xaxis": {
                        "backgroundcolor": "#E5ECF6",
                        "gridcolor": "white",
                        "gridwidth": 2,
                        "linecolor": "white",
                        "showbackground": true,
                        "ticks": "",
                        "zerolinecolor": "white"
                      },
                      "yaxis": {
                        "backgroundcolor": "#E5ECF6",
                        "gridcolor": "white",
                        "gridwidth": 2,
                        "linecolor": "white",
                        "showbackground": true,
                        "ticks": "",
                        "zerolinecolor": "white"
                      },
                      "zaxis": {
                        "backgroundcolor": "#E5ECF6",
                        "gridcolor": "white",
                        "gridwidth": 2,
                        "linecolor": "white",
                        "showbackground": true,
                        "ticks": "",
                        "zerolinecolor": "white"
                      }
                    },
                    "shapedefaults": {
                      "line": {
                        "color": "#2a3f5f"
                      }
                    },
                    "ternary": {
                      "aaxis": {
                        "gridcolor": "white",
                        "linecolor": "white",
                        "ticks": ""
                      },
                      "baxis": {
                        "gridcolor": "white",
                        "linecolor": "white",
                        "ticks": ""
                      },
                      "bgcolor": "#E5ECF6",
                      "caxis": {
                        "gridcolor": "white",
                        "linecolor": "white",
                        "ticks": ""
                      }
                    },
                    "title": {
                      "x": 0.05
                    },
                    "xaxis": {
                      "automargin": true,
                      "gridcolor": "white",
                      "linecolor": "white",
                      "ticks": "",
                      "title": {
                        "standoff": 15
                      },
                      "zerolinecolor": "white",
                      "zerolinewidth": 2
                    },
                    "yaxis": {
                      "automargin": true,
                      "gridcolor": "white",
                      "linecolor": "white",
                      "ticks": "",
                      "title": {
                        "standoff": 15
                      },
                      "zerolinecolor": "white",
                      "zerolinewidth": 2
                    }
                  }
                },
                "title": {
                  "text": "Reliability (KA) vs. Similarity"
                },
                "xaxis": {
                  "anchor": "y",
                  "domain": [
                    0,
                    1
                  ],
                  "range": [
                    0,
                    1
                  ],
                  "title": {
                    "text": "Prompt Similarity"
                  }
                },
                "yaxis": {
                  "anchor": "x",
                  "domain": [
                    0,
                    1
                  ],
                  "range": [
                    0,
                    1.05
                  ],
                  "title": {
                    "text": "KA Score"
                  }
                }
              }
            }
          },
          "metadata": {},
          "output_type": "display_data"
        },
        {
          "name": "stdout",
          "output_type": "stream",
          "text": [
            "Inter-prompt KA reliability score is 0.570491975308642.\n",
            "\n",
            "#################################\n",
            "Original prompt:\n",
            "Does the message describe a cat or a dog? [Respond 0 for cat, and 1 for dog.]\n",
            "#################################\n",
            "Prompts with poor performance:\n"
          ]
        },
        {
          "data": {
            "text/html": [
              "<div>\n",
              "<style scoped>\n",
              "    .dataframe tbody tr th:only-of-type {\n",
              "        vertical-align: middle;\n",
              "    }\n",
              "\n",
              "    .dataframe tbody tr th {\n",
              "        vertical-align: top;\n",
              "    }\n",
              "\n",
              "    .dataframe thead th {\n",
              "        text-align: right;\n",
              "    }\n",
              "</style>\n",
              "<table border=\"1\" class=\"dataframe\">\n",
              "  <thead>\n",
              "    <tr style=\"text-align: right;\">\n",
              "      <th></th>\n",
              "      <th>prompt_id</th>\n",
              "      <th>prompt_text</th>\n",
              "      <th>similarity</th>\n",
              "      <th>KA</th>\n",
              "    </tr>\n",
              "  </thead>\n",
              "  <tbody>\n",
              "    <tr>\n",
              "      <th>0</th>\n",
              "      <td>0</td>\n",
              "      <td>Does it say a cat or a dog? [Respond 0 for cat, and 1 for dog.]</td>\n",
              "      <td>0.788384</td>\n",
              "      <td>0.604167</td>\n",
              "    </tr>\n",
              "    <tr>\n",
              "      <th>7</th>\n",
              "      <td>7</td>\n",
              "      <td>There is a message about a cat or dog. [Respond 0 for cat, and 1 for dog.]</td>\n",
              "      <td>0.869776</td>\n",
              "      <td>-0.043956</td>\n",
              "    </tr>\n",
              "    <tr>\n",
              "      <th>9</th>\n",
              "      <td>9</td>\n",
              "      <td>Does the message include information about a cat or a dog? [Respond 0 for cat, and 1 for dog.]</td>\n",
              "      <td>0.878244</td>\n",
              "      <td>0.791209</td>\n",
              "    </tr>\n",
              "    <tr>\n",
              "      <th>12</th>\n",
              "      <td>12</td>\n",
              "      <td>Does the message say anything about a cat or a dog? [Respond 0 for cat, and 1 for dog.]</td>\n",
              "      <td>0.891563</td>\n",
              "      <td>0.791209</td>\n",
              "    </tr>\n",
              "    <tr>\n",
              "      <th>13</th>\n",
              "      <td>13</td>\n",
              "      <td>Is the message about a dog or a cat? [Respond 0 for cat, and 1 for dog.]</td>\n",
              "      <td>0.896741</td>\n",
              "      <td>-0.043956</td>\n",
              "    </tr>\n",
              "    <tr>\n",
              "      <th>14</th>\n",
              "      <td>14</td>\n",
              "      <td>Is the message about a dog or cat? [Respond 0 for cat, and 1 for dog.]</td>\n",
              "      <td>0.899961</td>\n",
              "      <td>-0.357143</td>\n",
              "    </tr>\n",
              "    <tr>\n",
              "      <th>15</th>\n",
              "      <td>15</td>\n",
              "      <td>The message talks about a cat or dog. [Respond 0 for cat, and 1 for dog.]</td>\n",
              "      <td>0.901600</td>\n",
              "      <td>0.424242</td>\n",
              "    </tr>\n",
              "    <tr>\n",
              "      <th>17</th>\n",
              "      <td>17</td>\n",
              "      <td>Does the message say something about a dog or cat? [Respond 0 for cat, and 1 for dog.]</td>\n",
              "      <td>0.907686</td>\n",
              "      <td>-0.043956</td>\n",
              "    </tr>\n",
              "    <tr>\n",
              "      <th>18</th>\n",
              "      <td>18</td>\n",
              "      <td>Does the message talk about a cat or dog? [Respond 0 for cat, and 1 for dog.]</td>\n",
              "      <td>0.912018</td>\n",
              "      <td>0.620000</td>\n",
              "    </tr>\n",
              "    <tr>\n",
              "      <th>20</th>\n",
              "      <td>20</td>\n",
              "      <td>Is it a message about a cat or dog? [Respond 0 for cat, and 1 for dog.]</td>\n",
              "      <td>0.916441</td>\n",
              "      <td>0.208333</td>\n",
              "    </tr>\n",
              "    <tr>\n",
              "      <th>23</th>\n",
              "      <td>23</td>\n",
              "      <td>Does the message mention a dog or cat? [Respond 0 for cat, and 1 for dog.]</td>\n",
              "      <td>0.918963</td>\n",
              "      <td>0.208333</td>\n",
              "    </tr>\n",
              "    <tr>\n",
              "      <th>25</th>\n",
              "      <td>25</td>\n",
              "      <td>Is the message for a cat or dog? [Respond 0 for cat, and 1 for dog.]</td>\n",
              "      <td>0.924365</td>\n",
              "      <td>0.620000</td>\n",
              "    </tr>\n",
              "    <tr>\n",
              "      <th>30</th>\n",
              "      <td>30</td>\n",
              "      <td>Does the message say a dog or cat? [Respond 0 for cat, and 1 for dog.]</td>\n",
              "      <td>0.932125</td>\n",
              "      <td>-0.043956</td>\n",
              "    </tr>\n",
              "    <tr>\n",
              "      <th>31</th>\n",
              "      <td>31</td>\n",
              "      <td>Does the message mean something about a cat or dog? [Respond 0 for cat, and 1 for dog.]</td>\n",
              "      <td>0.937359</td>\n",
              "      <td>-0.043956</td>\n",
              "    </tr>\n",
              "    <tr>\n",
              "      <th>33</th>\n",
              "      <td>33</td>\n",
              "      <td>The message might describe a cat or dog. [Respond 0 for cat, and 1 for dog.]</td>\n",
              "      <td>0.938172</td>\n",
              "      <td>0.424242</td>\n",
              "    </tr>\n",
              "    <tr>\n",
              "      <th>34</th>\n",
              "      <td>34</td>\n",
              "      <td>Does the message refer to a dog or cat? [Respond 0 for cat, and 1 for dog.]</td>\n",
              "      <td>0.939031</td>\n",
              "      <td>-0.043956</td>\n",
              "    </tr>\n",
              "    <tr>\n",
              "      <th>37</th>\n",
              "      <td>37</td>\n",
              "      <td>Do you think the message describes a cat or dog? [Respond 0 for cat, and 1 for dog.]</td>\n",
              "      <td>0.940867</td>\n",
              "      <td>0.620000</td>\n",
              "    </tr>\n",
              "    <tr>\n",
              "      <th>48</th>\n",
              "      <td>48</td>\n",
              "      <td>Does the message describe a dog or cat? [Respond 0 for cat, and 1 for dog.]</td>\n",
              "      <td>0.982232</td>\n",
              "      <td>0.424242</td>\n",
              "    </tr>\n",
              "  </tbody>\n",
              "</table>\n",
              "</div>"
            ],
            "text/plain": [
              "    prompt_id  \\\n",
              "0           0   \n",
              "7           7   \n",
              "9           9   \n",
              "12         12   \n",
              "13         13   \n",
              "14         14   \n",
              "15         15   \n",
              "17         17   \n",
              "18         18   \n",
              "20         20   \n",
              "23         23   \n",
              "25         25   \n",
              "30         30   \n",
              "31         31   \n",
              "33         33   \n",
              "34         34   \n",
              "37         37   \n",
              "48         48   \n",
              "\n",
              "                                                                                       prompt_text  \\\n",
              "0                                  Does it say a cat or a dog? [Respond 0 for cat, and 1 for dog.]   \n",
              "7                       There is a message about a cat or dog. [Respond 0 for cat, and 1 for dog.]   \n",
              "9   Does the message include information about a cat or a dog? [Respond 0 for cat, and 1 for dog.]   \n",
              "12         Does the message say anything about a cat or a dog? [Respond 0 for cat, and 1 for dog.]   \n",
              "13                        Is the message about a dog or a cat? [Respond 0 for cat, and 1 for dog.]   \n",
              "14                          Is the message about a dog or cat? [Respond 0 for cat, and 1 for dog.]   \n",
              "15                       The message talks about a cat or dog. [Respond 0 for cat, and 1 for dog.]   \n",
              "17          Does the message say something about a dog or cat? [Respond 0 for cat, and 1 for dog.]   \n",
              "18                   Does the message talk about a cat or dog? [Respond 0 for cat, and 1 for dog.]   \n",
              "20                         Is it a message about a cat or dog? [Respond 0 for cat, and 1 for dog.]   \n",
              "23                      Does the message mention a dog or cat? [Respond 0 for cat, and 1 for dog.]   \n",
              "25                            Is the message for a cat or dog? [Respond 0 for cat, and 1 for dog.]   \n",
              "30                          Does the message say a dog or cat? [Respond 0 for cat, and 1 for dog.]   \n",
              "31         Does the message mean something about a cat or dog? [Respond 0 for cat, and 1 for dog.]   \n",
              "33                    The message might describe a cat or dog. [Respond 0 for cat, and 1 for dog.]   \n",
              "34                     Does the message refer to a dog or cat? [Respond 0 for cat, and 1 for dog.]   \n",
              "37            Do you think the message describes a cat or dog? [Respond 0 for cat, and 1 for dog.]   \n",
              "48                     Does the message describe a dog or cat? [Respond 0 for cat, and 1 for dog.]   \n",
              "\n",
              "    similarity        KA  \n",
              "0     0.788384  0.604167  \n",
              "7     0.869776 -0.043956  \n",
              "9     0.878244  0.791209  \n",
              "12    0.891563  0.791209  \n",
              "13    0.896741 -0.043956  \n",
              "14    0.899961 -0.357143  \n",
              "15    0.901600  0.424242  \n",
              "17    0.907686 -0.043956  \n",
              "18    0.912018  0.620000  \n",
              "20    0.916441  0.208333  \n",
              "23    0.918963  0.208333  \n",
              "25    0.924365  0.620000  \n",
              "30    0.932125 -0.043956  \n",
              "31    0.937359 -0.043956  \n",
              "33    0.938172  0.424242  \n",
              "34    0.939031 -0.043956  \n",
              "37    0.940867  0.620000  \n",
              "48    0.982232  0.424242  "
            ]
          },
          "metadata": {},
          "output_type": "display_data"
        }
      ],
      "source": [
        "# Test variability for the same prompt.\n",
        "res,df, ka_scores, iterrations_no = psa.baseline_stochasticity(prompt,prompt_postfix,iterations=10)\n",
        "# Test of variability across prompts\n",
        "res,df,rel_by_sim, poor_prompts = psa.interprompt_stochasticity(prompt,prompt_postfix, nr_variations=50, temperature=1.0, iterations=1)\n"
      ]
    },
    {
      "cell_type": "code",
      "execution_count": 26,
      "id": "787d481c",
      "metadata": {},
      "outputs": [],
      "source": [
        "# Save similar prompts, similarity and KA for manual validation\n",
        "'''\n",
        "df_val = pd.DataFrame(rel_by_sim)\n",
        "op = prompt + ' ' + prompt_postfix\n",
        "df_val['original_prompt'] = op\n",
        "df_val\n",
        "df_val.to_csv('similarity_validation/data.csv', index=False)\n",
        "'''"
      ]
    },
    {
      "cell_type": "markdown",
      "id": "96f40ece",
      "metadata": {
        "id": "96f40ece"
      },
      "source": [
        "## Party manifesto example"
      ]
    },
    {
      "cell_type": "code",
      "execution_count": 32,
      "id": "ee886b77",
      "metadata": {
        "id": "ee886b77",
        "outputId": "704a07d4-b619-4e3f-ceba-c273fd812fc3"
      },
      "outputs": [
        {
          "name": "stderr",
          "output_type": "stream",
          "text": [
            "Some weights of PegasusForConditionalGeneration were not initialized from the model checkpoint at tuner007/pegasus_paraphrase and are newly initialized: ['model.decoder.embed_positions.weight', 'model.encoder.embed_positions.weight']\n",
            "You should probably TRAIN this model on a down-stream task to be able to use it for predictions and inference.\n"
          ]
        }
      ],
      "source": [
        "# Party manifesto example\n",
        "APIKEY = os.getenv(\"OPENAI_API_KEY\")\n",
        "MODEL = 'gpt-3.5-turbo'\n",
        "llm = LLMWrapper(model = MODEL, apikey=APIKEY)\n",
        "\n",
        "# Initialize the model and tokenizer (hugging face model identifier)\n",
        "try:\n",
        "    # Try initializing the model and tokenizer\n",
        "    model = AutoModelForCausalLM.from_pretrained(MODEL)\n",
        "    tokenizer = AutoTokenizer.from_pretrained(MODEL)\n",
        "    MAX_TOKENS = tokenizer.model_max_length\n",
        "except OSError:\n",
        "    # If the model identifier is not valid, set MAX_TOKENS to 16385\n",
        "    MAX_TOKENS = 16385\n",
        "\n",
        "# Data (upload promptstability/data/UK_Manifestos.csv)\n",
        "df = pd.read_csv('UK_Manifestos.csv')\n",
        "df_small = df.iloc[[41, 44]]\n",
        "\n",
        "# Truncate\n",
        "texts = [text[:MAX_TOKENS] for text in df_small['content'].values]\n",
        "\n",
        "prompt = 'The text provided is a party manifesto for a political party in the United Kingdom. Your task is to evaluate evaluate where it is on the scale from left-wing to right-wing on economic issues. Thank you!'\n",
        "prompt_postfix = '[Respond with a number from 1 to 10. 1 corresponds to most left-wing. 10 corresponds to most right-wing. Your answer should only consist of this number and nothing else.]'\n",
        "\n",
        "psa = PromptStabilityAnalysis(llm, texts,parse_function=lambda x: float(x.strip(\"'\")), metric_fn = simpledorff.metrics.interval_metric)\n"
      ]
    },
    {
      "cell_type": "code",
      "execution_count": 33,
      "id": "263e4136",
      "metadata": {
        "id": "263e4136",
        "outputId": "57b643f5-afbb-49b9-cf75-b74c638ef9df"
      },
      "outputs": [
        {
          "name": "stdout",
          "output_type": "stream",
          "text": [
            "Iteration 0...\n"
          ]
        },
        {
          "name": "stderr",
          "output_type": "stream",
          "text": [
            "huggingface/tokenizers: The current process just got forked, after parallelism has already been used. Disabling parallelism to avoid deadlocks...\n",
            "To disable this warning, you can either:\n",
            "\t- Avoid using `tokenizers` before the fork if possible\n",
            "\t- Explicitly set the environment variable TOKENIZERS_PARALLELISM=(true | false)\n"
          ]
        },
        {
          "name": "stdout",
          "output_type": "stream",
          "text": [
            "Iteration 1...\n",
            "Iteration 2...\n",
            "Iteration 3...\n",
            "Iteration 4...\n",
            "Iteration 5...\n",
            "Iteration 6...\n",
            "Iteration 7...\n",
            "Iteration 8...\n",
            "Iteration 9...\n",
            "Iteration 10...\n",
            "Iteration 11...\n",
            "Iteration 12...\n",
            "Iteration 13...\n",
            "Iteration 14...\n",
            "Iteration 15...\n",
            "Iteration 16...\n",
            "Iteration 17...\n",
            "Iteration 18...\n",
            "Iteration 19...\n",
            "Finished annotation. Analyzing reliability\n"
          ]
        },
        {
          "data": {
            "application/vnd.plotly.v1+json": {
              "config": {
                "plotlyServerURL": "https://plot.ly"
              },
              "data": [
                {
                  "hovertemplate": "Repetitions=%{x}<br>KA Score=%{y}<extra></extra>",
                  "legendgroup": "",
                  "marker": {
                    "color": "#636efa",
                    "symbol": "circle"
                  },
                  "mode": "markers",
                  "name": "",
                  "orientation": "v",
                  "showlegend": false,
                  "type": "scatter",
                  "x": [
                    2,
                    3,
                    4,
                    5,
                    6,
                    7,
                    8,
                    9,
                    10,
                    11,
                    12,
                    13,
                    14,
                    15,
                    16,
                    17,
                    18,
                    19,
                    20
                  ],
                  "xaxis": "x",
                  "y": [
                    1,
                    1,
                    1,
                    0.975609756097561,
                    0.9630872483221476,
                    0.9544459045116075,
                    0.9500605326876513,
                    0.9542632450331126,
                    0.951451800232288,
                    0.9545816733067729,
                    0.9574092416347272,
                    0.9550110741971207,
                    0.9572831423895254,
                    0.9554390563564875,
                    0.9542045454545455,
                    0.9534257120862202,
                    0.9529905158708404,
                    0.9541322314049587,
                    0.9537292748826034
                  ],
                  "yaxis": "y"
                },
                {
                  "line": {
                    "color": "black",
                    "dash": "dash",
                    "width": 0.5
                  },
                  "mode": "lines",
                  "name": "KA Threshold",
                  "type": "scatter",
                  "x": [
                    0,
                    20
                  ],
                  "y": [
                    0.8,
                    0.8
                  ]
                }
              ],
              "layout": {
                "hovermode": "closest",
                "legend": {
                  "tracegroupgap": 0
                },
                "margin": {
                  "t": 60
                },
                "template": {
                  "data": {
                    "bar": [
                      {
                        "error_x": {
                          "color": "#2a3f5f"
                        },
                        "error_y": {
                          "color": "#2a3f5f"
                        },
                        "marker": {
                          "line": {
                            "color": "#E5ECF6",
                            "width": 0.5
                          },
                          "pattern": {
                            "fillmode": "overlay",
                            "size": 10,
                            "solidity": 0.2
                          }
                        },
                        "type": "bar"
                      }
                    ],
                    "barpolar": [
                      {
                        "marker": {
                          "line": {
                            "color": "#E5ECF6",
                            "width": 0.5
                          },
                          "pattern": {
                            "fillmode": "overlay",
                            "size": 10,
                            "solidity": 0.2
                          }
                        },
                        "type": "barpolar"
                      }
                    ],
                    "carpet": [
                      {
                        "aaxis": {
                          "endlinecolor": "#2a3f5f",
                          "gridcolor": "white",
                          "linecolor": "white",
                          "minorgridcolor": "white",
                          "startlinecolor": "#2a3f5f"
                        },
                        "baxis": {
                          "endlinecolor": "#2a3f5f",
                          "gridcolor": "white",
                          "linecolor": "white",
                          "minorgridcolor": "white",
                          "startlinecolor": "#2a3f5f"
                        },
                        "type": "carpet"
                      }
                    ],
                    "choropleth": [
                      {
                        "colorbar": {
                          "outlinewidth": 0,
                          "ticks": ""
                        },
                        "type": "choropleth"
                      }
                    ],
                    "contour": [
                      {
                        "colorbar": {
                          "outlinewidth": 0,
                          "ticks": ""
                        },
                        "colorscale": [
                          [
                            0,
                            "#0d0887"
                          ],
                          [
                            0.1111111111111111,
                            "#46039f"
                          ],
                          [
                            0.2222222222222222,
                            "#7201a8"
                          ],
                          [
                            0.3333333333333333,
                            "#9c179e"
                          ],
                          [
                            0.4444444444444444,
                            "#bd3786"
                          ],
                          [
                            0.5555555555555556,
                            "#d8576b"
                          ],
                          [
                            0.6666666666666666,
                            "#ed7953"
                          ],
                          [
                            0.7777777777777778,
                            "#fb9f3a"
                          ],
                          [
                            0.8888888888888888,
                            "#fdca26"
                          ],
                          [
                            1,
                            "#f0f921"
                          ]
                        ],
                        "type": "contour"
                      }
                    ],
                    "contourcarpet": [
                      {
                        "colorbar": {
                          "outlinewidth": 0,
                          "ticks": ""
                        },
                        "type": "contourcarpet"
                      }
                    ],
                    "heatmap": [
                      {
                        "colorbar": {
                          "outlinewidth": 0,
                          "ticks": ""
                        },
                        "colorscale": [
                          [
                            0,
                            "#0d0887"
                          ],
                          [
                            0.1111111111111111,
                            "#46039f"
                          ],
                          [
                            0.2222222222222222,
                            "#7201a8"
                          ],
                          [
                            0.3333333333333333,
                            "#9c179e"
                          ],
                          [
                            0.4444444444444444,
                            "#bd3786"
                          ],
                          [
                            0.5555555555555556,
                            "#d8576b"
                          ],
                          [
                            0.6666666666666666,
                            "#ed7953"
                          ],
                          [
                            0.7777777777777778,
                            "#fb9f3a"
                          ],
                          [
                            0.8888888888888888,
                            "#fdca26"
                          ],
                          [
                            1,
                            "#f0f921"
                          ]
                        ],
                        "type": "heatmap"
                      }
                    ],
                    "heatmapgl": [
                      {
                        "colorbar": {
                          "outlinewidth": 0,
                          "ticks": ""
                        },
                        "colorscale": [
                          [
                            0,
                            "#0d0887"
                          ],
                          [
                            0.1111111111111111,
                            "#46039f"
                          ],
                          [
                            0.2222222222222222,
                            "#7201a8"
                          ],
                          [
                            0.3333333333333333,
                            "#9c179e"
                          ],
                          [
                            0.4444444444444444,
                            "#bd3786"
                          ],
                          [
                            0.5555555555555556,
                            "#d8576b"
                          ],
                          [
                            0.6666666666666666,
                            "#ed7953"
                          ],
                          [
                            0.7777777777777778,
                            "#fb9f3a"
                          ],
                          [
                            0.8888888888888888,
                            "#fdca26"
                          ],
                          [
                            1,
                            "#f0f921"
                          ]
                        ],
                        "type": "heatmapgl"
                      }
                    ],
                    "histogram": [
                      {
                        "marker": {
                          "pattern": {
                            "fillmode": "overlay",
                            "size": 10,
                            "solidity": 0.2
                          }
                        },
                        "type": "histogram"
                      }
                    ],
                    "histogram2d": [
                      {
                        "colorbar": {
                          "outlinewidth": 0,
                          "ticks": ""
                        },
                        "colorscale": [
                          [
                            0,
                            "#0d0887"
                          ],
                          [
                            0.1111111111111111,
                            "#46039f"
                          ],
                          [
                            0.2222222222222222,
                            "#7201a8"
                          ],
                          [
                            0.3333333333333333,
                            "#9c179e"
                          ],
                          [
                            0.4444444444444444,
                            "#bd3786"
                          ],
                          [
                            0.5555555555555556,
                            "#d8576b"
                          ],
                          [
                            0.6666666666666666,
                            "#ed7953"
                          ],
                          [
                            0.7777777777777778,
                            "#fb9f3a"
                          ],
                          [
                            0.8888888888888888,
                            "#fdca26"
                          ],
                          [
                            1,
                            "#f0f921"
                          ]
                        ],
                        "type": "histogram2d"
                      }
                    ],
                    "histogram2dcontour": [
                      {
                        "colorbar": {
                          "outlinewidth": 0,
                          "ticks": ""
                        },
                        "colorscale": [
                          [
                            0,
                            "#0d0887"
                          ],
                          [
                            0.1111111111111111,
                            "#46039f"
                          ],
                          [
                            0.2222222222222222,
                            "#7201a8"
                          ],
                          [
                            0.3333333333333333,
                            "#9c179e"
                          ],
                          [
                            0.4444444444444444,
                            "#bd3786"
                          ],
                          [
                            0.5555555555555556,
                            "#d8576b"
                          ],
                          [
                            0.6666666666666666,
                            "#ed7953"
                          ],
                          [
                            0.7777777777777778,
                            "#fb9f3a"
                          ],
                          [
                            0.8888888888888888,
                            "#fdca26"
                          ],
                          [
                            1,
                            "#f0f921"
                          ]
                        ],
                        "type": "histogram2dcontour"
                      }
                    ],
                    "mesh3d": [
                      {
                        "colorbar": {
                          "outlinewidth": 0,
                          "ticks": ""
                        },
                        "type": "mesh3d"
                      }
                    ],
                    "parcoords": [
                      {
                        "line": {
                          "colorbar": {
                            "outlinewidth": 0,
                            "ticks": ""
                          }
                        },
                        "type": "parcoords"
                      }
                    ],
                    "pie": [
                      {
                        "automargin": true,
                        "type": "pie"
                      }
                    ],
                    "scatter": [
                      {
                        "fillpattern": {
                          "fillmode": "overlay",
                          "size": 10,
                          "solidity": 0.2
                        },
                        "type": "scatter"
                      }
                    ],
                    "scatter3d": [
                      {
                        "line": {
                          "colorbar": {
                            "outlinewidth": 0,
                            "ticks": ""
                          }
                        },
                        "marker": {
                          "colorbar": {
                            "outlinewidth": 0,
                            "ticks": ""
                          }
                        },
                        "type": "scatter3d"
                      }
                    ],
                    "scattercarpet": [
                      {
                        "marker": {
                          "colorbar": {
                            "outlinewidth": 0,
                            "ticks": ""
                          }
                        },
                        "type": "scattercarpet"
                      }
                    ],
                    "scattergeo": [
                      {
                        "marker": {
                          "colorbar": {
                            "outlinewidth": 0,
                            "ticks": ""
                          }
                        },
                        "type": "scattergeo"
                      }
                    ],
                    "scattergl": [
                      {
                        "marker": {
                          "colorbar": {
                            "outlinewidth": 0,
                            "ticks": ""
                          }
                        },
                        "type": "scattergl"
                      }
                    ],
                    "scattermapbox": [
                      {
                        "marker": {
                          "colorbar": {
                            "outlinewidth": 0,
                            "ticks": ""
                          }
                        },
                        "type": "scattermapbox"
                      }
                    ],
                    "scatterpolar": [
                      {
                        "marker": {
                          "colorbar": {
                            "outlinewidth": 0,
                            "ticks": ""
                          }
                        },
                        "type": "scatterpolar"
                      }
                    ],
                    "scatterpolargl": [
                      {
                        "marker": {
                          "colorbar": {
                            "outlinewidth": 0,
                            "ticks": ""
                          }
                        },
                        "type": "scatterpolargl"
                      }
                    ],
                    "scatterternary": [
                      {
                        "marker": {
                          "colorbar": {
                            "outlinewidth": 0,
                            "ticks": ""
                          }
                        },
                        "type": "scatterternary"
                      }
                    ],
                    "surface": [
                      {
                        "colorbar": {
                          "outlinewidth": 0,
                          "ticks": ""
                        },
                        "colorscale": [
                          [
                            0,
                            "#0d0887"
                          ],
                          [
                            0.1111111111111111,
                            "#46039f"
                          ],
                          [
                            0.2222222222222222,
                            "#7201a8"
                          ],
                          [
                            0.3333333333333333,
                            "#9c179e"
                          ],
                          [
                            0.4444444444444444,
                            "#bd3786"
                          ],
                          [
                            0.5555555555555556,
                            "#d8576b"
                          ],
                          [
                            0.6666666666666666,
                            "#ed7953"
                          ],
                          [
                            0.7777777777777778,
                            "#fb9f3a"
                          ],
                          [
                            0.8888888888888888,
                            "#fdca26"
                          ],
                          [
                            1,
                            "#f0f921"
                          ]
                        ],
                        "type": "surface"
                      }
                    ],
                    "table": [
                      {
                        "cells": {
                          "fill": {
                            "color": "#EBF0F8"
                          },
                          "line": {
                            "color": "white"
                          }
                        },
                        "header": {
                          "fill": {
                            "color": "#C8D4E3"
                          },
                          "line": {
                            "color": "white"
                          }
                        },
                        "type": "table"
                      }
                    ]
                  },
                  "layout": {
                    "annotationdefaults": {
                      "arrowcolor": "#2a3f5f",
                      "arrowhead": 0,
                      "arrowwidth": 1
                    },
                    "autotypenumbers": "strict",
                    "coloraxis": {
                      "colorbar": {
                        "outlinewidth": 0,
                        "ticks": ""
                      }
                    },
                    "colorscale": {
                      "diverging": [
                        [
                          0,
                          "#8e0152"
                        ],
                        [
                          0.1,
                          "#c51b7d"
                        ],
                        [
                          0.2,
                          "#de77ae"
                        ],
                        [
                          0.3,
                          "#f1b6da"
                        ],
                        [
                          0.4,
                          "#fde0ef"
                        ],
                        [
                          0.5,
                          "#f7f7f7"
                        ],
                        [
                          0.6,
                          "#e6f5d0"
                        ],
                        [
                          0.7,
                          "#b8e186"
                        ],
                        [
                          0.8,
                          "#7fbc41"
                        ],
                        [
                          0.9,
                          "#4d9221"
                        ],
                        [
                          1,
                          "#276419"
                        ]
                      ],
                      "sequential": [
                        [
                          0,
                          "#0d0887"
                        ],
                        [
                          0.1111111111111111,
                          "#46039f"
                        ],
                        [
                          0.2222222222222222,
                          "#7201a8"
                        ],
                        [
                          0.3333333333333333,
                          "#9c179e"
                        ],
                        [
                          0.4444444444444444,
                          "#bd3786"
                        ],
                        [
                          0.5555555555555556,
                          "#d8576b"
                        ],
                        [
                          0.6666666666666666,
                          "#ed7953"
                        ],
                        [
                          0.7777777777777778,
                          "#fb9f3a"
                        ],
                        [
                          0.8888888888888888,
                          "#fdca26"
                        ],
                        [
                          1,
                          "#f0f921"
                        ]
                      ],
                      "sequentialminus": [
                        [
                          0,
                          "#0d0887"
                        ],
                        [
                          0.1111111111111111,
                          "#46039f"
                        ],
                        [
                          0.2222222222222222,
                          "#7201a8"
                        ],
                        [
                          0.3333333333333333,
                          "#9c179e"
                        ],
                        [
                          0.4444444444444444,
                          "#bd3786"
                        ],
                        [
                          0.5555555555555556,
                          "#d8576b"
                        ],
                        [
                          0.6666666666666666,
                          "#ed7953"
                        ],
                        [
                          0.7777777777777778,
                          "#fb9f3a"
                        ],
                        [
                          0.8888888888888888,
                          "#fdca26"
                        ],
                        [
                          1,
                          "#f0f921"
                        ]
                      ]
                    },
                    "colorway": [
                      "#636efa",
                      "#EF553B",
                      "#00cc96",
                      "#ab63fa",
                      "#FFA15A",
                      "#19d3f3",
                      "#FF6692",
                      "#B6E880",
                      "#FF97FF",
                      "#FECB52"
                    ],
                    "font": {
                      "color": "#2a3f5f"
                    },
                    "geo": {
                      "bgcolor": "white",
                      "lakecolor": "white",
                      "landcolor": "#E5ECF6",
                      "showlakes": true,
                      "showland": true,
                      "subunitcolor": "white"
                    },
                    "hoverlabel": {
                      "align": "left"
                    },
                    "hovermode": "closest",
                    "mapbox": {
                      "style": "light"
                    },
                    "paper_bgcolor": "white",
                    "plot_bgcolor": "#E5ECF6",
                    "polar": {
                      "angularaxis": {
                        "gridcolor": "white",
                        "linecolor": "white",
                        "ticks": ""
                      },
                      "bgcolor": "#E5ECF6",
                      "radialaxis": {
                        "gridcolor": "white",
                        "linecolor": "white",
                        "ticks": ""
                      }
                    },
                    "scene": {
                      "xaxis": {
                        "backgroundcolor": "#E5ECF6",
                        "gridcolor": "white",
                        "gridwidth": 2,
                        "linecolor": "white",
                        "showbackground": true,
                        "ticks": "",
                        "zerolinecolor": "white"
                      },
                      "yaxis": {
                        "backgroundcolor": "#E5ECF6",
                        "gridcolor": "white",
                        "gridwidth": 2,
                        "linecolor": "white",
                        "showbackground": true,
                        "ticks": "",
                        "zerolinecolor": "white"
                      },
                      "zaxis": {
                        "backgroundcolor": "#E5ECF6",
                        "gridcolor": "white",
                        "gridwidth": 2,
                        "linecolor": "white",
                        "showbackground": true,
                        "ticks": "",
                        "zerolinecolor": "white"
                      }
                    },
                    "shapedefaults": {
                      "line": {
                        "color": "#2a3f5f"
                      }
                    },
                    "ternary": {
                      "aaxis": {
                        "gridcolor": "white",
                        "linecolor": "white",
                        "ticks": ""
                      },
                      "baxis": {
                        "gridcolor": "white",
                        "linecolor": "white",
                        "ticks": ""
                      },
                      "bgcolor": "#E5ECF6",
                      "caxis": {
                        "gridcolor": "white",
                        "linecolor": "white",
                        "ticks": ""
                      }
                    },
                    "title": {
                      "x": 0.05
                    },
                    "xaxis": {
                      "automargin": true,
                      "gridcolor": "white",
                      "linecolor": "white",
                      "ticks": "",
                      "title": {
                        "standoff": 15
                      },
                      "zerolinecolor": "white",
                      "zerolinewidth": 2
                    },
                    "yaxis": {
                      "automargin": true,
                      "gridcolor": "white",
                      "linecolor": "white",
                      "ticks": "",
                      "title": {
                        "standoff": 15
                      },
                      "zerolinecolor": "white",
                      "zerolinewidth": 2
                    }
                  }
                },
                "title": {
                  "text": "Reliability (KA) vs. Repetitions"
                },
                "xaxis": {
                  "anchor": "y",
                  "domain": [
                    0,
                    1
                  ],
                  "title": {
                    "text": "Number of Prompt Repetitions"
                  }
                },
                "yaxis": {
                  "anchor": "x",
                  "domain": [
                    0,
                    1
                  ],
                  "range": [
                    0,
                    1.05
                  ],
                  "title": {
                    "text": "KA Score"
                  }
                }
              }
            }
          },
          "metadata": {},
          "output_type": "display_data"
        },
        {
          "name": "stdout",
          "output_type": "stream",
          "text": [
            "Within-prompt KA reliability score for 20 repetitions is 0.9537292748826034\n"
          ]
        }
      ],
      "source": [
        "# Test within-prompt reliability\n",
        "KA,df, ka_scores, iterrations_no = psa.baseline_stochasticity(prompt,prompt_postfix,iterations=20)\n"
      ]
    },
    {
      "cell_type": "code",
      "execution_count": 34,
      "id": "ad804f9c",
      "metadata": {
        "id": "ad804f9c",
        "outputId": "f591c266-8cc2-4aac-e337-4ba98cd14188"
      },
      "outputs": [
        {
          "data": {
            "text/html": [
              "<div>\n",
              "<style scoped>\n",
              "    .dataframe tbody tr th:only-of-type {\n",
              "        vertical-align: middle;\n",
              "    }\n",
              "\n",
              "    .dataframe tbody tr th {\n",
              "        vertical-align: top;\n",
              "    }\n",
              "\n",
              "    .dataframe thead th {\n",
              "        text-align: right;\n",
              "    }\n",
              "</style>\n",
              "<table border=\"1\" class=\"dataframe\">\n",
              "  <thead>\n",
              "    <tr style=\"text-align: right;\">\n",
              "      <th></th>\n",
              "      <th>similarity</th>\n",
              "      <th>phrase</th>\n",
              "      <th>original</th>\n",
              "    </tr>\n",
              "  </thead>\n",
              "  <tbody>\n",
              "    <tr>\n",
              "      <th>22</th>\n",
              "      <td>0.441821</td>\n",
              "      <td>Your task is to evaluate where it is on the scale from left to right on economic issues. [Respond with a number from 1 to 10. 1 corresponds to most left-wing. 10 corresponds to most right-wing. Your answer should only consist of this number and nothing else.]</td>\n",
              "      <td>False</td>\n",
              "    </tr>\n",
              "    <tr>\n",
              "      <th>46</th>\n",
              "      <td>0.484995</td>\n",
              "      <td>Your task is to evaluate where it is on the scale from left-wing to right-wing. [Respond with a number from 1 to 10. 1 corresponds to most left-wing. 10 corresponds to most right-wing. Your answer should only consist of this number and nothing else.]</td>\n",
              "      <td>False</td>\n",
              "    </tr>\n",
              "    <tr>\n",
              "      <th>28</th>\n",
              "      <td>0.512433</td>\n",
              "      <td>Your task is to evaluate where it is on the scale from left to right-wing on economic issues. [Respond with a number from 1 to 10. 1 corresponds to most left-wing. 10 corresponds to most right-wing. Your answer should only consist of this number and nothing else.]</td>\n",
              "      <td>False</td>\n",
              "    </tr>\n",
              "    <tr>\n",
              "      <th>25</th>\n",
              "      <td>0.517225</td>\n",
              "      <td>Your task is to evaluate where it is on the scale from left- to right-wing on economic issues. [Respond with a number from 1 to 10. 1 corresponds to most left-wing. 10 corresponds to most right-wing. Your answer should only consist of this number and nothing else.]</td>\n",
              "      <td>False</td>\n",
              "    </tr>\n",
              "    <tr>\n",
              "      <th>13</th>\n",
              "      <td>0.532201</td>\n",
              "      <td>Your job is to evaluate where it is on the scale from left-wing to right-wing on economic issues. [Respond with a number from 1 to 10. 1 corresponds to most left-wing. 10 corresponds to most right-wing. Your answer should only consist of this number and nothing else.]</td>\n",
              "      <td>False</td>\n",
              "    </tr>\n",
              "    <tr>\n",
              "      <th>11</th>\n",
              "      <td>0.534921</td>\n",
              "      <td>Your task is to evaluate where it is on a scale from left-wing to right-wing on economic issues. [Respond with a number from 1 to 10. 1 corresponds to most left-wing. 10 corresponds to most right-wing. Your answer should only consist of this number and nothing else.]</td>\n",
              "      <td>False</td>\n",
              "    </tr>\n",
              "    <tr>\n",
              "      <th>31</th>\n",
              "      <td>0.540145</td>\n",
              "      <td>Your task is to evaluate where it is on the scale from left-wing to right-wing on the economic issues. [Respond with a number from 1 to 10. 1 corresponds to most left-wing. 10 corresponds to most right-wing. Your answer should only consist of this number and nothing else.]</td>\n",
              "      <td>False</td>\n",
              "    </tr>\n",
              "    <tr>\n",
              "      <th>33</th>\n",
              "      <td>0.541644</td>\n",
              "      <td>Your task is to evaluate where it is on the scale from left-wing to right-wing on economic issues [Respond with a number from 1 to 10. 1 corresponds to most left-wing. 10 corresponds to most right-wing. Your answer should only consist of this number and nothing else.]</td>\n",
              "      <td>False</td>\n",
              "    </tr>\n",
              "    <tr>\n",
              "      <th>23</th>\n",
              "      <td>0.542510</td>\n",
              "      <td>Your task is to evaluate where it is on the scale from left-wing to right-wing when it comes to economic issues. [Respond with a number from 1 to 10. 1 corresponds to most left-wing. 10 corresponds to most right-wing. Your answer should only consist of this number and nothing else.]</td>\n",
              "      <td>False</td>\n",
              "    </tr>\n",
              "    <tr>\n",
              "      <th>21</th>\n",
              "      <td>0.542552</td>\n",
              "      <td>Your task is to evaluate where it is on the scale from left-wing to right-wing, on economic issues. [Respond with a number from 1 to 10. 1 corresponds to most left-wing. 10 corresponds to most right-wing. Your answer should only consist of this number and nothing else.]</td>\n",
              "      <td>False</td>\n",
              "    </tr>\n",
              "    <tr>\n",
              "      <th>1</th>\n",
              "      <td>0.543328</td>\n",
              "      <td>Your task is to evaluate where it is on the scale from left-wing to right-wing on economic issues. [Respond with a number from 1 to 10. 1 corresponds to most left-wing. 10 corresponds to most right-wing. Your answer should only consist of this number and nothing else.]</td>\n",
              "      <td>False</td>\n",
              "    </tr>\n",
              "    <tr>\n",
              "      <th>4</th>\n",
              "      <td>0.548170</td>\n",
              "      <td>You need to evaluate where it is on the scale from left-wing to right-wing on economic issues. [Respond with a number from 1 to 10. 1 corresponds to most left-wing. 10 corresponds to most right-wing. Your answer should only consist of this number and nothing else.]</td>\n",
              "      <td>False</td>\n",
              "    </tr>\n",
              "    <tr>\n",
              "      <th>47</th>\n",
              "      <td>0.587178</td>\n",
              "      <td>Your task is to evaluate where it is on the scale from left-wing to right-wing on economic issues, based on the text provided. [Respond with a number from 1 to 10. 1 corresponds to most left-wing. 10 corresponds to most right-wing. Your answer should only consist of this number and nothing else.]</td>\n",
              "      <td>False</td>\n",
              "    </tr>\n",
              "    <tr>\n",
              "      <th>40</th>\n",
              "      <td>0.629891</td>\n",
              "      <td>To evaluate where it is on the scale from left-wing to right-wing on economic issues, you have to read the text. [Respond with a number from 1 to 10. 1 corresponds to most left-wing. 10 corresponds to most right-wing. Your answer should only consist of this number and nothing else.]</td>\n",
              "      <td>False</td>\n",
              "    </tr>\n",
              "    <tr>\n",
              "      <th>38</th>\n",
              "      <td>0.630138</td>\n",
              "      <td>To evaluate where it is on the scale from left-wing to right-wing on economic issues, you must read the text provided. [Respond with a number from 1 to 10. 1 corresponds to most left-wing. 10 corresponds to most right-wing. Your answer should only consist of this number and nothing else.]</td>\n",
              "      <td>False</td>\n",
              "    </tr>\n",
              "    <tr>\n",
              "      <th>36</th>\n",
              "      <td>0.631631</td>\n",
              "      <td>In order to evaluate where it is on the scale from left-wing to right-wing on economic issues, you have to read the text. [Respond with a number from 1 to 10. 1 corresponds to most left-wing. 10 corresponds to most right-wing. Your answer should only consist of this number and nothing else.]</td>\n",
              "      <td>False</td>\n",
              "    </tr>\n",
              "    <tr>\n",
              "      <th>27</th>\n",
              "      <td>0.631900</td>\n",
              "      <td>To evaluate where it is on the scale from left-wing to right-wing on economic issues, you have to read the text provided. [Respond with a number from 1 to 10. 1 corresponds to most left-wing. 10 corresponds to most right-wing. Your answer should only consist of this number and nothing else.]</td>\n",
              "      <td>False</td>\n",
              "    </tr>\n",
              "    <tr>\n",
              "      <th>39</th>\n",
              "      <td>0.635788</td>\n",
              "      <td>In order to evaluate where it is on the scale from left-wing to right-wing on economic issues, you must read the text provided. [Respond with a number from 1 to 10. 1 corresponds to most left-wing. 10 corresponds to most right-wing. Your answer should only consist of this number and nothing else.]</td>\n",
              "      <td>False</td>\n",
              "    </tr>\n",
              "    <tr>\n",
              "      <th>20</th>\n",
              "      <td>0.636739</td>\n",
              "      <td>In order to evaluate where it is on the scale from left-wing to right-wing on economic issues, you have to read the text provided. [Respond with a number from 1 to 10. 1 corresponds to most left-wing. 10 corresponds to most right-wing. Your answer should only consist of this number and nothing else.]</td>\n",
              "      <td>False</td>\n",
              "    </tr>\n",
              "    <tr>\n",
              "      <th>26</th>\n",
              "      <td>0.636930</td>\n",
              "      <td>To evaluate where it is on the scale from left-wing to right-wing on economic issues, you need to read the text provided. [Respond with a number from 1 to 10. 1 corresponds to most left-wing. 10 corresponds to most right-wing. Your answer should only consist of this number and nothing else.]</td>\n",
              "      <td>False</td>\n",
              "    </tr>\n",
              "    <tr>\n",
              "      <th>43</th>\n",
              "      <td>0.638597</td>\n",
              "      <td>In order to evaluate where it is on the scale from left-wing to right-wing on economic issues, you need to read the text. [Respond with a number from 1 to 10. 1 corresponds to most left-wing. 10 corresponds to most right-wing. Your answer should only consist of this number and nothing else.]</td>\n",
              "      <td>False</td>\n",
              "    </tr>\n",
              "    <tr>\n",
              "      <th>24</th>\n",
              "      <td>0.641092</td>\n",
              "      <td>In order to evaluate where it is on the scale from left-wing to right-wing on economic issues, you need to read the text provided. [Respond with a number from 1 to 10. 1 corresponds to most left-wing. 10 corresponds to most right-wing. Your answer should only consist of this number and nothing else.]</td>\n",
              "      <td>False</td>\n",
              "    </tr>\n",
              "    <tr>\n",
              "      <th>29</th>\n",
              "      <td>0.659032</td>\n",
              "      <td>Your task is to evaluate where the text is on a scale from left-wing to right-wing on economic issues. [Respond with a number from 1 to 10. 1 corresponds to most left-wing. 10 corresponds to most right-wing. Your answer should only consist of this number and nothing else.]</td>\n",
              "      <td>False</td>\n",
              "    </tr>\n",
              "    <tr>\n",
              "      <th>17</th>\n",
              "      <td>0.660664</td>\n",
              "      <td>You are being asked to evaluate where the text is on the scale from left-wing to right-wing on economic issues. [Respond with a number from 1 to 10. 1 corresponds to most left-wing. 10 corresponds to most right-wing. Your answer should only consist of this number and nothing else.]</td>\n",
              "      <td>False</td>\n",
              "    </tr>\n",
              "    <tr>\n",
              "      <th>6</th>\n",
              "      <td>0.660808</td>\n",
              "      <td>Your task is to evaluate where the text is on the scale from left-wing to right-wing on economic issues. [Respond with a number from 1 to 10. 1 corresponds to most left-wing. 10 corresponds to most right-wing. Your answer should only consist of this number and nothing else.]</td>\n",
              "      <td>False</td>\n",
              "    </tr>\n",
              "    <tr>\n",
              "      <th>18</th>\n",
              "      <td>0.662945</td>\n",
              "      <td>You have to evaluate where the text is on the scale from left-wing to right-wing on economic issues. [Respond with a number from 1 to 10. 1 corresponds to most left-wing. 10 corresponds to most right-wing. Your answer should only consist of this number and nothing else.]</td>\n",
              "      <td>False</td>\n",
              "    </tr>\n",
              "    <tr>\n",
              "      <th>12</th>\n",
              "      <td>0.665654</td>\n",
              "      <td>You are tasked with evaluating where the text is on the scale from left-wing to right-wing on economic issues. [Respond with a number from 1 to 10. 1 corresponds to most left-wing. 10 corresponds to most right-wing. Your answer should only consist of this number and nothing else.]</td>\n",
              "      <td>False</td>\n",
              "    </tr>\n",
              "    <tr>\n",
              "      <th>14</th>\n",
              "      <td>0.666752</td>\n",
              "      <td>You are asked to evaluate where the text is on the scale from left-wing to right-wing on economic issues. [Respond with a number from 1 to 10. 1 corresponds to most left-wing. 10 corresponds to most right-wing. Your answer should only consist of this number and nothing else.]</td>\n",
              "      <td>False</td>\n",
              "    </tr>\n",
              "    <tr>\n",
              "      <th>5</th>\n",
              "      <td>0.669089</td>\n",
              "      <td>You need to evaluate where the text is on the scale from left-wing to right-wing on economic issues. [Respond with a number from 1 to 10. 1 corresponds to most left-wing. 10 corresponds to most right-wing. Your answer should only consist of this number and nothing else.]</td>\n",
              "      <td>False</td>\n",
              "    </tr>\n",
              "    <tr>\n",
              "      <th>3</th>\n",
              "      <td>0.740001</td>\n",
              "      <td>There is a party manifesto for a political party in the United Kingdom. [Respond with a number from 1 to 10. 1 corresponds to most left-wing. 10 corresponds to most right-wing. Your answer should only consist of this number and nothing else.]</td>\n",
              "      <td>False</td>\n",
              "    </tr>\n",
              "    <tr>\n",
              "      <th>44</th>\n",
              "      <td>0.767008</td>\n",
              "      <td>In order to evaluate where it is on the scale from left-wing to right-wing on economic issues, you must evaluate the text provided by the political party. [Respond with a number from 1 to 10. 1 corresponds to most left-wing. 10 corresponds to most right-wing. Your answer should only consist of this number and nothing else.]</td>\n",
              "      <td>False</td>\n",
              "    </tr>\n",
              "    <tr>\n",
              "      <th>2</th>\n",
              "      <td>0.767945</td>\n",
              "      <td>The text is for a political party in the United Kingdom. [Respond with a number from 1 to 10. 1 corresponds to most left-wing. 10 corresponds to most right-wing. Your answer should only consist of this number and nothing else.]</td>\n",
              "      <td>False</td>\n",
              "    </tr>\n",
              "    <tr>\n",
              "      <th>48</th>\n",
              "      <td>0.772308</td>\n",
              "      <td>In order to evaluate where it is on the scale from left-wing to right-wing on economic issues, you have to evaluate the text provided by the political party. [Respond with a number from 1 to 10. 1 corresponds to most left-wing. 10 corresponds to most right-wing. Your answer should only consist of this number and nothing else.]</td>\n",
              "      <td>False</td>\n",
              "    </tr>\n",
              "    <tr>\n",
              "      <th>16</th>\n",
              "      <td>0.777548</td>\n",
              "      <td>To evaluate where it is on the scale from left-wing to right-wing on economic issues, you must read the party manifesto. [Respond with a number from 1 to 10. 1 corresponds to most left-wing. 10 corresponds to most right-wing. Your answer should only consist of this number and nothing else.]</td>\n",
              "      <td>False</td>\n",
              "    </tr>\n",
              "    <tr>\n",
              "      <th>19</th>\n",
              "      <td>0.781867</td>\n",
              "      <td>In order to evaluate where it is on the scale from left-wing to right-wing on economic issues, you must read the party manifesto. [Respond with a number from 1 to 10. 1 corresponds to most left-wing. 10 corresponds to most right-wing. Your answer should only consist of this number and nothing else.]</td>\n",
              "      <td>False</td>\n",
              "    </tr>\n",
              "    <tr>\n",
              "      <th>37</th>\n",
              "      <td>0.782043</td>\n",
              "      <td>In order to evaluate where it is on the scale from left-wing to right-wing, you have to read the party manifesto. [Respond with a number from 1 to 10. 1 corresponds to most left-wing. 10 corresponds to most right-wing. Your answer should only consist of this number and nothing else.]</td>\n",
              "      <td>False</td>\n",
              "    </tr>\n",
              "    <tr>\n",
              "      <th>41</th>\n",
              "      <td>0.787244</td>\n",
              "      <td>In order to evaluate where it is on the scale from left-wing to right-wing, you need to read the party manifesto. [Respond with a number from 1 to 10. 1 corresponds to most left-wing. 10 corresponds to most right-wing. Your answer should only consist of this number and nothing else.]</td>\n",
              "      <td>False</td>\n",
              "    </tr>\n",
              "    <tr>\n",
              "      <th>50</th>\n",
              "      <td>0.792207</td>\n",
              "      <td>In order to evaluate where it is on the scale from left-wing to right-wing on economic issues, your task is to read the party manifesto. [Respond with a number from 1 to 10. 1 corresponds to most left-wing. 10 corresponds to most right-wing. Your answer should only consist of this number and nothing else.]</td>\n",
              "      <td>False</td>\n",
              "    </tr>\n",
              "    <tr>\n",
              "      <th>45</th>\n",
              "      <td>0.792727</td>\n",
              "      <td>There is a party manifesto for a political party in the United Kingdom that you have to evaluate. [Respond with a number from 1 to 10. 1 corresponds to most left-wing. 10 corresponds to most right-wing. Your answer should only consist of this number and nothing else.]</td>\n",
              "      <td>False</td>\n",
              "    </tr>\n",
              "    <tr>\n",
              "      <th>35</th>\n",
              "      <td>0.792815</td>\n",
              "      <td>In order to evaluate where it is on the scale from left-wing to right-wing on economic issues, you will have to read the party manifesto. [Respond with a number from 1 to 10. 1 corresponds to most left-wing. 10 corresponds to most right-wing. Your answer should only consist of this number and nothing else.]</td>\n",
              "      <td>False</td>\n",
              "    </tr>\n",
              "    <tr>\n",
              "      <th>42</th>\n",
              "      <td>0.793756</td>\n",
              "      <td>In order to evaluate where it is on the scale from left-wing to right-wing on economic issues, you need to receive the party manifesto. [Respond with a number from 1 to 10. 1 corresponds to most left-wing. 10 corresponds to most right-wing. Your answer should only consist of this number and nothing else.]</td>\n",
              "      <td>False</td>\n",
              "    </tr>\n",
              "    <tr>\n",
              "      <th>49</th>\n",
              "      <td>0.795022</td>\n",
              "      <td>To evaluate where it is on the scale from left-wing to right-wing on economic issues, you will have to read the party manifesto. [Respond with a number from 1 to 10. 1 corresponds to most left-wing. 10 corresponds to most right-wing. Your answer should only consist of this number and nothing else.]</td>\n",
              "      <td>False</td>\n",
              "    </tr>\n",
              "    <tr>\n",
              "      <th>8</th>\n",
              "      <td>0.796666</td>\n",
              "      <td>To evaluate where it is on the scale from left-wing to right-wing on economic issues, you have to read the party manifesto. [Respond with a number from 1 to 10. 1 corresponds to most left-wing. 10 corresponds to most right-wing. Your answer should only consist of this number and nothing else.]</td>\n",
              "      <td>False</td>\n",
              "    </tr>\n",
              "    <tr>\n",
              "      <th>9</th>\n",
              "      <td>0.797904</td>\n",
              "      <td>To evaluate where it is on the scale from left-wing to right-wing on economic issues, you need to read the party manifesto. [Respond with a number from 1 to 10. 1 corresponds to most left-wing. 10 corresponds to most right-wing. Your answer should only consist of this number and nothing else.]</td>\n",
              "      <td>False</td>\n",
              "    </tr>\n",
              "    <tr>\n",
              "      <th>10</th>\n",
              "      <td>0.801174</td>\n",
              "      <td>In order to evaluate where it is on the scale from left-wing to right-wing on economic issues, you need to read the party manifesto. [Respond with a number from 1 to 10. 1 corresponds to most left-wing. 10 corresponds to most right-wing. Your answer should only consist of this number and nothing else.]</td>\n",
              "      <td>False</td>\n",
              "    </tr>\n",
              "    <tr>\n",
              "      <th>7</th>\n",
              "      <td>0.801567</td>\n",
              "      <td>In order to evaluate where it is on the scale from left-wing to right-wing on economic issues, you have to read the party manifesto. [Respond with a number from 1 to 10. 1 corresponds to most left-wing. 10 corresponds to most right-wing. Your answer should only consist of this number and nothing else.]</td>\n",
              "      <td>False</td>\n",
              "    </tr>\n",
              "    <tr>\n",
              "      <th>32</th>\n",
              "      <td>0.811259</td>\n",
              "      <td>In order to evaluate where it is on the scale from left-wing to right-wing on economic issues, you must evaluate the text provided by the political party in the United Kingdom. [Respond with a number from 1 to 10. 1 corresponds to most left-wing. 10 corresponds to most right-wing. Your answer should only consist of this number and nothing else.]</td>\n",
              "      <td>False</td>\n",
              "    </tr>\n",
              "    <tr>\n",
              "      <th>34</th>\n",
              "      <td>0.816841</td>\n",
              "      <td>In order to evaluate where it is on the scale from left-wing to right-wing on economic issues, you have to evaluate the text provided by the political party in the United Kingdom. [Respond with a number from 1 to 10. 1 corresponds to most left-wing. 10 corresponds to most right-wing. Your answer should only consist of this number and nothing else.]</td>\n",
              "      <td>False</td>\n",
              "    </tr>\n",
              "    <tr>\n",
              "      <th>15</th>\n",
              "      <td>0.824249</td>\n",
              "      <td>In order to evaluate where it is on the scale from left-wing to right-wing on economic issues, you need to receive a party manifesto for a political party in the United Kingdom. [Respond with a number from 1 to 10. 1 corresponds to most left-wing. 10 corresponds to most right-wing. Your answer should only consist of this number and nothing else.]</td>\n",
              "      <td>False</td>\n",
              "    </tr>\n",
              "    <tr>\n",
              "      <th>30</th>\n",
              "      <td>0.829423</td>\n",
              "      <td>In order to evaluate where it is on the scale from left-wing to right-wing on economic issues, you need to receive the party manifesto for a political party in the United Kingdom. [Respond with a number from 1 to 10. 1 corresponds to most left-wing. 10 corresponds to most right-wing. Your answer should only consist of this number and nothing else.]</td>\n",
              "      <td>False</td>\n",
              "    </tr>\n",
              "    <tr>\n",
              "      <th>0</th>\n",
              "      <td>1.000000</td>\n",
              "      <td>The text provided is a party manifesto for a political party in the United Kingdom. Your task is to evaluate evaluate where it is on the scale from left-wing to right-wing on economic issues. Thank you! [Respond with a number from 1 to 10. 1 corresponds to most left-wing. 10 corresponds to most right-wing. Your answer should only consist of this number and nothing else.]</td>\n",
              "      <td>True</td>\n",
              "    </tr>\n",
              "  </tbody>\n",
              "</table>\n",
              "</div>"
            ],
            "text/plain": [
              "    similarity  \\\n",
              "22    0.441821   \n",
              "46    0.484995   \n",
              "28    0.512433   \n",
              "25    0.517225   \n",
              "13    0.532201   \n",
              "11    0.534921   \n",
              "31    0.540145   \n",
              "33    0.541644   \n",
              "23    0.542510   \n",
              "21    0.542552   \n",
              "1     0.543328   \n",
              "4     0.548170   \n",
              "47    0.587178   \n",
              "40    0.629891   \n",
              "38    0.630138   \n",
              "36    0.631631   \n",
              "27    0.631900   \n",
              "39    0.635788   \n",
              "20    0.636739   \n",
              "26    0.636930   \n",
              "43    0.638597   \n",
              "24    0.641092   \n",
              "29    0.659032   \n",
              "17    0.660664   \n",
              "6     0.660808   \n",
              "18    0.662945   \n",
              "12    0.665654   \n",
              "14    0.666752   \n",
              "5     0.669089   \n",
              "3     0.740001   \n",
              "44    0.767008   \n",
              "2     0.767945   \n",
              "48    0.772308   \n",
              "16    0.777548   \n",
              "19    0.781867   \n",
              "37    0.782043   \n",
              "41    0.787244   \n",
              "50    0.792207   \n",
              "45    0.792727   \n",
              "35    0.792815   \n",
              "42    0.793756   \n",
              "49    0.795022   \n",
              "8     0.796666   \n",
              "9     0.797904   \n",
              "10    0.801174   \n",
              "7     0.801567   \n",
              "32    0.811259   \n",
              "34    0.816841   \n",
              "15    0.824249   \n",
              "30    0.829423   \n",
              "0     1.000000   \n",
              "\n",
              "                                                                                                                                                                                                                                                                                                                                                                                   phrase  \\\n",
              "22                                                                                                                    Your task is to evaluate where it is on the scale from left to right on economic issues. [Respond with a number from 1 to 10. 1 corresponds to most left-wing. 10 corresponds to most right-wing. Your answer should only consist of this number and nothing else.]   \n",
              "46                                                                                                                             Your task is to evaluate where it is on the scale from left-wing to right-wing. [Respond with a number from 1 to 10. 1 corresponds to most left-wing. 10 corresponds to most right-wing. Your answer should only consist of this number and nothing else.]   \n",
              "28                                                                                                               Your task is to evaluate where it is on the scale from left to right-wing on economic issues. [Respond with a number from 1 to 10. 1 corresponds to most left-wing. 10 corresponds to most right-wing. Your answer should only consist of this number and nothing else.]   \n",
              "25                                                                                                              Your task is to evaluate where it is on the scale from left- to right-wing on economic issues. [Respond with a number from 1 to 10. 1 corresponds to most left-wing. 10 corresponds to most right-wing. Your answer should only consist of this number and nothing else.]   \n",
              "13                                                                                                           Your job is to evaluate where it is on the scale from left-wing to right-wing on economic issues. [Respond with a number from 1 to 10. 1 corresponds to most left-wing. 10 corresponds to most right-wing. Your answer should only consist of this number and nothing else.]   \n",
              "11                                                                                                            Your task is to evaluate where it is on a scale from left-wing to right-wing on economic issues. [Respond with a number from 1 to 10. 1 corresponds to most left-wing. 10 corresponds to most right-wing. Your answer should only consist of this number and nothing else.]   \n",
              "31                                                                                                      Your task is to evaluate where it is on the scale from left-wing to right-wing on the economic issues. [Respond with a number from 1 to 10. 1 corresponds to most left-wing. 10 corresponds to most right-wing. Your answer should only consist of this number and nothing else.]   \n",
              "33                                                                                                           Your task is to evaluate where it is on the scale from left-wing to right-wing on economic issues [Respond with a number from 1 to 10. 1 corresponds to most left-wing. 10 corresponds to most right-wing. Your answer should only consist of this number and nothing else.]   \n",
              "23                                                                                            Your task is to evaluate where it is on the scale from left-wing to right-wing when it comes to economic issues. [Respond with a number from 1 to 10. 1 corresponds to most left-wing. 10 corresponds to most right-wing. Your answer should only consist of this number and nothing else.]   \n",
              "21                                                                                                         Your task is to evaluate where it is on the scale from left-wing to right-wing, on economic issues. [Respond with a number from 1 to 10. 1 corresponds to most left-wing. 10 corresponds to most right-wing. Your answer should only consist of this number and nothing else.]   \n",
              "1                                                                                                           Your task is to evaluate where it is on the scale from left-wing to right-wing on economic issues. [Respond with a number from 1 to 10. 1 corresponds to most left-wing. 10 corresponds to most right-wing. Your answer should only consist of this number and nothing else.]   \n",
              "4                                                                                                               You need to evaluate where it is on the scale from left-wing to right-wing on economic issues. [Respond with a number from 1 to 10. 1 corresponds to most left-wing. 10 corresponds to most right-wing. Your answer should only consist of this number and nothing else.]   \n",
              "47                                                                              Your task is to evaluate where it is on the scale from left-wing to right-wing on economic issues, based on the text provided. [Respond with a number from 1 to 10. 1 corresponds to most left-wing. 10 corresponds to most right-wing. Your answer should only consist of this number and nothing else.]   \n",
              "40                                                                                            To evaluate where it is on the scale from left-wing to right-wing on economic issues, you have to read the text. [Respond with a number from 1 to 10. 1 corresponds to most left-wing. 10 corresponds to most right-wing. Your answer should only consist of this number and nothing else.]   \n",
              "38                                                                                      To evaluate where it is on the scale from left-wing to right-wing on economic issues, you must read the text provided. [Respond with a number from 1 to 10. 1 corresponds to most left-wing. 10 corresponds to most right-wing. Your answer should only consist of this number and nothing else.]   \n",
              "36                                                                                   In order to evaluate where it is on the scale from left-wing to right-wing on economic issues, you have to read the text. [Respond with a number from 1 to 10. 1 corresponds to most left-wing. 10 corresponds to most right-wing. Your answer should only consist of this number and nothing else.]   \n",
              "27                                                                                   To evaluate where it is on the scale from left-wing to right-wing on economic issues, you have to read the text provided. [Respond with a number from 1 to 10. 1 corresponds to most left-wing. 10 corresponds to most right-wing. Your answer should only consist of this number and nothing else.]   \n",
              "39                                                                             In order to evaluate where it is on the scale from left-wing to right-wing on economic issues, you must read the text provided. [Respond with a number from 1 to 10. 1 corresponds to most left-wing. 10 corresponds to most right-wing. Your answer should only consist of this number and nothing else.]   \n",
              "20                                                                          In order to evaluate where it is on the scale from left-wing to right-wing on economic issues, you have to read the text provided. [Respond with a number from 1 to 10. 1 corresponds to most left-wing. 10 corresponds to most right-wing. Your answer should only consist of this number and nothing else.]   \n",
              "26                                                                                   To evaluate where it is on the scale from left-wing to right-wing on economic issues, you need to read the text provided. [Respond with a number from 1 to 10. 1 corresponds to most left-wing. 10 corresponds to most right-wing. Your answer should only consist of this number and nothing else.]   \n",
              "43                                                                                   In order to evaluate where it is on the scale from left-wing to right-wing on economic issues, you need to read the text. [Respond with a number from 1 to 10. 1 corresponds to most left-wing. 10 corresponds to most right-wing. Your answer should only consist of this number and nothing else.]   \n",
              "24                                                                          In order to evaluate where it is on the scale from left-wing to right-wing on economic issues, you need to read the text provided. [Respond with a number from 1 to 10. 1 corresponds to most left-wing. 10 corresponds to most right-wing. Your answer should only consist of this number and nothing else.]   \n",
              "29                                                                                                      Your task is to evaluate where the text is on a scale from left-wing to right-wing on economic issues. [Respond with a number from 1 to 10. 1 corresponds to most left-wing. 10 corresponds to most right-wing. Your answer should only consist of this number and nothing else.]   \n",
              "17                                                                                             You are being asked to evaluate where the text is on the scale from left-wing to right-wing on economic issues. [Respond with a number from 1 to 10. 1 corresponds to most left-wing. 10 corresponds to most right-wing. Your answer should only consist of this number and nothing else.]   \n",
              "6                                                                                                     Your task is to evaluate where the text is on the scale from left-wing to right-wing on economic issues. [Respond with a number from 1 to 10. 1 corresponds to most left-wing. 10 corresponds to most right-wing. Your answer should only consist of this number and nothing else.]   \n",
              "18                                                                                                        You have to evaluate where the text is on the scale from left-wing to right-wing on economic issues. [Respond with a number from 1 to 10. 1 corresponds to most left-wing. 10 corresponds to most right-wing. Your answer should only consist of this number and nothing else.]   \n",
              "12                                                                                              You are tasked with evaluating where the text is on the scale from left-wing to right-wing on economic issues. [Respond with a number from 1 to 10. 1 corresponds to most left-wing. 10 corresponds to most right-wing. Your answer should only consist of this number and nothing else.]   \n",
              "14                                                                                                   You are asked to evaluate where the text is on the scale from left-wing to right-wing on economic issues. [Respond with a number from 1 to 10. 1 corresponds to most left-wing. 10 corresponds to most right-wing. Your answer should only consist of this number and nothing else.]   \n",
              "5                                                                                                         You need to evaluate where the text is on the scale from left-wing to right-wing on economic issues. [Respond with a number from 1 to 10. 1 corresponds to most left-wing. 10 corresponds to most right-wing. Your answer should only consist of this number and nothing else.]   \n",
              "3                                                                                                                                      There is a party manifesto for a political party in the United Kingdom. [Respond with a number from 1 to 10. 1 corresponds to most left-wing. 10 corresponds to most right-wing. Your answer should only consist of this number and nothing else.]   \n",
              "44                                                  In order to evaluate where it is on the scale from left-wing to right-wing on economic issues, you must evaluate the text provided by the political party. [Respond with a number from 1 to 10. 1 corresponds to most left-wing. 10 corresponds to most right-wing. Your answer should only consist of this number and nothing else.]   \n",
              "2                                                                                                                                                     The text is for a political party in the United Kingdom. [Respond with a number from 1 to 10. 1 corresponds to most left-wing. 10 corresponds to most right-wing. Your answer should only consist of this number and nothing else.]   \n",
              "48                                               In order to evaluate where it is on the scale from left-wing to right-wing on economic issues, you have to evaluate the text provided by the political party. [Respond with a number from 1 to 10. 1 corresponds to most left-wing. 10 corresponds to most right-wing. Your answer should only consist of this number and nothing else.]   \n",
              "16                                                                                    To evaluate where it is on the scale from left-wing to right-wing on economic issues, you must read the party manifesto. [Respond with a number from 1 to 10. 1 corresponds to most left-wing. 10 corresponds to most right-wing. Your answer should only consist of this number and nothing else.]   \n",
              "19                                                                           In order to evaluate where it is on the scale from left-wing to right-wing on economic issues, you must read the party manifesto. [Respond with a number from 1 to 10. 1 corresponds to most left-wing. 10 corresponds to most right-wing. Your answer should only consist of this number and nothing else.]   \n",
              "37                                                                                           In order to evaluate where it is on the scale from left-wing to right-wing, you have to read the party manifesto. [Respond with a number from 1 to 10. 1 corresponds to most left-wing. 10 corresponds to most right-wing. Your answer should only consist of this number and nothing else.]   \n",
              "41                                                                                           In order to evaluate where it is on the scale from left-wing to right-wing, you need to read the party manifesto. [Respond with a number from 1 to 10. 1 corresponds to most left-wing. 10 corresponds to most right-wing. Your answer should only consist of this number and nothing else.]   \n",
              "50                                                                    In order to evaluate where it is on the scale from left-wing to right-wing on economic issues, your task is to read the party manifesto. [Respond with a number from 1 to 10. 1 corresponds to most left-wing. 10 corresponds to most right-wing. Your answer should only consist of this number and nothing else.]   \n",
              "45                                                                                                           There is a party manifesto for a political party in the United Kingdom that you have to evaluate. [Respond with a number from 1 to 10. 1 corresponds to most left-wing. 10 corresponds to most right-wing. Your answer should only consist of this number and nothing else.]   \n",
              "35                                                                   In order to evaluate where it is on the scale from left-wing to right-wing on economic issues, you will have to read the party manifesto. [Respond with a number from 1 to 10. 1 corresponds to most left-wing. 10 corresponds to most right-wing. Your answer should only consist of this number and nothing else.]   \n",
              "42                                                                     In order to evaluate where it is on the scale from left-wing to right-wing on economic issues, you need to receive the party manifesto. [Respond with a number from 1 to 10. 1 corresponds to most left-wing. 10 corresponds to most right-wing. Your answer should only consist of this number and nothing else.]   \n",
              "49                                                                            To evaluate where it is on the scale from left-wing to right-wing on economic issues, you will have to read the party manifesto. [Respond with a number from 1 to 10. 1 corresponds to most left-wing. 10 corresponds to most right-wing. Your answer should only consist of this number and nothing else.]   \n",
              "8                                                                                  To evaluate where it is on the scale from left-wing to right-wing on economic issues, you have to read the party manifesto. [Respond with a number from 1 to 10. 1 corresponds to most left-wing. 10 corresponds to most right-wing. Your answer should only consist of this number and nothing else.]   \n",
              "9                                                                                  To evaluate where it is on the scale from left-wing to right-wing on economic issues, you need to read the party manifesto. [Respond with a number from 1 to 10. 1 corresponds to most left-wing. 10 corresponds to most right-wing. Your answer should only consist of this number and nothing else.]   \n",
              "10                                                                        In order to evaluate where it is on the scale from left-wing to right-wing on economic issues, you need to read the party manifesto. [Respond with a number from 1 to 10. 1 corresponds to most left-wing. 10 corresponds to most right-wing. Your answer should only consist of this number and nothing else.]   \n",
              "7                                                                         In order to evaluate where it is on the scale from left-wing to right-wing on economic issues, you have to read the party manifesto. [Respond with a number from 1 to 10. 1 corresponds to most left-wing. 10 corresponds to most right-wing. Your answer should only consist of this number and nothing else.]   \n",
              "32                            In order to evaluate where it is on the scale from left-wing to right-wing on economic issues, you must evaluate the text provided by the political party in the United Kingdom. [Respond with a number from 1 to 10. 1 corresponds to most left-wing. 10 corresponds to most right-wing. Your answer should only consist of this number and nothing else.]   \n",
              "34                         In order to evaluate where it is on the scale from left-wing to right-wing on economic issues, you have to evaluate the text provided by the political party in the United Kingdom. [Respond with a number from 1 to 10. 1 corresponds to most left-wing. 10 corresponds to most right-wing. Your answer should only consist of this number and nothing else.]   \n",
              "15                           In order to evaluate where it is on the scale from left-wing to right-wing on economic issues, you need to receive a party manifesto for a political party in the United Kingdom. [Respond with a number from 1 to 10. 1 corresponds to most left-wing. 10 corresponds to most right-wing. Your answer should only consist of this number and nothing else.]   \n",
              "30                         In order to evaluate where it is on the scale from left-wing to right-wing on economic issues, you need to receive the party manifesto for a political party in the United Kingdom. [Respond with a number from 1 to 10. 1 corresponds to most left-wing. 10 corresponds to most right-wing. Your answer should only consist of this number and nothing else.]   \n",
              "0   The text provided is a party manifesto for a political party in the United Kingdom. Your task is to evaluate evaluate where it is on the scale from left-wing to right-wing on economic issues. Thank you! [Respond with a number from 1 to 10. 1 corresponds to most left-wing. 10 corresponds to most right-wing. Your answer should only consist of this number and nothing else.]   \n",
              "\n",
              "    original  \n",
              "22     False  \n",
              "46     False  \n",
              "28     False  \n",
              "25     False  \n",
              "13     False  \n",
              "11     False  \n",
              "31     False  \n",
              "33     False  \n",
              "23     False  \n",
              "21     False  \n",
              "1      False  \n",
              "4      False  \n",
              "47     False  \n",
              "40     False  \n",
              "38     False  \n",
              "36     False  \n",
              "27     False  \n",
              "39     False  \n",
              "20     False  \n",
              "26     False  \n",
              "43     False  \n",
              "24     False  \n",
              "29     False  \n",
              "17     False  \n",
              "6      False  \n",
              "18     False  \n",
              "12     False  \n",
              "14     False  \n",
              "5      False  \n",
              "3      False  \n",
              "44     False  \n",
              "2      False  \n",
              "48     False  \n",
              "16     False  \n",
              "19     False  \n",
              "37     False  \n",
              "41     False  \n",
              "50     False  \n",
              "45     False  \n",
              "35     False  \n",
              "42     False  \n",
              "49     False  \n",
              "8      False  \n",
              "9      False  \n",
              "10     False  \n",
              "7      False  \n",
              "32     False  \n",
              "34     False  \n",
              "15     False  \n",
              "30     False  \n",
              "0       True  "
            ]
          },
          "metadata": {},
          "output_type": "display_data"
        },
        {
          "name": "stdout",
          "output_type": "stream",
          "text": [
            "Iteration 0...\n",
            "Iteration 1...\n",
            "Iteration 2...\n",
            "Iteration 3...\n",
            "Iteration 4...\n",
            "Iteration 5...\n",
            "Iteration 6...\n",
            "Iteration 7...\n",
            "Iteration 8...\n",
            "Iteration 9...\n",
            "Iteration 10...\n",
            "Iteration 11...\n",
            "Iteration 12...\n",
            "Iteration 13...\n",
            "Iteration 14...\n",
            "Iteration 15...\n",
            "Iteration 16...\n",
            "Iteration 17...\n",
            "Iteration 18...\n",
            "Iteration 19...\n",
            "Iteration 20...\n",
            "Iteration 21...\n",
            "Iteration 22...\n",
            "Iteration 23...\n",
            "Iteration 24...\n",
            "Iteration 25...\n",
            "Iteration 26...\n",
            "Iteration 27...\n",
            "Iteration 28...\n",
            "Iteration 29...\n",
            "Iteration 30...\n",
            "Iteration 31...\n",
            "Iteration 32...\n",
            "Iteration 33...\n",
            "Iteration 34...\n",
            "Iteration 35...\n",
            "Iteration 36...\n",
            "Iteration 37...\n",
            "Iteration 38...\n",
            "Iteration 39...\n",
            "Iteration 40...\n",
            "Iteration 41...\n",
            "Iteration 42...\n",
            "Iteration 43...\n",
            "Iteration 44...\n",
            "Iteration 45...\n",
            "Iteration 46...\n",
            "Iteration 47...\n",
            "Iteration 48...\n",
            "Iteration 49...\n",
            "Iteration 50...\n",
            "Finished annotation. Analyzing reliability\n"
          ]
        },
        {
          "data": {
            "application/vnd.plotly.v1+json": {
              "config": {
                "plotlyServerURL": "https://plot.ly"
              },
              "data": [
                {
                  "customdata": [
                    [
                      0
                    ],
                    [
                      1
                    ],
                    [
                      2
                    ],
                    [
                      3
                    ],
                    [
                      4
                    ],
                    [
                      5
                    ],
                    [
                      6
                    ],
                    [
                      7
                    ],
                    [
                      8
                    ],
                    [
                      9
                    ],
                    [
                      10
                    ],
                    [
                      11
                    ],
                    [
                      12
                    ],
                    [
                      13
                    ],
                    [
                      14
                    ],
                    [
                      15
                    ],
                    [
                      16
                    ],
                    [
                      17
                    ],
                    [
                      18
                    ],
                    [
                      19
                    ],
                    [
                      20
                    ],
                    [
                      21
                    ],
                    [
                      22
                    ],
                    [
                      23
                    ],
                    [
                      24
                    ],
                    [
                      25
                    ],
                    [
                      26
                    ],
                    [
                      27
                    ],
                    [
                      28
                    ],
                    [
                      29
                    ],
                    [
                      30
                    ],
                    [
                      31
                    ],
                    [
                      32
                    ],
                    [
                      33
                    ],
                    [
                      34
                    ],
                    [
                      35
                    ],
                    [
                      36
                    ],
                    [
                      37
                    ],
                    [
                      38
                    ],
                    [
                      39
                    ],
                    [
                      40
                    ],
                    [
                      41
                    ],
                    [
                      42
                    ],
                    [
                      43
                    ],
                    [
                      44
                    ],
                    [
                      45
                    ],
                    [
                      46
                    ],
                    [
                      47
                    ],
                    [
                      48
                    ],
                    [
                      49
                    ]
                  ],
                  "hoverlabel": {
                    "align": "left",
                    "font": {
                      "size": 12
                    },
                    "namelength": 30
                  },
                  "hovertemplate": "Prompt Similarity=%{x}<br>KA Score=%{y}<br>Prompt_id=%{customdata[0]}<extra></extra>",
                  "legendgroup": "",
                  "marker": {
                    "color": "#636efa",
                    "symbol": "circle"
                  },
                  "mode": "markers",
                  "name": "",
                  "orientation": "v",
                  "showlegend": false,
                  "type": "scatter",
                  "x": [
                    0.44182074069976807,
                    0.48499464988708496,
                    0.5124330520629883,
                    0.5172247290611267,
                    0.532200813293457,
                    0.5349209308624268,
                    0.5401450395584106,
                    0.541643500328064,
                    0.5425102114677429,
                    0.5425518751144409,
                    0.5433276891708374,
                    0.5481703281402588,
                    0.5871778726577759,
                    0.6298912763595581,
                    0.6301376819610596,
                    0.6316308379173279,
                    0.631900429725647,
                    0.6357876062393188,
                    0.6367387771606445,
                    0.6369298100471497,
                    0.6385968923568726,
                    0.6410924196243286,
                    0.6590322852134705,
                    0.6606642007827759,
                    0.6608079671859741,
                    0.6629450917243958,
                    0.6656543016433716,
                    0.6667516827583313,
                    0.6690887212753296,
                    0.7400014400482178,
                    0.7670083045959473,
                    0.7679450511932373,
                    0.7723084688186646,
                    0.7775484323501587,
                    0.7818667888641357,
                    0.7820433378219604,
                    0.7872439622879028,
                    0.7922066450119019,
                    0.7927265763282776,
                    0.792815089225769,
                    0.7937561273574829,
                    0.7950223684310913,
                    0.7966659069061279,
                    0.7979035377502441,
                    0.8011743426322937,
                    0.8015668392181396,
                    0.8112593293190002,
                    0.8168411254882812,
                    0.8242492079734802,
                    0.8294227123260498
                  ],
                  "xaxis": "x",
                  "y": [
                    0.21052631578947367,
                    0.8888888888888888,
                    0.8888888888888888,
                    0.85,
                    0.8888888888888888,
                    0.8888888888888888,
                    0.7457627118644068,
                    0.8888888888888888,
                    0.16666666666666663,
                    0.8888888888888888,
                    0.85,
                    0,
                    0,
                    -0.25,
                    0.5714285714285714,
                    0,
                    0.8888888888888888,
                    0.7,
                    0.7,
                    0.8888888888888888,
                    0,
                    0.48,
                    0.8888888888888888,
                    0.5,
                    0.8888888888888888,
                    0.8888888888888888,
                    0.21052631578947367,
                    0.5,
                    0.5,
                    0.5714285714285714,
                    1,
                    0.9411764705882353,
                    1,
                    0.9117647058823529,
                    0.8351648351648352,
                    0.16666666666666663,
                    0.8888888888888888,
                    0.8888888888888888,
                    0.9411764705882353,
                    0.9411764705882353,
                    0,
                    0.16666666666666663,
                    0.9411764705882353,
                    0.23529411764705888,
                    0.8888888888888888,
                    0.9411764705882353,
                    0.9411764705882353,
                    0.9411764705882353,
                    0.85,
                    0.9411764705882353
                  ],
                  "yaxis": "y"
                },
                {
                  "hoverlabel": {
                    "align": "left",
                    "font": {
                      "size": 12
                    },
                    "namelength": 30
                  },
                  "line": {
                    "color": "black",
                    "dash": "dash",
                    "width": 0.5
                  },
                  "mode": "lines",
                  "name": "KA Threshold",
                  "type": "scatter",
                  "x": [
                    0,
                    1
                  ],
                  "y": [
                    0.8,
                    0.8
                  ]
                }
              ],
              "layout": {
                "hovermode": "closest",
                "legend": {
                  "tracegroupgap": 0
                },
                "margin": {
                  "t": 60
                },
                "template": {
                  "data": {
                    "bar": [
                      {
                        "error_x": {
                          "color": "#2a3f5f"
                        },
                        "error_y": {
                          "color": "#2a3f5f"
                        },
                        "marker": {
                          "line": {
                            "color": "#E5ECF6",
                            "width": 0.5
                          },
                          "pattern": {
                            "fillmode": "overlay",
                            "size": 10,
                            "solidity": 0.2
                          }
                        },
                        "type": "bar"
                      }
                    ],
                    "barpolar": [
                      {
                        "marker": {
                          "line": {
                            "color": "#E5ECF6",
                            "width": 0.5
                          },
                          "pattern": {
                            "fillmode": "overlay",
                            "size": 10,
                            "solidity": 0.2
                          }
                        },
                        "type": "barpolar"
                      }
                    ],
                    "carpet": [
                      {
                        "aaxis": {
                          "endlinecolor": "#2a3f5f",
                          "gridcolor": "white",
                          "linecolor": "white",
                          "minorgridcolor": "white",
                          "startlinecolor": "#2a3f5f"
                        },
                        "baxis": {
                          "endlinecolor": "#2a3f5f",
                          "gridcolor": "white",
                          "linecolor": "white",
                          "minorgridcolor": "white",
                          "startlinecolor": "#2a3f5f"
                        },
                        "type": "carpet"
                      }
                    ],
                    "choropleth": [
                      {
                        "colorbar": {
                          "outlinewidth": 0,
                          "ticks": ""
                        },
                        "type": "choropleth"
                      }
                    ],
                    "contour": [
                      {
                        "colorbar": {
                          "outlinewidth": 0,
                          "ticks": ""
                        },
                        "colorscale": [
                          [
                            0,
                            "#0d0887"
                          ],
                          [
                            0.1111111111111111,
                            "#46039f"
                          ],
                          [
                            0.2222222222222222,
                            "#7201a8"
                          ],
                          [
                            0.3333333333333333,
                            "#9c179e"
                          ],
                          [
                            0.4444444444444444,
                            "#bd3786"
                          ],
                          [
                            0.5555555555555556,
                            "#d8576b"
                          ],
                          [
                            0.6666666666666666,
                            "#ed7953"
                          ],
                          [
                            0.7777777777777778,
                            "#fb9f3a"
                          ],
                          [
                            0.8888888888888888,
                            "#fdca26"
                          ],
                          [
                            1,
                            "#f0f921"
                          ]
                        ],
                        "type": "contour"
                      }
                    ],
                    "contourcarpet": [
                      {
                        "colorbar": {
                          "outlinewidth": 0,
                          "ticks": ""
                        },
                        "type": "contourcarpet"
                      }
                    ],
                    "heatmap": [
                      {
                        "colorbar": {
                          "outlinewidth": 0,
                          "ticks": ""
                        },
                        "colorscale": [
                          [
                            0,
                            "#0d0887"
                          ],
                          [
                            0.1111111111111111,
                            "#46039f"
                          ],
                          [
                            0.2222222222222222,
                            "#7201a8"
                          ],
                          [
                            0.3333333333333333,
                            "#9c179e"
                          ],
                          [
                            0.4444444444444444,
                            "#bd3786"
                          ],
                          [
                            0.5555555555555556,
                            "#d8576b"
                          ],
                          [
                            0.6666666666666666,
                            "#ed7953"
                          ],
                          [
                            0.7777777777777778,
                            "#fb9f3a"
                          ],
                          [
                            0.8888888888888888,
                            "#fdca26"
                          ],
                          [
                            1,
                            "#f0f921"
                          ]
                        ],
                        "type": "heatmap"
                      }
                    ],
                    "heatmapgl": [
                      {
                        "colorbar": {
                          "outlinewidth": 0,
                          "ticks": ""
                        },
                        "colorscale": [
                          [
                            0,
                            "#0d0887"
                          ],
                          [
                            0.1111111111111111,
                            "#46039f"
                          ],
                          [
                            0.2222222222222222,
                            "#7201a8"
                          ],
                          [
                            0.3333333333333333,
                            "#9c179e"
                          ],
                          [
                            0.4444444444444444,
                            "#bd3786"
                          ],
                          [
                            0.5555555555555556,
                            "#d8576b"
                          ],
                          [
                            0.6666666666666666,
                            "#ed7953"
                          ],
                          [
                            0.7777777777777778,
                            "#fb9f3a"
                          ],
                          [
                            0.8888888888888888,
                            "#fdca26"
                          ],
                          [
                            1,
                            "#f0f921"
                          ]
                        ],
                        "type": "heatmapgl"
                      }
                    ],
                    "histogram": [
                      {
                        "marker": {
                          "pattern": {
                            "fillmode": "overlay",
                            "size": 10,
                            "solidity": 0.2
                          }
                        },
                        "type": "histogram"
                      }
                    ],
                    "histogram2d": [
                      {
                        "colorbar": {
                          "outlinewidth": 0,
                          "ticks": ""
                        },
                        "colorscale": [
                          [
                            0,
                            "#0d0887"
                          ],
                          [
                            0.1111111111111111,
                            "#46039f"
                          ],
                          [
                            0.2222222222222222,
                            "#7201a8"
                          ],
                          [
                            0.3333333333333333,
                            "#9c179e"
                          ],
                          [
                            0.4444444444444444,
                            "#bd3786"
                          ],
                          [
                            0.5555555555555556,
                            "#d8576b"
                          ],
                          [
                            0.6666666666666666,
                            "#ed7953"
                          ],
                          [
                            0.7777777777777778,
                            "#fb9f3a"
                          ],
                          [
                            0.8888888888888888,
                            "#fdca26"
                          ],
                          [
                            1,
                            "#f0f921"
                          ]
                        ],
                        "type": "histogram2d"
                      }
                    ],
                    "histogram2dcontour": [
                      {
                        "colorbar": {
                          "outlinewidth": 0,
                          "ticks": ""
                        },
                        "colorscale": [
                          [
                            0,
                            "#0d0887"
                          ],
                          [
                            0.1111111111111111,
                            "#46039f"
                          ],
                          [
                            0.2222222222222222,
                            "#7201a8"
                          ],
                          [
                            0.3333333333333333,
                            "#9c179e"
                          ],
                          [
                            0.4444444444444444,
                            "#bd3786"
                          ],
                          [
                            0.5555555555555556,
                            "#d8576b"
                          ],
                          [
                            0.6666666666666666,
                            "#ed7953"
                          ],
                          [
                            0.7777777777777778,
                            "#fb9f3a"
                          ],
                          [
                            0.8888888888888888,
                            "#fdca26"
                          ],
                          [
                            1,
                            "#f0f921"
                          ]
                        ],
                        "type": "histogram2dcontour"
                      }
                    ],
                    "mesh3d": [
                      {
                        "colorbar": {
                          "outlinewidth": 0,
                          "ticks": ""
                        },
                        "type": "mesh3d"
                      }
                    ],
                    "parcoords": [
                      {
                        "line": {
                          "colorbar": {
                            "outlinewidth": 0,
                            "ticks": ""
                          }
                        },
                        "type": "parcoords"
                      }
                    ],
                    "pie": [
                      {
                        "automargin": true,
                        "type": "pie"
                      }
                    ],
                    "scatter": [
                      {
                        "fillpattern": {
                          "fillmode": "overlay",
                          "size": 10,
                          "solidity": 0.2
                        },
                        "type": "scatter"
                      }
                    ],
                    "scatter3d": [
                      {
                        "line": {
                          "colorbar": {
                            "outlinewidth": 0,
                            "ticks": ""
                          }
                        },
                        "marker": {
                          "colorbar": {
                            "outlinewidth": 0,
                            "ticks": ""
                          }
                        },
                        "type": "scatter3d"
                      }
                    ],
                    "scattercarpet": [
                      {
                        "marker": {
                          "colorbar": {
                            "outlinewidth": 0,
                            "ticks": ""
                          }
                        },
                        "type": "scattercarpet"
                      }
                    ],
                    "scattergeo": [
                      {
                        "marker": {
                          "colorbar": {
                            "outlinewidth": 0,
                            "ticks": ""
                          }
                        },
                        "type": "scattergeo"
                      }
                    ],
                    "scattergl": [
                      {
                        "marker": {
                          "colorbar": {
                            "outlinewidth": 0,
                            "ticks": ""
                          }
                        },
                        "type": "scattergl"
                      }
                    ],
                    "scattermapbox": [
                      {
                        "marker": {
                          "colorbar": {
                            "outlinewidth": 0,
                            "ticks": ""
                          }
                        },
                        "type": "scattermapbox"
                      }
                    ],
                    "scatterpolar": [
                      {
                        "marker": {
                          "colorbar": {
                            "outlinewidth": 0,
                            "ticks": ""
                          }
                        },
                        "type": "scatterpolar"
                      }
                    ],
                    "scatterpolargl": [
                      {
                        "marker": {
                          "colorbar": {
                            "outlinewidth": 0,
                            "ticks": ""
                          }
                        },
                        "type": "scatterpolargl"
                      }
                    ],
                    "scatterternary": [
                      {
                        "marker": {
                          "colorbar": {
                            "outlinewidth": 0,
                            "ticks": ""
                          }
                        },
                        "type": "scatterternary"
                      }
                    ],
                    "surface": [
                      {
                        "colorbar": {
                          "outlinewidth": 0,
                          "ticks": ""
                        },
                        "colorscale": [
                          [
                            0,
                            "#0d0887"
                          ],
                          [
                            0.1111111111111111,
                            "#46039f"
                          ],
                          [
                            0.2222222222222222,
                            "#7201a8"
                          ],
                          [
                            0.3333333333333333,
                            "#9c179e"
                          ],
                          [
                            0.4444444444444444,
                            "#bd3786"
                          ],
                          [
                            0.5555555555555556,
                            "#d8576b"
                          ],
                          [
                            0.6666666666666666,
                            "#ed7953"
                          ],
                          [
                            0.7777777777777778,
                            "#fb9f3a"
                          ],
                          [
                            0.8888888888888888,
                            "#fdca26"
                          ],
                          [
                            1,
                            "#f0f921"
                          ]
                        ],
                        "type": "surface"
                      }
                    ],
                    "table": [
                      {
                        "cells": {
                          "fill": {
                            "color": "#EBF0F8"
                          },
                          "line": {
                            "color": "white"
                          }
                        },
                        "header": {
                          "fill": {
                            "color": "#C8D4E3"
                          },
                          "line": {
                            "color": "white"
                          }
                        },
                        "type": "table"
                      }
                    ]
                  },
                  "layout": {
                    "annotationdefaults": {
                      "arrowcolor": "#2a3f5f",
                      "arrowhead": 0,
                      "arrowwidth": 1
                    },
                    "autotypenumbers": "strict",
                    "coloraxis": {
                      "colorbar": {
                        "outlinewidth": 0,
                        "ticks": ""
                      }
                    },
                    "colorscale": {
                      "diverging": [
                        [
                          0,
                          "#8e0152"
                        ],
                        [
                          0.1,
                          "#c51b7d"
                        ],
                        [
                          0.2,
                          "#de77ae"
                        ],
                        [
                          0.3,
                          "#f1b6da"
                        ],
                        [
                          0.4,
                          "#fde0ef"
                        ],
                        [
                          0.5,
                          "#f7f7f7"
                        ],
                        [
                          0.6,
                          "#e6f5d0"
                        ],
                        [
                          0.7,
                          "#b8e186"
                        ],
                        [
                          0.8,
                          "#7fbc41"
                        ],
                        [
                          0.9,
                          "#4d9221"
                        ],
                        [
                          1,
                          "#276419"
                        ]
                      ],
                      "sequential": [
                        [
                          0,
                          "#0d0887"
                        ],
                        [
                          0.1111111111111111,
                          "#46039f"
                        ],
                        [
                          0.2222222222222222,
                          "#7201a8"
                        ],
                        [
                          0.3333333333333333,
                          "#9c179e"
                        ],
                        [
                          0.4444444444444444,
                          "#bd3786"
                        ],
                        [
                          0.5555555555555556,
                          "#d8576b"
                        ],
                        [
                          0.6666666666666666,
                          "#ed7953"
                        ],
                        [
                          0.7777777777777778,
                          "#fb9f3a"
                        ],
                        [
                          0.8888888888888888,
                          "#fdca26"
                        ],
                        [
                          1,
                          "#f0f921"
                        ]
                      ],
                      "sequentialminus": [
                        [
                          0,
                          "#0d0887"
                        ],
                        [
                          0.1111111111111111,
                          "#46039f"
                        ],
                        [
                          0.2222222222222222,
                          "#7201a8"
                        ],
                        [
                          0.3333333333333333,
                          "#9c179e"
                        ],
                        [
                          0.4444444444444444,
                          "#bd3786"
                        ],
                        [
                          0.5555555555555556,
                          "#d8576b"
                        ],
                        [
                          0.6666666666666666,
                          "#ed7953"
                        ],
                        [
                          0.7777777777777778,
                          "#fb9f3a"
                        ],
                        [
                          0.8888888888888888,
                          "#fdca26"
                        ],
                        [
                          1,
                          "#f0f921"
                        ]
                      ]
                    },
                    "colorway": [
                      "#636efa",
                      "#EF553B",
                      "#00cc96",
                      "#ab63fa",
                      "#FFA15A",
                      "#19d3f3",
                      "#FF6692",
                      "#B6E880",
                      "#FF97FF",
                      "#FECB52"
                    ],
                    "font": {
                      "color": "#2a3f5f"
                    },
                    "geo": {
                      "bgcolor": "white",
                      "lakecolor": "white",
                      "landcolor": "#E5ECF6",
                      "showlakes": true,
                      "showland": true,
                      "subunitcolor": "white"
                    },
                    "hoverlabel": {
                      "align": "left"
                    },
                    "hovermode": "closest",
                    "mapbox": {
                      "style": "light"
                    },
                    "paper_bgcolor": "white",
                    "plot_bgcolor": "#E5ECF6",
                    "polar": {
                      "angularaxis": {
                        "gridcolor": "white",
                        "linecolor": "white",
                        "ticks": ""
                      },
                      "bgcolor": "#E5ECF6",
                      "radialaxis": {
                        "gridcolor": "white",
                        "linecolor": "white",
                        "ticks": ""
                      }
                    },
                    "scene": {
                      "xaxis": {
                        "backgroundcolor": "#E5ECF6",
                        "gridcolor": "white",
                        "gridwidth": 2,
                        "linecolor": "white",
                        "showbackground": true,
                        "ticks": "",
                        "zerolinecolor": "white"
                      },
                      "yaxis": {
                        "backgroundcolor": "#E5ECF6",
                        "gridcolor": "white",
                        "gridwidth": 2,
                        "linecolor": "white",
                        "showbackground": true,
                        "ticks": "",
                        "zerolinecolor": "white"
                      },
                      "zaxis": {
                        "backgroundcolor": "#E5ECF6",
                        "gridcolor": "white",
                        "gridwidth": 2,
                        "linecolor": "white",
                        "showbackground": true,
                        "ticks": "",
                        "zerolinecolor": "white"
                      }
                    },
                    "shapedefaults": {
                      "line": {
                        "color": "#2a3f5f"
                      }
                    },
                    "ternary": {
                      "aaxis": {
                        "gridcolor": "white",
                        "linecolor": "white",
                        "ticks": ""
                      },
                      "baxis": {
                        "gridcolor": "white",
                        "linecolor": "white",
                        "ticks": ""
                      },
                      "bgcolor": "#E5ECF6",
                      "caxis": {
                        "gridcolor": "white",
                        "linecolor": "white",
                        "ticks": ""
                      }
                    },
                    "title": {
                      "x": 0.05
                    },
                    "xaxis": {
                      "automargin": true,
                      "gridcolor": "white",
                      "linecolor": "white",
                      "ticks": "",
                      "title": {
                        "standoff": 15
                      },
                      "zerolinecolor": "white",
                      "zerolinewidth": 2
                    },
                    "yaxis": {
                      "automargin": true,
                      "gridcolor": "white",
                      "linecolor": "white",
                      "ticks": "",
                      "title": {
                        "standoff": 15
                      },
                      "zerolinecolor": "white",
                      "zerolinewidth": 2
                    }
                  }
                },
                "title": {
                  "text": "Reliability (KA) vs. Similarity"
                },
                "xaxis": {
                  "anchor": "y",
                  "domain": [
                    0,
                    1
                  ],
                  "range": [
                    0,
                    1
                  ],
                  "title": {
                    "text": "Prompt Similarity"
                  }
                },
                "yaxis": {
                  "anchor": "x",
                  "domain": [
                    0,
                    1
                  ],
                  "range": [
                    0,
                    1.05
                  ],
                  "title": {
                    "text": "KA Score"
                  }
                }
              }
            }
          },
          "metadata": {},
          "output_type": "display_data"
        },
        {
          "name": "stdout",
          "output_type": "stream",
          "text": [
            "Inter-prompt KA reliability score is 0.43208508175372573.\n",
            "\n",
            "#################################\n",
            "Original prompt:\n",
            "The text provided is a party manifesto for a political party in the United Kingdom. Your task is to evaluate evaluate where it is on the scale from left-wing to right-wing on economic issues. Thank you! [Respond with a number from 1 to 10. 1 corresponds to most left-wing. 10 corresponds to most right-wing. Your answer should only consist of this number and nothing else.]\n",
            "#################################\n",
            "Prompts with poor performance:\n"
          ]
        },
        {
          "data": {
            "text/html": [
              "<div>\n",
              "<style scoped>\n",
              "    .dataframe tbody tr th:only-of-type {\n",
              "        vertical-align: middle;\n",
              "    }\n",
              "\n",
              "    .dataframe tbody tr th {\n",
              "        vertical-align: top;\n",
              "    }\n",
              "\n",
              "    .dataframe thead th {\n",
              "        text-align: right;\n",
              "    }\n",
              "</style>\n",
              "<table border=\"1\" class=\"dataframe\">\n",
              "  <thead>\n",
              "    <tr style=\"text-align: right;\">\n",
              "      <th></th>\n",
              "      <th>prompt_id</th>\n",
              "      <th>prompt_text</th>\n",
              "      <th>similarity</th>\n",
              "      <th>KA</th>\n",
              "    </tr>\n",
              "  </thead>\n",
              "  <tbody>\n",
              "    <tr>\n",
              "      <th>0</th>\n",
              "      <td>0</td>\n",
              "      <td>Your task is to evaluate where it is on the scale from left to right on economic issues. [Respond with a number from 1 to 10. 1 corresponds to most left-wing. 10 corresponds to most right-wing. Your answer should only consist of this number and nothing else.]</td>\n",
              "      <td>0.441821</td>\n",
              "      <td>0.210526</td>\n",
              "    </tr>\n",
              "    <tr>\n",
              "      <th>6</th>\n",
              "      <td>6</td>\n",
              "      <td>Your task is to evaluate where it is on the scale from left-wing to right-wing on the economic issues. [Respond with a number from 1 to 10. 1 corresponds to most left-wing. 10 corresponds to most right-wing. Your answer should only consist of this number and nothing else.]</td>\n",
              "      <td>0.540145</td>\n",
              "      <td>0.745763</td>\n",
              "    </tr>\n",
              "    <tr>\n",
              "      <th>8</th>\n",
              "      <td>8</td>\n",
              "      <td>Your task is to evaluate where it is on the scale from left-wing to right-wing when it comes to economic issues. [Respond with a number from 1 to 10. 1 corresponds to most left-wing. 10 corresponds to most right-wing. Your answer should only consist of this number and nothing else.]</td>\n",
              "      <td>0.542510</td>\n",
              "      <td>0.166667</td>\n",
              "    </tr>\n",
              "    <tr>\n",
              "      <th>11</th>\n",
              "      <td>11</td>\n",
              "      <td>You need to evaluate where it is on the scale from left-wing to right-wing on economic issues. [Respond with a number from 1 to 10. 1 corresponds to most left-wing. 10 corresponds to most right-wing. Your answer should only consist of this number and nothing else.]</td>\n",
              "      <td>0.548170</td>\n",
              "      <td>0.000000</td>\n",
              "    </tr>\n",
              "    <tr>\n",
              "      <th>12</th>\n",
              "      <td>12</td>\n",
              "      <td>Your task is to evaluate where it is on the scale from left-wing to right-wing on economic issues, based on the text provided. [Respond with a number from 1 to 10. 1 corresponds to most left-wing. 10 corresponds to most right-wing. Your answer should only consist of this number and nothing else.]</td>\n",
              "      <td>0.587178</td>\n",
              "      <td>0.000000</td>\n",
              "    </tr>\n",
              "    <tr>\n",
              "      <th>13</th>\n",
              "      <td>13</td>\n",
              "      <td>To evaluate where it is on the scale from left-wing to right-wing on economic issues, you have to read the text. [Respond with a number from 1 to 10. 1 corresponds to most left-wing. 10 corresponds to most right-wing. Your answer should only consist of this number and nothing else.]</td>\n",
              "      <td>0.629891</td>\n",
              "      <td>-0.250000</td>\n",
              "    </tr>\n",
              "    <tr>\n",
              "      <th>14</th>\n",
              "      <td>14</td>\n",
              "      <td>To evaluate where it is on the scale from left-wing to right-wing on economic issues, you must read the text provided. [Respond with a number from 1 to 10. 1 corresponds to most left-wing. 10 corresponds to most right-wing. Your answer should only consist of this number and nothing else.]</td>\n",
              "      <td>0.630138</td>\n",
              "      <td>0.571429</td>\n",
              "    </tr>\n",
              "    <tr>\n",
              "      <th>15</th>\n",
              "      <td>15</td>\n",
              "      <td>In order to evaluate where it is on the scale from left-wing to right-wing on economic issues, you have to read the text. [Respond with a number from 1 to 10. 1 corresponds to most left-wing. 10 corresponds to most right-wing. Your answer should only consist of this number and nothing else.]</td>\n",
              "      <td>0.631631</td>\n",
              "      <td>0.000000</td>\n",
              "    </tr>\n",
              "    <tr>\n",
              "      <th>17</th>\n",
              "      <td>17</td>\n",
              "      <td>In order to evaluate where it is on the scale from left-wing to right-wing on economic issues, you must read the text provided. [Respond with a number from 1 to 10. 1 corresponds to most left-wing. 10 corresponds to most right-wing. Your answer should only consist of this number and nothing else.]</td>\n",
              "      <td>0.635788</td>\n",
              "      <td>0.700000</td>\n",
              "    </tr>\n",
              "    <tr>\n",
              "      <th>18</th>\n",
              "      <td>18</td>\n",
              "      <td>In order to evaluate where it is on the scale from left-wing to right-wing on economic issues, you have to read the text provided. [Respond with a number from 1 to 10. 1 corresponds to most left-wing. 10 corresponds to most right-wing. Your answer should only consist of this number and nothing else.]</td>\n",
              "      <td>0.636739</td>\n",
              "      <td>0.700000</td>\n",
              "    </tr>\n",
              "    <tr>\n",
              "      <th>20</th>\n",
              "      <td>20</td>\n",
              "      <td>In order to evaluate where it is on the scale from left-wing to right-wing on economic issues, you need to read the text. [Respond with a number from 1 to 10. 1 corresponds to most left-wing. 10 corresponds to most right-wing. Your answer should only consist of this number and nothing else.]</td>\n",
              "      <td>0.638597</td>\n",
              "      <td>0.000000</td>\n",
              "    </tr>\n",
              "    <tr>\n",
              "      <th>21</th>\n",
              "      <td>21</td>\n",
              "      <td>In order to evaluate where it is on the scale from left-wing to right-wing on economic issues, you need to read the text provided. [Respond with a number from 1 to 10. 1 corresponds to most left-wing. 10 corresponds to most right-wing. Your answer should only consist of this number and nothing else.]</td>\n",
              "      <td>0.641092</td>\n",
              "      <td>0.480000</td>\n",
              "    </tr>\n",
              "    <tr>\n",
              "      <th>23</th>\n",
              "      <td>23</td>\n",
              "      <td>You are being asked to evaluate where the text is on the scale from left-wing to right-wing on economic issues. [Respond with a number from 1 to 10. 1 corresponds to most left-wing. 10 corresponds to most right-wing. Your answer should only consist of this number and nothing else.]</td>\n",
              "      <td>0.660664</td>\n",
              "      <td>0.500000</td>\n",
              "    </tr>\n",
              "    <tr>\n",
              "      <th>26</th>\n",
              "      <td>26</td>\n",
              "      <td>You are tasked with evaluating where the text is on the scale from left-wing to right-wing on economic issues. [Respond with a number from 1 to 10. 1 corresponds to most left-wing. 10 corresponds to most right-wing. Your answer should only consist of this number and nothing else.]</td>\n",
              "      <td>0.665654</td>\n",
              "      <td>0.210526</td>\n",
              "    </tr>\n",
              "    <tr>\n",
              "      <th>27</th>\n",
              "      <td>27</td>\n",
              "      <td>You are asked to evaluate where the text is on the scale from left-wing to right-wing on economic issues. [Respond with a number from 1 to 10. 1 corresponds to most left-wing. 10 corresponds to most right-wing. Your answer should only consist of this number and nothing else.]</td>\n",
              "      <td>0.666752</td>\n",
              "      <td>0.500000</td>\n",
              "    </tr>\n",
              "    <tr>\n",
              "      <th>28</th>\n",
              "      <td>28</td>\n",
              "      <td>You need to evaluate where the text is on the scale from left-wing to right-wing on economic issues. [Respond with a number from 1 to 10. 1 corresponds to most left-wing. 10 corresponds to most right-wing. Your answer should only consist of this number and nothing else.]</td>\n",
              "      <td>0.669089</td>\n",
              "      <td>0.500000</td>\n",
              "    </tr>\n",
              "    <tr>\n",
              "      <th>29</th>\n",
              "      <td>29</td>\n",
              "      <td>There is a party manifesto for a political party in the United Kingdom. [Respond with a number from 1 to 10. 1 corresponds to most left-wing. 10 corresponds to most right-wing. Your answer should only consist of this number and nothing else.]</td>\n",
              "      <td>0.740001</td>\n",
              "      <td>0.571429</td>\n",
              "    </tr>\n",
              "    <tr>\n",
              "      <th>35</th>\n",
              "      <td>35</td>\n",
              "      <td>In order to evaluate where it is on the scale from left-wing to right-wing, you have to read the party manifesto. [Respond with a number from 1 to 10. 1 corresponds to most left-wing. 10 corresponds to most right-wing. Your answer should only consist of this number and nothing else.]</td>\n",
              "      <td>0.782043</td>\n",
              "      <td>0.166667</td>\n",
              "    </tr>\n",
              "    <tr>\n",
              "      <th>40</th>\n",
              "      <td>40</td>\n",
              "      <td>In order to evaluate where it is on the scale from left-wing to right-wing on economic issues, you need to receive the party manifesto. [Respond with a number from 1 to 10. 1 corresponds to most left-wing. 10 corresponds to most right-wing. Your answer should only consist of this number and nothing else.]</td>\n",
              "      <td>0.793756</td>\n",
              "      <td>0.000000</td>\n",
              "    </tr>\n",
              "    <tr>\n",
              "      <th>41</th>\n",
              "      <td>41</td>\n",
              "      <td>To evaluate where it is on the scale from left-wing to right-wing on economic issues, you will have to read the party manifesto. [Respond with a number from 1 to 10. 1 corresponds to most left-wing. 10 corresponds to most right-wing. Your answer should only consist of this number and nothing else.]</td>\n",
              "      <td>0.795022</td>\n",
              "      <td>0.166667</td>\n",
              "    </tr>\n",
              "    <tr>\n",
              "      <th>43</th>\n",
              "      <td>43</td>\n",
              "      <td>To evaluate where it is on the scale from left-wing to right-wing on economic issues, you need to read the party manifesto. [Respond with a number from 1 to 10. 1 corresponds to most left-wing. 10 corresponds to most right-wing. Your answer should only consist of this number and nothing else.]</td>\n",
              "      <td>0.797904</td>\n",
              "      <td>0.235294</td>\n",
              "    </tr>\n",
              "  </tbody>\n",
              "</table>\n",
              "</div>"
            ],
            "text/plain": [
              "    prompt_id  \\\n",
              "0           0   \n",
              "6           6   \n",
              "8           8   \n",
              "11         11   \n",
              "12         12   \n",
              "13         13   \n",
              "14         14   \n",
              "15         15   \n",
              "17         17   \n",
              "18         18   \n",
              "20         20   \n",
              "21         21   \n",
              "23         23   \n",
              "26         26   \n",
              "27         27   \n",
              "28         28   \n",
              "29         29   \n",
              "35         35   \n",
              "40         40   \n",
              "41         41   \n",
              "43         43   \n",
              "\n",
              "                                                                                                                                                                                                                                                                                                           prompt_text  \\\n",
              "0                                                  Your task is to evaluate where it is on the scale from left to right on economic issues. [Respond with a number from 1 to 10. 1 corresponds to most left-wing. 10 corresponds to most right-wing. Your answer should only consist of this number and nothing else.]   \n",
              "6                                    Your task is to evaluate where it is on the scale from left-wing to right-wing on the economic issues. [Respond with a number from 1 to 10. 1 corresponds to most left-wing. 10 corresponds to most right-wing. Your answer should only consist of this number and nothing else.]   \n",
              "8                          Your task is to evaluate where it is on the scale from left-wing to right-wing when it comes to economic issues. [Respond with a number from 1 to 10. 1 corresponds to most left-wing. 10 corresponds to most right-wing. Your answer should only consist of this number and nothing else.]   \n",
              "11                                           You need to evaluate where it is on the scale from left-wing to right-wing on economic issues. [Respond with a number from 1 to 10. 1 corresponds to most left-wing. 10 corresponds to most right-wing. Your answer should only consist of this number and nothing else.]   \n",
              "12           Your task is to evaluate where it is on the scale from left-wing to right-wing on economic issues, based on the text provided. [Respond with a number from 1 to 10. 1 corresponds to most left-wing. 10 corresponds to most right-wing. Your answer should only consist of this number and nothing else.]   \n",
              "13                         To evaluate where it is on the scale from left-wing to right-wing on economic issues, you have to read the text. [Respond with a number from 1 to 10. 1 corresponds to most left-wing. 10 corresponds to most right-wing. Your answer should only consist of this number and nothing else.]   \n",
              "14                   To evaluate where it is on the scale from left-wing to right-wing on economic issues, you must read the text provided. [Respond with a number from 1 to 10. 1 corresponds to most left-wing. 10 corresponds to most right-wing. Your answer should only consist of this number and nothing else.]   \n",
              "15                In order to evaluate where it is on the scale from left-wing to right-wing on economic issues, you have to read the text. [Respond with a number from 1 to 10. 1 corresponds to most left-wing. 10 corresponds to most right-wing. Your answer should only consist of this number and nothing else.]   \n",
              "17          In order to evaluate where it is on the scale from left-wing to right-wing on economic issues, you must read the text provided. [Respond with a number from 1 to 10. 1 corresponds to most left-wing. 10 corresponds to most right-wing. Your answer should only consist of this number and nothing else.]   \n",
              "18       In order to evaluate where it is on the scale from left-wing to right-wing on economic issues, you have to read the text provided. [Respond with a number from 1 to 10. 1 corresponds to most left-wing. 10 corresponds to most right-wing. Your answer should only consist of this number and nothing else.]   \n",
              "20                In order to evaluate where it is on the scale from left-wing to right-wing on economic issues, you need to read the text. [Respond with a number from 1 to 10. 1 corresponds to most left-wing. 10 corresponds to most right-wing. Your answer should only consist of this number and nothing else.]   \n",
              "21       In order to evaluate where it is on the scale from left-wing to right-wing on economic issues, you need to read the text provided. [Respond with a number from 1 to 10. 1 corresponds to most left-wing. 10 corresponds to most right-wing. Your answer should only consist of this number and nothing else.]   \n",
              "23                          You are being asked to evaluate where the text is on the scale from left-wing to right-wing on economic issues. [Respond with a number from 1 to 10. 1 corresponds to most left-wing. 10 corresponds to most right-wing. Your answer should only consist of this number and nothing else.]   \n",
              "26                           You are tasked with evaluating where the text is on the scale from left-wing to right-wing on economic issues. [Respond with a number from 1 to 10. 1 corresponds to most left-wing. 10 corresponds to most right-wing. Your answer should only consist of this number and nothing else.]   \n",
              "27                                You are asked to evaluate where the text is on the scale from left-wing to right-wing on economic issues. [Respond with a number from 1 to 10. 1 corresponds to most left-wing. 10 corresponds to most right-wing. Your answer should only consist of this number and nothing else.]   \n",
              "28                                     You need to evaluate where the text is on the scale from left-wing to right-wing on economic issues. [Respond with a number from 1 to 10. 1 corresponds to most left-wing. 10 corresponds to most right-wing. Your answer should only consist of this number and nothing else.]   \n",
              "29                                                                  There is a party manifesto for a political party in the United Kingdom. [Respond with a number from 1 to 10. 1 corresponds to most left-wing. 10 corresponds to most right-wing. Your answer should only consist of this number and nothing else.]   \n",
              "35                        In order to evaluate where it is on the scale from left-wing to right-wing, you have to read the party manifesto. [Respond with a number from 1 to 10. 1 corresponds to most left-wing. 10 corresponds to most right-wing. Your answer should only consist of this number and nothing else.]   \n",
              "40  In order to evaluate where it is on the scale from left-wing to right-wing on economic issues, you need to receive the party manifesto. [Respond with a number from 1 to 10. 1 corresponds to most left-wing. 10 corresponds to most right-wing. Your answer should only consist of this number and nothing else.]   \n",
              "41         To evaluate where it is on the scale from left-wing to right-wing on economic issues, you will have to read the party manifesto. [Respond with a number from 1 to 10. 1 corresponds to most left-wing. 10 corresponds to most right-wing. Your answer should only consist of this number and nothing else.]   \n",
              "43              To evaluate where it is on the scale from left-wing to right-wing on economic issues, you need to read the party manifesto. [Respond with a number from 1 to 10. 1 corresponds to most left-wing. 10 corresponds to most right-wing. Your answer should only consist of this number and nothing else.]   \n",
              "\n",
              "    similarity        KA  \n",
              "0     0.441821  0.210526  \n",
              "6     0.540145  0.745763  \n",
              "8     0.542510  0.166667  \n",
              "11    0.548170  0.000000  \n",
              "12    0.587178  0.000000  \n",
              "13    0.629891 -0.250000  \n",
              "14    0.630138  0.571429  \n",
              "15    0.631631  0.000000  \n",
              "17    0.635788  0.700000  \n",
              "18    0.636739  0.700000  \n",
              "20    0.638597  0.000000  \n",
              "21    0.641092  0.480000  \n",
              "23    0.660664  0.500000  \n",
              "26    0.665654  0.210526  \n",
              "27    0.666752  0.500000  \n",
              "28    0.669089  0.500000  \n",
              "29    0.740001  0.571429  \n",
              "35    0.782043  0.166667  \n",
              "40    0.793756  0.000000  \n",
              "41    0.795022  0.166667  \n",
              "43    0.797904  0.235294  "
            ]
          },
          "metadata": {},
          "output_type": "display_data"
        }
      ],
      "source": [
        "# Test inter-prompt reliability\n",
        "KA2,annotated_data,rel_vs_sim, poor_prompts = psa.interprompt_stochasticity(prompt, prompt_postfix, nr_variations=50)\n"
      ]
    },
    {
      "cell_type": "code",
      "execution_count": 39,
      "id": "6f1ee198",
      "metadata": {},
      "outputs": [],
      "source": [
        "# Save similar prompts, similarity and KA for manual validation\n",
        "'''\n",
        "df_val = pd.DataFrame(rel_vs_sim)\n",
        "op = prompt + ' ' + prompt_postfix\n",
        "df_val['original_prompt'] = op\n",
        "#df_val\n",
        "df_val.to_csv('similarity_validation/data.csv', mode='a', header=False, index=False)\n",
        "'''"
      ]
    },
    {
      "cell_type": "markdown",
      "id": "ad704587",
      "metadata": {
        "id": "ad704587"
      },
      "source": [
        "## Twitter annotation example"
      ]
    },
    {
      "cell_type": "code",
      "execution_count": 40,
      "id": "4b8d29a5-15a4-4b7d-a767-73a79b8d053f",
      "metadata": {
        "id": "4b8d29a5-15a4-4b7d-a767-73a79b8d053f",
        "outputId": "40725842-94b2-475c-f1f7-5bf1f3a342cf"
      },
      "outputs": [
        {
          "name": "stderr",
          "output_type": "stream",
          "text": [
            "Some weights of PegasusForConditionalGeneration were not initialized from the model checkpoint at tuner007/pegasus_paraphrase and are newly initialized: ['model.decoder.embed_positions.weight', 'model.encoder.embed_positions.weight']\n",
            "You should probably TRAIN this model on a down-stream task to be able to use it for predictions and inference.\n"
          ]
        },
        {
          "name": "stdout",
          "output_type": "stream",
          "text": [
            "Iteration 0...\n"
          ]
        },
        {
          "name": "stderr",
          "output_type": "stream",
          "text": [
            "huggingface/tokenizers: The current process just got forked, after parallelism has already been used. Disabling parallelism to avoid deadlocks...\n",
            "To disable this warning, you can either:\n",
            "\t- Avoid using `tokenizers` before the fork if possible\n",
            "\t- Explicitly set the environment variable TOKENIZERS_PARALLELISM=(true | false)\n"
          ]
        },
        {
          "name": "stdout",
          "output_type": "stream",
          "text": [
            "Iteration 1...\n",
            "Iteration 2...\n",
            "Iteration 3...\n",
            "Iteration 4...\n",
            "Iteration 5...\n",
            "Iteration 6...\n",
            "Iteration 7...\n",
            "Iteration 8...\n",
            "Iteration 9...\n",
            "Iteration 10...\n",
            "Iteration 11...\n",
            "Iteration 12...\n",
            "Iteration 13...\n",
            "Iteration 14...\n",
            "Iteration 15...\n",
            "Iteration 16...\n",
            "Iteration 17...\n",
            "Iteration 18...\n",
            "Iteration 19...\n",
            "Finished annotation. Analyzing reliability\n"
          ]
        },
        {
          "data": {
            "application/vnd.plotly.v1+json": {
              "config": {
                "plotlyServerURL": "https://plot.ly"
              },
              "data": [
                {
                  "hovertemplate": "Repetitions=%{x}<br>KA Score=%{y}<extra></extra>",
                  "legendgroup": "",
                  "marker": {
                    "color": "#636efa",
                    "symbol": "circle"
                  },
                  "mode": "markers",
                  "name": "",
                  "orientation": "v",
                  "showlegend": false,
                  "type": "scatter",
                  "x": [
                    2,
                    3,
                    4,
                    5,
                    6,
                    7,
                    8,
                    9,
                    10,
                    11,
                    12,
                    13,
                    14,
                    15,
                    16,
                    17,
                    18,
                    19,
                    20
                  ],
                  "xaxis": "x",
                  "y": [
                    1,
                    1,
                    1,
                    1,
                    1,
                    1,
                    1,
                    1,
                    1,
                    1,
                    1,
                    1,
                    1,
                    1,
                    1,
                    1,
                    1,
                    1,
                    1
                  ],
                  "yaxis": "y"
                },
                {
                  "line": {
                    "color": "black",
                    "dash": "dash",
                    "width": 0.5
                  },
                  "mode": "lines",
                  "name": "KA Threshold",
                  "type": "scatter",
                  "x": [
                    0,
                    20
                  ],
                  "y": [
                    0.8,
                    0.8
                  ]
                }
              ],
              "layout": {
                "hovermode": "closest",
                "legend": {
                  "tracegroupgap": 0
                },
                "margin": {
                  "t": 60
                },
                "template": {
                  "data": {
                    "bar": [
                      {
                        "error_x": {
                          "color": "#2a3f5f"
                        },
                        "error_y": {
                          "color": "#2a3f5f"
                        },
                        "marker": {
                          "line": {
                            "color": "#E5ECF6",
                            "width": 0.5
                          },
                          "pattern": {
                            "fillmode": "overlay",
                            "size": 10,
                            "solidity": 0.2
                          }
                        },
                        "type": "bar"
                      }
                    ],
                    "barpolar": [
                      {
                        "marker": {
                          "line": {
                            "color": "#E5ECF6",
                            "width": 0.5
                          },
                          "pattern": {
                            "fillmode": "overlay",
                            "size": 10,
                            "solidity": 0.2
                          }
                        },
                        "type": "barpolar"
                      }
                    ],
                    "carpet": [
                      {
                        "aaxis": {
                          "endlinecolor": "#2a3f5f",
                          "gridcolor": "white",
                          "linecolor": "white",
                          "minorgridcolor": "white",
                          "startlinecolor": "#2a3f5f"
                        },
                        "baxis": {
                          "endlinecolor": "#2a3f5f",
                          "gridcolor": "white",
                          "linecolor": "white",
                          "minorgridcolor": "white",
                          "startlinecolor": "#2a3f5f"
                        },
                        "type": "carpet"
                      }
                    ],
                    "choropleth": [
                      {
                        "colorbar": {
                          "outlinewidth": 0,
                          "ticks": ""
                        },
                        "type": "choropleth"
                      }
                    ],
                    "contour": [
                      {
                        "colorbar": {
                          "outlinewidth": 0,
                          "ticks": ""
                        },
                        "colorscale": [
                          [
                            0,
                            "#0d0887"
                          ],
                          [
                            0.1111111111111111,
                            "#46039f"
                          ],
                          [
                            0.2222222222222222,
                            "#7201a8"
                          ],
                          [
                            0.3333333333333333,
                            "#9c179e"
                          ],
                          [
                            0.4444444444444444,
                            "#bd3786"
                          ],
                          [
                            0.5555555555555556,
                            "#d8576b"
                          ],
                          [
                            0.6666666666666666,
                            "#ed7953"
                          ],
                          [
                            0.7777777777777778,
                            "#fb9f3a"
                          ],
                          [
                            0.8888888888888888,
                            "#fdca26"
                          ],
                          [
                            1,
                            "#f0f921"
                          ]
                        ],
                        "type": "contour"
                      }
                    ],
                    "contourcarpet": [
                      {
                        "colorbar": {
                          "outlinewidth": 0,
                          "ticks": ""
                        },
                        "type": "contourcarpet"
                      }
                    ],
                    "heatmap": [
                      {
                        "colorbar": {
                          "outlinewidth": 0,
                          "ticks": ""
                        },
                        "colorscale": [
                          [
                            0,
                            "#0d0887"
                          ],
                          [
                            0.1111111111111111,
                            "#46039f"
                          ],
                          [
                            0.2222222222222222,
                            "#7201a8"
                          ],
                          [
                            0.3333333333333333,
                            "#9c179e"
                          ],
                          [
                            0.4444444444444444,
                            "#bd3786"
                          ],
                          [
                            0.5555555555555556,
                            "#d8576b"
                          ],
                          [
                            0.6666666666666666,
                            "#ed7953"
                          ],
                          [
                            0.7777777777777778,
                            "#fb9f3a"
                          ],
                          [
                            0.8888888888888888,
                            "#fdca26"
                          ],
                          [
                            1,
                            "#f0f921"
                          ]
                        ],
                        "type": "heatmap"
                      }
                    ],
                    "heatmapgl": [
                      {
                        "colorbar": {
                          "outlinewidth": 0,
                          "ticks": ""
                        },
                        "colorscale": [
                          [
                            0,
                            "#0d0887"
                          ],
                          [
                            0.1111111111111111,
                            "#46039f"
                          ],
                          [
                            0.2222222222222222,
                            "#7201a8"
                          ],
                          [
                            0.3333333333333333,
                            "#9c179e"
                          ],
                          [
                            0.4444444444444444,
                            "#bd3786"
                          ],
                          [
                            0.5555555555555556,
                            "#d8576b"
                          ],
                          [
                            0.6666666666666666,
                            "#ed7953"
                          ],
                          [
                            0.7777777777777778,
                            "#fb9f3a"
                          ],
                          [
                            0.8888888888888888,
                            "#fdca26"
                          ],
                          [
                            1,
                            "#f0f921"
                          ]
                        ],
                        "type": "heatmapgl"
                      }
                    ],
                    "histogram": [
                      {
                        "marker": {
                          "pattern": {
                            "fillmode": "overlay",
                            "size": 10,
                            "solidity": 0.2
                          }
                        },
                        "type": "histogram"
                      }
                    ],
                    "histogram2d": [
                      {
                        "colorbar": {
                          "outlinewidth": 0,
                          "ticks": ""
                        },
                        "colorscale": [
                          [
                            0,
                            "#0d0887"
                          ],
                          [
                            0.1111111111111111,
                            "#46039f"
                          ],
                          [
                            0.2222222222222222,
                            "#7201a8"
                          ],
                          [
                            0.3333333333333333,
                            "#9c179e"
                          ],
                          [
                            0.4444444444444444,
                            "#bd3786"
                          ],
                          [
                            0.5555555555555556,
                            "#d8576b"
                          ],
                          [
                            0.6666666666666666,
                            "#ed7953"
                          ],
                          [
                            0.7777777777777778,
                            "#fb9f3a"
                          ],
                          [
                            0.8888888888888888,
                            "#fdca26"
                          ],
                          [
                            1,
                            "#f0f921"
                          ]
                        ],
                        "type": "histogram2d"
                      }
                    ],
                    "histogram2dcontour": [
                      {
                        "colorbar": {
                          "outlinewidth": 0,
                          "ticks": ""
                        },
                        "colorscale": [
                          [
                            0,
                            "#0d0887"
                          ],
                          [
                            0.1111111111111111,
                            "#46039f"
                          ],
                          [
                            0.2222222222222222,
                            "#7201a8"
                          ],
                          [
                            0.3333333333333333,
                            "#9c179e"
                          ],
                          [
                            0.4444444444444444,
                            "#bd3786"
                          ],
                          [
                            0.5555555555555556,
                            "#d8576b"
                          ],
                          [
                            0.6666666666666666,
                            "#ed7953"
                          ],
                          [
                            0.7777777777777778,
                            "#fb9f3a"
                          ],
                          [
                            0.8888888888888888,
                            "#fdca26"
                          ],
                          [
                            1,
                            "#f0f921"
                          ]
                        ],
                        "type": "histogram2dcontour"
                      }
                    ],
                    "mesh3d": [
                      {
                        "colorbar": {
                          "outlinewidth": 0,
                          "ticks": ""
                        },
                        "type": "mesh3d"
                      }
                    ],
                    "parcoords": [
                      {
                        "line": {
                          "colorbar": {
                            "outlinewidth": 0,
                            "ticks": ""
                          }
                        },
                        "type": "parcoords"
                      }
                    ],
                    "pie": [
                      {
                        "automargin": true,
                        "type": "pie"
                      }
                    ],
                    "scatter": [
                      {
                        "fillpattern": {
                          "fillmode": "overlay",
                          "size": 10,
                          "solidity": 0.2
                        },
                        "type": "scatter"
                      }
                    ],
                    "scatter3d": [
                      {
                        "line": {
                          "colorbar": {
                            "outlinewidth": 0,
                            "ticks": ""
                          }
                        },
                        "marker": {
                          "colorbar": {
                            "outlinewidth": 0,
                            "ticks": ""
                          }
                        },
                        "type": "scatter3d"
                      }
                    ],
                    "scattercarpet": [
                      {
                        "marker": {
                          "colorbar": {
                            "outlinewidth": 0,
                            "ticks": ""
                          }
                        },
                        "type": "scattercarpet"
                      }
                    ],
                    "scattergeo": [
                      {
                        "marker": {
                          "colorbar": {
                            "outlinewidth": 0,
                            "ticks": ""
                          }
                        },
                        "type": "scattergeo"
                      }
                    ],
                    "scattergl": [
                      {
                        "marker": {
                          "colorbar": {
                            "outlinewidth": 0,
                            "ticks": ""
                          }
                        },
                        "type": "scattergl"
                      }
                    ],
                    "scattermapbox": [
                      {
                        "marker": {
                          "colorbar": {
                            "outlinewidth": 0,
                            "ticks": ""
                          }
                        },
                        "type": "scattermapbox"
                      }
                    ],
                    "scatterpolar": [
                      {
                        "marker": {
                          "colorbar": {
                            "outlinewidth": 0,
                            "ticks": ""
                          }
                        },
                        "type": "scatterpolar"
                      }
                    ],
                    "scatterpolargl": [
                      {
                        "marker": {
                          "colorbar": {
                            "outlinewidth": 0,
                            "ticks": ""
                          }
                        },
                        "type": "scatterpolargl"
                      }
                    ],
                    "scatterternary": [
                      {
                        "marker": {
                          "colorbar": {
                            "outlinewidth": 0,
                            "ticks": ""
                          }
                        },
                        "type": "scatterternary"
                      }
                    ],
                    "surface": [
                      {
                        "colorbar": {
                          "outlinewidth": 0,
                          "ticks": ""
                        },
                        "colorscale": [
                          [
                            0,
                            "#0d0887"
                          ],
                          [
                            0.1111111111111111,
                            "#46039f"
                          ],
                          [
                            0.2222222222222222,
                            "#7201a8"
                          ],
                          [
                            0.3333333333333333,
                            "#9c179e"
                          ],
                          [
                            0.4444444444444444,
                            "#bd3786"
                          ],
                          [
                            0.5555555555555556,
                            "#d8576b"
                          ],
                          [
                            0.6666666666666666,
                            "#ed7953"
                          ],
                          [
                            0.7777777777777778,
                            "#fb9f3a"
                          ],
                          [
                            0.8888888888888888,
                            "#fdca26"
                          ],
                          [
                            1,
                            "#f0f921"
                          ]
                        ],
                        "type": "surface"
                      }
                    ],
                    "table": [
                      {
                        "cells": {
                          "fill": {
                            "color": "#EBF0F8"
                          },
                          "line": {
                            "color": "white"
                          }
                        },
                        "header": {
                          "fill": {
                            "color": "#C8D4E3"
                          },
                          "line": {
                            "color": "white"
                          }
                        },
                        "type": "table"
                      }
                    ]
                  },
                  "layout": {
                    "annotationdefaults": {
                      "arrowcolor": "#2a3f5f",
                      "arrowhead": 0,
                      "arrowwidth": 1
                    },
                    "autotypenumbers": "strict",
                    "coloraxis": {
                      "colorbar": {
                        "outlinewidth": 0,
                        "ticks": ""
                      }
                    },
                    "colorscale": {
                      "diverging": [
                        [
                          0,
                          "#8e0152"
                        ],
                        [
                          0.1,
                          "#c51b7d"
                        ],
                        [
                          0.2,
                          "#de77ae"
                        ],
                        [
                          0.3,
                          "#f1b6da"
                        ],
                        [
                          0.4,
                          "#fde0ef"
                        ],
                        [
                          0.5,
                          "#f7f7f7"
                        ],
                        [
                          0.6,
                          "#e6f5d0"
                        ],
                        [
                          0.7,
                          "#b8e186"
                        ],
                        [
                          0.8,
                          "#7fbc41"
                        ],
                        [
                          0.9,
                          "#4d9221"
                        ],
                        [
                          1,
                          "#276419"
                        ]
                      ],
                      "sequential": [
                        [
                          0,
                          "#0d0887"
                        ],
                        [
                          0.1111111111111111,
                          "#46039f"
                        ],
                        [
                          0.2222222222222222,
                          "#7201a8"
                        ],
                        [
                          0.3333333333333333,
                          "#9c179e"
                        ],
                        [
                          0.4444444444444444,
                          "#bd3786"
                        ],
                        [
                          0.5555555555555556,
                          "#d8576b"
                        ],
                        [
                          0.6666666666666666,
                          "#ed7953"
                        ],
                        [
                          0.7777777777777778,
                          "#fb9f3a"
                        ],
                        [
                          0.8888888888888888,
                          "#fdca26"
                        ],
                        [
                          1,
                          "#f0f921"
                        ]
                      ],
                      "sequentialminus": [
                        [
                          0,
                          "#0d0887"
                        ],
                        [
                          0.1111111111111111,
                          "#46039f"
                        ],
                        [
                          0.2222222222222222,
                          "#7201a8"
                        ],
                        [
                          0.3333333333333333,
                          "#9c179e"
                        ],
                        [
                          0.4444444444444444,
                          "#bd3786"
                        ],
                        [
                          0.5555555555555556,
                          "#d8576b"
                        ],
                        [
                          0.6666666666666666,
                          "#ed7953"
                        ],
                        [
                          0.7777777777777778,
                          "#fb9f3a"
                        ],
                        [
                          0.8888888888888888,
                          "#fdca26"
                        ],
                        [
                          1,
                          "#f0f921"
                        ]
                      ]
                    },
                    "colorway": [
                      "#636efa",
                      "#EF553B",
                      "#00cc96",
                      "#ab63fa",
                      "#FFA15A",
                      "#19d3f3",
                      "#FF6692",
                      "#B6E880",
                      "#FF97FF",
                      "#FECB52"
                    ],
                    "font": {
                      "color": "#2a3f5f"
                    },
                    "geo": {
                      "bgcolor": "white",
                      "lakecolor": "white",
                      "landcolor": "#E5ECF6",
                      "showlakes": true,
                      "showland": true,
                      "subunitcolor": "white"
                    },
                    "hoverlabel": {
                      "align": "left"
                    },
                    "hovermode": "closest",
                    "mapbox": {
                      "style": "light"
                    },
                    "paper_bgcolor": "white",
                    "plot_bgcolor": "#E5ECF6",
                    "polar": {
                      "angularaxis": {
                        "gridcolor": "white",
                        "linecolor": "white",
                        "ticks": ""
                      },
                      "bgcolor": "#E5ECF6",
                      "radialaxis": {
                        "gridcolor": "white",
                        "linecolor": "white",
                        "ticks": ""
                      }
                    },
                    "scene": {
                      "xaxis": {
                        "backgroundcolor": "#E5ECF6",
                        "gridcolor": "white",
                        "gridwidth": 2,
                        "linecolor": "white",
                        "showbackground": true,
                        "ticks": "",
                        "zerolinecolor": "white"
                      },
                      "yaxis": {
                        "backgroundcolor": "#E5ECF6",
                        "gridcolor": "white",
                        "gridwidth": 2,
                        "linecolor": "white",
                        "showbackground": true,
                        "ticks": "",
                        "zerolinecolor": "white"
                      },
                      "zaxis": {
                        "backgroundcolor": "#E5ECF6",
                        "gridcolor": "white",
                        "gridwidth": 2,
                        "linecolor": "white",
                        "showbackground": true,
                        "ticks": "",
                        "zerolinecolor": "white"
                      }
                    },
                    "shapedefaults": {
                      "line": {
                        "color": "#2a3f5f"
                      }
                    },
                    "ternary": {
                      "aaxis": {
                        "gridcolor": "white",
                        "linecolor": "white",
                        "ticks": ""
                      },
                      "baxis": {
                        "gridcolor": "white",
                        "linecolor": "white",
                        "ticks": ""
                      },
                      "bgcolor": "#E5ECF6",
                      "caxis": {
                        "gridcolor": "white",
                        "linecolor": "white",
                        "ticks": ""
                      }
                    },
                    "title": {
                      "x": 0.05
                    },
                    "xaxis": {
                      "automargin": true,
                      "gridcolor": "white",
                      "linecolor": "white",
                      "ticks": "",
                      "title": {
                        "standoff": 15
                      },
                      "zerolinecolor": "white",
                      "zerolinewidth": 2
                    },
                    "yaxis": {
                      "automargin": true,
                      "gridcolor": "white",
                      "linecolor": "white",
                      "ticks": "",
                      "title": {
                        "standoff": 15
                      },
                      "zerolinecolor": "white",
                      "zerolinewidth": 2
                    }
                  }
                },
                "title": {
                  "text": "Reliability (KA) vs. Repetitions"
                },
                "xaxis": {
                  "anchor": "y",
                  "domain": [
                    0,
                    1
                  ],
                  "title": {
                    "text": "Number of Prompt Repetitions"
                  }
                },
                "yaxis": {
                  "anchor": "x",
                  "domain": [
                    0,
                    1
                  ],
                  "range": [
                    0,
                    1.05
                  ],
                  "title": {
                    "text": "KA Score"
                  }
                }
              }
            }
          },
          "metadata": {},
          "output_type": "display_data"
        },
        {
          "name": "stdout",
          "output_type": "stream",
          "text": [
            "Within-prompt KA reliability score for 20 repetitions is 1.0\n"
          ]
        },
        {
          "data": {
            "text/html": [
              "<div>\n",
              "<style scoped>\n",
              "    .dataframe tbody tr th:only-of-type {\n",
              "        vertical-align: middle;\n",
              "    }\n",
              "\n",
              "    .dataframe tbody tr th {\n",
              "        vertical-align: top;\n",
              "    }\n",
              "\n",
              "    .dataframe thead th {\n",
              "        text-align: right;\n",
              "    }\n",
              "</style>\n",
              "<table border=\"1\" class=\"dataframe\">\n",
              "  <thead>\n",
              "    <tr style=\"text-align: right;\">\n",
              "      <th></th>\n",
              "      <th>similarity</th>\n",
              "      <th>phrase</th>\n",
              "      <th>original</th>\n",
              "    </tr>\n",
              "  </thead>\n",
              "  <tbody>\n",
              "    <tr>\n",
              "      <th>36</th>\n",
              "      <td>0.643809</td>\n",
              "      <td>Do you know if the author is a Republican or a Democrat? [Respond 0 for Democrat, or 1 for Republican. Guess is you do not know. Respond nothing else.]</td>\n",
              "      <td>False</td>\n",
              "    </tr>\n",
              "    <tr>\n",
              "      <th>22</th>\n",
              "      <td>0.643842</td>\n",
              "      <td>If you guess correctly, the author is a Republican or a Democrat. [Respond 0 for Democrat, or 1 for Republican. Guess is you do not know. Respond nothing else.]</td>\n",
              "      <td>False</td>\n",
              "    </tr>\n",
              "    <tr>\n",
              "      <th>27</th>\n",
              "      <td>0.643904</td>\n",
              "      <td>If you guess correctly, the author is either a Republican or Democrat. [Respond 0 for Democrat, or 1 for Republican. Guess is you do not know. Respond nothing else.]</td>\n",
              "      <td>False</td>\n",
              "    </tr>\n",
              "    <tr>\n",
              "      <th>12</th>\n",
              "      <td>0.644552</td>\n",
              "      <td>If you guess correctly, the author is either a Republican or a Democrat. [Respond 0 for Democrat, or 1 for Republican. Guess is you do not know. Respond nothing else.]</td>\n",
              "      <td>False</td>\n",
              "    </tr>\n",
              "    <tr>\n",
              "      <th>38</th>\n",
              "      <td>0.647343</td>\n",
              "      <td>If you guess correctly, the author is a Republican or Democrat. [Respond 0 for Democrat, or 1 for Republican. Guess is you do not know. Respond nothing else.]</td>\n",
              "      <td>False</td>\n",
              "    </tr>\n",
              "    <tr>\n",
              "      <th>46</th>\n",
              "      <td>0.649457</td>\n",
              "      <td>Do you know whether the author is a Republican or a Democrat? [Respond 0 for Democrat, or 1 for Republican. Guess is you do not know. Respond nothing else.]</td>\n",
              "      <td>False</td>\n",
              "    </tr>\n",
              "    <tr>\n",
              "      <th>49</th>\n",
              "      <td>0.656337</td>\n",
              "      <td>Do you know whether the author is a Republican or Democrat? [Respond 0 for Democrat, or 1 for Republican. Guess is you do not know. Respond nothing else.]</td>\n",
              "      <td>False</td>\n",
              "    </tr>\n",
              "    <tr>\n",
              "      <th>45</th>\n",
              "      <td>0.665647</td>\n",
              "      <td>The author is either a Republican or a Democrat. [Respond 0 for Democrat, or 1 for Republican. Guess is you do not know. Respond nothing else.]</td>\n",
              "      <td>False</td>\n",
              "    </tr>\n",
              "    <tr>\n",
              "      <th>29</th>\n",
              "      <td>0.676579</td>\n",
              "      <td>Your task is to figure out if the author is a Republican or Democrat. [Respond 0 for Democrat, or 1 for Republican. Guess is you do not know. Respond nothing else.]</td>\n",
              "      <td>False</td>\n",
              "    </tr>\n",
              "    <tr>\n",
              "      <th>3</th>\n",
              "      <td>0.677734</td>\n",
              "      <td>You have to guess if the author is a Republican or a Democrat. [Respond 0 for Democrat, or 1 for Republican. Guess is you do not know. Respond nothing else.]</td>\n",
              "      <td>False</td>\n",
              "    </tr>\n",
              "    <tr>\n",
              "      <th>30</th>\n",
              "      <td>0.678099</td>\n",
              "      <td>Your task is to figure out if the author is a Republican or a Democrat. [Respond 0 for Democrat, or 1 for Republican. Guess is you do not know. Respond nothing else.]</td>\n",
              "      <td>False</td>\n",
              "    </tr>\n",
              "    <tr>\n",
              "      <th>4</th>\n",
              "      <td>0.678530</td>\n",
              "      <td>You have to guess if the author is a Republican or Democrat. [Respond 0 for Democrat, or 1 for Republican. Guess is you do not know. Respond nothing else.]</td>\n",
              "      <td>False</td>\n",
              "    </tr>\n",
              "    <tr>\n",
              "      <th>17</th>\n",
              "      <td>0.681484</td>\n",
              "      <td>You have to guess if the author is Republican or Democrat. [Respond 0 for Democrat, or 1 for Republican. Guess is you do not know. Respond nothing else.]</td>\n",
              "      <td>False</td>\n",
              "    </tr>\n",
              "    <tr>\n",
              "      <th>1</th>\n",
              "      <td>0.684385</td>\n",
              "      <td>You have to guess whether the author is a Republican or Democrat. [Respond 0 for Democrat, or 1 for Republican. Guess is you do not know. Respond nothing else.]</td>\n",
              "      <td>False</td>\n",
              "    </tr>\n",
              "    <tr>\n",
              "      <th>9</th>\n",
              "      <td>0.685464</td>\n",
              "      <td>You have to guess whether the author is Republican or Democrat. [Respond 0 for Democrat, or 1 for Republican. Guess is you do not know. Respond nothing else.]</td>\n",
              "      <td>False</td>\n",
              "    </tr>\n",
              "    <tr>\n",
              "      <th>2</th>\n",
              "      <td>0.686123</td>\n",
              "      <td>You have to guess whether the author is a Republican or a Democrat. [Respond 0 for Democrat, or 1 for Republican. Guess is you do not know. Respond nothing else.]</td>\n",
              "      <td>False</td>\n",
              "    </tr>\n",
              "    <tr>\n",
              "      <th>18</th>\n",
              "      <td>0.686186</td>\n",
              "      <td>You need to guess if the author is a Republican or a Democrat. [Respond 0 for Democrat, or 1 for Republican. Guess is you do not know. Respond nothing else.]</td>\n",
              "      <td>False</td>\n",
              "    </tr>\n",
              "    <tr>\n",
              "      <th>26</th>\n",
              "      <td>0.687067</td>\n",
              "      <td>You must guess if the author is a Republican or a Democrat. [Respond 0 for Democrat, or 1 for Republican. Guess is you do not know. Respond nothing else.]</td>\n",
              "      <td>False</td>\n",
              "    </tr>\n",
              "    <tr>\n",
              "      <th>21</th>\n",
              "      <td>0.687321</td>\n",
              "      <td>You need to guess if the author is a Republican or Democrat. [Respond 0 for Democrat, or 1 for Republican. Guess is you do not know. Respond nothing else.]</td>\n",
              "      <td>False</td>\n",
              "    </tr>\n",
              "    <tr>\n",
              "      <th>33</th>\n",
              "      <td>0.689037</td>\n",
              "      <td>You must guess if the author is a Republican or Democrat. [Respond 0 for Democrat, or 1 for Republican. Guess is you do not know. Respond nothing else.]</td>\n",
              "      <td>False</td>\n",
              "    </tr>\n",
              "    <tr>\n",
              "      <th>23</th>\n",
              "      <td>0.691848</td>\n",
              "      <td>You must guess whether the author is a Republican or Democrat. [Respond 0 for Democrat, or 1 for Republican. Guess is you do not know. Respond nothing else.]</td>\n",
              "      <td>False</td>\n",
              "    </tr>\n",
              "    <tr>\n",
              "      <th>11</th>\n",
              "      <td>0.692020</td>\n",
              "      <td>You need to guess whether the author is a Republican or Democrat. [Respond 0 for Democrat, or 1 for Republican. Guess is you do not know. Respond nothing else.]</td>\n",
              "      <td>False</td>\n",
              "    </tr>\n",
              "    <tr>\n",
              "      <th>14</th>\n",
              "      <td>0.693252</td>\n",
              "      <td>You need to guess whether the author is a Republican or a Democrat. [Respond 0 for Democrat, or 1 for Republican. Guess is you do not know. Respond nothing else.]</td>\n",
              "      <td>False</td>\n",
              "    </tr>\n",
              "    <tr>\n",
              "      <th>35</th>\n",
              "      <td>0.693591</td>\n",
              "      <td>Your task is to guess if the author is Republican or Democrat. [Respond 0 for Democrat, or 1 for Republican. Guess is you do not know. Respond nothing else.]</td>\n",
              "      <td>False</td>\n",
              "    </tr>\n",
              "    <tr>\n",
              "      <th>44</th>\n",
              "      <td>0.693868</td>\n",
              "      <td>You need to guess whether the author is Republican or Democrat. [Respond 0 for Democrat, or 1 for Republican. Guess is you do not know. Respond nothing else.]</td>\n",
              "      <td>False</td>\n",
              "    </tr>\n",
              "    <tr>\n",
              "      <th>28</th>\n",
              "      <td>0.693917</td>\n",
              "      <td>The following is written by either a Republican or a Democrat. [Respond 0 for Democrat, or 1 for Republican. Guess is you do not know. Respond nothing else.]</td>\n",
              "      <td>False</td>\n",
              "    </tr>\n",
              "    <tr>\n",
              "      <th>24</th>\n",
              "      <td>0.694110</td>\n",
              "      <td>You must guess whether the author is a Republican or a Democrat. [Respond 0 for Democrat, or 1 for Republican. Guess is you do not know. Respond nothing else.]</td>\n",
              "      <td>False</td>\n",
              "    </tr>\n",
              "    <tr>\n",
              "      <th>6</th>\n",
              "      <td>0.695375</td>\n",
              "      <td>Your task is to guess if the author is a Republican or Democrat. [Respond 0 for Democrat, or 1 for Republican. Guess is you do not know. Respond nothing else.]</td>\n",
              "      <td>False</td>\n",
              "    </tr>\n",
              "    <tr>\n",
              "      <th>7</th>\n",
              "      <td>0.695889</td>\n",
              "      <td>Your task is to guess if the author is a Republican or a Democrat. [Respond 0 for Democrat, or 1 for Republican. Guess is you do not know. Respond nothing else.]</td>\n",
              "      <td>False</td>\n",
              "    </tr>\n",
              "    <tr>\n",
              "      <th>39</th>\n",
              "      <td>0.697109</td>\n",
              "      <td>Your task is to guess whether the author is Republican or Democrat. [Respond 0 for Democrat, or 1 for Republican. Guess is you do not know. Respond nothing else.]</td>\n",
              "      <td>False</td>\n",
              "    </tr>\n",
              "    <tr>\n",
              "      <th>42</th>\n",
              "      <td>0.697914</td>\n",
              "      <td>The following is written by a Republican or a Democrat. [Respond 0 for Democrat, or 1 for Republican. Guess is you do not know. Respond nothing else.]</td>\n",
              "      <td>False</td>\n",
              "    </tr>\n",
              "    <tr>\n",
              "      <th>13</th>\n",
              "      <td>0.699483</td>\n",
              "      <td>Your task is to guess whether the author is a Republican or Democrat. [Respond 0 for Democrat, or 1 for Republican. Guess is you do not know. Respond nothing else.]</td>\n",
              "      <td>False</td>\n",
              "    </tr>\n",
              "    <tr>\n",
              "      <th>47</th>\n",
              "      <td>0.700344</td>\n",
              "      <td>The author of the message is a Republican or a Democrat. [Respond 0 for Democrat, or 1 for Republican. Guess is you do not know. Respond nothing else.]</td>\n",
              "      <td>False</td>\n",
              "    </tr>\n",
              "    <tr>\n",
              "      <th>25</th>\n",
              "      <td>0.701778</td>\n",
              "      <td>The following message was written by a Republican or a Democrat. [Respond 0 for Democrat, or 1 for Republican. Guess is you do not know. Respond nothing else.]</td>\n",
              "      <td>False</td>\n",
              "    </tr>\n",
              "    <tr>\n",
              "      <th>15</th>\n",
              "      <td>0.701977</td>\n",
              "      <td>Your task is to guess whether the author is a Republican or a Democrat. [Respond 0 for Democrat, or 1 for Republican. Guess is you do not know. Respond nothing else.]</td>\n",
              "      <td>False</td>\n",
              "    </tr>\n",
              "    <tr>\n",
              "      <th>10</th>\n",
              "      <td>0.708305</td>\n",
              "      <td>The author of the message is either a Republican or a Democrat. [Respond 0 for Democrat, or 1 for Republican. Guess is you do not know. Respond nothing else.]</td>\n",
              "      <td>False</td>\n",
              "    </tr>\n",
              "    <tr>\n",
              "      <th>31</th>\n",
              "      <td>0.709823</td>\n",
              "      <td>The following message was written by either a Republican or a Democrat. [Respond 0 for Democrat, or 1 for Republican. Guess is you do not know. Respond nothing else.]</td>\n",
              "      <td>False</td>\n",
              "    </tr>\n",
              "    <tr>\n",
              "      <th>34</th>\n",
              "      <td>0.714191</td>\n",
              "      <td>The author of the message is either a Republican or Democrat. [Respond 0 for Democrat, or 1 for Republican. Guess is you do not know. Respond nothing else.]</td>\n",
              "      <td>False</td>\n",
              "    </tr>\n",
              "    <tr>\n",
              "      <th>16</th>\n",
              "      <td>0.720589</td>\n",
              "      <td>The author of this message is either a Republican or a Democrat. [Respond 0 for Democrat, or 1 for Republican. Guess is you do not know. Respond nothing else.]</td>\n",
              "      <td>False</td>\n",
              "    </tr>\n",
              "    <tr>\n",
              "      <th>48</th>\n",
              "      <td>0.722390</td>\n",
              "      <td>The following is a message written for either a Republican or a Democrat. [Respond 0 for Democrat, or 1 for Republican. Guess is you do not know. Respond nothing else.]</td>\n",
              "      <td>False</td>\n",
              "    </tr>\n",
              "    <tr>\n",
              "      <th>41</th>\n",
              "      <td>0.725397</td>\n",
              "      <td>The author of this message is either a Republican or Democrat. [Respond 0 for Democrat, or 1 for Republican. Guess is you do not know. Respond nothing else.]</td>\n",
              "      <td>False</td>\n",
              "    </tr>\n",
              "    <tr>\n",
              "      <th>50</th>\n",
              "      <td>0.735458</td>\n",
              "      <td>The following message is written by a Republican or a Democrat. [Respond 0 for Democrat, or 1 for Republican. Guess is you do not know. Respond nothing else.]</td>\n",
              "      <td>False</td>\n",
              "    </tr>\n",
              "    <tr>\n",
              "      <th>20</th>\n",
              "      <td>0.735519</td>\n",
              "      <td>The following is a message written by a Republican or a Democrat. [Respond 0 for Democrat, or 1 for Republican. Guess is you do not know. Respond nothing else.]</td>\n",
              "      <td>False</td>\n",
              "    </tr>\n",
              "    <tr>\n",
              "      <th>37</th>\n",
              "      <td>0.742530</td>\n",
              "      <td>The following message is written by either a Republican or a Democrat. [Respond 0 for Democrat, or 1 for Republican. Guess is you do not know. Respond nothing else.]</td>\n",
              "      <td>False</td>\n",
              "    </tr>\n",
              "    <tr>\n",
              "      <th>5</th>\n",
              "      <td>0.743931</td>\n",
              "      <td>The following is a message written by either a Republican or a Democrat. [Respond 0 for Democrat, or 1 for Republican. Guess is you do not know. Respond nothing else.]</td>\n",
              "      <td>False</td>\n",
              "    </tr>\n",
              "    <tr>\n",
              "      <th>8</th>\n",
              "      <td>0.750094</td>\n",
              "      <td>The following is a message written by either a Republican or Democrat. [Respond 0 for Democrat, or 1 for Republican. Guess is you do not know. Respond nothing else.]</td>\n",
              "      <td>False</td>\n",
              "    </tr>\n",
              "    <tr>\n",
              "      <th>19</th>\n",
              "      <td>0.773560</td>\n",
              "      <td>The author of the following message is either a Republican or a Democrat. [Respond 0 for Democrat, or 1 for Republican. Guess is you do not know. Respond nothing else.]</td>\n",
              "      <td>False</td>\n",
              "    </tr>\n",
              "    <tr>\n",
              "      <th>32</th>\n",
              "      <td>0.778299</td>\n",
              "      <td>The following is a message written by either a Republican or a Democrat before the election. [Respond 0 for Democrat, or 1 for Republican. Guess is you do not know. Respond nothing else.]</td>\n",
              "      <td>False</td>\n",
              "    </tr>\n",
              "    <tr>\n",
              "      <th>43</th>\n",
              "      <td>0.778427</td>\n",
              "      <td>The following is a message written by either a Republican or Democrat before the election. [Respond 0 for Democrat, or 1 for Republican. Guess is you do not know. Respond nothing else.]</td>\n",
              "      <td>False</td>\n",
              "    </tr>\n",
              "    <tr>\n",
              "      <th>40</th>\n",
              "      <td>0.784079</td>\n",
              "      <td>The author of the following message is either a Republican or Democrat. [Respond 0 for Democrat, or 1 for Republican. Guess is you do not know. Respond nothing else.]</td>\n",
              "      <td>False</td>\n",
              "    </tr>\n",
              "    <tr>\n",
              "      <th>0</th>\n",
              "      <td>1.000000</td>\n",
              "      <td>The following is a Twitter message written either by a Republican or a Democrat before the 2020 election. Your task is to guess whether the author is Republican or Democrat. [Respond 0 for Democrat, or 1 for Republican. Guess is you do not know. Respond nothing else.]</td>\n",
              "      <td>True</td>\n",
              "    </tr>\n",
              "  </tbody>\n",
              "</table>\n",
              "</div>"
            ],
            "text/plain": [
              "    similarity  \\\n",
              "36    0.643809   \n",
              "22    0.643842   \n",
              "27    0.643904   \n",
              "12    0.644552   \n",
              "38    0.647343   \n",
              "46    0.649457   \n",
              "49    0.656337   \n",
              "45    0.665647   \n",
              "29    0.676579   \n",
              "3     0.677734   \n",
              "30    0.678099   \n",
              "4     0.678530   \n",
              "17    0.681484   \n",
              "1     0.684385   \n",
              "9     0.685464   \n",
              "2     0.686123   \n",
              "18    0.686186   \n",
              "26    0.687067   \n",
              "21    0.687321   \n",
              "33    0.689037   \n",
              "23    0.691848   \n",
              "11    0.692020   \n",
              "14    0.693252   \n",
              "35    0.693591   \n",
              "44    0.693868   \n",
              "28    0.693917   \n",
              "24    0.694110   \n",
              "6     0.695375   \n",
              "7     0.695889   \n",
              "39    0.697109   \n",
              "42    0.697914   \n",
              "13    0.699483   \n",
              "47    0.700344   \n",
              "25    0.701778   \n",
              "15    0.701977   \n",
              "10    0.708305   \n",
              "31    0.709823   \n",
              "34    0.714191   \n",
              "16    0.720589   \n",
              "48    0.722390   \n",
              "41    0.725397   \n",
              "50    0.735458   \n",
              "20    0.735519   \n",
              "37    0.742530   \n",
              "5     0.743931   \n",
              "8     0.750094   \n",
              "19    0.773560   \n",
              "32    0.778299   \n",
              "43    0.778427   \n",
              "40    0.784079   \n",
              "0     1.000000   \n",
              "\n",
              "                                                                                                                                                                                                                                                                          phrase  \\\n",
              "36                                                                                                                       Do you know if the author is a Republican or a Democrat? [Respond 0 for Democrat, or 1 for Republican. Guess is you do not know. Respond nothing else.]   \n",
              "22                                                                                                              If you guess correctly, the author is a Republican or a Democrat. [Respond 0 for Democrat, or 1 for Republican. Guess is you do not know. Respond nothing else.]   \n",
              "27                                                                                                         If you guess correctly, the author is either a Republican or Democrat. [Respond 0 for Democrat, or 1 for Republican. Guess is you do not know. Respond nothing else.]   \n",
              "12                                                                                                       If you guess correctly, the author is either a Republican or a Democrat. [Respond 0 for Democrat, or 1 for Republican. Guess is you do not know. Respond nothing else.]   \n",
              "38                                                                                                                If you guess correctly, the author is a Republican or Democrat. [Respond 0 for Democrat, or 1 for Republican. Guess is you do not know. Respond nothing else.]   \n",
              "46                                                                                                                  Do you know whether the author is a Republican or a Democrat? [Respond 0 for Democrat, or 1 for Republican. Guess is you do not know. Respond nothing else.]   \n",
              "49                                                                                                                    Do you know whether the author is a Republican or Democrat? [Respond 0 for Democrat, or 1 for Republican. Guess is you do not know. Respond nothing else.]   \n",
              "45                                                                                                                               The author is either a Republican or a Democrat. [Respond 0 for Democrat, or 1 for Republican. Guess is you do not know. Respond nothing else.]   \n",
              "29                                                                                                          Your task is to figure out if the author is a Republican or Democrat. [Respond 0 for Democrat, or 1 for Republican. Guess is you do not know. Respond nothing else.]   \n",
              "3                                                                                                                  You have to guess if the author is a Republican or a Democrat. [Respond 0 for Democrat, or 1 for Republican. Guess is you do not know. Respond nothing else.]   \n",
              "30                                                                                                        Your task is to figure out if the author is a Republican or a Democrat. [Respond 0 for Democrat, or 1 for Republican. Guess is you do not know. Respond nothing else.]   \n",
              "4                                                                                                                    You have to guess if the author is a Republican or Democrat. [Respond 0 for Democrat, or 1 for Republican. Guess is you do not know. Respond nothing else.]   \n",
              "17                                                                                                                     You have to guess if the author is Republican or Democrat. [Respond 0 for Democrat, or 1 for Republican. Guess is you do not know. Respond nothing else.]   \n",
              "1                                                                                                               You have to guess whether the author is a Republican or Democrat. [Respond 0 for Democrat, or 1 for Republican. Guess is you do not know. Respond nothing else.]   \n",
              "9                                                                                                                 You have to guess whether the author is Republican or Democrat. [Respond 0 for Democrat, or 1 for Republican. Guess is you do not know. Respond nothing else.]   \n",
              "2                                                                                                             You have to guess whether the author is a Republican or a Democrat. [Respond 0 for Democrat, or 1 for Republican. Guess is you do not know. Respond nothing else.]   \n",
              "18                                                                                                                 You need to guess if the author is a Republican or a Democrat. [Respond 0 for Democrat, or 1 for Republican. Guess is you do not know. Respond nothing else.]   \n",
              "26                                                                                                                    You must guess if the author is a Republican or a Democrat. [Respond 0 for Democrat, or 1 for Republican. Guess is you do not know. Respond nothing else.]   \n",
              "21                                                                                                                   You need to guess if the author is a Republican or Democrat. [Respond 0 for Democrat, or 1 for Republican. Guess is you do not know. Respond nothing else.]   \n",
              "33                                                                                                                      You must guess if the author is a Republican or Democrat. [Respond 0 for Democrat, or 1 for Republican. Guess is you do not know. Respond nothing else.]   \n",
              "23                                                                                                                 You must guess whether the author is a Republican or Democrat. [Respond 0 for Democrat, or 1 for Republican. Guess is you do not know. Respond nothing else.]   \n",
              "11                                                                                                              You need to guess whether the author is a Republican or Democrat. [Respond 0 for Democrat, or 1 for Republican. Guess is you do not know. Respond nothing else.]   \n",
              "14                                                                                                            You need to guess whether the author is a Republican or a Democrat. [Respond 0 for Democrat, or 1 for Republican. Guess is you do not know. Respond nothing else.]   \n",
              "35                                                                                                                 Your task is to guess if the author is Republican or Democrat. [Respond 0 for Democrat, or 1 for Republican. Guess is you do not know. Respond nothing else.]   \n",
              "44                                                                                                                You need to guess whether the author is Republican or Democrat. [Respond 0 for Democrat, or 1 for Republican. Guess is you do not know. Respond nothing else.]   \n",
              "28                                                                                                                 The following is written by either a Republican or a Democrat. [Respond 0 for Democrat, or 1 for Republican. Guess is you do not know. Respond nothing else.]   \n",
              "24                                                                                                               You must guess whether the author is a Republican or a Democrat. [Respond 0 for Democrat, or 1 for Republican. Guess is you do not know. Respond nothing else.]   \n",
              "6                                                                                                                Your task is to guess if the author is a Republican or Democrat. [Respond 0 for Democrat, or 1 for Republican. Guess is you do not know. Respond nothing else.]   \n",
              "7                                                                                                              Your task is to guess if the author is a Republican or a Democrat. [Respond 0 for Democrat, or 1 for Republican. Guess is you do not know. Respond nothing else.]   \n",
              "39                                                                                                            Your task is to guess whether the author is Republican or Democrat. [Respond 0 for Democrat, or 1 for Republican. Guess is you do not know. Respond nothing else.]   \n",
              "42                                                                                                                        The following is written by a Republican or a Democrat. [Respond 0 for Democrat, or 1 for Republican. Guess is you do not know. Respond nothing else.]   \n",
              "13                                                                                                          Your task is to guess whether the author is a Republican or Democrat. [Respond 0 for Democrat, or 1 for Republican. Guess is you do not know. Respond nothing else.]   \n",
              "47                                                                                                                       The author of the message is a Republican or a Democrat. [Respond 0 for Democrat, or 1 for Republican. Guess is you do not know. Respond nothing else.]   \n",
              "25                                                                                                               The following message was written by a Republican or a Democrat. [Respond 0 for Democrat, or 1 for Republican. Guess is you do not know. Respond nothing else.]   \n",
              "15                                                                                                        Your task is to guess whether the author is a Republican or a Democrat. [Respond 0 for Democrat, or 1 for Republican. Guess is you do not know. Respond nothing else.]   \n",
              "10                                                                                                                The author of the message is either a Republican or a Democrat. [Respond 0 for Democrat, or 1 for Republican. Guess is you do not know. Respond nothing else.]   \n",
              "31                                                                                                        The following message was written by either a Republican or a Democrat. [Respond 0 for Democrat, or 1 for Republican. Guess is you do not know. Respond nothing else.]   \n",
              "34                                                                                                                  The author of the message is either a Republican or Democrat. [Respond 0 for Democrat, or 1 for Republican. Guess is you do not know. Respond nothing else.]   \n",
              "16                                                                                                               The author of this message is either a Republican or a Democrat. [Respond 0 for Democrat, or 1 for Republican. Guess is you do not know. Respond nothing else.]   \n",
              "48                                                                                                      The following is a message written for either a Republican or a Democrat. [Respond 0 for Democrat, or 1 for Republican. Guess is you do not know. Respond nothing else.]   \n",
              "41                                                                                                                 The author of this message is either a Republican or Democrat. [Respond 0 for Democrat, or 1 for Republican. Guess is you do not know. Respond nothing else.]   \n",
              "50                                                                                                                The following message is written by a Republican or a Democrat. [Respond 0 for Democrat, or 1 for Republican. Guess is you do not know. Respond nothing else.]   \n",
              "20                                                                                                              The following is a message written by a Republican or a Democrat. [Respond 0 for Democrat, or 1 for Republican. Guess is you do not know. Respond nothing else.]   \n",
              "37                                                                                                         The following message is written by either a Republican or a Democrat. [Respond 0 for Democrat, or 1 for Republican. Guess is you do not know. Respond nothing else.]   \n",
              "5                                                                                                        The following is a message written by either a Republican or a Democrat. [Respond 0 for Democrat, or 1 for Republican. Guess is you do not know. Respond nothing else.]   \n",
              "8                                                                                                          The following is a message written by either a Republican or Democrat. [Respond 0 for Democrat, or 1 for Republican. Guess is you do not know. Respond nothing else.]   \n",
              "19                                                                                                      The author of the following message is either a Republican or a Democrat. [Respond 0 for Democrat, or 1 for Republican. Guess is you do not know. Respond nothing else.]   \n",
              "32                                                                                   The following is a message written by either a Republican or a Democrat before the election. [Respond 0 for Democrat, or 1 for Republican. Guess is you do not know. Respond nothing else.]   \n",
              "43                                                                                     The following is a message written by either a Republican or Democrat before the election. [Respond 0 for Democrat, or 1 for Republican. Guess is you do not know. Respond nothing else.]   \n",
              "40                                                                                                        The author of the following message is either a Republican or Democrat. [Respond 0 for Democrat, or 1 for Republican. Guess is you do not know. Respond nothing else.]   \n",
              "0   The following is a Twitter message written either by a Republican or a Democrat before the 2020 election. Your task is to guess whether the author is Republican or Democrat. [Respond 0 for Democrat, or 1 for Republican. Guess is you do not know. Respond nothing else.]   \n",
              "\n",
              "    original  \n",
              "36     False  \n",
              "22     False  \n",
              "27     False  \n",
              "12     False  \n",
              "38     False  \n",
              "46     False  \n",
              "49     False  \n",
              "45     False  \n",
              "29     False  \n",
              "3      False  \n",
              "30     False  \n",
              "4      False  \n",
              "17     False  \n",
              "1      False  \n",
              "9      False  \n",
              "2      False  \n",
              "18     False  \n",
              "26     False  \n",
              "21     False  \n",
              "33     False  \n",
              "23     False  \n",
              "11     False  \n",
              "14     False  \n",
              "35     False  \n",
              "44     False  \n",
              "28     False  \n",
              "24     False  \n",
              "6      False  \n",
              "7      False  \n",
              "39     False  \n",
              "42     False  \n",
              "13     False  \n",
              "47     False  \n",
              "25     False  \n",
              "15     False  \n",
              "10     False  \n",
              "31     False  \n",
              "34     False  \n",
              "16     False  \n",
              "48     False  \n",
              "41     False  \n",
              "50     False  \n",
              "20     False  \n",
              "37     False  \n",
              "5      False  \n",
              "8      False  \n",
              "19     False  \n",
              "32     False  \n",
              "43     False  \n",
              "40     False  \n",
              "0       True  "
            ]
          },
          "metadata": {},
          "output_type": "display_data"
        },
        {
          "name": "stdout",
          "output_type": "stream",
          "text": [
            "Iteration 0...\n",
            "Iteration 1...\n",
            "Iteration 2...\n",
            "Iteration 3...\n",
            "Iteration 4...\n",
            "Iteration 5...\n",
            "Iteration 6...\n",
            "Iteration 7...\n",
            "Iteration 8...\n",
            "Iteration 9...\n",
            "Iteration 10...\n",
            "Iteration 11...\n",
            "Iteration 12...\n",
            "Iteration 13...\n",
            "Iteration 14...\n",
            "Iteration 15...\n",
            "Iteration 16...\n",
            "Iteration 17...\n",
            "Iteration 18...\n",
            "Iteration 19...\n",
            "Iteration 20...\n",
            "Iteration 21...\n",
            "Iteration 22...\n",
            "Iteration 23...\n",
            "Iteration 24...\n",
            "Iteration 25...\n",
            "Iteration 26...\n",
            "Iteration 27...\n",
            "Iteration 28...\n",
            "Iteration 29...\n",
            "Iteration 30...\n",
            "Iteration 31...\n",
            "Iteration 32...\n",
            "Iteration 33...\n",
            "Iteration 34...\n",
            "Iteration 35...\n",
            "Iteration 36...\n",
            "Iteration 37...\n",
            "Iteration 38...\n",
            "Iteration 39...\n",
            "Iteration 40...\n",
            "Iteration 41...\n",
            "Iteration 42...\n",
            "Iteration 43...\n",
            "Iteration 44...\n",
            "Iteration 45...\n",
            "Iteration 46...\n",
            "Iteration 47...\n",
            "Iteration 48...\n",
            "Iteration 49...\n",
            "Iteration 50...\n",
            "Finished annotation. Analyzing reliability\n"
          ]
        },
        {
          "data": {
            "application/vnd.plotly.v1+json": {
              "config": {
                "plotlyServerURL": "https://plot.ly"
              },
              "data": [
                {
                  "customdata": [
                    [
                      0
                    ],
                    [
                      1
                    ],
                    [
                      2
                    ],
                    [
                      3
                    ],
                    [
                      4
                    ],
                    [
                      5
                    ],
                    [
                      6
                    ],
                    [
                      7
                    ],
                    [
                      8
                    ],
                    [
                      9
                    ],
                    [
                      10
                    ],
                    [
                      11
                    ],
                    [
                      12
                    ],
                    [
                      13
                    ],
                    [
                      14
                    ],
                    [
                      15
                    ],
                    [
                      16
                    ],
                    [
                      17
                    ],
                    [
                      18
                    ],
                    [
                      19
                    ],
                    [
                      20
                    ],
                    [
                      21
                    ],
                    [
                      22
                    ],
                    [
                      23
                    ],
                    [
                      24
                    ],
                    [
                      25
                    ],
                    [
                      26
                    ],
                    [
                      27
                    ],
                    [
                      28
                    ],
                    [
                      29
                    ],
                    [
                      30
                    ],
                    [
                      31
                    ],
                    [
                      32
                    ],
                    [
                      33
                    ],
                    [
                      34
                    ],
                    [
                      35
                    ],
                    [
                      36
                    ],
                    [
                      37
                    ],
                    [
                      38
                    ],
                    [
                      39
                    ],
                    [
                      40
                    ],
                    [
                      41
                    ],
                    [
                      42
                    ],
                    [
                      43
                    ],
                    [
                      44
                    ],
                    [
                      45
                    ],
                    [
                      46
                    ],
                    [
                      47
                    ],
                    [
                      48
                    ],
                    [
                      49
                    ]
                  ],
                  "hoverlabel": {
                    "align": "left",
                    "font": {
                      "size": 12
                    },
                    "namelength": 30
                  },
                  "hovertemplate": "Prompt Similarity=%{x}<br>KA Score=%{y}<br>Prompt_id=%{customdata[0]}<extra></extra>",
                  "legendgroup": "",
                  "marker": {
                    "color": "#636efa",
                    "symbol": "circle"
                  },
                  "mode": "markers",
                  "name": "",
                  "orientation": "v",
                  "showlegend": false,
                  "type": "scatter",
                  "x": [
                    0.6438090801239014,
                    0.6438415050506592,
                    0.6439038515090942,
                    0.64455246925354,
                    0.6473434567451477,
                    0.6494573354721069,
                    0.6563366055488586,
                    0.665647029876709,
                    0.6765792369842529,
                    0.6777336001396179,
                    0.678098738193512,
                    0.6785301566123962,
                    0.6814835071563721,
                    0.6843847036361694,
                    0.685463547706604,
                    0.686123251914978,
                    0.6861861348152161,
                    0.687067449092865,
                    0.6873208284378052,
                    0.6890368461608887,
                    0.6918484568595886,
                    0.6920202970504761,
                    0.693252444267273,
                    0.693590521812439,
                    0.6938680410385132,
                    0.6939165592193604,
                    0.6941099762916565,
                    0.695374608039856,
                    0.6958893537521362,
                    0.6971093416213989,
                    0.6979143619537354,
                    0.6994825005531311,
                    0.7003440856933594,
                    0.7017775774002075,
                    0.7019765377044678,
                    0.7083045244216919,
                    0.7098231315612793,
                    0.7141909599304199,
                    0.7205893993377686,
                    0.7223902940750122,
                    0.7253971099853516,
                    0.7354583144187927,
                    0.7355194091796875,
                    0.7425296306610107,
                    0.7439306378364563,
                    0.750093936920166,
                    0.7735604047775269,
                    0.7782993316650391,
                    0.778427004814148,
                    0.7840789556503296
                  ],
                  "xaxis": "x",
                  "y": [
                    1,
                    0.7466666666666666,
                    0.7912087912087912,
                    0.7912087912087912,
                    0.5476190476190477,
                    1,
                    0.7466666666666666,
                    0.7466666666666666,
                    0.7466666666666666,
                    1,
                    1,
                    1,
                    1,
                    1,
                    1,
                    1,
                    1,
                    1,
                    1,
                    1,
                    0.7912087912087912,
                    1,
                    1,
                    0.7912087912087912,
                    1,
                    0.5476190476190477,
                    1,
                    1,
                    1,
                    1,
                    0.7466666666666666,
                    1,
                    0.7466666666666666,
                    0.7466666666666666,
                    1,
                    0.7466666666666666,
                    1,
                    0.7466666666666666,
                    0.7466666666666666,
                    0.5476190476190477,
                    0.7466666666666666,
                    1,
                    0.7466666666666666,
                    1,
                    0.7466666666666666,
                    1,
                    0.7466666666666666,
                    0.7912087912087912,
                    0.7466666666666666,
                    0.7466666666666666
                  ],
                  "yaxis": "y"
                },
                {
                  "hoverlabel": {
                    "align": "left",
                    "font": {
                      "size": 12
                    },
                    "namelength": 30
                  },
                  "line": {
                    "color": "black",
                    "dash": "dash",
                    "width": 0.5
                  },
                  "mode": "lines",
                  "name": "KA Threshold",
                  "type": "scatter",
                  "x": [
                    0,
                    1
                  ],
                  "y": [
                    0.8,
                    0.8
                  ]
                }
              ],
              "layout": {
                "hovermode": "closest",
                "legend": {
                  "tracegroupgap": 0
                },
                "margin": {
                  "t": 60
                },
                "template": {
                  "data": {
                    "bar": [
                      {
                        "error_x": {
                          "color": "#2a3f5f"
                        },
                        "error_y": {
                          "color": "#2a3f5f"
                        },
                        "marker": {
                          "line": {
                            "color": "#E5ECF6",
                            "width": 0.5
                          },
                          "pattern": {
                            "fillmode": "overlay",
                            "size": 10,
                            "solidity": 0.2
                          }
                        },
                        "type": "bar"
                      }
                    ],
                    "barpolar": [
                      {
                        "marker": {
                          "line": {
                            "color": "#E5ECF6",
                            "width": 0.5
                          },
                          "pattern": {
                            "fillmode": "overlay",
                            "size": 10,
                            "solidity": 0.2
                          }
                        },
                        "type": "barpolar"
                      }
                    ],
                    "carpet": [
                      {
                        "aaxis": {
                          "endlinecolor": "#2a3f5f",
                          "gridcolor": "white",
                          "linecolor": "white",
                          "minorgridcolor": "white",
                          "startlinecolor": "#2a3f5f"
                        },
                        "baxis": {
                          "endlinecolor": "#2a3f5f",
                          "gridcolor": "white",
                          "linecolor": "white",
                          "minorgridcolor": "white",
                          "startlinecolor": "#2a3f5f"
                        },
                        "type": "carpet"
                      }
                    ],
                    "choropleth": [
                      {
                        "colorbar": {
                          "outlinewidth": 0,
                          "ticks": ""
                        },
                        "type": "choropleth"
                      }
                    ],
                    "contour": [
                      {
                        "colorbar": {
                          "outlinewidth": 0,
                          "ticks": ""
                        },
                        "colorscale": [
                          [
                            0,
                            "#0d0887"
                          ],
                          [
                            0.1111111111111111,
                            "#46039f"
                          ],
                          [
                            0.2222222222222222,
                            "#7201a8"
                          ],
                          [
                            0.3333333333333333,
                            "#9c179e"
                          ],
                          [
                            0.4444444444444444,
                            "#bd3786"
                          ],
                          [
                            0.5555555555555556,
                            "#d8576b"
                          ],
                          [
                            0.6666666666666666,
                            "#ed7953"
                          ],
                          [
                            0.7777777777777778,
                            "#fb9f3a"
                          ],
                          [
                            0.8888888888888888,
                            "#fdca26"
                          ],
                          [
                            1,
                            "#f0f921"
                          ]
                        ],
                        "type": "contour"
                      }
                    ],
                    "contourcarpet": [
                      {
                        "colorbar": {
                          "outlinewidth": 0,
                          "ticks": ""
                        },
                        "type": "contourcarpet"
                      }
                    ],
                    "heatmap": [
                      {
                        "colorbar": {
                          "outlinewidth": 0,
                          "ticks": ""
                        },
                        "colorscale": [
                          [
                            0,
                            "#0d0887"
                          ],
                          [
                            0.1111111111111111,
                            "#46039f"
                          ],
                          [
                            0.2222222222222222,
                            "#7201a8"
                          ],
                          [
                            0.3333333333333333,
                            "#9c179e"
                          ],
                          [
                            0.4444444444444444,
                            "#bd3786"
                          ],
                          [
                            0.5555555555555556,
                            "#d8576b"
                          ],
                          [
                            0.6666666666666666,
                            "#ed7953"
                          ],
                          [
                            0.7777777777777778,
                            "#fb9f3a"
                          ],
                          [
                            0.8888888888888888,
                            "#fdca26"
                          ],
                          [
                            1,
                            "#f0f921"
                          ]
                        ],
                        "type": "heatmap"
                      }
                    ],
                    "heatmapgl": [
                      {
                        "colorbar": {
                          "outlinewidth": 0,
                          "ticks": ""
                        },
                        "colorscale": [
                          [
                            0,
                            "#0d0887"
                          ],
                          [
                            0.1111111111111111,
                            "#46039f"
                          ],
                          [
                            0.2222222222222222,
                            "#7201a8"
                          ],
                          [
                            0.3333333333333333,
                            "#9c179e"
                          ],
                          [
                            0.4444444444444444,
                            "#bd3786"
                          ],
                          [
                            0.5555555555555556,
                            "#d8576b"
                          ],
                          [
                            0.6666666666666666,
                            "#ed7953"
                          ],
                          [
                            0.7777777777777778,
                            "#fb9f3a"
                          ],
                          [
                            0.8888888888888888,
                            "#fdca26"
                          ],
                          [
                            1,
                            "#f0f921"
                          ]
                        ],
                        "type": "heatmapgl"
                      }
                    ],
                    "histogram": [
                      {
                        "marker": {
                          "pattern": {
                            "fillmode": "overlay",
                            "size": 10,
                            "solidity": 0.2
                          }
                        },
                        "type": "histogram"
                      }
                    ],
                    "histogram2d": [
                      {
                        "colorbar": {
                          "outlinewidth": 0,
                          "ticks": ""
                        },
                        "colorscale": [
                          [
                            0,
                            "#0d0887"
                          ],
                          [
                            0.1111111111111111,
                            "#46039f"
                          ],
                          [
                            0.2222222222222222,
                            "#7201a8"
                          ],
                          [
                            0.3333333333333333,
                            "#9c179e"
                          ],
                          [
                            0.4444444444444444,
                            "#bd3786"
                          ],
                          [
                            0.5555555555555556,
                            "#d8576b"
                          ],
                          [
                            0.6666666666666666,
                            "#ed7953"
                          ],
                          [
                            0.7777777777777778,
                            "#fb9f3a"
                          ],
                          [
                            0.8888888888888888,
                            "#fdca26"
                          ],
                          [
                            1,
                            "#f0f921"
                          ]
                        ],
                        "type": "histogram2d"
                      }
                    ],
                    "histogram2dcontour": [
                      {
                        "colorbar": {
                          "outlinewidth": 0,
                          "ticks": ""
                        },
                        "colorscale": [
                          [
                            0,
                            "#0d0887"
                          ],
                          [
                            0.1111111111111111,
                            "#46039f"
                          ],
                          [
                            0.2222222222222222,
                            "#7201a8"
                          ],
                          [
                            0.3333333333333333,
                            "#9c179e"
                          ],
                          [
                            0.4444444444444444,
                            "#bd3786"
                          ],
                          [
                            0.5555555555555556,
                            "#d8576b"
                          ],
                          [
                            0.6666666666666666,
                            "#ed7953"
                          ],
                          [
                            0.7777777777777778,
                            "#fb9f3a"
                          ],
                          [
                            0.8888888888888888,
                            "#fdca26"
                          ],
                          [
                            1,
                            "#f0f921"
                          ]
                        ],
                        "type": "histogram2dcontour"
                      }
                    ],
                    "mesh3d": [
                      {
                        "colorbar": {
                          "outlinewidth": 0,
                          "ticks": ""
                        },
                        "type": "mesh3d"
                      }
                    ],
                    "parcoords": [
                      {
                        "line": {
                          "colorbar": {
                            "outlinewidth": 0,
                            "ticks": ""
                          }
                        },
                        "type": "parcoords"
                      }
                    ],
                    "pie": [
                      {
                        "automargin": true,
                        "type": "pie"
                      }
                    ],
                    "scatter": [
                      {
                        "fillpattern": {
                          "fillmode": "overlay",
                          "size": 10,
                          "solidity": 0.2
                        },
                        "type": "scatter"
                      }
                    ],
                    "scatter3d": [
                      {
                        "line": {
                          "colorbar": {
                            "outlinewidth": 0,
                            "ticks": ""
                          }
                        },
                        "marker": {
                          "colorbar": {
                            "outlinewidth": 0,
                            "ticks": ""
                          }
                        },
                        "type": "scatter3d"
                      }
                    ],
                    "scattercarpet": [
                      {
                        "marker": {
                          "colorbar": {
                            "outlinewidth": 0,
                            "ticks": ""
                          }
                        },
                        "type": "scattercarpet"
                      }
                    ],
                    "scattergeo": [
                      {
                        "marker": {
                          "colorbar": {
                            "outlinewidth": 0,
                            "ticks": ""
                          }
                        },
                        "type": "scattergeo"
                      }
                    ],
                    "scattergl": [
                      {
                        "marker": {
                          "colorbar": {
                            "outlinewidth": 0,
                            "ticks": ""
                          }
                        },
                        "type": "scattergl"
                      }
                    ],
                    "scattermapbox": [
                      {
                        "marker": {
                          "colorbar": {
                            "outlinewidth": 0,
                            "ticks": ""
                          }
                        },
                        "type": "scattermapbox"
                      }
                    ],
                    "scatterpolar": [
                      {
                        "marker": {
                          "colorbar": {
                            "outlinewidth": 0,
                            "ticks": ""
                          }
                        },
                        "type": "scatterpolar"
                      }
                    ],
                    "scatterpolargl": [
                      {
                        "marker": {
                          "colorbar": {
                            "outlinewidth": 0,
                            "ticks": ""
                          }
                        },
                        "type": "scatterpolargl"
                      }
                    ],
                    "scatterternary": [
                      {
                        "marker": {
                          "colorbar": {
                            "outlinewidth": 0,
                            "ticks": ""
                          }
                        },
                        "type": "scatterternary"
                      }
                    ],
                    "surface": [
                      {
                        "colorbar": {
                          "outlinewidth": 0,
                          "ticks": ""
                        },
                        "colorscale": [
                          [
                            0,
                            "#0d0887"
                          ],
                          [
                            0.1111111111111111,
                            "#46039f"
                          ],
                          [
                            0.2222222222222222,
                            "#7201a8"
                          ],
                          [
                            0.3333333333333333,
                            "#9c179e"
                          ],
                          [
                            0.4444444444444444,
                            "#bd3786"
                          ],
                          [
                            0.5555555555555556,
                            "#d8576b"
                          ],
                          [
                            0.6666666666666666,
                            "#ed7953"
                          ],
                          [
                            0.7777777777777778,
                            "#fb9f3a"
                          ],
                          [
                            0.8888888888888888,
                            "#fdca26"
                          ],
                          [
                            1,
                            "#f0f921"
                          ]
                        ],
                        "type": "surface"
                      }
                    ],
                    "table": [
                      {
                        "cells": {
                          "fill": {
                            "color": "#EBF0F8"
                          },
                          "line": {
                            "color": "white"
                          }
                        },
                        "header": {
                          "fill": {
                            "color": "#C8D4E3"
                          },
                          "line": {
                            "color": "white"
                          }
                        },
                        "type": "table"
                      }
                    ]
                  },
                  "layout": {
                    "annotationdefaults": {
                      "arrowcolor": "#2a3f5f",
                      "arrowhead": 0,
                      "arrowwidth": 1
                    },
                    "autotypenumbers": "strict",
                    "coloraxis": {
                      "colorbar": {
                        "outlinewidth": 0,
                        "ticks": ""
                      }
                    },
                    "colorscale": {
                      "diverging": [
                        [
                          0,
                          "#8e0152"
                        ],
                        [
                          0.1,
                          "#c51b7d"
                        ],
                        [
                          0.2,
                          "#de77ae"
                        ],
                        [
                          0.3,
                          "#f1b6da"
                        ],
                        [
                          0.4,
                          "#fde0ef"
                        ],
                        [
                          0.5,
                          "#f7f7f7"
                        ],
                        [
                          0.6,
                          "#e6f5d0"
                        ],
                        [
                          0.7,
                          "#b8e186"
                        ],
                        [
                          0.8,
                          "#7fbc41"
                        ],
                        [
                          0.9,
                          "#4d9221"
                        ],
                        [
                          1,
                          "#276419"
                        ]
                      ],
                      "sequential": [
                        [
                          0,
                          "#0d0887"
                        ],
                        [
                          0.1111111111111111,
                          "#46039f"
                        ],
                        [
                          0.2222222222222222,
                          "#7201a8"
                        ],
                        [
                          0.3333333333333333,
                          "#9c179e"
                        ],
                        [
                          0.4444444444444444,
                          "#bd3786"
                        ],
                        [
                          0.5555555555555556,
                          "#d8576b"
                        ],
                        [
                          0.6666666666666666,
                          "#ed7953"
                        ],
                        [
                          0.7777777777777778,
                          "#fb9f3a"
                        ],
                        [
                          0.8888888888888888,
                          "#fdca26"
                        ],
                        [
                          1,
                          "#f0f921"
                        ]
                      ],
                      "sequentialminus": [
                        [
                          0,
                          "#0d0887"
                        ],
                        [
                          0.1111111111111111,
                          "#46039f"
                        ],
                        [
                          0.2222222222222222,
                          "#7201a8"
                        ],
                        [
                          0.3333333333333333,
                          "#9c179e"
                        ],
                        [
                          0.4444444444444444,
                          "#bd3786"
                        ],
                        [
                          0.5555555555555556,
                          "#d8576b"
                        ],
                        [
                          0.6666666666666666,
                          "#ed7953"
                        ],
                        [
                          0.7777777777777778,
                          "#fb9f3a"
                        ],
                        [
                          0.8888888888888888,
                          "#fdca26"
                        ],
                        [
                          1,
                          "#f0f921"
                        ]
                      ]
                    },
                    "colorway": [
                      "#636efa",
                      "#EF553B",
                      "#00cc96",
                      "#ab63fa",
                      "#FFA15A",
                      "#19d3f3",
                      "#FF6692",
                      "#B6E880",
                      "#FF97FF",
                      "#FECB52"
                    ],
                    "font": {
                      "color": "#2a3f5f"
                    },
                    "geo": {
                      "bgcolor": "white",
                      "lakecolor": "white",
                      "landcolor": "#E5ECF6",
                      "showlakes": true,
                      "showland": true,
                      "subunitcolor": "white"
                    },
                    "hoverlabel": {
                      "align": "left"
                    },
                    "hovermode": "closest",
                    "mapbox": {
                      "style": "light"
                    },
                    "paper_bgcolor": "white",
                    "plot_bgcolor": "#E5ECF6",
                    "polar": {
                      "angularaxis": {
                        "gridcolor": "white",
                        "linecolor": "white",
                        "ticks": ""
                      },
                      "bgcolor": "#E5ECF6",
                      "radialaxis": {
                        "gridcolor": "white",
                        "linecolor": "white",
                        "ticks": ""
                      }
                    },
                    "scene": {
                      "xaxis": {
                        "backgroundcolor": "#E5ECF6",
                        "gridcolor": "white",
                        "gridwidth": 2,
                        "linecolor": "white",
                        "showbackground": true,
                        "ticks": "",
                        "zerolinecolor": "white"
                      },
                      "yaxis": {
                        "backgroundcolor": "#E5ECF6",
                        "gridcolor": "white",
                        "gridwidth": 2,
                        "linecolor": "white",
                        "showbackground": true,
                        "ticks": "",
                        "zerolinecolor": "white"
                      },
                      "zaxis": {
                        "backgroundcolor": "#E5ECF6",
                        "gridcolor": "white",
                        "gridwidth": 2,
                        "linecolor": "white",
                        "showbackground": true,
                        "ticks": "",
                        "zerolinecolor": "white"
                      }
                    },
                    "shapedefaults": {
                      "line": {
                        "color": "#2a3f5f"
                      }
                    },
                    "ternary": {
                      "aaxis": {
                        "gridcolor": "white",
                        "linecolor": "white",
                        "ticks": ""
                      },
                      "baxis": {
                        "gridcolor": "white",
                        "linecolor": "white",
                        "ticks": ""
                      },
                      "bgcolor": "#E5ECF6",
                      "caxis": {
                        "gridcolor": "white",
                        "linecolor": "white",
                        "ticks": ""
                      }
                    },
                    "title": {
                      "x": 0.05
                    },
                    "xaxis": {
                      "automargin": true,
                      "gridcolor": "white",
                      "linecolor": "white",
                      "ticks": "",
                      "title": {
                        "standoff": 15
                      },
                      "zerolinecolor": "white",
                      "zerolinewidth": 2
                    },
                    "yaxis": {
                      "automargin": true,
                      "gridcolor": "white",
                      "linecolor": "white",
                      "ticks": "",
                      "title": {
                        "standoff": 15
                      },
                      "zerolinecolor": "white",
                      "zerolinewidth": 2
                    }
                  }
                },
                "title": {
                  "text": "Reliability (KA) vs. Similarity"
                },
                "xaxis": {
                  "anchor": "y",
                  "domain": [
                    0,
                    1
                  ],
                  "range": [
                    0,
                    1
                  ],
                  "title": {
                    "text": "Prompt Similarity"
                  }
                },
                "yaxis": {
                  "anchor": "x",
                  "domain": [
                    0,
                    1
                  ],
                  "range": [
                    0,
                    1.05
                  ],
                  "title": {
                    "text": "KA Score"
                  }
                }
              }
            }
          },
          "metadata": {},
          "output_type": "display_data"
        },
        {
          "name": "stdout",
          "output_type": "stream",
          "text": [
            "Inter-prompt KA reliability score is 0.8098652786282915.\n",
            "\n",
            "#################################\n",
            "Original prompt:\n",
            "The following is a Twitter message written either by a Republican or a Democrat before the 2020 election. Your task is to guess whether the author is Republican or Democrat. [Respond 0 for Democrat, or 1 for Republican. Guess is you do not know. Respond nothing else.]\n",
            "#################################\n",
            "Prompts with poor performance:\n"
          ]
        },
        {
          "data": {
            "text/html": [
              "<div>\n",
              "<style scoped>\n",
              "    .dataframe tbody tr th:only-of-type {\n",
              "        vertical-align: middle;\n",
              "    }\n",
              "\n",
              "    .dataframe tbody tr th {\n",
              "        vertical-align: top;\n",
              "    }\n",
              "\n",
              "    .dataframe thead th {\n",
              "        text-align: right;\n",
              "    }\n",
              "</style>\n",
              "<table border=\"1\" class=\"dataframe\">\n",
              "  <thead>\n",
              "    <tr style=\"text-align: right;\">\n",
              "      <th></th>\n",
              "      <th>prompt_id</th>\n",
              "      <th>prompt_text</th>\n",
              "      <th>similarity</th>\n",
              "      <th>KA</th>\n",
              "    </tr>\n",
              "  </thead>\n",
              "  <tbody>\n",
              "    <tr>\n",
              "      <th>1</th>\n",
              "      <td>1</td>\n",
              "      <td>If you guess correctly, the author is a Republican or a Democrat. [Respond 0 for Democrat, or 1 for Republican. Guess is you do not know. Respond nothing else.]</td>\n",
              "      <td>0.643842</td>\n",
              "      <td>0.746667</td>\n",
              "    </tr>\n",
              "    <tr>\n",
              "      <th>2</th>\n",
              "      <td>2</td>\n",
              "      <td>If you guess correctly, the author is either a Republican or Democrat. [Respond 0 for Democrat, or 1 for Republican. Guess is you do not know. Respond nothing else.]</td>\n",
              "      <td>0.643904</td>\n",
              "      <td>0.791209</td>\n",
              "    </tr>\n",
              "    <tr>\n",
              "      <th>3</th>\n",
              "      <td>3</td>\n",
              "      <td>If you guess correctly, the author is either a Republican or a Democrat. [Respond 0 for Democrat, or 1 for Republican. Guess is you do not know. Respond nothing else.]</td>\n",
              "      <td>0.644552</td>\n",
              "      <td>0.791209</td>\n",
              "    </tr>\n",
              "    <tr>\n",
              "      <th>4</th>\n",
              "      <td>4</td>\n",
              "      <td>If you guess correctly, the author is a Republican or Democrat. [Respond 0 for Democrat, or 1 for Republican. Guess is you do not know. Respond nothing else.]</td>\n",
              "      <td>0.647343</td>\n",
              "      <td>0.547619</td>\n",
              "    </tr>\n",
              "    <tr>\n",
              "      <th>6</th>\n",
              "      <td>6</td>\n",
              "      <td>Do you know whether the author is a Republican or Democrat? [Respond 0 for Democrat, or 1 for Republican. Guess is you do not know. Respond nothing else.]</td>\n",
              "      <td>0.656337</td>\n",
              "      <td>0.746667</td>\n",
              "    </tr>\n",
              "    <tr>\n",
              "      <th>7</th>\n",
              "      <td>7</td>\n",
              "      <td>The author is either a Republican or a Democrat. [Respond 0 for Democrat, or 1 for Republican. Guess is you do not know. Respond nothing else.]</td>\n",
              "      <td>0.665647</td>\n",
              "      <td>0.746667</td>\n",
              "    </tr>\n",
              "    <tr>\n",
              "      <th>8</th>\n",
              "      <td>8</td>\n",
              "      <td>Your task is to figure out if the author is a Republican or Democrat. [Respond 0 for Democrat, or 1 for Republican. Guess is you do not know. Respond nothing else.]</td>\n",
              "      <td>0.676579</td>\n",
              "      <td>0.746667</td>\n",
              "    </tr>\n",
              "    <tr>\n",
              "      <th>20</th>\n",
              "      <td>20</td>\n",
              "      <td>You must guess whether the author is a Republican or Democrat. [Respond 0 for Democrat, or 1 for Republican. Guess is you do not know. Respond nothing else.]</td>\n",
              "      <td>0.691848</td>\n",
              "      <td>0.791209</td>\n",
              "    </tr>\n",
              "    <tr>\n",
              "      <th>23</th>\n",
              "      <td>23</td>\n",
              "      <td>Your task is to guess if the author is Republican or Democrat. [Respond 0 for Democrat, or 1 for Republican. Guess is you do not know. Respond nothing else.]</td>\n",
              "      <td>0.693591</td>\n",
              "      <td>0.791209</td>\n",
              "    </tr>\n",
              "    <tr>\n",
              "      <th>25</th>\n",
              "      <td>25</td>\n",
              "      <td>The following is written by either a Republican or a Democrat. [Respond 0 for Democrat, or 1 for Republican. Guess is you do not know. Respond nothing else.]</td>\n",
              "      <td>0.693917</td>\n",
              "      <td>0.547619</td>\n",
              "    </tr>\n",
              "    <tr>\n",
              "      <th>30</th>\n",
              "      <td>30</td>\n",
              "      <td>The following is written by a Republican or a Democrat. [Respond 0 for Democrat, or 1 for Republican. Guess is you do not know. Respond nothing else.]</td>\n",
              "      <td>0.697914</td>\n",
              "      <td>0.746667</td>\n",
              "    </tr>\n",
              "    <tr>\n",
              "      <th>32</th>\n",
              "      <td>32</td>\n",
              "      <td>The author of the message is a Republican or a Democrat. [Respond 0 for Democrat, or 1 for Republican. Guess is you do not know. Respond nothing else.]</td>\n",
              "      <td>0.700344</td>\n",
              "      <td>0.746667</td>\n",
              "    </tr>\n",
              "    <tr>\n",
              "      <th>33</th>\n",
              "      <td>33</td>\n",
              "      <td>The following message was written by a Republican or a Democrat. [Respond 0 for Democrat, or 1 for Republican. Guess is you do not know. Respond nothing else.]</td>\n",
              "      <td>0.701778</td>\n",
              "      <td>0.746667</td>\n",
              "    </tr>\n",
              "    <tr>\n",
              "      <th>35</th>\n",
              "      <td>35</td>\n",
              "      <td>The author of the message is either a Republican or a Democrat. [Respond 0 for Democrat, or 1 for Republican. Guess is you do not know. Respond nothing else.]</td>\n",
              "      <td>0.708305</td>\n",
              "      <td>0.746667</td>\n",
              "    </tr>\n",
              "    <tr>\n",
              "      <th>37</th>\n",
              "      <td>37</td>\n",
              "      <td>The author of the message is either a Republican or Democrat. [Respond 0 for Democrat, or 1 for Republican. Guess is you do not know. Respond nothing else.]</td>\n",
              "      <td>0.714191</td>\n",
              "      <td>0.746667</td>\n",
              "    </tr>\n",
              "    <tr>\n",
              "      <th>38</th>\n",
              "      <td>38</td>\n",
              "      <td>The author of this message is either a Republican or a Democrat. [Respond 0 for Democrat, or 1 for Republican. Guess is you do not know. Respond nothing else.]</td>\n",
              "      <td>0.720589</td>\n",
              "      <td>0.746667</td>\n",
              "    </tr>\n",
              "    <tr>\n",
              "      <th>39</th>\n",
              "      <td>39</td>\n",
              "      <td>The following is a message written for either a Republican or a Democrat. [Respond 0 for Democrat, or 1 for Republican. Guess is you do not know. Respond nothing else.]</td>\n",
              "      <td>0.722390</td>\n",
              "      <td>0.547619</td>\n",
              "    </tr>\n",
              "    <tr>\n",
              "      <th>40</th>\n",
              "      <td>40</td>\n",
              "      <td>The author of this message is either a Republican or Democrat. [Respond 0 for Democrat, or 1 for Republican. Guess is you do not know. Respond nothing else.]</td>\n",
              "      <td>0.725397</td>\n",
              "      <td>0.746667</td>\n",
              "    </tr>\n",
              "    <tr>\n",
              "      <th>42</th>\n",
              "      <td>42</td>\n",
              "      <td>The following is a message written by a Republican or a Democrat. [Respond 0 for Democrat, or 1 for Republican. Guess is you do not know. Respond nothing else.]</td>\n",
              "      <td>0.735519</td>\n",
              "      <td>0.746667</td>\n",
              "    </tr>\n",
              "    <tr>\n",
              "      <th>44</th>\n",
              "      <td>44</td>\n",
              "      <td>The following is a message written by either a Republican or a Democrat. [Respond 0 for Democrat, or 1 for Republican. Guess is you do not know. Respond nothing else.]</td>\n",
              "      <td>0.743931</td>\n",
              "      <td>0.746667</td>\n",
              "    </tr>\n",
              "    <tr>\n",
              "      <th>46</th>\n",
              "      <td>46</td>\n",
              "      <td>The author of the following message is either a Republican or a Democrat. [Respond 0 for Democrat, or 1 for Republican. Guess is you do not know. Respond nothing else.]</td>\n",
              "      <td>0.773560</td>\n",
              "      <td>0.746667</td>\n",
              "    </tr>\n",
              "    <tr>\n",
              "      <th>47</th>\n",
              "      <td>47</td>\n",
              "      <td>The following is a message written by either a Republican or a Democrat before the election. [Respond 0 for Democrat, or 1 for Republican. Guess is you do not know. Respond nothing else.]</td>\n",
              "      <td>0.778299</td>\n",
              "      <td>0.791209</td>\n",
              "    </tr>\n",
              "    <tr>\n",
              "      <th>48</th>\n",
              "      <td>48</td>\n",
              "      <td>The following is a message written by either a Republican or Democrat before the election. [Respond 0 for Democrat, or 1 for Republican. Guess is you do not know. Respond nothing else.]</td>\n",
              "      <td>0.778427</td>\n",
              "      <td>0.746667</td>\n",
              "    </tr>\n",
              "    <tr>\n",
              "      <th>49</th>\n",
              "      <td>49</td>\n",
              "      <td>The author of the following message is either a Republican or Democrat. [Respond 0 for Democrat, or 1 for Republican. Guess is you do not know. Respond nothing else.]</td>\n",
              "      <td>0.784079</td>\n",
              "      <td>0.746667</td>\n",
              "    </tr>\n",
              "  </tbody>\n",
              "</table>\n",
              "</div>"
            ],
            "text/plain": [
              "    prompt_id  \\\n",
              "1           1   \n",
              "2           2   \n",
              "3           3   \n",
              "4           4   \n",
              "6           6   \n",
              "7           7   \n",
              "8           8   \n",
              "20         20   \n",
              "23         23   \n",
              "25         25   \n",
              "30         30   \n",
              "32         32   \n",
              "33         33   \n",
              "35         35   \n",
              "37         37   \n",
              "38         38   \n",
              "39         39   \n",
              "40         40   \n",
              "42         42   \n",
              "44         44   \n",
              "46         46   \n",
              "47         47   \n",
              "48         48   \n",
              "49         49   \n",
              "\n",
              "                                                                                                                                                                                    prompt_text  \\\n",
              "1                              If you guess correctly, the author is a Republican or a Democrat. [Respond 0 for Democrat, or 1 for Republican. Guess is you do not know. Respond nothing else.]   \n",
              "2                         If you guess correctly, the author is either a Republican or Democrat. [Respond 0 for Democrat, or 1 for Republican. Guess is you do not know. Respond nothing else.]   \n",
              "3                       If you guess correctly, the author is either a Republican or a Democrat. [Respond 0 for Democrat, or 1 for Republican. Guess is you do not know. Respond nothing else.]   \n",
              "4                                If you guess correctly, the author is a Republican or Democrat. [Respond 0 for Democrat, or 1 for Republican. Guess is you do not know. Respond nothing else.]   \n",
              "6                                    Do you know whether the author is a Republican or Democrat? [Respond 0 for Democrat, or 1 for Republican. Guess is you do not know. Respond nothing else.]   \n",
              "7                                               The author is either a Republican or a Democrat. [Respond 0 for Democrat, or 1 for Republican. Guess is you do not know. Respond nothing else.]   \n",
              "8                          Your task is to figure out if the author is a Republican or Democrat. [Respond 0 for Democrat, or 1 for Republican. Guess is you do not know. Respond nothing else.]   \n",
              "20                                You must guess whether the author is a Republican or Democrat. [Respond 0 for Democrat, or 1 for Republican. Guess is you do not know. Respond nothing else.]   \n",
              "23                                Your task is to guess if the author is Republican or Democrat. [Respond 0 for Democrat, or 1 for Republican. Guess is you do not know. Respond nothing else.]   \n",
              "25                                The following is written by either a Republican or a Democrat. [Respond 0 for Democrat, or 1 for Republican. Guess is you do not know. Respond nothing else.]   \n",
              "30                                       The following is written by a Republican or a Democrat. [Respond 0 for Democrat, or 1 for Republican. Guess is you do not know. Respond nothing else.]   \n",
              "32                                      The author of the message is a Republican or a Democrat. [Respond 0 for Democrat, or 1 for Republican. Guess is you do not know. Respond nothing else.]   \n",
              "33                              The following message was written by a Republican or a Democrat. [Respond 0 for Democrat, or 1 for Republican. Guess is you do not know. Respond nothing else.]   \n",
              "35                               The author of the message is either a Republican or a Democrat. [Respond 0 for Democrat, or 1 for Republican. Guess is you do not know. Respond nothing else.]   \n",
              "37                                 The author of the message is either a Republican or Democrat. [Respond 0 for Democrat, or 1 for Republican. Guess is you do not know. Respond nothing else.]   \n",
              "38                              The author of this message is either a Republican or a Democrat. [Respond 0 for Democrat, or 1 for Republican. Guess is you do not know. Respond nothing else.]   \n",
              "39                     The following is a message written for either a Republican or a Democrat. [Respond 0 for Democrat, or 1 for Republican. Guess is you do not know. Respond nothing else.]   \n",
              "40                                The author of this message is either a Republican or Democrat. [Respond 0 for Democrat, or 1 for Republican. Guess is you do not know. Respond nothing else.]   \n",
              "42                             The following is a message written by a Republican or a Democrat. [Respond 0 for Democrat, or 1 for Republican. Guess is you do not know. Respond nothing else.]   \n",
              "44                      The following is a message written by either a Republican or a Democrat. [Respond 0 for Democrat, or 1 for Republican. Guess is you do not know. Respond nothing else.]   \n",
              "46                     The author of the following message is either a Republican or a Democrat. [Respond 0 for Democrat, or 1 for Republican. Guess is you do not know. Respond nothing else.]   \n",
              "47  The following is a message written by either a Republican or a Democrat before the election. [Respond 0 for Democrat, or 1 for Republican. Guess is you do not know. Respond nothing else.]   \n",
              "48    The following is a message written by either a Republican or Democrat before the election. [Respond 0 for Democrat, or 1 for Republican. Guess is you do not know. Respond nothing else.]   \n",
              "49                       The author of the following message is either a Republican or Democrat. [Respond 0 for Democrat, or 1 for Republican. Guess is you do not know. Respond nothing else.]   \n",
              "\n",
              "    similarity        KA  \n",
              "1     0.643842  0.746667  \n",
              "2     0.643904  0.791209  \n",
              "3     0.644552  0.791209  \n",
              "4     0.647343  0.547619  \n",
              "6     0.656337  0.746667  \n",
              "7     0.665647  0.746667  \n",
              "8     0.676579  0.746667  \n",
              "20    0.691848  0.791209  \n",
              "23    0.693591  0.791209  \n",
              "25    0.693917  0.547619  \n",
              "30    0.697914  0.746667  \n",
              "32    0.700344  0.746667  \n",
              "33    0.701778  0.746667  \n",
              "35    0.708305  0.746667  \n",
              "37    0.714191  0.746667  \n",
              "38    0.720589  0.746667  \n",
              "39    0.722390  0.547619  \n",
              "40    0.725397  0.746667  \n",
              "42    0.735519  0.746667  \n",
              "44    0.743931  0.746667  \n",
              "46    0.773560  0.746667  \n",
              "47    0.778299  0.791209  \n",
              "48    0.778427  0.746667  \n",
              "49    0.784079  0.746667  "
            ]
          },
          "metadata": {},
          "output_type": "display_data"
        }
      ],
      "source": [
        "# Twitter annotation example\n",
        "#APIKEY = \"[KEY]\"\n",
        "MODEL = 'gpt-3.5-turbo'\n",
        "llm = LLMWrapper(model = MODEL, apikey=APIKEY)\n",
        "\n",
        "MAX_TOKENS = 4096\n",
        "\n",
        "df = pd.read_csv('tweets.csv')\n",
        "df = df.sample(10)\n",
        "\n",
        "# Truncate etc\n",
        "texts = list(df['text'].values)\n",
        "\n",
        "prompt = 'The following is a Twitter message written either by a Republican or a Democrat before the 2020 election. Your task is to guess whether the author is Republican or Democrat.'\n",
        "prompt_postfix = '[Respond 0 for Democrat, or 1 for Republican. Guess is you do not know. Respond nothing else.]'\n",
        "\n",
        "psa = PromptStabilityAnalysis(llm, texts,parse_function=lambda x: float(x), metric_fn = simpledorff.metrics.nominal_metric)\n",
        "\n",
        "# Test variability for the same prompt.\n",
        "res,df, ka_scores, iterrations_no = psa.baseline_stochasticity(prompt,prompt_postfix,iterations=20)\n",
        "#print(f\"The KA reliability for the main message is {res}\")\n",
        "\n",
        "# Test of variability across prompts\n",
        "res,df,rel_vs_sim, poor_prompts = psa.interprompt_stochasticity(prompt,prompt_postfix, nr_variations=50, temperature=1.0, iterations=1)\n",
        "#print(f\"The KA inter reliability for varying the prompt is {res}\")\n"
      ]
    },
    {
      "cell_type": "code",
      "execution_count": 45,
      "id": "e36efd87",
      "metadata": {},
      "outputs": [],
      "source": [
        "# Save similar prompts, similarity and KA for manual validation\n",
        "'''\n",
        "df_val = pd.DataFrame(rel_vs_sim)\n",
        "op = prompt + ' ' + prompt_postfix\n",
        "df_val['original_prompt'] = op\n",
        "#df_val\n",
        "df_val.to_csv('similarity_validation/data.csv', mode='a', header=False, index=False)\n",
        "'''"
      ]
    },
    {
      "cell_type": "code",
      "execution_count": null,
      "id": "43bd5252",
      "metadata": {},
      "outputs": [],
      "source": []
    }
  ],
  "metadata": {
    "colab": {
      "collapsed_sections": [
        "aa7a9ff1-0b17-40e7-b995-7b8ff899a14c"
      ],
      "provenance": []
    },
    "kernelspec": {
      "display_name": "Python 3 (ipykernel)",
      "language": "python",
      "name": "python3"
    },
    "language_info": {
      "codemirror_mode": {
        "name": "ipython",
        "version": 3
      },
      "file_extension": ".py",
      "mimetype": "text/x-python",
      "name": "python",
      "nbconvert_exporter": "python",
      "pygments_lexer": "ipython3",
      "version": "3.10.6"
    }
  },
  "nbformat": 4,
  "nbformat_minor": 5
}
